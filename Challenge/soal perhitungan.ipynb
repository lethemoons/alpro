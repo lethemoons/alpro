{
 "cells": [
  {
   "cell_type": "code",
   "execution_count": 2,
   "metadata": {},
   "outputs": [
    {
     "data": {
      "text/plain": [
       "9.0"
      ]
     },
     "execution_count": 2,
     "metadata": {},
     "output_type": "execute_result"
    }
   ],
   "source": [
    "#menghitung sn jika diketahui u1, beda, dan n\n",
    "\n",
    "def sn(a, n, b):\n",
    "    return ((2*a + (n - 1)*b)/2) * n\n",
    "sn(2, 3, 1)"
   ]
  },
  {
   "cell_type": "code",
   "execution_count": null,
   "metadata": {},
   "outputs": [],
   "source": [
    "#menghitung jumlah deret kelipatan 5\n",
    "nilai =  "
   ]
  },
  {
   "cell_type": "code",
   "execution_count": 9,
   "metadata": {},
   "outputs": [
    {
     "name": "stdout",
     "output_type": "stream",
     "text": [
      "Luas trapesium adalah: 15 cm\n"
     ]
    }
   ],
   "source": [
    "#menghitung luas trapesium\n",
    "sisi_atas = int(input('Masukkan panjang sisi atas'))\n",
    "sisi_bawah = int(input('Masukkan panjang sisi bawah'))\n",
    "tinggi = int(input('Masukkan tinggi trapesium'))\n",
    "\n",
    "luas = int((sisi_bawah + sisi_atas)/2) * tinggi\n",
    "print(f\"Luas trapesium adalah: {luas} cm\")"
   ]
  },
  {
   "cell_type": "code",
   "execution_count": 1,
   "metadata": {},
   "outputs": [
    {
     "name": "stdout",
     "output_type": "stream",
     "text": [
      "-1\n"
     ]
    }
   ],
   "source": [
    "#kalkulator sederhana\n",
    "a = int(input('Masukkan angka pertama'))\n",
    "b = int(input('Masukkan angka kedua'))\n",
    "\n",
    "penjumlahan = int(a + b)\n",
    "pengurangan = int(a - b)\n",
    "perkalian = int(a*b)\n",
    "\n",
    "operasi = input('Pilih operasi yang mana +/-/* ? ')\n",
    "if operasi == '+' :\n",
    "    print(penjumlahan)\n",
    "elif operasi == '-' :\n",
    "    print(pengurangan)\n",
    "elif operasi == '*' :\n",
    "    print('hasil perkalian dari ' + str(a) + ' dan ' + str(b) + ' adalah ', perkalian)\n",
    "else:\n",
    "    print('Operasi yang dimasukkan salah')\n"
   ]
  },
  {
   "cell_type": "code",
   "execution_count": 19,
   "metadata": {},
   "outputs": [
    {
     "name": "stdout",
     "output_type": "stream",
     "text": [
      "1\n"
     ]
    }
   ],
   "source": [
    "n = int(input('Input a Number'))\n",
    "factorial = 1\n",
    "if n == 0:\n",
    "    print(factorial)\n",
    "if n >= 1:\n",
    "    for i in range (1,n+1):\n",
    "        factorial = factorial * i\n",
    "    print('Factorial of', n, 'is : ',factorial)\n"
   ]
  },
  {
   "cell_type": "code",
   "execution_count": 17,
   "metadata": {},
   "outputs": [
    {
     "data": {
      "text/plain": [
       "1"
      ]
     },
     "execution_count": 17,
     "metadata": {},
     "output_type": "execute_result"
    }
   ],
   "source": [
    "def factorial(n):\n",
    "    if n <= 1:\n",
    "        return 1\n",
    "    else:\n",
    "        return n*factorial(n-1)\n",
    "    \n",
    "\n",
    "    \n",
    "factorial(-2)"
   ]
  },
  {
   "cell_type": "code",
   "execution_count": 2,
   "metadata": {},
   "outputs": [
    {
     "data": {
      "text/plain": [
       "'Tahun 110 Bukan tahun kabisat'"
      ]
     },
     "execution_count": 2,
     "metadata": {},
     "output_type": "execute_result"
    }
   ],
   "source": [
    "def kabisat_or_not(tahun):\n",
    "    if tahun % 400 == 0 or tahun % 4 == 0 and tahun % 100 != 0:\n",
    "        return(f'Tahun {tahun} adalah tahun kabisat')\n",
    "    elif tahun % 100 == 0:\n",
    "        return(f'Tahun {tahun} Bukan tahun kabisat') \n",
    "    else:\n",
    "        return(f'Tahun {tahun} Bukan tahun kabisat')\n",
    "    \n",
    "kabisat_or_not(110)"
   ]
  },
  {
   "cell_type": "code",
   "execution_count": 1,
   "metadata": {},
   "outputs": [
    {
     "name": "stdout",
     "output_type": "stream",
     "text": [
      "Tahun 110 bukan tahun kabisat\n"
     ]
    }
   ],
   "source": [
    "tahun = int(input(\"Masukkan tahun: \"))\n",
    "\n",
    "if tahun % 4 == 0:\n",
    "    if tahun % 100 == 0:\n",
    "        if tahun % 400 == 0:\n",
    "            print(f\"Tahun {tahun} adalah tahun kabisat\")\n",
    "        else:\n",
    "            print(f\"Tahun {tahun} bukan tahun kabisat\")\n",
    "    else:\n",
    "        print(f\"Tahun {tahun} adalah tahun kabisat\")\n",
    "else:\n",
    "    print(f\"Tahun {tahun} bukan tahun kabisat\")\n"
   ]
  },
  {
   "cell_type": "code",
   "execution_count": null,
   "metadata": {},
   "outputs": [],
   "source": []
  }
 ],
 "metadata": {
  "kernelspec": {
   "display_name": "base",
   "language": "python",
   "name": "python3"
  },
  "language_info": {
   "codemirror_mode": {
    "name": "ipython",
    "version": 3
   },
   "file_extension": ".py",
   "mimetype": "text/x-python",
   "name": "python",
   "nbconvert_exporter": "python",
   "pygments_lexer": "ipython3",
   "version": "3.11.5"
  }
 },
 "nbformat": 4,
 "nbformat_minor": 2
}
