{
 "cells": [
  {
   "cell_type": "markdown",
   "id": "5da6cbfc",
   "metadata": {},
   "source": [
    "## Adinda Syarifatul Muna 164231042"
   ]
  },
  {
   "cell_type": "markdown",
   "id": "2d33776c",
   "metadata": {},
   "source": [
    "SOAL 1"
   ]
  },
  {
   "cell_type": "code",
   "execution_count": null,
   "id": "dc1ca3fb",
   "metadata": {},
   "outputs": [
    {
     "name": "stdout",
     "output_type": "stream",
     "text": [
      "Masukkan harga belanjaan: 20000\n"
     ]
    }
   ],
   "source": [
    "#input\n",
    "harga = float(input(\"Masukkan harga belanjaan: \"))\n",
    "diskon = int(input(\"Masukkan diskon: \"))\n",
    "\n",
    "#proses\n",
    "c= harga-harga*(diskon/100)\n",
    "\n",
    "#hasil\n",
    "print(\"Harga akhir\",c)"
   ]
  },
  {
   "cell_type": "markdown",
   "id": "538f342e",
   "metadata": {},
   "source": [
    "SOAL 2\n"
   ]
  },
  {
   "cell_type": "code",
   "execution_count": 2,
   "id": "1c0a054d",
   "metadata": {},
   "outputs": [
    {
     "name": "stdout",
     "output_type": "stream",
     "text": [
      "jumlah kaki 56\n"
     ]
    }
   ],
   "source": [
    "#input\n",
    "babi = int(input('Masukkan jumlah babi '))\n",
    "ayam = int(input('Masukkan jumlah ayam '))\n",
    "sapi = int(input('Masukkan jumlah sapi '))\n",
    "domba = int(input('Masukkan jumlah domba '))\n",
    "\n",
    "#proses\n",
    "a = babi*4\n",
    "b = ayam*2\n",
    "c = sapi*4\n",
    "d = domba*4\n",
    "\n",
    "#output\n",
    "print('jumlah kaki', a+b+c+d)\n"
   ]
  },
  {
   "cell_type": "markdown",
   "id": "bbfa979d",
   "metadata": {},
   "source": [
    "SOAL 3 "
   ]
  },
  {
   "cell_type": "code",
   "execution_count": 3,
   "id": "8ece0b63",
   "metadata": {},
   "outputs": [
    {
     "name": "stdout",
     "output_type": "stream",
     "text": [
      "Panjang sisi miring =  5.0\n"
     ]
    }
   ],
   "source": [
    "#input\n",
    "alas = float(input('Masukkan panjang alas '))\n",
    "tinggi = float(input('Masukkan panjang tinggi '))\n",
    "\n",
    "#proses\n",
    "miring = float((alas**2+tinggi**2)**0.5)\n",
    "\n",
    "#output\n",
    "print(\"Panjang sisi miring = \", miring)"
   ]
  },
  {
   "cell_type": "markdown",
   "id": "5d4d1607",
   "metadata": {},
   "source": [
    "SOAL 4 \n",
    "    "
   ]
  },
  {
   "cell_type": "code",
   "execution_count": 22,
   "id": "65776a68",
   "metadata": {},
   "outputs": [
    {
     "name": "stdout",
     "output_type": "stream",
     "text": [
      "Masukkan jumlah tahun 1\n",
      "Jumlah hari adalah 365 hari\n",
      "Jumlah minggu adalah 52 minggu\n"
     ]
    }
   ],
   "source": [
    "#input\n",
    "tahun = int(input('Masukkan jumlah tahun '))\n",
    "\n",
    "#proses\n",
    "hari = tahun*365\n",
    "minggu = tahun*52\n",
    "\n",
    "#output\n",
    "print(f\"Jumlah hari adalah {hari} hari\")\n",
    "print(f\"Jumlah minggu adalah {minggu} minggu\")\n"
   ]
  },
  {
   "cell_type": "code",
   "execution_count": null,
   "id": "05cab56a",
   "metadata": {},
   "outputs": [],
   "source": []
  }
 ],
 "metadata": {
  "kernelspec": {
   "display_name": "Python 3 (ipykernel)",
   "language": "python",
   "name": "python3"
  },
  "language_info": {
   "codemirror_mode": {
    "name": "ipython",
    "version": 3
   },
   "file_extension": ".py",
   "mimetype": "text/x-python",
   "name": "python",
   "nbconvert_exporter": "python",
   "pygments_lexer": "ipython3",
   "version": "3.8.18"
  }
 },
 "nbformat": 4,
 "nbformat_minor": 5
}
