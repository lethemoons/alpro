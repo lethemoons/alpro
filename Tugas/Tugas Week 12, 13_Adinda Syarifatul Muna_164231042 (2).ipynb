{
 "cells": [
  {
   "cell_type": "markdown",
   "id": "5da6cbfc",
   "metadata": {},
   "source": [
    "## TUGAS WEEK 12\n",
    "## Adinda Syarifatul Muna 164231042"
   ]
  },
  {
   "cell_type": "markdown",
   "id": "ea2b20e0",
   "metadata": {},
   "source": [
    "SOAL 1"
   ]
  },
  {
   "cell_type": "code",
   "execution_count": 24,
   "id": "dc1ca3fb",
   "metadata": {},
   "outputs": [
    {
     "name": "stdout",
     "output_type": "stream",
     "text": [
      "Masukkan harga belanjaan: 20000\n",
      "Masukkan diskon: 10\n",
      "Harga akhir 18000.0\n"
     ]
    }
   ],
   "source": [
    "#input\n",
    "harga = float(input(\"Masukkan harga belanjaan: \"))\n",
    "diskon = int(input(\"Masukkan diskon: \"))\n",
    "\n",
    "#proses\n",
    "hasil = harga-harga*(diskon/100)\n",
    "\n",
    "#hasil\n",
    "print(\"Harga akhir\",hasil)"
   ]
  },
  {
   "cell_type": "markdown",
   "id": "be6c098c",
   "metadata": {},
   "source": [
    "SOAL 2\n"
   ]
  },
  {
   "cell_type": "code",
   "execution_count": 16,
   "id": "8d8c6f47",
   "metadata": {},
   "outputs": [
    {
     "name": "stdout",
     "output_type": "stream",
     "text": [
      "Masukkan jumlah babi 1\n",
      "Masukkan jumlah ayam 1\n",
      "Masukkan jumlah sapi 1\n",
      "Masukkan jumlah domba 1\n",
      "jumlah kaki 14\n"
     ]
    }
   ],
   "source": [
    "#input\n",
    "babi = int(input('Masukkan jumlah babi '))\n",
    "ayam = int(input('Masukkan jumlah ayam '))\n",
    "sapi = int(input('Masukkan jumlah sapi '))\n",
    "domba = int(input('Masukkan jumlah domba '))\n",
    "\n",
    "#proses\n",
    "a = babi*4\n",
    "b = ayam*2\n",
    "c = sapi*4\n",
    "d = domba*4\n",
    "\n",
    "#output\n",
    "print('jumlah kaki', a+b+c+d)\n"
   ]
  },
  {
   "cell_type": "code",
   "execution_count": 6,
   "id": "d7a03167",
   "metadata": {},
   "outputs": [],
   "source": [
    "def jumlah_kaki(babi, ayam, sapi, domba):\n",
    "    return (babi*4 + ayam*2 + sapi*4 + domba*4)"
   ]
  },
  {
   "cell_type": "code",
   "execution_count": 7,
   "id": "013ccea7",
   "metadata": {},
   "outputs": [
    {
     "name": "stdout",
     "output_type": "stream",
     "text": [
      "14\n"
     ]
    }
   ],
   "source": [
    "print(jumlah_kaki(1,1,1,1))"
   ]
  },
  {
   "cell_type": "markdown",
   "id": "04d86a48",
   "metadata": {},
   "source": [
    "SOAL 3 "
   ]
  },
  {
   "cell_type": "code",
   "execution_count": 28,
   "id": "175cb81d",
   "metadata": {},
   "outputs": [
    {
     "name": "stdout",
     "output_type": "stream",
     "text": [
      "Masukkan panjang alas 5\n",
      "Masukkan panjang tinggi 12\n",
      "Panjang sisi miring =  13.0\n"
     ]
    }
   ],
   "source": [
    "#input\n",
    "alas = float(input('Masukkan panjang alas '))\n",
    "tinggi = float(input('Masukkan panjang tinggi '))\n",
    "\n",
    "#proses\n",
    "miring = float((alas**2+tinggi**2)**0.5)\n",
    "\n",
    "#output\n",
    "print(\"Panjang sisi miring = \", miring)"
   ]
  },
  {
   "cell_type": "markdown",
   "id": "7c5c3e28",
   "metadata": {},
   "source": [
    "SOAL 4 \n",
    "    "
   ]
  },
  {
   "cell_type": "code",
   "execution_count": 34,
   "id": "300ae940",
   "metadata": {},
   "outputs": [
    {
     "name": "stdout",
     "output_type": "stream",
     "text": [
      "Masukkan jumlah tahun 1\n",
      "Convert ke hari klik 1 atau Convert ke minggu klik 2 = 2\n",
      "Jumlah minggu adalah 52 minggu\n"
     ]
    }
   ],
   "source": [
    "#input\n",
    "tahun = int(input('Masukkan jumlah tahun '))\n",
    "pilih = int(input('Convert ke hari klik 1 atau Convert ke minggu klik 2 = '))\n",
    "\n",
    "#proses\n",
    "if pilih in [1,2]:\n",
    "    hari = tahun*365\n",
    "    minggu = tahun*52\n",
    "    if pilih == 1:\n",
    "        print(f\"Jumlah hari adalah {hari} hari\")\n",
    "    elif pilih == 2:\n",
    "        print(f\"Jumlah minggu adalah {minggu} minggu\")\n",
    "else:\n",
    "    print('error')"
   ]
  },
  {
   "cell_type": "code",
   "execution_count": 12,
   "id": "f957d955",
   "metadata": {},
   "outputs": [],
   "source": [
    "def relation_to_luke(name):\n",
    "    if name == 'Darth Vader':\n",
    "        relation = 'Father'\n",
    "    elif name == 'Leia':\n",
    "        relation = 'Sister'\n",
    "    elif name == 'Han':\n",
    "        relation = 'Brother in law'\n",
    "    elif name == 'R2D2':\n",
    "        relation = 'droid'\n",
    "    return relation"
   ]
  },
  {
   "cell_type": "code",
   "execution_count": 11,
   "id": "03c90474",
   "metadata": {},
   "outputs": [
    {
     "data": {
      "text/plain": [
       "'Sister'"
      ]
     },
     "execution_count": 11,
     "metadata": {},
     "output_type": "execute_result"
    }
   ],
   "source": [
    "relation_to_luke('Leia')"
   ]
  },
  {
   "cell_type": "code",
   "execution_count": null,
   "id": "6f37334b",
   "metadata": {},
   "outputs": [],
   "source": []
  }
 ],
 "metadata": {
  "kernelspec": {
   "display_name": "Python 3 (ipykernel)",
   "language": "python",
   "name": "python3"
  },
  "language_info": {
   "codemirror_mode": {
    "name": "ipython",
    "version": 3
   },
   "file_extension": ".py",
   "mimetype": "text/x-python",
   "name": "python",
   "nbconvert_exporter": "python",
   "pygments_lexer": "ipython3",
   "version": "3.11.5"
  }
 },
 "nbformat": 4,
 "nbformat_minor": 5
}
