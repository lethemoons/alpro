{
 "cells": [
  {
   "cell_type": "code",
   "execution_count": 12,
   "metadata": {},
   "outputs": [
    {
     "name": "stdout",
     "output_type": "stream",
     "text": [
      "aku mau makan soto\n",
      "aku mau makan nasi\n",
      "aku mau makan sate\n",
      "aku mau makan ini\n",
      "aku mau makan itu\n"
     ]
    }
   ],
   "source": [
    "makanan = 'soto', 'nasi', 'sate', 'ini', 'itu'\n",
    "\n",
    "i = -1\n",
    "while i < len(makanan)-1:\n",
    "    i +=1\n",
    "    print('aku mau makan', makanan[i])\n",
    "  "
   ]
  },
  {
   "cell_type": "code",
   "execution_count": null,
   "metadata": {},
   "outputs": [],
   "source": [
    "a = int(input('masukkan angka'))\n"
   ]
  }
 ],
 "metadata": {
  "kernelspec": {
   "display_name": "base",
   "language": "python",
   "name": "python3"
  },
  "language_info": {
   "codemirror_mode": {
    "name": "ipython",
    "version": 3
   },
   "file_extension": ".py",
   "mimetype": "text/x-python",
   "name": "python",
   "nbconvert_exporter": "python",
   "pygments_lexer": "ipython3",
   "version": "3.11.5"
  }
 },
 "nbformat": 4,
 "nbformat_minor": 2
}
