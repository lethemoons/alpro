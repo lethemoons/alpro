{
 "cells": [
  {
   "cell_type": "markdown",
   "metadata": {},
   "source": [
    "### **DATA NUMERIK**"
   ]
  },
  {
   "cell_type": "code",
   "execution_count": 41,
   "metadata": {},
   "outputs": [
    {
     "name": "stdout",
     "output_type": "stream",
     "text": [
      "<class 'complex'>\n"
     ]
    }
   ],
   "source": [
    "x = 3+5j\n",
    "print(type(x))"
   ]
  },
  {
   "cell_type": "code",
   "execution_count": 47,
   "metadata": {},
   "outputs": [
    {
     "name": "stdout",
     "output_type": "stream",
     "text": [
      "9\n",
      "['kamu']\n",
      "['BPF', 'LOG4', 'NV_MAGICCONST', 'RECIP_BPF', 'Random', 'SG_MAGICCONST', 'SystemRandom', 'TWOPI', '_ONE', '_Sequence', '_Set', '__all__', '__builtins__', '__cached__', '__doc__', '__file__', '__loader__', '__name__', '__package__', '__spec__', '_accumulate', '_acos', '_bisect', '_ceil', '_cos', '_e', '_exp', '_floor', '_index', '_inst', '_isfinite', '_log', '_os', '_pi', '_random', '_repeat', '_sha512', '_sin', '_sqrt', '_test', '_test_generator', '_urandom', '_warn', 'betavariate', 'choice', 'choices', 'expovariate', 'gammavariate', 'gauss', 'getrandbits', 'getstate', 'lognormvariate', 'normalvariate', 'paretovariate', 'randbytes', 'randint', 'random', 'randrange', 'sample', 'seed', 'setstate', 'shuffle', 'triangular', 'uniform', 'vonmisesvariate', 'weibullvariate']\n"
     ]
    }
   ],
   "source": [
    "import random as rd\n",
    "print(rd.randrange(1,10))\n",
    "a = ['aku', 'kamu', 'dia', 'kita' ]\n",
    "print(rd.choices(a))\n",
    "print(dir(rd))"
   ]
  },
  {
   "cell_type": "code",
   "execution_count": 4,
   "metadata": {},
   "outputs": [
    {
     "name": "stdout",
     "output_type": "stream",
     "text": [
      "range angka harus diantara 0-100\n"
     ]
    }
   ],
   "source": [
    "# excercise 1 \n",
    "# buat program untuk konversi nilai mata kuliah \n",
    "a = float(input('Masukkan nilai'))\n",
    "if a > 100 or a< 0:\n",
    "    print('range angka harus diantara 0-100')\n",
    "elif a >= 86:\n",
    "    print('A')\n",
    "elif a >= 78:\n",
    "    print('B')\n",
    "elif a >= 68:\n",
    "    print('C')\n",
    "elif a >= 55:\n",
    "    print('D')\n",
    "elif a < 55:\n",
    "    print('E') "
   ]
  },
  {
   "cell_type": "code",
   "execution_count": 5,
   "metadata": {},
   "outputs": [
    {
     "name": "stdout",
     "output_type": "stream",
     "text": [
      "2.0 lebih kecil daripada 5.0\n"
     ]
    }
   ],
   "source": [
    "# membandingkan bilangan\n",
    "a = float(input('masukkan bilangan pertama: '))\n",
    "b = float(input('masukkan bilangan kedua: '))\n",
    "\n",
    "if a == b:\n",
    "    print('seri, sama')\n",
    "elif a < b:\n",
    "    print(a, 'lebih kecil daripada', b)\n",
    "elif a>b:\n",
    "    print(a,'lebih besar daripada', b)\n",
    "else:\n",
    "    print('Error')\n"
   ]
  },
  {
   "cell_type": "code",
   "execution_count": 10,
   "metadata": {},
   "outputs": [
    {
     "name": "stdout",
     "output_type": "stream",
     "text": [
      "7\n",
      "anda kalah\n"
     ]
    }
   ],
   "source": [
    "#random dengan AI\n",
    "import random\n",
    "a = int(input('Masukkan angka 1-30: '))\n",
    "ai = int(random.randrange(1,30))\n",
    "print(ai)\n",
    "\n",
    "if a == ai:\n",
    "    print('seri')\n",
    "elif a > ai:\n",
    "    print('anda menang')\n",
    "elif a<ai:\n",
    "    print('anda kalah')"
   ]
  },
  {
   "cell_type": "code",
   "execution_count": null,
   "metadata": {},
   "outputs": [],
   "source": [
    "#convert dollar ke euro\n",
    "def euroconvert(rupiah:int):\n",
    "    return rupiah/17000\n",
    "euroconvert(15000)\n",
    "\n",
    "def dollarconvert(rupiah:int):\n",
    "    return rupiah/15000\n",
    "dollarconvert(15000)\n",
    "\n",
    "rupiah = int(input('Masukkan nilai rupiah'))\n",
    "NilaiDollar =print('Nilai Dollar adalah =', dollarconvert(rupiah))\n",
    "NilaiEuro = print('Nilai Euro adalah =', euroconvert(rupiah))"
   ]
  },
  {
   "cell_type": "code",
   "execution_count": 1,
   "metadata": {},
   "outputs": [
    {
     "name": "stdout",
     "output_type": "stream",
     "text": [
      "1 = ganjil\n",
      "2 = genap\n",
      "3 = ganjil\n",
      "4 = genap\n",
      "5 = ganjil\n",
      "6 = genap\n",
      "7 = ganjil\n",
      "8 = genap\n",
      "9 = ganjil\n"
     ]
    }
   ],
   "source": [
    "# seleksi ganjil genap\n",
    "for i in range(1,10):\n",
    "    if i%2 == 0:\n",
    "        print(f'{i} = genap')\n",
    "    else:\n",
    "        print(f'{i} = ganjil')"
   ]
  },
  {
   "cell_type": "code",
   "execution_count": 16,
   "metadata": {},
   "outputs": [
    {
     "data": {
      "text/plain": [
       "5"
      ]
     },
     "execution_count": 16,
     "metadata": {},
     "output_type": "execute_result"
    }
   ],
   "source": [
    "#  buat kalkulator\n",
    "def kal(num1,operator,num2):\n",
    "    if operator == '+':\n",
    "        return num1 + num2\n",
    "    elif operator == '-':\n",
    "        return num1 - num2\n",
    "    elif operator == '/':\n",
    "        return num1/num2\n",
    "    elif operator == '*':\n",
    "        return num1*num2\n",
    "\n",
    "kal(2,'+',3)\n",
    "\n"
   ]
  },
  {
   "cell_type": "code",
   "execution_count": 16,
   "metadata": {},
   "outputs": [
    {
     "name": "stdout",
     "output_type": "stream",
     "text": [
      "[1, 2, 4, 5, 68, 9]\n",
      "[ 1  2  4  5 68  9]\n",
      "15 74\n",
      "{'ganjil': [1, 5, 9], 'genap': [2, 4, 68]}\n",
      "15\n",
      "74\n"
     ]
    }
   ],
   "source": [
    "# array seleksi ganjil genap dri inputan list sekaligus koma\n",
    "import numpy as np\n",
    "kata = input('masukkan list angka')\n",
    "numbers = kata.split(',')\n",
    "numbers = [int(x) for x in  numbers]\n",
    "print(numbers)\n",
    "arr= np.array(numbers)\n",
    "print(arr)\n",
    "ganjil = 0\n",
    "genap = 0\n",
    "\n",
    "for num in numbers:\n",
    "     if num % 2 ==0:\n",
    "         genap +=num\n",
    "     else:\n",
    "         ganjil +=num\n",
    "\n",
    "dict = {\n",
    "    'ganjil': [num for num in numbers if num%2==1],\n",
    "    'genap': [num for num in numbers if num %2==0]\n",
    "}\n",
    "        \n",
    "print(ganjil, genap)\n",
    "print(dict)\n",
    "print(sum(dict['ganjil']))\n",
    "print(sum(dict['genap']))"
   ]
  },
  {
   "cell_type": "code",
   "execution_count": 17,
   "metadata": {},
   "outputs": [
    {
     "name": "stdout",
     "output_type": "stream",
     "text": [
      "e\n",
      "1 2 3 4\n",
      "[1, 2, 3, 4]\n"
     ]
    }
   ],
   "source": [
    "a ='hello'\n",
    "print(a[1:2])\n",
    "\n",
    "list = [1,2,3,4]\n",
    "print(*list) #print list biar gaada titik\n",
    "print(list)\n"
   ]
  },
  {
   "cell_type": "code",
   "execution_count": 49,
   "metadata": {},
   "outputs": [
    {
     "data": {
      "text/plain": [
       "[2, 3]"
      ]
     },
     "execution_count": 49,
     "metadata": {},
     "output_type": "execute_result"
    }
   ],
   "source": [
    "# jumlahkan ganjil genap sendiri\n",
    "\n",
    "def jumlah_ganjil_genap(list):\n",
    "    ganjil=0\n",
    "    genap= 0\n",
    "    for i in list:\n",
    "        if i%2==0:\n",
    "            genap+=1\n",
    "        else:\n",
    "            ganjil+=1\n",
    "    return [ganjil, genap]\n",
    "\n",
    "jumlah_ganjil_genap([1,3,4,6,4])"
   ]
  },
  {
   "cell_type": "code",
   "execution_count": 13,
   "metadata": {},
   "outputs": [
    {
     "data": {
      "text/plain": [
       "46"
      ]
     },
     "execution_count": 13,
     "metadata": {},
     "output_type": "execute_result"
    }
   ],
   "source": [
    "# mengitung pangkat persatuan angka lalu dijumlah\n",
    "def pangkat(num):\n",
    "    return sum(x**2 for x in num)\n",
    "pangkat([1,2,4,5])"
   ]
  },
  {
   "cell_type": "code",
   "execution_count": 20,
   "metadata": {},
   "outputs": [
    {
     "name": "stdout",
     "output_type": "stream",
     "text": [
      "14\n",
      "[1, 2, 3]\n"
     ]
    }
   ],
   "source": [
    "# menghitung jumlah kuadrat angka dar list\n",
    "a = input('masukkan angka')\n",
    "num = a.split(',')\n",
    "num = [int(x) for x in num]\n",
    "print(sum(x**2 for x in num))\n",
    "print(num)"
   ]
  },
  {
   "cell_type": "code",
   "execution_count": 20,
   "metadata": {},
   "outputs": [
    {
     "name": "stdout",
     "output_type": "stream",
     "text": [
      "[7, 11, 13]\n"
     ]
    }
   ],
   "source": [
    "listAngka= [1,7,8,9,9,11,13]\n",
    "prima= [x for x in listAngka    if x>1 and all(x%i !=0 for i in range(2,x))]\n",
    "print(prima)"
   ]
  },
  {
   "cell_type": "code",
   "execution_count": null,
   "metadata": {},
   "outputs": [],
   "source": [
    "# membuat bintang segitiga\n",
    "a= int(input())\n",
    "for i in range(a, 0, -1):\n",
    "    print((i)*'*')"
   ]
  },
  {
   "cell_type": "code",
   "execution_count": null,
   "metadata": {},
   "outputs": [],
   "source": [
    "a=int(input('masukkan banyak baris: '))\n",
    "for i in range(a):\n",
    "    print((' ')* (a - i -1) + '*'*(2*i+1))"
   ]
  },
  {
   "cell_type": "markdown",
   "metadata": {},
   "source": [
    "##### **soal praktikum numerik**"
   ]
  },
  {
   "cell_type": "code",
   "execution_count": 5,
   "metadata": {},
   "outputs": [
    {
     "name": "stdout",
     "output_type": "stream",
     "text": [
      "[1, 3]\n"
     ]
    }
   ],
   "source": [
    "# no 1 menghitung faktor dari suatu bilangan, 4 -> 1, 2, 4\n",
    "angka = int(input('masukkan angka yg akan difaktorkan: '))\n",
    "faktor = []\n",
    "for i in range(1, angka+1):\n",
    "    if angka%i == 0:\n",
    "        faktor.append(i)\n",
    "print(faktor)"
   ]
  },
  {
   "cell_type": "code",
   "execution_count": 8,
   "metadata": {},
   "outputs": [
    {
     "name": "stdout",
     "output_type": "stream",
     "text": [
      "[50.26548245743669, 25.132741228718345]\n"
     ]
    }
   ],
   "source": [
    "# 2. mengitung luas dan keliling lingkaran\n",
    "import math\n",
    "r = float(input('masukkan jari-jari lingkaran: '))\n",
    "luas = math.pi*math.pow(r,2)\n",
    "keliling = math.pi*2*r\n",
    "print([luas, keliling])"
   ]
  },
  {
   "cell_type": "code",
   "execution_count": 11,
   "metadata": {},
   "outputs": [
    {
     "name": "stdout",
     "output_type": "stream",
     "text": [
      "[1.0, 6.123233995736766e-17, 6.123233995736766e-17, 57.29577951308232]\n"
     ]
    }
   ],
   "source": [
    "# 3. menghittung sin cos tan\n",
    "import math\n",
    "sudut= float(input('masukkan besar sudut: '))\n",
    "rad = math.radians(sudut)\n",
    "\n",
    "sin = math.sin(rad)\n",
    "cos = math.cos(rad)\n",
    "tan = math.cos(rad)\n",
    "\n",
    "degrees= math.degrees(sin)\n",
    "\n",
    "\n",
    "print([sin, cos, tan, degrees])"
   ]
  },
  {
   "cell_type": "code",
   "execution_count": 9,
   "metadata": {},
   "outputs": [
    {
     "name": "stdout",
     "output_type": "stream",
     "text": [
      "3.0\n"
     ]
    }
   ],
   "source": [
    "# 4. hitung logaritma\n",
    "import math\n",
    "\n",
    "basis = input('masukkan basis: ')\n",
    "numerus = input('masukkan numerus: ')\n",
    "\n",
    "try:\n",
    "    basis = float(basis)\n",
    "    numerus = float(numerus)\n",
    "    if basis > 0 and basis != 1 and numerus > 0:\n",
    "        print(math.log(numerus,basis))\n",
    "    else:\n",
    "        print('TyprError')\n",
    "except ValueError:\n",
    "    print('TypeError')"
   ]
  },
  {
   "cell_type": "code",
   "execution_count": 12,
   "metadata": {},
   "outputs": [
    {
     "name": "stdout",
     "output_type": "stream",
     "text": [
      "120\n",
      "[1, 2, 3, 4, 5]\n"
     ]
    }
   ],
   "source": [
    "# menghitung faktorial\n",
    "\n",
    "a = int(input('masukkan bilangan'))\n",
    "faktorial = 1\n",
    "fak = []\n",
    "if a > 0:\n",
    "    for i in range(1, a+1):\n",
    "        faktorial = faktorial*i\n",
    "        fak.append(i)\n",
    "    print(faktorial)\n",
    "    print(fak)\n",
    "else:\n",
    "    print('angka harus bilangan bulat lebih besar dari 0')"
   ]
  },
  {
   "cell_type": "code",
   "execution_count": 37,
   "metadata": {},
   "outputs": [
    {
     "name": "stdout",
     "output_type": "stream",
     "text": [
      "32.0 50.26548245743669 32\n"
     ]
    }
   ],
   "source": [
    "# mencari luas persegi dalam lingkaran\n",
    "import math\n",
    "r = int(input('masukkan jari2 lingkaran: '))\n",
    "luaspersegi = 0.5*((2*r)**2)\n",
    "luas = 2*r**2\n",
    "luaslingkaran = math.pi*(r**2)\n",
    "print(luaspersegi, luaslingkaran, luas)"
   ]
  },
  {
   "cell_type": "code",
   "execution_count": null,
   "metadata": {},
   "outputs": [],
   "source": []
  },
  {
   "cell_type": "markdown",
   "metadata": {},
   "source": [
    "### **DATA STRING**"
   ]
  },
  {
   "cell_type": "code",
   "execution_count": 57,
   "metadata": {},
   "outputs": [
    {
     "name": "stdout",
     "output_type": "stream",
     "text": [
      "llo, \n",
      "b\n",
      "a\n",
      "n\n",
      "a\n",
      "n\n",
      "a\n",
      "llo, Wo\n",
      "leH\n",
      "hello, world \n",
      "HELLO, WORLD \n",
      "Hello, World\n"
     ]
    }
   ],
   "source": [
    "a = 'Hello, World ' \n",
    "print(a[2:7])\n",
    "for x in 'banana':\n",
    "    print(x)\n",
    "print(a[2:9])\n",
    "print(a[2::-1])\n",
    "print(a.lower())\n",
    "print(a.upper())\n",
    "print(a.strip())\n",
    "print(a.replace('H', 'J'))\n"
   ]
  },
  {
   "cell_type": "code",
   "execution_count": 62,
   "metadata": {},
   "outputs": [
    {
     "name": "stdout",
     "output_type": "stream",
     "text": [
      "hELLO, wORLD\n",
      "1\n"
     ]
    }
   ],
   "source": [
    "a = 'Hello, World'\n",
    "print(a.swapcase())\n",
    "print(a.index('e'))"
   ]
  },
  {
   "cell_type": "code",
   "execution_count": 53,
   "metadata": {},
   "outputs": [],
   "source": [
    "import numpy as np"
   ]
  },
  {
   "cell_type": "markdown",
   "metadata": {},
   "source": [
    "#### **SOAL PRAKTIKUM STRING**"
   ]
  },
  {
   "cell_type": "code",
   "execution_count": 27,
   "metadata": {},
   "outputs": [
    {
     "name": "stdout",
     "output_type": "stream",
     "text": [
      "hello, world\n",
      "hello, world\n",
      "      Hello, World     \n",
      "3\n",
      "8\n",
      "Wello, World\n",
      "['Hello,', 'World']\n"
     ]
    }
   ],
   "source": [
    "a = 'Hello, World'\n",
    "print(a.casefold())\n",
    "print(a.lower())\n",
    "print(a.center(23))\n",
    "print(a.count('l'))\n",
    "print(a.find('or'))\n",
    "print(a.replace('H','W'))\n",
    "b = a.split(' ')\n",
    "print(b)"
   ]
  },
  {
   "cell_type": "code",
   "execution_count": 28,
   "metadata": {},
   "outputs": [
    {
     "name": "stdout",
     "output_type": "stream",
     "text": [
      "aybarus\n"
     ]
    }
   ],
   "source": [
    "# no 1. membalikkan string\n",
    "a = input('masukkan kata: ')\n",
    "print(a[::-1])"
   ]
  },
  {
   "cell_type": "code",
   "execution_count": 13,
   "metadata": {},
   "outputs": [],
   "source": [
    "#### **AOAL PRAKTIKUM STRING**"
   ]
  },
  {
   "cell_type": "markdown",
   "metadata": {},
   "source": [
    "#### **SOAL RESPONSI STRING**"
   ]
  },
  {
   "cell_type": "code",
   "execution_count": 24,
   "metadata": {},
   "outputs": [
    {
     "name": "stdout",
     "output_type": "stream",
     "text": [
      "balonku ada 4, rupa-rupa warnanya,['merah', 'kuning', 'kelabu', 'merah muda'], meletus balon merah DORR, hatiku sangat kacau. balonku tinggal 3 kupegang erat-erat\n"
     ]
    }
   ],
   "source": [
    "# membuat progrm lagu 'balonku ada lima' dengan mengganti jumlah balon dan warna balon meletus sesuai inputan\n",
    "a = int(input('Masukkan banyak balon'))\n",
    "b = input('masukkan warna balon yang meletus: ')\n",
    "warna = ['merah', 'kuning', 'kelabu', 'merah muda', 'biru']\n",
    "\n",
    "if a > 5:\n",
    "    print('jumlah balon maksimal 5')\n",
    "else:\n",
    "    if b in warna[0:a]:\n",
    "        print(f'balonku ada {a}, rupa-rupa warnanya,{warna[0:a]}, meletus balon {b} DORR, hatiku sangat kacau. balonku tinggal {a-1} kupegang erat-erat')\n",
    "    else:\n",
    "        print('pilih warna lain')\n",
    "\n",
    "\n"
   ]
  },
  {
   "cell_type": "code",
   "execution_count": 21,
   "metadata": {},
   "outputs": [
    {
     "name": "stdout",
     "output_type": "stream",
     "text": [
      "[6, 5, 4, 3, 2]\n",
      "[6, 5, 4, 3, 2, 1]\n"
     ]
    }
   ],
   "source": [
    "#print terbalik\n",
    "a =[1,2,3,4,5,6]\n",
    "print(a[6:0:-1])\n",
    "print(a[::-1])"
   ]
  },
  {
   "cell_type": "code",
   "execution_count": 29,
   "metadata": {},
   "outputs": [
    {
     "name": "stdout",
     "output_type": "stream",
     "text": [
      "qw\n",
      "we\n",
      "er\n",
      "rt\n",
      "ty\n"
     ]
    }
   ],
   "source": [
    "# membuat string jadi seperti ini\n",
    "a = input('masukkan string')\n",
    "for i in range(len(a)-1):\n",
    "    print(a[i]+a[i+1])\n"
   ]
  },
  {
   "cell_type": "code",
   "execution_count": null,
   "metadata": {},
   "outputs": [],
   "source": []
  },
  {
   "cell_type": "code",
   "execution_count": null,
   "metadata": {},
   "outputs": [],
   "source": [
    "paragraf =   \"\"\"\n",
    "Nama saya adalah Rita Sugiarto. Saya memiliki hobi menyanyi sejak kecil. Semua\n",
    "berawal dari mimpi ibu saya untuk memiliki putri seorang penyanyi. Saya berlatih\n",
    "vokal seminggu sekali dengan guru saya. Apabila saya menjadi juara satu dalam\n",
    "perlombaan menyanyi tingkat provinsi, ibu saya akan membelikan saya kado yang\n",
    "\"\"\"\n",
    "\n",
    "if 'Mereka' in paragraf:\n",
    "  print('Ada kata Mereka')\n",
    "else:\n",
    "  print('Tidak ada kata Mereka')\n",
    "\n",
    "saya = paragraf.count(\"Saya\")\n",
    "saya_kecil = paragraf.count(\"saya\")\n",
    "Jumlahsaya = saya + saya_kecil\n",
    "print('Jumlah kata Saya adalah', saya)\n",
    "print('Jumlah kata saya adalah', saya_kecil)\n",
    "print(f'Jumlah kata Saya dan saya adalah {Jumlahsaya}')"
   ]
  },
  {
   "cell_type": "markdown",
   "metadata": {},
   "source": [
    "### **SOAL RESPONSI**"
   ]
  },
  {
   "cell_type": "code",
   "execution_count": 35,
   "metadata": {},
   "outputs": [
    {
     "name": "stdout",
     "output_type": "stream",
     "text": [
      "anak ayam turunlah 4 matilah satu tinggalah 3\n",
      "anak ayam turunlah 3 matilah satu tinggalah 2\n",
      "anak ayam turunlah 2 matilah satu tinggalah 1\n",
      "anak ayam tururnlah 1 matilah1 tinggal induknya\n"
     ]
    }
   ],
   "source": [
    "# membuaat lagu anak ayam\n",
    "a = int(input('masukkan jumlah ayam'))\n",
    "\n",
    "for i in range(a,0,-1):\n",
    "    if i > 1:\n",
    "        print(f'anak ayam turunlah {i} matilah satu tinggalah {i-1}')\n",
    "    else:\n",
    "        print('anak ayam tururnlah 1 matilah1 tinggal induknya')"
   ]
  },
  {
   "cell_type": "code",
   "execution_count": 41,
   "metadata": {},
   "outputs": [],
   "source": [
    "# kalkulator yang medahulukan pembagian dan perkalian\n",
    "def kalkulator(num1,oper1,num2,oper2,num3):\n",
    "    kali = 0\n",
    "    bagi = 0\n",
    "    x = 0\n",
    "    if oper1 == '*':\n",
    "        kali = kali + (num1*num2)\n",
    "         if oper1 == '-':\n",
    "            print((bagi + kali) - num1)\n",
    "        elif oper1 == '+':\n",
    "            print((bagi+kali) + num1)\n",
    "    elif oper1== '/':\n",
    "        bagi += (num1/num2)\n",
    "        if oper1 == '-':\n",
    "            print((bagi + kali) - num1)\n",
    "        elif oper1 == '+':\n",
    "            print((bagi+kali) + num1)\n",
    "\n",
    "    elif oper2 == '*':\n",
    "        kali += (num2*num3)\n",
    "    elif oper2 == '/':\n",
    "        bagi += (num2/num3)\n",
    "\n",
    "    elif oper1 == '-':\n",
    "        print((bagi + kali) - num1)\n",
    "    elif oper1 == '+':\n",
    "        print((bagi+kali) + num1)\n",
    "    elif oper2 == '-':\n",
    "        print((bagi + kali) - num3)\n",
    "    elif oper2 == '+':\n",
    "        print((bagi +kali) + num3)\n",
    "    \n",
    "\n",
    "kalkulator(2,'+',3,'*',2)"
   ]
  },
  {
   "cell_type": "code",
   "execution_count": 6,
   "metadata": {},
   "outputs": [
    {
     "name": "stdout",
     "output_type": "stream",
     "text": [
      "Maka hasilnya adalah: 3.6666666666666665\n"
     ]
    }
   ],
   "source": [
    "def kalkulator(angka, operasi):\n",
    "    result = angka[0]\n",
    "\n",
    "    for i in range(1, len(angka)):\n",
    "        if operasi[i-1] == 1:  # Operasi +\n",
    "            result += angka[i]\n",
    "        elif operasi[i-1] == 2:  # Operasi *\n",
    "            result *= angka[i]\n",
    "        elif operasi[i-1] == 3:  # Operasi -\n",
    "            result -= angka[i]\n",
    "        elif operasi[i-1] == 4:  # Operasi /\n",
    "            result /= angka[i]\n",
    "\n",
    "    return result\n",
    "\n",
    "# Contoh penggunaan\n",
    "angka = [5, 6, 3]\n",
    "operasi = [1, 4]  # 1 = +, 2 = *\n",
    "\n",
    "hasil = kalkulator(angka, operasi)\n",
    "print(\"Maka hasilnya adalah:\", hasil)"
   ]
  },
  {
   "cell_type": "code",
   "execution_count": 42,
   "metadata": {},
   "outputs": [
    {
     "name": "stdout",
     "output_type": "stream",
     "text": [
      "10\n"
     ]
    }
   ],
   "source": [
    "def kalkulator(num1, oper1, num2, oper2, num3):\n",
    "    hasil = 0\n",
    "    \n",
    "    if oper1 == '*':\n",
    "        hasil = num1 * num2\n",
    "    elif oper1 == '/':\n",
    "        hasil = num1 / num2\n",
    "    elif oper1 == '-':\n",
    "        hasil = num1 - num2\n",
    "    elif oper1 == '+':\n",
    "        hasil = num1 + num2\n",
    "    \n",
    "    if oper2 == '*':\n",
    "        hasil *= num3\n",
    "    elif oper2 == '/':\n",
    "        hasil /= num3\n",
    "    elif oper2 == '-':\n",
    "        hasil -= num3\n",
    "    elif oper2 == '+':\n",
    "        hasil += num3\n",
    "    \n",
    "    return hasil\n",
    "\n",
    "hasil_kalkulator = kalkulator(2, '+', 3, '*', 2)\n",
    "print(hasil_kalkulator)\n"
   ]
  },
  {
   "cell_type": "code",
   "execution_count": 2,
   "metadata": {},
   "outputs": [
    {
     "name": "stdout",
     "output_type": "stream",
     "text": [
      "Hasil kalkulasi: 10.0\n"
     ]
    }
   ],
   "source": [
    "def kalkulator(angka1, operasi1, angka2, operasi2, angka3):\n",
    "    if operasi1 == '*' or operasi1 == '/':\n",
    "        hasil1 = angka1 * angka2\n",
    "    elif operasi1 == '+':\n",
    "        hasil1 = angka1 + angka2\n",
    "    elif operasi1 == '-':\n",
    "        hasil1 = angka1 - angka2\n",
    "\n",
    "    if operasi2 == '*' or operasi2 == '/':\n",
    "        hasil2 = hasil1 * angka3\n",
    "    elif operasi2 == '+':\n",
    "        hasil2 = hasil1 + angka3\n",
    "    elif operasi2 == '-':\n",
    "        hasil2 = hasil1 - angka3\n",
    "\n",
    "    return hasil2\n",
    "\n",
    "angka1 = float(input(\"Masukkan angka pertama: \"))\n",
    "operasi1 = input(\"Masukkan operasi pertama (+, -, *, /): \")\n",
    "angka2 = float(input(\"Masukkan angka kedua: \"))\n",
    "operasi2 = input(\"Masukkan operasi kedua (+, -, *, /): \")\n",
    "angka3 = float(input(\"Masukkan angka ketiga: \"))\n",
    "\n",
    "hasil = kalkulator(angka1, operasi1, angka2, operasi2, angka3)\n",
    "print(\"Hasil kalkulasi:\", hasil)\n"
   ]
  },
  {
   "cell_type": "markdown",
   "metadata": {},
   "source": [
    "### **DATA ARRAY**"
   ]
  },
  {
   "cell_type": "code",
   "execution_count": 9,
   "metadata": {},
   "outputs": [
    {
     "name": "stdout",
     "output_type": "stream",
     "text": [
      "60\n",
      "evan\n"
     ]
    }
   ],
   "source": [
    "#mencari nilai tertingi dalam dictionari dan nama key\n",
    "mtk = { 'radam':10, 'evan': 90, 'aqila':80}\n",
    "total = 0\n",
    "nilai1 = ''\n",
    "nilai_tertinggi=0\n",
    "panjang = len(mtk.values())\n",
    "for nama, nilai in mtk.items():\n",
    "    total += nilai\n",
    "\n",
    "    if nilai > nilai_tertinggi:\n",
    "        nilai_tertinggi = nilai\n",
    "        nilai1 = nama\n",
    "\n",
    "print(total//panjang)\n",
    "print(nilai1)\n"
   ]
  },
  {
   "cell_type": "code",
   "execution_count": 17,
   "metadata": {},
   "outputs": [
    {
     "name": "stdout",
     "output_type": "stream",
     "text": [
      "60.0\n",
      "evan\n"
     ]
    }
   ],
   "source": [
    "mtk = { 'radam':10, 'evan': 90, 'aqila':80}\n",
    "rata2 = sum(mtk.values())/ len(mtk)\n",
    "a = max(mtk.values())\n",
    "for nama, nilai in mtk.items():\n",
    "    if nilai == a:\n",
    "        nilai_tertinggi = nama\n",
    "print(rata2)\n",
    "print(nilai_tertinggi)"
   ]
  },
  {
   "cell_type": "code",
   "execution_count": 15,
   "metadata": {},
   "outputs": [
    {
     "name": "stdout",
     "output_type": "stream",
     "text": [
      "60.0\n",
      "evan\n"
     ]
    }
   ],
   "source": [
    "mtk = { 'radam':10, 'evan': 90, 'aqila':80}\n",
    "rata2 = sum(mtk.values())/ len(mtk)\n",
    "tertinggi= max(mtk, key=mtk.get)\n",
    "\n",
    "print(rata2)\n",
    "print(tertinggi)\n"
   ]
  },
  {
   "cell_type": "markdown",
   "metadata": {},
   "source": [
    "##### **contoh penggunaan array pake numpy**"
   ]
  },
  {
   "cell_type": "code",
   "execution_count": 21,
   "metadata": {},
   "outputs": [
    {
     "name": "stdout",
     "output_type": "stream",
     "text": [
      "list asli:  [3, 4, 2, 6, 7]\n",
      "array sorting:  [2 3 4 6 7]\n",
      "[3 4 2 6 7]\n"
     ]
    }
   ],
   "source": [
    "import numpy as np\n",
    "total=int(input())\n",
    "list=[]\n",
    "for i in range(total):\n",
    "    angka = int(input())\n",
    "    list.append(angka)\n",
    "x=np.array(list)\n",
    "sorting=np.sort(x)\n",
    "\n",
    "print('list asli: ',list)\n",
    "print('array sorting: ', sorting)\n",
    "print('array: ', x)"
   ]
  },
  {
   "cell_type": "markdown",
   "metadata": {},
   "source": [
    "##### **membuat array 1,2,3 dimensi**"
   ]
  },
  {
   "cell_type": "code",
   "execution_count": 25,
   "metadata": {},
   "outputs": [
    {
     "name": "stdout",
     "output_type": "stream",
     "text": [
      "[1 2 3 4 5]\n",
      "2\n",
      "[1 2]\n"
     ]
    }
   ],
   "source": [
    "a = np.array([1,2,3,4,5])\n",
    "print(a)\n",
    "print(a[1])\n",
    "print(a[:2])"
   ]
  },
  {
   "cell_type": "code",
   "execution_count": 27,
   "metadata": {},
   "outputs": [
    {
     "name": "stdout",
     "output_type": "stream",
     "text": [
      "[[1 2 0]\n",
      " [3 4 5]]\n",
      "5\n"
     ]
    }
   ],
   "source": [
    "b=np.full((2,3),[[1,2,0],[3,4,5]])\n",
    "print(b)\n",
    "print(b[1,2])\n"
   ]
  },
  {
   "cell_type": "code",
   "execution_count": 32,
   "metadata": {},
   "outputs": [
    {
     "name": "stdout",
     "output_type": "stream",
     "text": [
      "angka tidak ada\n"
     ]
    }
   ],
   "source": [
    "#mencari indeks angka di list\n",
    "a =[12,5,30,52,8,27]\n",
    "cari = int(input('masukkan angka yang dicari: '))\n",
    "try:\n",
    "    hasil = a.index(cari)\n",
    "    print('ANGKA BERADA PADA INDEKS', hasil)\n",
    "except ValueError:\n",
    "    print('angka tidak ada')"
   ]
  },
  {
   "cell_type": "code",
   "execution_count": 24,
   "metadata": {},
   "outputs": [
    {
     "name": "stdout",
     "output_type": "stream",
     "text": [
      "[1. 2. 3. 4. 5.]\n",
      "15.0\n",
      "3.0\n"
     ]
    }
   ],
   "source": [
    "# array kosong input\n",
    "y = np.array([])\n",
    "jumlah = int(input('masukkan jumlah: '))\n",
    "for i in range(jumlah):\n",
    "    x = int(input(f'masukkan angka ke {i+1}'))\n",
    "    y = np.append(y,x)\n",
    "print(y)\n",
    "total = np.sum(y)\n",
    "print(total)\n",
    "print(total/len(y))"
   ]
  },
  {
   "cell_type": "code",
   "execution_count": 23,
   "metadata": {},
   "outputs": [
    {
     "name": "stdout",
     "output_type": "stream",
     "text": [
      "[0. 0. 0. 0.]\n",
      "[1. 1.]\n",
      "[0. 0. 0. 0.]\n",
      "[5 5 5 5]\n",
      "[[1. 0. 0. 0.]\n",
      " [0. 1. 0. 0.]\n",
      " [0. 0. 1. 0.]\n",
      " [0. 0. 0. 1.]]\n",
      "[[7 2 4]\n",
      " [4 9 2]\n",
      " [9 6 5]]\n"
     ]
    }
   ],
   "source": [
    "import numpy as np\n",
    "print(np.zeros(4))\n",
    "print(np.ones(2))\n",
    "print(np.empty(4))\n",
    "print(np.full(4,5))\n",
    "print(np.eye(4))\n",
    "print(np.random.randint(2,10, size=(3,3)))"
   ]
  },
  {
   "cell_type": "code",
   "execution_count": 30,
   "metadata": {},
   "outputs": [
    {
     "name": "stdout",
     "output_type": "stream",
     "text": [
      "[2 4 5]\n",
      "[5 4 2]\n",
      "[5 2]\n"
     ]
    }
   ],
   "source": [
    "a = np.array([1,2,3,4,5,5])\n",
    "print(a[1:6:2])\n",
    "print(a[::-2])\n",
    "print(a[::-4])"
   ]
  },
  {
   "cell_type": "code",
   "execution_count": 39,
   "metadata": {},
   "outputs": [
    {
     "name": "stdout",
     "output_type": "stream",
     "text": [
      "[[1 2 3 4 7 4]\n",
      " [4 5 6 7 9 1]]\n",
      "3\n",
      "[2 3]\n",
      "[6 7 9 1]\n"
     ]
    }
   ],
   "source": [
    "import numpy as np\n",
    "a = np.array([[1,2,3,4,7,4],[4,5,6,7,9,1]])\n",
    "print(a)\n",
    "print(a[0,2])\n",
    "print(a[0,1:3])\n",
    "print(a[1,2:6])"
   ]
  },
  {
   "cell_type": "code",
   "execution_count": null,
   "metadata": {},
   "outputs": [],
   "source": [
    "### Tugas Praktikum \n",
    "a = int(input('masukkan bilangan awal: '))\n",
    "b = int(input('masukkan'))"
   ]
  },
  {
   "cell_type": "markdown",
   "metadata": {},
   "source": [
    "#### **SOAL RESPONSI**"
   ]
  },
  {
   "cell_type": "code",
   "execution_count": 92,
   "metadata": {},
   "outputs": [
    {
     "name": "stdout",
     "output_type": "stream",
     "text": [
      "[0, 2, 4, 5, 7, 8, 9, 12]\n",
      "[2, 7, 11, 13, 17, 19, 23, 29]\n"
     ]
    }
   ],
   "source": [
    "# mengembalikan indeks dari list bilangan prima\n",
    "data = [2, 4, 7, 9, 11, 13, 15, 17, 19, 23, 25, 27, 29]\n",
    "indeks = []\n",
    "prim =[]\n",
    "\n",
    "def prima(num):\n",
    "    if num <= 1:\n",
    "        return False\n",
    "    for i in range(2, num):\n",
    "        if num%i == 0:\n",
    "            return False\n",
    "    return True\n",
    "\n",
    "for i in range(len(data)):\n",
    "    if prima(data[i]):\n",
    "        indeks.append(i)\n",
    "print(indeks)\n",
    "\n",
    "for x in data:\n",
    "    if x > 1:\n",
    "        for z in range(2, x):\n",
    "            if x%z == 0:\n",
    "                break\n",
    "        else:\n",
    "            prim.append(x)\n",
    "print(prim)\n",
    "\n"
   ]
  },
  {
   "cell_type": "code",
   "execution_count": null,
   "metadata": {},
   "outputs": [],
   "source": [
    "a = int(input('Masukkan panjang list: '))\n",
    "list = []\n",
    "if a >= 5:\n",
    "  for i in range(a):\n",
    "    b = int(input(f'Masukkan angka ke {i+1}: '))\n",
    "    list.append(b)\n"
   ]
  },
  {
   "cell_type": "code",
   "execution_count": 38,
   "metadata": {},
   "outputs": [
    {
     "name": "stdout",
     "output_type": "stream",
     "text": [
      "[3, 4, 5, 2, 3, 77]\n",
      "[3, 3, 5, 77, 2, 4]\n"
     ]
    }
   ],
   "source": [
    "# mengurutkan list ganjil genap\n",
    "x = int(input('masukkan panjang list'))\n",
    "lis= []\n",
    "ganjil = []\n",
    "genap = []\n",
    "for i in range(x):\n",
    "    angka = int(input(f'masukkan angka ke {i+1}'))\n",
    "    lis.append(angka)\n",
    "for z in lis:\n",
    "    if z%2 == 0:\n",
    "        genap.append(z)\n",
    "    else:\n",
    "        ganjil.append(z)\n",
    "print(lis)\n",
    "print(sorted(ganjil)+ sorted(genap))"
   ]
  },
  {
   "cell_type": "code",
   "execution_count": 44,
   "metadata": {},
   "outputs": [
    {
     "name": "stdout",
     "output_type": "stream",
     "text": [
      "[3, 4, 5, 2, 3, 77]\n",
      "[1, 3, 5, 2, 6, 8]\n"
     ]
    }
   ],
   "source": [
    "a = input('masukkan list angkanya: ')\n",
    "lissplit = a.split(',')\n",
    "lissplit = [int(x) for x in lissplit]\n",
    "genap = []\n",
    "ganjil = []\n",
    "\n",
    "for z in lissplit:\n",
    "    if z%2 == 0:\n",
    "        genap.append(z)\n",
    "    else:\n",
    "        ganjil.append(z)\n",
    "print(lis)\n",
    "print(sorted(ganjil)+ sorted(genap))"
   ]
  },
  {
   "cell_type": "code",
   "execution_count": 41,
   "metadata": {},
   "outputs": [
    {
     "name": "stdout",
     "output_type": "stream",
     "text": [
      "['1', '2', '3', '4', '5', '6']\n"
     ]
    }
   ],
   "source": [
    "a = input('masukkan list angkanya: ')\n",
    "lissplit = a.split(',')\n",
    "genap = []\n",
    "ganjil = []\n",
    "print(lissplit)"
   ]
  },
  {
   "cell_type": "code",
   "execution_count": null,
   "metadata": {},
   "outputs": [],
   "source": [
    "a = input('kata: ')\n",
    "y = []\n",
    "for i in a:\n",
    "  if i in 'AIUEOaiueo':\n",
    "    y.append(i)\n",
    "print(y)\n",
    "print(len(y))"
   ]
  },
  {
   "cell_type": "markdown",
   "metadata": {},
   "source": []
  },
  {
   "cell_type": "code",
   "execution_count": 67,
   "metadata": {},
   "outputs": [
    {
     "name": "stdout",
     "output_type": "stream",
     "text": [
      "umur anda:  18 tahun\n"
     ]
    }
   ],
   "source": [
    "# menghitung umur\n",
    "\n",
    "a = '04 - 07 - 2005'\n",
    "b = '14 - 02 - 2024'\n",
    "c = a.split()\n",
    "d=b.split()\n",
    "if int(c[2]) <= int(d[2]):\n",
    "    if int(c[0]) <= int(d[0]):\n",
    "        print('umur anda: ', int(d[4]) - int(d[4]), 'tahun')\n",
    "else:\n",
    "    print('umur anda: ', int(d[4])- int(c[4])-1, 'tahun')"
   ]
  },
  {
   "cell_type": "code",
   "execution_count": 74,
   "metadata": {},
   "outputs": [
    {
     "name": "stdout",
     "output_type": "stream",
     "text": [
      "2\n",
      "2\n"
     ]
    }
   ],
   "source": [
    "a = [1,2,3,4,6,8]\n",
    "b = int(input('masukkan angka yang dicari'))\n",
    "\n",
    "if b in a:\n",
    "    indeks = a.index(b)\n",
    "    print(indeks)\n",
    "else: \n",
    "    print('tidak')\n",
    "\n",
    "print(indeks)"
   ]
  },
  {
   "cell_type": "code",
   "execution_count": 87,
   "metadata": {},
   "outputs": [
    {
     "name": "stdout",
     "output_type": "stream",
     "text": [
      "[5, 7, 11, 13]\n"
     ]
    }
   ],
   "source": [
    "# mengurutkan bilangan prima\n",
    "ax = [5,6,7,4,10,11,13]\n",
    "a =[]\n",
    "\n",
    "for i in ax:\n",
    "    if i > 1:\n",
    "        for x in range(2,i):\n",
    "            if i%x == 0:\n",
    "                break\n",
    "        else:\n",
    "            a.append(i) \n",
    "print(sorted(a))\n"
   ]
  },
  {
   "cell_type": "code",
   "execution_count": 88,
   "metadata": {},
   "outputs": [
    {
     "name": "stdout",
     "output_type": "stream",
     "text": [
      "[5, 0, 7, 0, 0, 11, 13]\n"
     ]
    }
   ],
   "source": [
    "# mengganti prima dengan 0\n",
    "ax = [5, 6, 7, 4, 10, 11, 13]\n",
    "\n",
    "for i in range(len(ax)):\n",
    "    if ax[i] > 1:\n",
    "        for j in range(2, ax[i]):\n",
    "            if ax[i] % j == 0:\n",
    "                ax[i] = 0\n",
    "                break\n",
    "\n",
    "print(ax)\n"
   ]
  },
  {
   "cell_type": "code",
   "execution_count": null,
   "metadata": {},
   "outputs": [],
   "source": []
  }
 ],
 "metadata": {
  "kernelspec": {
   "display_name": "base",
   "language": "python",
   "name": "python3"
  },
  "language_info": {
   "codemirror_mode": {
    "name": "ipython",
    "version": 3
   },
   "file_extension": ".py",
   "mimetype": "text/x-python",
   "name": "python",
   "nbconvert_exporter": "python",
   "pygments_lexer": "ipython3",
   "version": "3.11.5"
  }
 },
 "nbformat": 4,
 "nbformat_minor": 2
}
