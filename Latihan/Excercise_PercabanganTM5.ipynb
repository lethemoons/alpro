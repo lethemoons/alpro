{
 "cells": [
  {
   "cell_type": "markdown",
   "metadata": {},
   "source": [
    "### ***EXCERCISE TM 5 PERCABANGAN***"
   ]
  },
  {
   "cell_type": "code",
   "execution_count": 2,
   "metadata": {},
   "outputs": [
    {
     "name": "stdout",
     "output_type": "stream",
     "text": [
      "Indeks: A Status: Lulus Bersyarat\n"
     ]
    }
   ],
   "source": [
    "# 1. Excercise 1\n",
    "\n",
    "a = float(input('Masukkan nilai: '))\n",
    "kehadiran= float(input('Masukkan persentase kehadiran: '))\n",
    "\n",
    "if a >= 75:\n",
    "    indeks = 'A'\n",
    "    if kehadiran == 100:\n",
    "        status = 'Lulus'\n",
    "    else:\n",
    "        status = 'Lulus Bersyarat'\n",
    "else:\n",
    "    indeks = 'C'\n",
    "    status = 'Gagal'\n",
    "\n",
    "print('Indeks:', indeks, 'Status:', status)"
   ]
  },
  {
   "cell_type": "code",
   "execution_count": 2,
   "metadata": {},
   "outputs": [
    {
     "name": "stdout",
     "output_type": "stream",
     "text": [
      "2 adalah bilangan positif\n"
     ]
    }
   ],
   "source": [
    "a = int(input('masukkan angka'))\n",
    "if a == 0:\n",
    "    print('0 bukan bilangan positif atau bilangan negatif')\n",
    "elif a < 0:\n",
    "    print(a, 'adalah bilangan negatif')\n",
    "elif a > 0:\n",
    "    print(a, 'adalah bilangan positif')\n"
   ]
  },
  {
   "cell_type": "code",
   "execution_count": 36,
   "metadata": {},
   "outputs": [
    {
     "name": "stdout",
     "output_type": "stream",
     "text": [
      "411 Bukan bilangan prima\n"
     ]
    }
   ],
   "source": [
    "# Excercise 2\n",
    "\n",
    "x = int(input('Masukkan angka: '))\n",
    "if x == 1:\n",
    "    print('1 Bukan bilangan prima')\n",
    "if x > 1:   \n",
    "    for i in range (2, x):\n",
    "        if x%i == 0:\n",
    "            print(f'{x} Bukan bilangan prima')\n",
    "            break\n",
    "    else:\n",
    "        print(f'{x} adalah Bilangan prima')\n",
    "\n"
   ]
  },
  {
   "cell_type": "code",
   "execution_count": 6,
   "metadata": {},
   "outputs": [
    {
     "data": {
      "text/plain": [
       "False"
      ]
     },
     "execution_count": 6,
     "metadata": {},
     "output_type": "execute_result"
    }
   ],
   "source": [
    "def angkaprima(num):\n",
    "    if num <= 1:\n",
    "        return False\n",
    "    if num > 1:\n",
    "        for i in range(2, num):\n",
    "            if num %i == 0:\n",
    "                return False\n",
    "        else:\n",
    "            return True\n",
    "angkaprima(8)"
   ]
  },
  {
   "cell_type": "code",
   "execution_count": 41,
   "metadata": {},
   "outputs": [
    {
     "name": "stdout",
     "output_type": "stream",
     "text": [
      "Bilangan 1 lebih kecil dari Bilangan 2\n"
     ]
    }
   ],
   "source": [
    "# Membandingkan 2 bilangan\n",
    "num1 = float(input('Masukkan bilangan 1: '))\n",
    "num2 = float(input('Masukkan bilangan 2: '))\n",
    "if num1 > num2:\n",
    "    print('Bilangan 1 lebih besar dari Bilangan 2')\n",
    "elif num1 < num2:\n",
    "    print('Bilangan 1 lebih kecil dari Bilangan 2')\n",
    "elif num1 == num2:\n",
    "    print('Bilangan sama besarnya')\n",
    "else:\n",
    "    print('Error')\n"
   ]
  },
  {
   "cell_type": "code",
   "execution_count": 1,
   "metadata": {},
   "outputs": [
    {
     "name": "stdout",
     "output_type": "stream",
     "text": [
      "Segitiga sembarang\n"
     ]
    }
   ],
   "source": [
    "# Excercise 5\n",
    "a = int(input('Masukkan sisi kanan: '))\n",
    "b = int(input('Masukkan sisi kiri: '))\n",
    "c= int(input('Masukkan sisi bawah: '))\n",
    "\n",
    "if a==0 or b==0 or c == 0:\n",
    "    print('Bilangan harus lebih besar dari 0')\n",
    "elif a == b == c:\n",
    "    print('Segitiga sama sisi')\n",
    "elif a==b or a==c or b==c:\n",
    "    print('Segitiga sama kaki')\n",
    "else:\n",
    "    print('Segitiga sembarang')\n",
    "\n"
   ]
  },
  {
   "cell_type": "code",
   "execution_count": 55,
   "metadata": {},
   "outputs": [
    {
     "name": "stdout",
     "output_type": "stream",
     "text": [
      "Kategori usia anda Balita\n"
     ]
    }
   ],
   "source": [
    "# Excercise 6\n",
    "a = int(input('Masukkan umur anda: '))\n",
    "if a < 0:\n",
    "    print('Umur minimal 0 tahun')\n",
    "elif a <=5:\n",
    "    print('Kategori usia anda Balita')\n",
    "elif a <= 12:\n",
    "    print('Kategori usia anda Anak-Anak')\n",
    "elif a <= 17:\n",
    "    print('Kategori usia anda Remaja')\n",
    "elif a <= 30:\n",
    "    print('Kategori usia anda Muda')\n",
    "elif a <= 60:\n",
    "    print('Kategori usia anda Dewasa')\n",
    "elif a >60:\n",
    "    print('Kategori usia anda adalah Lansia')"
   ]
  },
  {
   "cell_type": "code",
   "execution_count": null,
   "metadata": {},
   "outputs": [],
   "source": []
  }
 ],
 "metadata": {
  "kernelspec": {
   "display_name": "base",
   "language": "python",
   "name": "python3"
  },
  "language_info": {
   "codemirror_mode": {
    "name": "ipython",
    "version": 3
   },
   "file_extension": ".py",
   "mimetype": "text/x-python",
   "name": "python",
   "nbconvert_exporter": "python",
   "pygments_lexer": "ipython3",
   "version": "3.11.5"
  }
 },
 "nbformat": 4,
 "nbformat_minor": 2
}
