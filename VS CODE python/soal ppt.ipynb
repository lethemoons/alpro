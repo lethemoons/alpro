{
 "cells": [
  {
   "cell_type": "markdown",
   "metadata": {},
   "source": [
    "### BMI CHECKING"
   ]
  },
  {
   "cell_type": "code",
   "execution_count": 23,
   "id": "22f028af",
   "metadata": {},
   "outputs": [
    {
     "name": "stdout",
     "output_type": "stream",
     "text": [
      "Nilai BMI anda 23.437499999999996\n",
      "Berat badan anda NORMAL\n"
     ]
    }
   ],
   "source": [
    "#input\n",
    "berat_badan = int(input('Masukkan berat badan (KG) :'))\n",
    "tinggi_badan = float(input('Masukkan Tinggi Badan (M) :'))\n",
    "\n",
    "BMI = berat_badan / (tinggi_badan**2)\n",
    "print('Nilai BMI anda', BMI)\n",
    "\n",
    "if BMI < 18.5:\n",
    "    print('Berat badan anda KURANG')\n",
    "elif BMI > 18.5 and BMI < 24.9:\n",
    "    print('Berat badan anda NORMAL' )\n",
    "elif BMI >25 and BMI < 29.9:\n",
    "    print('Anda KELEBIHAN BERAT')\n",
    "elif BMI > 30:\n",
    "    print('ANDA OBESITAS')"
   ]
  },
  {
   "cell_type": "code",
   "execution_count": null,
   "metadata": {},
   "outputs": [],
   "source": [
    "def "
   ]
  },
  {
   "cell_type": "markdown",
   "id": "0d56ff12",
   "metadata": {},
   "source": [
    "# Sudoku\n"
   ]
  },
  {
   "cell_type": "code",
   "execution_count": null,
   "id": "459ae231",
   "metadata": {},
   "outputs": [],
   "source": [
    "def print_board(board):\n",
    "    for i in range(len(board)):\n",
    "        if i % 3 == 0 and i != 0:\n",
    "            print(\"- - - - - - - - - - - - \")\n",
    "\n",
    "        for j in range(len(board[0])):\n",
    "            if j % 3 == 0 and j != 0:\n",
    "                print(\" | \", end=\"\")\n",
    "\n",
    "            if j == 8:\n",
    "                print(board[i][j])\n",
    "            else:\n",
    "                print(str(board[i][j]) + \" \", end=\"\")\n",
    "\n",
    "def find_empty(board):\n",
    "    for i in range(len(board)):\n",
    "        for j in range(len(board[0])):\n",
    "            if board[i][j] == 0:\n",
    "                return (i, j)  # row, col\n",
    "\n",
    "    return None\n",
    "\n",
    "def valid(board, num, pos):\n",
    "    # Check row\n",
    "    for i in range(len(board[0])):\n",
    "        if board[pos[0]][i] == num and pos[1] != i:\n",
    "            return False\n",
    "\n",
    "    # Check column\n",
    "    for i in range(len(board)):\n",
    "        if board[i][pos[1]] == num and pos[0] != i:\n",
    "            return False\n",
    "\n",
    "    # Check box\n",
    "    box_x = pos[1] // 3\n",
    "    box_y = pos[0] // 3\n",
    "\n",
    "    for i in range(box_y*3, box_y*3 + 3):\n",
    "        for j in range(box_x * 3, box_x*3 + 3):\n",
    "            if board[i][j] == num and (i,j) != pos:\n",
    "                return False\n",
    "\n",
    "    return True\n",
    "\n",
    "def solve(board):\n",
    "    find = find_empty(board)\n",
    "    if not find:\n",
    "        return True\n",
    "    else:\n",
    "        row, col = find\n",
    "\n",
    "    for i in range(1,10):\n",
    "        if valid(board, i, (row, col)):\n",
    "            board[row][col] = i\n",
    "\n",
    "            if solve(board):\n",
    "                return True\n",
    "\n",
    "            board[row][col] = 0\n",
    "\n",
    "    return False\n",
    "\n",
    "# Contoh penggunaan\n",
    "board = [\n",
    "    [0, 0, 0, 0, 0, 0, 6, 8, 0],\n",
    "    [0, 0, 0, 0, 7, 3, 0, 0, 9],\n",
    "    [3, 0, 9, 0, 0, 0, 0, 4, 5],\n",
    "    [4, 9, 0, 0, 0, 0, 0, 0, 0],\n",
    "    [8, 0, 3, 0, 5, 0, 9, 0, 2],\n",
    "    [0, 0, 0, 0, 0, 0, 0, 3, 6],\n",
    "    [9, 6, 0, 0, 0, 0, 3, 0, 8],\n",
    "    [7, 0, 0, 6, 8, 0, 0, 0, 0],\n",
    "    [0, 2, 8, 0, 0, 0, 0, 0, 0]\n",
    "]\n",
    "\n",
    "print_board(board)\n",
    "solve(board)\n",
    "print(\"\\n\")\n",
    "print_board(board)\n",
    "\n"
   ]
  },
  {
   "cell_type": "code",
   "execution_count": 61,
   "id": "55b8e75f",
   "metadata": {},
   "outputs": [
    {
     "name": "stdout",
     "output_type": "stream",
     "text": [
      "30\n",
      "Keliling Persegi Panjang =  50\n"
     ]
    }
   ],
   "source": [
    "def find_perimeter(length, width):\n",
    "    return 2 * (length + width)\n",
    "\n",
    "print(find_perimeter(10,5))\n",
    "print('Keliling Persegi Panjang = ', find_perimeter(20,5))\n"
   ]
  },
  {
   "cell_type": "markdown",
   "metadata": {},
   "source": [
    "### Keliling Persegi Panjang"
   ]
  },
  {
   "cell_type": "code",
   "execution_count": 37,
   "metadata": {},
   "outputs": [
    {
     "name": "stdout",
     "output_type": "stream",
     "text": [
      "Keliling Persegi Panjang =  346\n"
     ]
    }
   ],
   "source": [
    "\n",
    "length = int(input('Masukkan Panjang'))\n",
    "width = int(input('Masukkan Lebar'))\n",
    "b = 2 * (length + width)\n",
    "print('Keliling Persegi Panjang = ', b)"
   ]
  },
  {
   "cell_type": "code",
   "execution_count": 36,
   "metadata": {},
   "outputs": [
    {
     "name": "stdout",
     "output_type": "stream",
     "text": [
      "                                                     SKS\n",
      "Nama                                                    \n",
      "AJI AKBAR FIRDAUS, S.T., M.T.                       15.0\n",
      "AKIF RAHMATILLAH, S.T., M.T.                        12.0\n",
      "Agus Mukhlisin, S.T., M.T.                          46.0\n",
      "Aisyah Dewi Muthi'ah, S.T., M.T.                     4.0\n",
      "Ali Rohman PhD,                                      4.0\n",
      "Amila Sofiah, S.T., M.T.                            61.0\n",
      "Ananta Adhi Wardana, S.T., M.Eng., D.Eng.           27.0\n",
      "Angga Dito Fauzi, S.Si., M.Si.                      42.0\n",
      "Asif Ali Zamzami, S.ST., M.Sc.                       0.0\n",
      "Aziz Fajar, S.Kom., M.Kom.                          28.0\n",
      "Chandrawati Putri Wulandari, S.T., M.T., Ph.D.       0.0\n",
      "DJONY IZAK RUDYARDJO, Drs., M.Si.                    5.0\n",
      "DYAH HIKMAWATI, S.Si, MSi.                          15.0\n",
      "Dika Andini Suryandari, S.T., M.T.                  16.0\n",
      "Dio Alif Hutama, S.T., M.Sc.                         4.0\n",
      "Dr. AHMADIN, S.Si., M.Si.                           19.0\n",
      "Dr. ALFA AKUSTIA WIDATI, S.Si, M.Si.                 3.0\n",
      "Dr. AMINATUN, Ir., M.Si.                            26.0\n",
      "Dr. ARDI KURNIAWAN, M.Si.                           20.0\n",
      "Dr. Dwi Rantini, S.Si                               41.0\n",
      "Dr. EKO PRASETYO KUNCORO, ST., DEA.                  4.0\n",
      "Dr. Eng. Moch. Lutfi Firmansyah, S.Si., M.Phil.     29.0\n",
      "Dr. FATIMAH, S.Si., M.Kes                            3.0\n",
      "Dr. IMAM SAPUAN, S.Si, M.Si                          8.0\n",
      "Dr. IMRON MAWARDI, SP., M.Si.                        0.0\n",
      "Dr. INNA KUSWANDARI, M.Si.                          15.0\n",
      "Dr. KHUSNUL AIN, S.T, M.Si.                          4.0\n",
      "Dr. MISWANTO, Drs., M.Si.                           12.0\n",
      "Dr. Maryamah, S.Kom.                                42.0\n",
      "Dr. NIMATUZAHROH, Dra.                              11.0\n",
      "Dr. Raden Joko Kuncoroningrat Susilo, S.Si., M.Si.  34.0\n",
      "Dr. Rizkiy Amaliyah Barakwan, S.T.                   0.0\n",
      "Dr. SALAMUN, Drs., M.Kes.                            3.0\n",
      "Dr. SISWANTO, Drs., M.Si                             2.0\n",
      "Dr. Suhailah, S.Si., M.Si.                          38.0\n",
      "Dr. WINDARTO, S.Si., M.Si.                          18.0\n",
      "Dr. YAYUK WAHYUNI, Dra., M.Si.                      12.0\n",
      "Dra. ANING PURWANINGSIH, M.Si.                       4.0\n",
      "Drs. DRS. H.SEDIONO, M.SI, M.Si.                    20.0\n",
      "Drs. EDI WINARKO, M.Cs.                              6.0\n",
      "ELLY ANA, Ir., M.Si.                                18.0\n",
      "ENDAH PURWANTI, S.Si., M.Kom.                        9.0\n",
      "ETO WURYANTO, Drs., DEA                             25.0\n",
      "Elsyea Adia Tunggadewi                              10.0\n",
      "Ersyzario Edo Yunata, S.Si., M.Si., Ph.D.            5.0\n",
      "FITRI RETRIALISCA, S.Kom., M.Kom.                   20.0\n",
      "Fadjar Mulya, S.Si., M.Si,                          81.0\n",
      "Fatiha Khairunnisa MSi,                              4.0\n",
      "GUNAWAN SETIA PRIHANDANA, S.T., M.Eng., Ph.D.        0.0\n",
      "HARI SOEPRIANDONO, S.Si., M.Si.                      5.0\n",
      "HERLAMBANG SETIADI, S.T., M.Sc., Ph.D.              40.0\n",
      "HERRI TRILAKSANA, S.Si., M.Si., Ph.D                13.0\n",
      "INDAH WERDININGSIH, S.Si., M.Kom.                   54.0\n",
      "Ilma Amalina, S.Si., M.Si., Ph.D                    34.0\n",
      "Indah Fahmiyah, S.Si., M.Stat.                      57.0\n",
      "Intan Ayu Pratiwi, S.Si., M.Si.                      5.0\n",
      "JAN ADY, S.Si., M.Si.                                4.0\n",
      "John Hardi, M.SM                                     6.0\n",
      "KAUTSAR UL HAQ, S.Si., M.Si.\\t\\t                     3.0\n",
      "Kartika Nur 'Anisa', S.Si., MBA., Ph.D.              0.0\n",
      "Kenia Alit Saptiti, S.S., M.Hum.                    40.0\n",
      "Lilik Jamilatul Awalin, S.T., M.T., Ph.D.           61.0\n",
      "MOCH. AFFANDI, drs., M.Si.                           5.0\n",
      "MOCHAMAD ZAKKI FAHMI, S.Si., M.Si, Ph.D              5.0\n",
      "MUHAMMADUN, S.Si., M.Si.                            15.0\n",
      "Manikya Pramudya, S.Si., M.Si.                       3.0\n",
      "Mirza Ardella Saputra, S.Si., M.Sc., Ph.D.          36.0\n",
      "Mohammad Ghani, S.Si., M.Si., Ph.D                  67.0\n",
      "Muhammad Aldo Setiawan, S.Si., M.Sc.                97.0\n",
      "Muhammad Noor Fakhruzzaman, S.Kom., M.Sc.           84.0\n",
      "Muhammad Syahril Mubarok, S.ST., M.Sc., Ph.D.       41.0\n",
      "NENIK ESTUNINGSIH, S.Si., M.Si.                     12.0\n",
      "NIKO AZHARI HIDAYAT , dr., Sp.BTKV.                  0.0\n",
      "NOORLAILY FITDIARINI, SE., MBA.                      4.0\n",
      "Nashrul Millah, M.Si.                               30.0\n",
      "PRASTIKA KRISMA JIWANTI, S.Si., M.Sc.Eng., Ph.D.    74.0\n",
      "PUJO SAKTI NUR CAHYO, S.Hum., M.Hum.                10.0\n",
      "PURBANDINI, S.Si., M.Kom.                           18.0\n",
      "Prisma Megantoro, S.T., M.Eng.                      26.0\n",
      "Prof Norma\\t\\t                                       6.0\n",
      "Prof. Dr. DWI SETYAWAN, S.Si, MSi., Apt              4.0\n",
      "Prof. Dr. PURKAN, S.Si., M.Si.                       4.0\n",
      "Prof. Dr. RETNO SARI, M.Sc., Apt .                  15.0\n",
      "Prof. Dr. SURYANI DYAH ASTUTI, S.Si., M.Si.         10.0\n",
      "Prof.Dr. RETNA APSARI, M.Si.                        20.0\n",
      "Ratih Ardiati Ningrum, S.Si., M.Stat.               84.0\n",
      "Rezi Delfianti, S.Pd.                               55.0\n",
      "Rizki Putra Prastio, S.Si., M.T.                    76.0\n",
      "Rizky Astari Rahmania, S.T., M.Sc.                   0.0\n",
      "Rodik Wahyu Indrawan, SST., M.Tr.T.                 34.0\n",
      "Rosita Masfirotul Uyun, M. Hum.                     20.0\n",
      "SHINTIA YUNITA ARINI, S.KM., M.KKK.                  0.0\n",
      "SISCA DINA NUR NAHDLIYAH, S.T., M.T.                20.0\n",
      "SITI WAFIROH, S.Si., M.Si.                           5.0\n",
      "SITI ZAHIDAH, S.Si., M.Si.                          15.0\n",
      "SOFIJAN HADI, Drs., M.Kes.                           6.0\n",
      "Septia Devi Prihastuti Yasmirullah, S.Si            51.0\n",
      "Shinta Arta Mulia, S.KM., M.KKK.                     0.0\n",
      "Shofa Aulia Aldhama, S.T., M.T.                      4.0\n",
      "TAHTA AMRILLAH, S.Si., M.Sc., Ph.D.                 92.0\n",
      "TRI NURHARIYATI, S.Si, M.Kes.                        5.0\n",
      "WINARNO, S.Si., M.T.                                10.0\n",
      "Wahid Dianbudiyanto, S.T., M.Sc.                     6.0\n",
      "YHOSEP GITA YHUN YHUWANA, S.Si.                      5.0\n",
      "Yessi Rahmawati, S.E., M.Ec.                         0.0\n",
      "Yoga Uta Nugraha, S.T., M.T                         46.0\n",
      "Yusrizal Afif, S.T., M.T.                           36.0\n",
      "jumlah SKS adalah =  2303.0\n"
     ]
    }
   ],
   "source": [
    "import pandas as pd\n",
    "pd.options.display.max_rows=400\n",
    "df = pd.read_excel('Rekap mengajar - Copy.xlsx')\n",
    "del(df['Matakuliah'])\n",
    "del(df['Keterangan'])\n",
    "\n",
    "A = df.groupby('Nama').sum(['SKS'])\n",
    "B = df.groupby('Nama').count()\n",
    "C = df['SKS'].sum()\n",
    "\n",
    "print(A)\n",
    "print('jumlah SKS adalah = ', C)\n",
    "\n"
   ]
  }
 ],
 "metadata": {
  "kernelspec": {
   "display_name": "Python 3 (ipykernel)",
   "language": "python",
   "name": "python3"
  },
  "language_info": {
   "codemirror_mode": {
    "name": "ipython",
    "version": 3
   },
   "file_extension": ".py",
   "mimetype": "text/x-python",
   "name": "python",
   "nbconvert_exporter": "python",
   "pygments_lexer": "ipython3",
   "version": "3.11.5"
  }
 },
 "nbformat": 4,
 "nbformat_minor": 5
}
