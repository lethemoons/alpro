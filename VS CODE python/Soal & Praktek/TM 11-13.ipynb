{
 "cells": [
  {
   "cell_type": "code",
   "execution_count": 8,
   "id": "86194e02",
   "metadata": {
    "scrolled": true
   },
   "outputs": [
    {
     "name": "stdout",
     "output_type": "stream",
     "text": [
      "halo\n"
     ]
    }
   ],
   "source": [
    "print(\"halo\")"
   ]
  },
  {
   "cell_type": "markdown",
   "id": "dc2169da",
   "metadata": {},
   "source": [
    "ini mudah sekali\n"
   ]
  },
  {
   "cell_type": "code",
   "execution_count": 7,
   "id": "b47da0f2",
   "metadata": {},
   "outputs": [
    {
     "name": "stdout",
     "output_type": "stream",
     "text": [
      "Masukkan nama anda! muna\n",
      "Hello muna\n"
     ]
    }
   ],
   "source": [
    "#Input\n",
    "var1 = input(\"Masukkan nama anda! \")\n",
    "\n",
    "#Proses\n",
    "varhasil = \"Hello\" + \" \" +var1\n",
    "\n",
    "#output\n",
    "print(varhasil)"
   ]
  },
  {
   "cell_type": "code",
   "execution_count": 11,
   "id": "08fb69e3",
   "metadata": {},
   "outputs": [
    {
     "ename": "KeyboardInterrupt",
     "evalue": "Interrupted by user",
     "output_type": "error",
     "traceback": [
      "\u001b[1;31m---------------------------------------------------------------------------\u001b[0m",
      "\u001b[1;31mKeyboardInterrupt\u001b[0m                         Traceback (most recent call last)",
      "Cell \u001b[1;32mIn[11], line 2\u001b[0m\n\u001b[0;32m      1\u001b[0m \u001b[38;5;66;03m#input\u001b[39;00m\n\u001b[1;32m----> 2\u001b[0m angka1\u001b[38;5;241m=\u001b[39m \u001b[38;5;28minput\u001b[39m(\u001b[38;5;124m\"\u001b[39m\u001b[38;5;124mmasukkan angka pertama! \u001b[39m\u001b[38;5;124m\"\u001b[39m)\n\u001b[0;32m      3\u001b[0m angka2\u001b[38;5;241m=\u001b[39m \u001b[38;5;28minput\u001b[39m (\u001b[38;5;124m\"\u001b[39m\u001b[38;5;124mmasukkan angka kedua! \u001b[39m\u001b[38;5;124m\"\u001b[39m)\n\u001b[0;32m      5\u001b[0m \u001b[38;5;66;03m#proses\u001b[39;00m\n\u001b[0;32m      6\u001b[0m \u001b[38;5;66;03m#typecast - mengubah tipe variable\u001b[39;00m\n",
      "File \u001b[1;32m~\\anaconda3\\Lib\\site-packages\\ipykernel\\kernelbase.py:1202\u001b[0m, in \u001b[0;36mKernel.raw_input\u001b[1;34m(self, prompt)\u001b[0m\n\u001b[0;32m   1200\u001b[0m     msg \u001b[38;5;241m=\u001b[39m \u001b[38;5;124m\"\u001b[39m\u001b[38;5;124mraw_input was called, but this frontend does not support input requests.\u001b[39m\u001b[38;5;124m\"\u001b[39m\n\u001b[0;32m   1201\u001b[0m     \u001b[38;5;28;01mraise\u001b[39;00m StdinNotImplementedError(msg)\n\u001b[1;32m-> 1202\u001b[0m \u001b[38;5;28;01mreturn\u001b[39;00m \u001b[38;5;28mself\u001b[39m\u001b[38;5;241m.\u001b[39m_input_request(\n\u001b[0;32m   1203\u001b[0m     \u001b[38;5;28mstr\u001b[39m(prompt),\n\u001b[0;32m   1204\u001b[0m     \u001b[38;5;28mself\u001b[39m\u001b[38;5;241m.\u001b[39m_parent_ident[\u001b[38;5;124m\"\u001b[39m\u001b[38;5;124mshell\u001b[39m\u001b[38;5;124m\"\u001b[39m],\n\u001b[0;32m   1205\u001b[0m     \u001b[38;5;28mself\u001b[39m\u001b[38;5;241m.\u001b[39mget_parent(\u001b[38;5;124m\"\u001b[39m\u001b[38;5;124mshell\u001b[39m\u001b[38;5;124m\"\u001b[39m),\n\u001b[0;32m   1206\u001b[0m     password\u001b[38;5;241m=\u001b[39m\u001b[38;5;28;01mFalse\u001b[39;00m,\n\u001b[0;32m   1207\u001b[0m )\n",
      "File \u001b[1;32m~\\anaconda3\\Lib\\site-packages\\ipykernel\\kernelbase.py:1245\u001b[0m, in \u001b[0;36mKernel._input_request\u001b[1;34m(self, prompt, ident, parent, password)\u001b[0m\n\u001b[0;32m   1242\u001b[0m \u001b[38;5;28;01mexcept\u001b[39;00m \u001b[38;5;167;01mKeyboardInterrupt\u001b[39;00m:\n\u001b[0;32m   1243\u001b[0m     \u001b[38;5;66;03m# re-raise KeyboardInterrupt, to truncate traceback\u001b[39;00m\n\u001b[0;32m   1244\u001b[0m     msg \u001b[38;5;241m=\u001b[39m \u001b[38;5;124m\"\u001b[39m\u001b[38;5;124mInterrupted by user\u001b[39m\u001b[38;5;124m\"\u001b[39m\n\u001b[1;32m-> 1245\u001b[0m     \u001b[38;5;28;01mraise\u001b[39;00m \u001b[38;5;167;01mKeyboardInterrupt\u001b[39;00m(msg) \u001b[38;5;28;01mfrom\u001b[39;00m \u001b[38;5;28;01mNone\u001b[39;00m\n\u001b[0;32m   1246\u001b[0m \u001b[38;5;28;01mexcept\u001b[39;00m \u001b[38;5;167;01mException\u001b[39;00m:\n\u001b[0;32m   1247\u001b[0m     \u001b[38;5;28mself\u001b[39m\u001b[38;5;241m.\u001b[39mlog\u001b[38;5;241m.\u001b[39mwarning(\u001b[38;5;124m\"\u001b[39m\u001b[38;5;124mInvalid Message:\u001b[39m\u001b[38;5;124m\"\u001b[39m, exc_info\u001b[38;5;241m=\u001b[39m\u001b[38;5;28;01mTrue\u001b[39;00m)\n",
      "\u001b[1;31mKeyboardInterrupt\u001b[0m: Interrupted by user"
     ]
    }
   ],
   "source": [
    "#input\n",
    "angka1= input(\"masukkan angka pertama! \")\n",
    "angka2= input (\"masukkan angka kedua! \")\n",
    "\n",
    "#proses\n",
    "#typecast - mengubah tipe variable\n",
    "angka1 = int(angka1)\n",
    "angka2 = int(angka2)\n",
    "hasil = angka1 + angka2\n",
    "\n",
    "#output\n",
    "print(\"Hasil penjumlahan \" + str(angka1) + \" dan \" + str(angka2) + \" adalah \" + str(hasil))"
   ]
  },
  {
   "cell_type": "code",
   "execution_count": 13,
   "id": "ea560ec7",
   "metadata": {},
   "outputs": [
    {
     "name": "stdout",
     "output_type": "stream",
     "text": [
      "Masukkan suhu dalam satuan celcius 23\n",
      "hasilnya adalah: 73.4 F\n"
     ]
    }
   ],
   "source": [
    "#Mengubah suhu celcius menjadi fahrenheit\n",
    "\n",
    "#input\n",
    "suhu = int(input(\"Masukkan suhu dalam satuan celcius \"))\n",
    "\n",
    "#proses\n",
    "convert = suhu*9/5 + 32\n",
    "\n",
    "#output\n",
    "print(f\"hasilnya adalah: {convert} F\")"
   ]
  },
  {
   "cell_type": "code",
   "execution_count": 15,
   "id": "9dac6f46",
   "metadata": {},
   "outputs": [
    {
     "name": "stdout",
     "output_type": "stream",
     "text": [
      "Temanku namanya Bella\n",
      "Temanku namanya Raafa\n",
      "Temanku namanya Dinda\n",
      "Temanku namanya Tina\n"
     ]
    }
   ],
   "source": [
    "teman = [\"Bella\", \"Raafa\", \"Dinda\", \"Tina\"]\n",
    "\n",
    "for x in teman:\n",
    "    print(\"Temanku namanya \" + x)"
   ]
  },
  {
   "cell_type": "code",
   "execution_count": 21,
   "id": "3149a1dc",
   "metadata": {},
   "outputs": [
    {
     "name": "stdout",
     "output_type": "stream",
     "text": [
      "1\n",
      "2\n",
      "3\n",
      "4\n",
      "5\n",
      "6\n",
      "7\n",
      "8\n",
      "9\n",
      "10\n",
      "11\n",
      "12\n",
      "13\n",
      "14\n",
      "15\n",
      "16\n",
      "17\n",
      "18\n",
      "19\n",
      "20\n"
     ]
    }
   ],
   "source": [
    "for x in range(1,21):\n",
    "    print(x)"
   ]
  },
  {
   "cell_type": "code",
   "execution_count": 20,
   "id": "d1d0a9ee",
   "metadata": {},
   "outputs": [
    {
     "name": "stdout",
     "output_type": "stream",
     "text": [
      "p\n",
      "e\n",
      "n\n",
      "g\n",
      "p\n",
      "r\n",
      "o\n",
      " \n",
      "m\n",
      "e\n",
      "n\n",
      "y\n",
      "e\n",
      "n\n",
      "a\n",
      "n\n",
      "g\n",
      "k\n",
      "a\n",
      "n\n"
     ]
    }
   ],
   "source": [
    "for x in 'pengpro menyenangkan':\n",
    "    print(x)"
   ]
  },
  {
   "cell_type": "code",
   "execution_count": 24,
   "id": "290282fe",
   "metadata": {},
   "outputs": [
    {
     "name": "stdout",
     "output_type": "stream",
     "text": [
      "Masukkan angka rahasia 1\n",
      "Masukkan angka rahasia 2\n",
      "Masukkan angka rahasia 3\n",
      "Masukkan angka rahasia 4\n",
      "Masukkan angka rahasia 6\n",
      "Masukkan angka rahasia 45\n",
      "Masukkan angka rahasia 7\n",
      "Masukkan angka rahasia 0\n",
      "selesai\n"
     ]
    }
   ],
   "source": [
    "i = 7\n",
    "while(i!=0):\n",
    "    i = int(input(\"Masukkan angka rahasia \"))\n",
    "print(\"selesai\")"
   ]
  },
  {
   "cell_type": "code",
   "execution_count": null,
   "id": "978f29e6",
   "metadata": {},
   "outputs": [],
   "source": [
    "a = int(input('masukkan temperatur'))"
   ]
  },
  {
   "cell_type": "code",
   "execution_count": 25,
   "id": "ada793dc",
   "metadata": {},
   "outputs": [
    {
     "name": "stdout",
     "output_type": "stream",
     "text": [
      "Masukkan password apalah\n",
      "salah, coba lagi\n",
      "Masukkan password gaktau\n",
      "salah, coba lagi\n",
      "Masukkan password pengpromudah\n",
      "Selamat datang\n",
      "Masukkan password gaktau\n",
      "salah, coba lagi\n",
      "Kesempatan anda habis, coba lagi besok\n"
     ]
    }
   ],
   "source": [
    "password = 'pengpromudah'\n",
    "\n",
    "attempt = 1\n",
    "\n",
    "while (attempt<=3):\n",
    "    a = input('Masukkan password ')\n",
    "    if a == password:\n",
    "        print('Selamat datang kembali')\n",
    "        break\n",
    "    else:\n",
    "        print('salah, coba lagi')\n",
    "        attempt += 1\n",
    "else:\n",
    "    print('Kesempatan anda habis, coba lagi besok')\n",
    "    "
   ]
  },
  {
   "cell_type": "code",
   "execution_count": 28,
   "id": "cd810540",
   "metadata": {},
   "outputs": [
    {
     "name": "stdout",
     "output_type": "stream",
     "text": [
      "Masukkan angka 5\n",
      "*\n",
      "**\n",
      "***\n",
      "****\n",
      "*****\n"
     ]
    }
   ],
   "source": [
    "#input\n",
    "tinggi = int(input('Masukkan angka '))\n",
    "\n",
    "#proses\n",
    "for i in range(tinggi):\n",
    "    print('*' * (i+1))\n",
    "    \n",
    "    "
   ]
  },
  {
   "cell_type": "code",
   "execution_count": 31,
   "id": "d0f09fce",
   "metadata": {},
   "outputs": [
    {
     "name": "stdout",
     "output_type": "stream",
     "text": [
      "Masukkan angka 8\n",
      "*\n",
      "**\n",
      "***\n",
      "****\n",
      "*****\n",
      "******\n",
      "*******\n",
      "********\n"
     ]
    }
   ],
   "source": [
    "#while\n",
    "tinggi = int(input('Masukkan angka '))\n",
    "a = 1\n",
    "while a<= tinggi:\n",
    "    print ('*' * a)\n",
    "    a += 1\n",
    "\n",
    "\n"
   ]
  },
  {
   "cell_type": "code",
   "execution_count": 30,
   "id": "4ea4ae7b",
   "metadata": {},
   "outputs": [
    {
     "name": "stdout",
     "output_type": "stream",
     "text": [
      "Masukkan angka 5\n"
     ]
    },
    {
     "ename": "TypeError",
     "evalue": "can't multiply sequence by non-int of type 'str'",
     "output_type": "error",
     "traceback": [
      "\u001b[1;31m---------------------------------------------------------------------------\u001b[0m",
      "\u001b[1;31mTypeError\u001b[0m                                 Traceback (most recent call last)",
      "Cell \u001b[1;32mIn[30], line 6\u001b[0m\n\u001b[0;32m      4\u001b[0m \u001b[38;5;66;03m#proses\u001b[39;00m\n\u001b[0;32m      5\u001b[0m \u001b[38;5;28;01mfor\u001b[39;00m i \u001b[38;5;129;01min\u001b[39;00m \u001b[38;5;28mrange\u001b[39m(tinggi):\n\u001b[1;32m----> 6\u001b[0m     \u001b[38;5;28mprint\u001b[39m(\u001b[38;5;124m'\u001b[39m\u001b[38;5;124mi\u001b[39m\u001b[38;5;124m'\u001b[39m\u001b[38;5;241m*\u001b[39m \u001b[38;5;124m'\u001b[39m\u001b[38;5;124m*\u001b[39m\u001b[38;5;124m'\u001b[39m)\n",
      "\u001b[1;31mTypeError\u001b[0m: can't multiply sequence by non-int of type 'str'"
     ]
    }
   ],
   "source": [
    "#input\n",
    "tinggi = int(input('Masukkan angka '))\n",
    "\n",
    "#proses\n",
    "for i in range(tinggi):\n",
    "    print()\n",
    "    \n",
    "    "
   ]
  },
  {
   "cell_type": "code",
   "execution_count": 35,
   "id": "f64d5496",
   "metadata": {},
   "outputs": [
    {
     "name": "stdout",
     "output_type": "stream",
     "text": [
      "Masukkan angka 4\n",
      "genap\n"
     ]
    }
   ],
   "source": [
    "#input\n",
    "angka = int(input('Masukkan angka '))\n",
    "\n",
    "#proses\n",
    "\n",
    "if angka % 2 == 0:\n",
    "    print('genap')\n",
    "else:\n",
    "    print('ganjil')\n",
    "    "
   ]
  },
  {
   "cell_type": "code",
   "execution_count": null,
   "id": "1199bf33",
   "metadata": {},
   "outputs": [],
   "source": [
    "#input\n",
    "angka = "
   ]
  }
 ],
 "metadata": {
  "kernelspec": {
   "display_name": "Python 3 (ipykernel)",
   "language": "python",
   "name": "python3"
  },
  "language_info": {
   "codemirror_mode": {
    "name": "ipython",
    "version": 3
   },
   "file_extension": ".py",
   "mimetype": "text/x-python",
   "name": "python",
   "nbconvert_exporter": "python",
   "pygments_lexer": "ipython3",
   "version": "3.11.5"
  }
 },
 "nbformat": 4,
 "nbformat_minor": 5
}
