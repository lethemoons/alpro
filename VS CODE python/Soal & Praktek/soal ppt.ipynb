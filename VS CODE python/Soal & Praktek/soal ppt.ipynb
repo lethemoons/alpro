{
 "cells": [
  {
   "cell_type": "code",
   "execution_count": 10,
   "id": "22f028af",
   "metadata": {},
   "outputs": [
    {
     "name": "stdout",
     "output_type": "stream",
     "text": [
      "Masukkan berat badan (KG) :60\n",
      "Masukkan Tinggi Badan (M) :1.6\n",
      "Nilai BMI anda 23.437499999999996\n",
      "Berat badan anda NORMAL\n"
     ]
    }
   ],
   "source": [
    "#input\n",
    "berat_badan = int(input('Masukkan berat badan (KG) :'))\n",
    "tinggi_badan = float(input('Masukkan Tinggi Badan (M) :'))\n",
    "\n",
    "BMI = berat_badan / (tinggi_badan**2)\n",
    "print('Nilai BMI anda', BMI)\n",
    "\n",
    "if BMI < 18.5:\n",
    "    print('Berat badan anda KURANG')\n",
    "elif BMI > 18.5 and BMI < 24.9:\n",
    "    print('Berat badan anda NORMAL' )\n",
    "elif BMI >25 and BMI < 29.9:\n",
    "    print('Anda KELEBIHAN BERAT')\n",
    "elif BMI > 30:\n",
    "    print('ANDA OBESITAS')"
   ]
  },
  {
   "cell_type": "markdown",
   "id": "0d56ff12",
   "metadata": {},
   "source": [
    "# Sudoku\n"
   ]
  },
  {
   "cell_type": "code",
   "execution_count": 5,
   "id": "55b8e75f",
   "metadata": {},
   "outputs": [
    {
     "name": "stdout",
     "output_type": "stream",
     "text": [
      "masukkan namaadinda\n",
      "masukkan tanggal lahir anda4\n",
      "masukkan bulan lahir anda7\n",
      "masukkan tahun lahir anda2005\n",
      "Haloadinda, umurmu hari ini adalah 18\n"
     ]
    }
   ],
   "source": [
    "nama= str(input('masukkan nama'))\n",
    "tanggal_lahir= int(input('masukkan tanggal lahir anda'))\n",
    "bulan_lahir = int(input('masukkan bulan lahir anda'))\n",
    "tahun_lahir = int(input('masukkan tahun lahir anda'))\n",
    "\n",
    "tahun= 2023\n",
    "bulan= 12\n",
    "tanggal=27\n",
    "\n",
    "if bulan < bulan_lahir or (bulan == bulan_lahir and tanggal < tanggal_lahir):\n",
    "    umur = tahun - tahun_lahir - 1\n",
    "else:\n",
    "    umur = tahun - tahun_lahir\n",
    "print(\"Halo \" + nama + ', '+ 'umurmu hari ini adalah ' + str(umur))\n",
    "    \n"
   ]
  },
  {
   "cell_type": "code",
   "execution_count": null,
   "id": "70a19e06",
   "metadata": {},
   "outputs": [],
   "source": [
    "n: int(input())\n",
    "for i in range(1, 101):\n",
    "    if i % 2 == 0:\n",
    "        print('INI GENAP')\n",
    "    elif i % 7 == 0:\n",
    "        print('SEVEN UP')\n",
    "    else:\n",
    "        print(i)"
   ]
  },
  {
   "cell_type": "code",
   "execution_count": null,
   "id": "0244484c",
   "metadata": {},
   "outputs": [],
   "source": [
    "def is_primaa(num):\n",
    "    if num == 2:\n",
    "        return True\n",
    "    for i in range(2, i+1)\n",
    "        if num % i == 0:\n",
    "            return False\n",
    "        return True\n",
    "is_primaa(4)\n",
    "    "
   ]
  },
  {
   "cell_type": "code",
   "execution_count": null,
   "id": "d89641c9",
   "metadata": {},
   "outputs": [],
   "source": []
  }
 ],
 "metadata": {
  "kernelspec": {
   "display_name": "Python 3 (ipykernel)",
   "language": "python",
   "name": "python3"
  },
  "language_info": {
   "codemirror_mode": {
    "name": "ipython",
    "version": 3
   },
   "file_extension": ".py",
   "mimetype": "text/x-python",
   "name": "python",
   "nbconvert_exporter": "python",
   "pygments_lexer": "ipython3",
   "version": "3.11.5"
  }
 },
 "nbformat": 4,
 "nbformat_minor": 5
}
