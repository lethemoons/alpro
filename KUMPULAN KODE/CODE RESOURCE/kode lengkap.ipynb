{
 "cells": [
  {
   "cell_type": "markdown",
   "metadata": {},
   "source": [
    "### MENENTUKAN HARGA SETELAH DISKON"
   ]
  },
  {
   "cell_type": "code",
   "execution_count": 9,
   "metadata": {},
   "outputs": [
    {
     "name": "stdout",
     "output_type": "stream",
     "text": [
      "Harga akhir adalah =  80 RIBU RUPIAH\n"
     ]
    }
   ],
   "source": [
    "def diskon(price, diskon):\n",
    "    return int(price - (price * (diskon/100)))\n",
    "\n",
    "print (f'Harga akhir adalah =  {diskon(100, 20)} RIBU RUPIAH')"
   ]
  },
  {
   "cell_type": "code",
   "execution_count": 11,
   "metadata": {},
   "outputs": [
    {
     "name": "stdout",
     "output_type": "stream",
     "text": [
      "Jumlah kaki keseluruhan adalah 14\n"
     ]
    }
   ],
   "source": [
    "def jumlah_kaki(babi, ayam, sapi, domba):\n",
    "    return (babi*4 + ayam*2 + sapi*4 + domba*4)\n",
    "\n",
    "print(f'Jumlah kaki keseluruhan adalah', jumlah_kaki(1, 1, 1, 1))"
   ]
  },
  {
   "cell_type": "markdown",
   "metadata": {},
   "source": [
    "### KONVERSI RADIAN KE DERAJAT \n"
   ]
  },
  {
   "cell_type": "code",
   "execution_count": null,
   "metadata": {},
   "outputs": [
    {
     "name": "stdout",
     "output_type": "stream",
     "text": [
      "1130.9733552923256\n",
      "Nilai pi adalah = 3.141592653589793\n"
     ]
    }
   ],
   "source": [
    "import math\n",
    "pi = math.pi\n",
    "def radians_to_degrees(num):\n",
    "    return float(num * pi)\n",
    "\n",
    "print (radians_to_degrees(360))\n",
    "print('Nilai pi adalah =', pi)"
   ]
  },
  {
   "cell_type": "markdown",
   "metadata": {},
   "source": [
    "### Keliling Lingkaran > Keliling Persegi"
   ]
  },
  {
   "cell_type": "code",
   "execution_count": null,
   "metadata": {},
   "outputs": [
    {
     "name": "stdout",
     "output_type": "stream",
     "text": [
      "True\n",
      "False\n"
     ]
    }
   ],
   "source": [
    "import math \n",
    "pi = math.pi\n",
    "def circle_or_square(rad, area):\n",
    "    circumference = 2 * pi * rad\n",
    "    square = math.sqrt(area) * 4 \n",
    "    if circumference > square:\n",
    "        return(True)\n",
    "    else:\n",
    "        return(False)\n",
    "\n",
    "print(circle_or_square(16, 625))\n",
    "print(circle_or_square(5, 100))\n",
    "\n",
    "\n"
   ]
  },
  {
   "cell_type": "markdown",
   "metadata": {},
   "source": [
    "### MENCARI EKSPONEN JIKA DIKETAHUI HASIL DAN BASISNYA"
   ]
  },
  {
   "cell_type": "code",
   "execution_count": null,
   "metadata": {},
   "outputs": [
    {
     "name": "stdout",
     "output_type": "stream",
     "text": [
      "Pangkat nya adalah = 5\n"
     ]
    }
   ],
   "source": [
    "import math \n",
    "math.log\n",
    "def solve_for_exp(a, b):\n",
    "    return int(math.log(b, a))\n",
    "\n",
    "print('Pangkat nya adalah =', solve_for_exp(4, 1024))    "
   ]
  },
  {
   "cell_type": "markdown",
   "metadata": {},
   "source": [
    "### JUMLAHKAN ANGKA GANJIL DAN GENAP SENDIRI2"
   ]
  },
  {
   "cell_type": "code",
   "execution_count": null,
   "metadata": {},
   "outputs": [
    {
     "name": "stdout",
     "output_type": "stream",
     "text": [
      "[12, 9]\n"
     ]
    }
   ],
   "source": [
    "import math\n",
    "def sum_odd_and_even(list):\n",
    "    total = 0\n",
    "    sum = 0\n",
    "    for i in list: \n",
    "        if i % 2 == 0:\n",
    "            total += i \n",
    "        else:\n",
    "            sum += i\n",
    "    return [total, sum] \n",
    "\n",
    "print(sum_odd_and_even([1, 2, 3, 4, 5, 6, 0]))"
   ]
  },
  {
   "cell_type": "markdown",
   "metadata": {},
   "source": [
    "## Huruf Latah / gagap"
   ]
  },
  {
   "cell_type": "code",
   "execution_count": null,
   "metadata": {},
   "outputs": [],
   "source": [
    "def latah(word:str):\n",
    "    return word[0:2] + '.....' + word[0:2] + '.....' + word\n",
    "\n",
    "latah(bagus)"
   ]
  },
  {
   "cell_type": "markdown",
   "metadata": {},
   "source": [
    "### menambah huruf sesuai angka"
   ]
  },
  {
   "cell_type": "code",
   "execution_count": null,
   "metadata": {},
   "outputs": [],
   "source": [
    "def how_many(num):\n",
    "    edabit = 'Ed{}bit'\n",
    "    return edabit.format('a' * num)\n",
    "how_many(6)"
   ]
  },
  {
   "cell_type": "markdown",
   "metadata": {},
   "source": [
    "### Relation Name"
   ]
  },
  {
   "cell_type": "code",
   "execution_count": 24,
   "metadata": {},
   "outputs": [
    {
     "data": {
      "text/plain": [
       "'Luke, I am your brother in law.'"
      ]
     },
     "execution_count": 24,
     "metadata": {},
     "output_type": "execute_result"
    }
   ],
   "source": [
    "def relation_to_luke(name):\n",
    "    relation = {'Darth Vader':'father', 'Leia':'sister', 'Han': 'brother in law', 'R2D2':'droid'}\n",
    "    return (f'Luke, I am your {relation[name]}.')\n",
    "        \n",
    "relation_to_luke('Leia')\n",
    "relation_to_luke('Darth Vader')\n",
    "relation_to_luke('Han')"
   ]
  },
  {
   "cell_type": "markdown",
   "metadata": {},
   "source": [
    "### Count Damage"
   ]
  },
  {
   "cell_type": "code",
   "execution_count": 45,
   "metadata": {},
   "outputs": [
    {
     "name": "stdout",
     "output_type": "stream",
     "text": [
      "DAMAGE ANDA = 360000 WOWW ANDA SANGAT BERDAMAGE SEKALII\n"
     ]
    }
   ],
   "source": [
    "def damage(damage, speed, time):\n",
    "    if damage < 0 or speed < 0:\n",
    "        return 'invalid'\n",
    "    if time == 'second':\n",
    "        return damage * speed \n",
    "    elif time == 'minute':\n",
    "        return damage * speed * 60\n",
    "    elif time == 'hour':\n",
    "        return damage * speed * 3600\n",
    "    \n",
    "print('DAMAGE ANDA =', damage(20, 5,'hour'), 'WOWW ANDA SANGAT BERDAMAGE SEKALII')\n",
    "    \n",
    "    \n",
    "    "
   ]
  },
  {
   "cell_type": "markdown",
   "metadata": {},
   "source": [
    "### Mengecek Triple PYTHAGORAS"
   ]
  },
  {
   "cell_type": "code",
   "execution_count": 3,
   "metadata": {},
   "outputs": [
    {
     "data": {
      "text/plain": [
       "False"
      ]
     },
     "execution_count": 3,
     "metadata": {},
     "output_type": "execute_result"
    }
   ],
   "source": [
    "def is_triplet(n1, n2, n3):\n",
    "    a, b, c = sorted([n1, n2, n3])\n",
    "    if a**2 + b**2 == c**2:\n",
    "        return(True)\n",
    "    else:\n",
    "        return(False)\n",
    "\n",
    "\n",
    "is_triplet(12, 11, 5)"
   ]
  },
  {
   "cell_type": "markdown",
   "metadata": {},
   "source": [
    "### Time For Milk and Cookies DATE TRUE OR FALSE"
   ]
  },
  {
   "cell_type": "code",
   "execution_count": 1,
   "metadata": {},
   "outputs": [
    {
     "data": {
      "text/plain": [
       "True"
      ]
     },
     "execution_count": 1,
     "metadata": {},
     "output_type": "execute_result"
    }
   ],
   "source": [
    "def time_for_milk_and_cookies(tanggal, bulan, tahun):\n",
    "    if tanggal == 24 and bulan ==12 and tahun > 0:\n",
    "        return(True)\n",
    "    else:\n",
    "        return(False)\n",
    "\n",
    "time_for_milk_and_cookies(24, 12, 2000)"
   ]
  },
  {
   "cell_type": "markdown",
   "metadata": {},
   "source": [
    "### Find Perimeter Rectangel (keliling persegi)"
   ]
  },
  {
   "cell_type": "code",
   "execution_count": 11,
   "metadata": {},
   "outputs": [
    {
     "name": "stdout",
     "output_type": "stream",
     "text": [
      "Kelilingnya adalah = 12 cm\n"
     ]
    }
   ],
   "source": [
    "def find_perimeter(width,length):\n",
    "    return 2*(width+length)\n",
    "    \n",
    "print('Kelilingnya adalah =',find_perimeter(2,4), 'cm')"
   ]
  },
  {
   "cell_type": "markdown",
   "metadata": {},
   "source": [
    "### default mood"
   ]
  },
  {
   "cell_type": "code",
   "execution_count": 36,
   "metadata": {},
   "outputs": [
    {
     "data": {
      "text/plain": [
       "('Today, Im feeling', 'sad')"
      ]
     },
     "execution_count": 36,
     "metadata": {},
     "output_type": "execute_result"
    }
   ],
   "source": [
    "def mood_today(mood):\n",
    "    return (\"Today, Im feeling\", (mood))\n",
    "\n",
    "mood_today('sad')"
   ]
  },
  {
   "cell_type": "markdown",
   "metadata": {},
   "source": [
    "### Kalkulator Sederhana"
   ]
  },
  {
   "cell_type": "code",
   "execution_count": 45,
   "metadata": {},
   "outputs": [
    {
     "data": {
      "text/plain": [
       "'tidak bisa dikali dengan 0!'"
      ]
     },
     "execution_count": 45,
     "metadata": {},
     "output_type": "execute_result"
    }
   ],
   "source": [
    "def calculator(num1, operator, num2):\n",
    "    if operator =='+':\n",
    "        return num1 + num2\n",
    "    elif operator =='*' and num2 == 0:\n",
    "        return 'tidak bisa dikali dengan 0!'\n",
    "    elif oprator =='*':\n",
    "        return num1 * num2\n",
    "    elif operator == '/' and num2 == 0:\n",
    "        return 'tidak bisa dibagi dengan 0!'\n",
    "    elif operator == '/':\n",
    "        return num1 / num2\n",
    "\n",
    "calculator(2, '+', 6)\n",
    "calculator(3, '*', 0)"
   ]
  },
  {
   "cell_type": "code",
   "execution_count": 4,
   "metadata": {},
   "outputs": [
    {
     "data": {
      "text/plain": [
       "'babi'"
      ]
     },
     "execution_count": 4,
     "metadata": {},
     "output_type": "execute_result"
    }
   ],
   "source": [
    "def bool_to_string(flag):\n",
    "    return str(flag)\n",
    "\n",
    "bool_to_string('True')\n",
    "bool_to_string('babi')"
   ]
  },
  {
   "cell_type": "markdown",
   "metadata": {},
   "source": [
    "### menyebutkan angka pertama"
   ]
  },
  {
   "cell_type": "code",
   "execution_count": 10,
   "metadata": {},
   "outputs": [
    {
     "data": {
      "text/plain": [
       "4"
      ]
     },
     "execution_count": 10,
     "metadata": {},
     "output_type": "execute_result"
    }
   ],
   "source": [
    "def get_first_value(number_list):\n",
    "    return number_list[0]\n",
    "\n",
    "get_first_value([2, 4, 5])"
   ]
  },
  {
   "cell_type": "markdown",
   "metadata": {},
   "source": [
    "### hitung kaki hewan"
   ]
  },
  {
   "cell_type": "code",
   "execution_count": 13,
   "metadata": {},
   "outputs": [
    {
     "name": "stdout",
     "output_type": "stream",
     "text": [
      "Jumlah kaki keseluruhan adalah =  10\n"
     ]
    }
   ],
   "source": [
    "def animals_leg(chicken, cow, pig):\n",
    "    return chicken*2 + cow*4 + pig*4\n",
    "\n",
    "print('Jumlah kaki keseluruhan adalah = ', animals_leg(1, 1, 1))"
   ]
  },
  {
   "cell_type": "markdown",
   "metadata": {},
   "source": [
    "### menambahkan variabel"
   ]
  },
  {
   "cell_type": "code",
   "execution_count": 27,
   "metadata": {},
   "outputs": [
    {
     "data": {
      "text/plain": [
       "'AdindaPintar'"
      ]
     },
     "execution_count": 27,
     "metadata": {},
     "output_type": "execute_result"
    }
   ],
   "source": [
    "def assignment(name):\n",
    "    return (name +'Pintar')\n",
    "\n",
    "assignment('Adinda')"
   ]
  },
  {
   "cell_type": "code",
   "execution_count": 26,
   "metadata": {},
   "outputs": [
    {
     "name": "stdout",
     "output_type": "stream",
     "text": [
      "AdindaPintar sekali\n"
     ]
    }
   ],
   "source": [
    "nama = str(input('Masukkan Nama anda = '))\n",
    "x = nama + 'Pintar sekali'\n",
    "print(x)"
   ]
  },
  {
   "cell_type": "markdown",
   "metadata": {},
   "source": [
    "## Knversi jam ke menit"
   ]
  },
  {
   "cell_type": "code",
   "execution_count": 29,
   "metadata": {},
   "outputs": [
    {
     "data": {
      "text/plain": [
       "7260"
      ]
     },
     "execution_count": 29,
     "metadata": {},
     "output_type": "execute_result"
    }
   ],
   "source": [
    "def convert_hour_to_second(hour, minute):\n",
    "    return hour*3600 + minute*60\n",
    "\n",
    "convert_hour_to_second(2, 1)\n"
   ]
  },
  {
   "cell_type": "code",
   "execution_count": 2,
   "metadata": {},
   "outputs": [
    {
     "data": {
      "text/plain": [
       "5"
      ]
     },
     "execution_count": 2,
     "metadata": {},
     "output_type": "execute_result"
    }
   ],
   "source": [
    "def func(n):\n",
    "    if n < 0:\n",
    "        print('Incorrect input')\n",
    "    elif n == 0:\n",
    "        return 0\n",
    "    elif n == 1 or n == 2:\n",
    "        return 1\n",
    "    else:\n",
    "        return func(n - 1) + func(n - 2)\n",
    "\n",
    "func(5)"
   ]
  },
  {
   "cell_type": "markdown",
   "metadata": {},
   "source": [
    "### Mnghitung faktorial \n",
    "#### rumus N!"
   ]
  },
  {
   "cell_type": "code",
   "execution_count": 1,
   "metadata": {},
   "outputs": [
    {
     "name": "stdout",
     "output_type": "stream",
     "text": [
      "Factorial of 5 is :  120\n"
     ]
    }
   ],
   "source": [
    "n = input('Input a Number')\n",
    "factorial = 1\n",
    "if int(n) >= 1:\n",
    "    for i in range (1, int(n)+1):\n",
    "        factorial = factorial * i\n",
    "    print('Factorial of', n, 'is : ', factorial)"
   ]
  },
  {
   "cell_type": "markdown",
   "metadata": {},
   "source": [
    "### Menghitung banyak huruf vokal"
   ]
  },
  {
   "cell_type": "code",
   "execution_count": 18,
   "metadata": {},
   "outputs": [
    {
     "data": {
      "text/plain": [
       "4"
      ]
     },
     "execution_count": 18,
     "metadata": {},
     "output_type": "execute_result"
    }
   ],
   "source": [
    "def vowel(ch):\n",
    "    return ch.upper() in ['A', 'I', 'U', 'E', 'O']\n",
    "    \n",
    "def count_vowels(str):\n",
    "    count = 0\n",
    "    for i in range(len(str)):\n",
    "        if vowel(str[i]):\n",
    "            count += 1\n",
    "    return count\n",
    "\n",
    "count_vowels('AKUBISA')"
   ]
  },
  {
   "cell_type": "code",
   "execution_count": 19,
   "metadata": {},
   "outputs": [
    {
     "data": {
      "text/plain": [
       "0"
      ]
     },
     "execution_count": 19,
     "metadata": {},
     "output_type": "execute_result"
    }
   ],
   "source": [
    "def hitung_vokal(str):\n",
    "    vokal = 0\n",
    "    for i in str:\n",
    "        if i in 'aiueoAIUEO':\n",
    "            vokal += 1\n",
    "    return vokal\n",
    "\n",
    "hitung_vokal('wkwkwkw')"
   ]
  },
  {
   "cell_type": "code",
   "execution_count": 23,
   "metadata": {},
   "outputs": [
    {
     "name": "stdout",
     "output_type": "stream",
     "text": [
      "Kalimat = aku mau makan ayam\n",
      "Jumlah Huruf Vokal adalah =  8\n"
     ]
    }
   ],
   "source": [
    "kata = input('Masukkan Kata = ')\n",
    "print('Kalimat =', kata)\n",
    "vokal = 0\n",
    "for i in kata:\n",
    "    if i in 'aiueoAIUEO':\n",
    "        vokal += 1\n",
    "print('Jumlah Huruf Vokal adalah = ', vokal)     "
   ]
  },
  {
   "cell_type": "markdown",
   "metadata": {},
   "source": [
    "### FIND nilai minimum / maksimum"
   ]
  },
  {
   "cell_type": "code",
   "execution_count": null,
   "metadata": {},
   "outputs": [],
   "source": [
    "def find_min_max(list):\n",
    "    nilai_terkecil = list[0]\n",
    "    nilai_terbesar = list[0]\n",
    "    for i in range(1,len(list)):\n",
    "        if list[i] < nilai_terkecil:\n",
    "            nilai_terkecil = list[i]\n",
    "        elif list[i] > nilai_terbesar:\n",
    "            nilai_terbesar = list[i]\n",
    "    return  nilai_terkecil ,nilai_terbesar\n",
    "find_min_max([2,4,5,6,7])\n",
    "\n"
   ]
  },
  {
   "cell_type": "markdown",
   "metadata": {},
   "source": [
    "### Menghitung banyak angka/huruf"
   ]
  },
  {
   "cell_type": "code",
   "execution_count": 17,
   "metadata": {},
   "outputs": [
    {
     "data": {
      "text/plain": [
       "7"
      ]
     },
     "execution_count": 17,
     "metadata": {},
     "output_type": "execute_result"
    }
   ],
   "source": [
    "def number_length(num):\n",
    "    return len(str(num))\n",
    "\n",
    "def number_length1(num):\n",
    "    a = 0\n",
    "    for i in str(num):\n",
    "        a += 1\n",
    "    return a\n",
    "\n",
    "number_length1('akubisa')"
   ]
  },
  {
   "cell_type": "markdown",
   "metadata": {},
   "source": [
    "### Mencari faktor dari bilangan"
   ]
  },
  {
   "cell_type": "code",
   "execution_count": null,
   "metadata": {},
   "outputs": [],
   "source": [
    "a = int(input('Masukkan angka'))\n",
    "list =[]\n",
    "for i in range(1, a+1):\n",
    "    if a%i == 0:\n",
    "        list.append(i)\n",
    "print(list)"
   ]
  },
  {
   "cell_type": "markdown",
   "metadata": {},
   "source": [
    "### Perkalian angka 3 kali"
   ]
  },
  {
   "cell_type": "code",
   "execution_count": null,
   "metadata": {},
   "outputs": [],
   "source": [
    "# perkalian 2z\n",
    "def list_multiples():\n",
    "    number=int(input('Masukkan angka'))\n",
    "    jumlah= int(input('masukkan jumlah perkalian'))\n",
    "    list =[]\n",
    "    count = 0\n",
    "    for i in range(1, jumlah+1):\n",
    "        list.append(number*i)\n",
    "        count+=(number*i)\n",
    "    print(list)\n",
    "    print(count)\n",
    "list_multiples()"
   ]
  },
  {
   "cell_type": "markdown",
   "metadata": {},
   "source": [
    "### 1. deteksi huruf"
   ]
  },
  {
   "cell_type": "code",
   "execution_count": 6,
   "metadata": {},
   "outputs": [
    {
     "name": "stdout",
     "output_type": "stream",
     "text": [
      "vokal\n"
     ]
    }
   ],
   "source": [
    "def huruf_apa(str):\n",
    "    if str in 'aiueoAIUEO':\n",
    "        return ('vokal')\n",
    "    else:\n",
    "        return ('konsonan')\n",
    "    \n",
    "huruf = str(input('Masukkan Huruf= '))\n",
    "if huruf == 'a' or 'A':\n",
    "    print('vokal')\n",
    "elif huruf == 'i' or 'I':\n",
    "    print('vokal')\n",
    "elif huruf == 'u' or 'U':\n",
    "    print('vokal')\n",
    "elif huruf == 'e' or 'E':\n",
    "    print('vokal')\n",
    "elif huruf == 'o' or 'O':\n",
    "    print('vokal')\n",
    "else:\n",
    "    print('konsonan')\n",
    "\n",
    "\n",
    "\n",
    "\n"
   ]
  },
  {
   "cell_type": "markdown",
   "metadata": {},
   "source": [
    "### 2. konversi nilai"
   ]
  },
  {
   "cell_type": "code",
   "execution_count": 58,
   "metadata": {},
   "outputs": [
    {
     "name": "stdout",
     "output_type": "stream",
     "text": [
      "Masukkan nilai anda = 12\n",
      "Nilai = E\n"
     ]
    }
   ],
   "source": [
    "def nilai(num:int):\n",
    "    if num > 100:\n",
    "        return ('Nilai yang dimasukkan salah')\n",
    "    elif num >= 86:\n",
    "        return ('A')\n",
    "    elif num >= 78:\n",
    "        return ('B')\n",
    "    elif num >= 68:\n",
    "        return ('C')\n",
    "    elif num >= 55:\n",
    "        return ('D')\n",
    "    else:\n",
    "        return ('E')\n",
    "\n",
    "a = int(input('Masukkan nilai anda = ')) \n",
    "print('Nilai =', nilai(a))"
   ]
  },
  {
   "cell_type": "markdown",
   "metadata": {},
   "source": [
    "### 3. membandingkan 2 bilangan"
   ]
  },
  {
   "cell_type": "code",
   "execution_count": 8,
   "metadata": {},
   "outputs": [
    {
     "data": {
      "text/plain": [
       "'Bilangan 1 lebih besar dari Bilangan 2'"
      ]
     },
     "execution_count": 8,
     "metadata": {},
     "output_type": "execute_result"
    }
   ],
   "source": [
    "def besar_mana (num1,num2):\n",
    "    if num1 > num2:\n",
    "        return ('Bilangan 1 lebih besar dari Bilangan 2')\n",
    "    elif num1 < num2:\n",
    "        return ('Bilangan 1 lebih kecil dari Bilangan 2')\n",
    "    elif num1 == num2:\n",
    "        return ('Bilangan sama besarnya')\n",
    "    else:\n",
    "        return ('Error')\n",
    "besar_mana(9,2)\n",
    "\n",
    "\n",
    "\n"
   ]
  },
  {
   "cell_type": "markdown",
   "metadata": {},
   "source": [
    "### 4. perulangan bilangan +2"
   ]
  },
  {
   "cell_type": "code",
   "execution_count": 44,
   "metadata": {},
   "outputs": [
    {
     "name": "stdout",
     "output_type": "stream",
     "text": [
      "Masukkan bilangan awal =1\n",
      "Masukkan banyak bilangan =6\n",
      "[1, 3, 5, 7, 9, 11]\n"
     ]
    }
   ],
   "source": [
    "def ulang():\n",
    "    a = int(input('Masukkan bilangan awal ='))\n",
    "    b = int(input('Masukkan banyak bilangan ='))\n",
    "    list=[]\n",
    "    for i in range (b):\n",
    "        list.append(a)\n",
    "        a = a+2\n",
    "    print(list)\n",
    "\n",
    "ulang()\n",
    "    "
   ]
  },
  {
   "cell_type": "code",
   "execution_count": null,
   "metadata": {},
   "outputs": [],
   "source": []
  },
  {
   "cell_type": "code",
   "execution_count": 42,
   "metadata": {},
   "outputs": [
    {
     "name": "stdout",
     "output_type": "stream",
     "text": [
      "Masukkan bilangan awal =1\n",
      "Masukkan banyak bilangan =6\n",
      "1, 3, 5, 7, 9, 11, "
     ]
    }
   ],
   "source": [
    "def perulangan_angka():\n",
    "    a = int(input('Masukkan bilangan awal ='))\n",
    "    b = int(input('Masukkan banyak bilangan ='))\n",
    "\n",
    "    i = 0\n",
    "    while i < b:\n",
    "        print(a, end=', ')\n",
    "        a += 2\n",
    "        i += 1\n",
    "    \n",
    "perulangan_angka()\n",
    "    "
   ]
  },
  {
   "cell_type": "markdown",
   "metadata": {},
   "source": [
    "### 5. menampilkan bilangan prima sebanyak inputan"
   ]
  },
  {
   "cell_type": "code",
   "execution_count": 7,
   "metadata": {},
   "outputs": [
    {
     "name": "stdout",
     "output_type": "stream",
     "text": [
      "Hasil: [2, 3, 5, 7, 11] "
     ]
    }
   ],
   "source": [
    "def is_prima(x):\n",
    "    for i in range(2, x):\n",
    "        if x % i == 0:\n",
    "            return False\n",
    "    return True\n",
    "\n",
    "def cari_bilangan_prima(n):\n",
    "    list_bilangan_prima = []\n",
    "    i = 2\n",
    "    while len(list_bilangan_prima) < n:\n",
    "        if is_prima(i):\n",
    "            list_bilangan_prima.append(i)\n",
    "        i += 1\n",
    "    return list_bilangan_prima\n",
    "\n",
    "n = int(input(\"Total bilangan prima: \"))\n",
    "hasil = cari_bilangan_prima(n)\n",
    "print(\"Hasil:\",hasil, end=\" \")\n",
    "\n",
    "\n",
    "    "
   ]
  },
  {
   "cell_type": "code",
   "execution_count": 3,
   "metadata": {},
   "outputs": [
    {
     "data": {
      "text/plain": [
       "False"
      ]
     },
     "execution_count": 3,
     "metadata": {},
     "output_type": "execute_result"
    }
   ],
   "source": [
    "def is_prima(x):\n",
    "    for i in range(2, x):\n",
    "        if x % i == 0:\n",
    "            return False\n",
    "    return True\n",
    "is_prima(4)"
   ]
  },
  {
   "cell_type": "markdown",
   "metadata": {},
   "source": [
    "#### menampilan bilangan prima dibawah angka yang diinput"
   ]
  },
  {
   "cell_type": "code",
   "execution_count": 19,
   "metadata": {},
   "outputs": [
    {
     "name": "stdout",
     "output_type": "stream",
     "text": [
      "2\n",
      "3\n"
     ]
    }
   ],
   "source": [
    "#menampilkan bilangan prima dibawah angka yang di input\n",
    "\n",
    "def cek_bilangan_prima(jumlah: int): \n",
    "    count = 0\n",
    "    for i in range(2, jumlah):\n",
    "        if i > 1:\n",
    "            for j in range(2, i):\n",
    "                if i % j == 0:\n",
    "                    break\n",
    "            else:\n",
    "                print(i)\n",
    "                count += 1\n",
    "        if count == jumlah:\n",
    "            break\n",
    "\n",
    "cek_bilangan_prima(5)"
   ]
  },
  {
   "cell_type": "code",
   "execution_count": 3,
   "metadata": {},
   "outputs": [
    {
     "name": "stdout",
     "output_type": "stream",
     "text": [
      "2\n",
      "3\n",
      "5\n",
      "7\n",
      "[2, 3, 5, 7]\n"
     ]
    }
   ],
   "source": [
    "#menampilkan bilangan prima dibawah angka yang di input\n",
    "\n",
    "def cek_bilangan_prima(jumlah: int): \n",
    "    bil=[]\n",
    "    for i in range(2, jumlah):\n",
    "        if i > 1:\n",
    "            for j in range(2, i):\n",
    "                if i % j == 0:\n",
    "                    break\n",
    "            else:\n",
    "                print(i)\n",
    "                bil.append(i)\n",
    "    print(bil)\n",
    "\n",
    "cek_bilangan_prima(10)"
   ]
  },
  {
   "cell_type": "markdown",
   "metadata": {},
   "source": [
    "### menampilkan prima sebanyak yang diinput"
   ]
  },
  {
   "cell_type": "code",
   "execution_count": 1,
   "metadata": {},
   "outputs": [
    {
     "name": "stdout",
     "output_type": "stream",
     "text": [
      "2, 3, 5, 7, 11, 13, 17, 19, 23, "
     ]
    }
   ],
   "source": [
    "def cek_bilangan_prima1(jumlah: int) -> None:\n",
    "    bilangan = 2\n",
    "    count = 0\n",
    "    while count < jumlah:\n",
    "        is_prime = True\n",
    "        for i in range(2, bilangan):\n",
    "            if bilangan % i == 0:\n",
    "                is_prime = False\n",
    "        if is_prime:\n",
    "            print(bilangan, end=', ')\n",
    "            count += 1\n",
    "        bilangan += 1\n",
    "\n",
    "cek_bilangan_prima1(9)"
   ]
  },
  {
   "cell_type": "code",
   "execution_count": 46,
   "metadata": {},
   "outputs": [
    {
     "data": {
      "text/plain": [
       "False"
      ]
     },
     "execution_count": 46,
     "metadata": {},
     "output_type": "execute_result"
    }
   ],
   "source": [
    "def apakahprima(x):\n",
    "    if x == 1:\n",
    "        return False\n",
    "    for i in range (2, x):\n",
    "        if x%i == 0:\n",
    "            return False\n",
    "    return True\n",
    "\n",
    "x= int(input('Masukkan bilangan'))\n",
    "apakahprima(x)\n"
   ]
  },
  {
   "cell_type": "code",
   "execution_count": 58,
   "metadata": {},
   "outputs": [
    {
     "name": "stdout",
     "output_type": "stream",
     "text": [
      "7\n",
      "8\n",
      "10\n",
      "13\n",
      "17\n",
      "22\n"
     ]
    }
   ],
   "source": [
    "n= int(input('masukkan angka'))\n",
    "fibo = 1\n",
    "for i in range(fibo,n):\n",
    "    print (n)\n",
    "    n = n+i"
   ]
  },
  {
   "cell_type": "markdown",
   "metadata": {},
   "source": [
    "### mencari faktor dari bilangan"
   ]
  },
  {
   "cell_type": "code",
   "execution_count": null,
   "metadata": {},
   "outputs": [],
   "source": [
    "a = int(input('Masukkan angka'))\n",
    "list =[]\n",
    "for i in range(1, a+1):\n",
    "    if a%i == 0:\n",
    "        list.append(i)\n",
    "print(list)\n",
    "    \n"
   ]
  },
  {
   "cell_type": "markdown",
   "metadata": {},
   "source": [
    "### membuat segitiga bintang"
   ]
  },
  {
   "cell_type": "code",
   "execution_count": 1,
   "metadata": {},
   "outputs": [
    {
     "name": "stdout",
     "output_type": "stream",
     "text": [
      "*****\n",
      "****\n",
      "***\n",
      "**\n",
      "*\n"
     ]
    }
   ],
   "source": [
    "a= int(input())\n",
    "for i in range(a, 0, -1):\n",
    "    print((i)*'*')"
   ]
  },
  {
   "cell_type": "code",
   "execution_count": 1,
   "metadata": {},
   "outputs": [
    {
     "name": "stdout",
     "output_type": "stream",
     "text": [
      "*\n",
      "**\n",
      "***\n",
      "****\n",
      "*****\n"
     ]
    }
   ],
   "source": [
    "a = int(input('masukkan banyak baris'))\n",
    "for i in range(1,a+1):\n",
    "    print(i*'*')"
   ]
  },
  {
   "cell_type": "code",
   "execution_count": 5,
   "metadata": {},
   "outputs": [
    {
     "name": "stdout",
     "output_type": "stream",
     "text": [
      "  *\n",
      " ***\n",
      "*****\n"
     ]
    }
   ],
   "source": [
    "a=int(input('masukkan banyak baris: '))\n",
    "for i in range(a):\n",
    "    b= (' ')* (a - i -1) + '*'*(2*i+1)\n",
    "    print(b, )"
   ]
  },
  {
   "cell_type": "markdown",
   "metadata": {},
   "source": [
    "### Membuat segitiga kembar"
   ]
  },
  {
   "cell_type": "code",
   "execution_count": 6,
   "metadata": {},
   "outputs": [
    {
     "name": "stdout",
     "output_type": "stream",
     "text": [
      "  *      *   \n",
      " * *    * *  \n",
      "* * *  * * * \n"
     ]
    }
   ],
   "source": [
    "# membuat segitiga kembar\n",
    "tinggi = int(input('masukkan angka'))\n",
    "\n",
    "for i in range(1, tinggi+1):\n",
    "    bintang= '* '* i\n",
    "    tengah = bintang.center(tinggi*2)\n",
    "    print(tengah, tengah)"
   ]
  },
  {
   "cell_type": "markdown",
   "metadata": {},
   "source": [
    "### fibbonacci"
   ]
  },
  {
   "cell_type": "code",
   "execution_count": 69,
   "metadata": {},
   "outputs": [
    {
     "name": "stdout",
     "output_type": "stream",
     "text": [
      "[1, 1, 2, 3, 5, 8]\n"
     ]
    }
   ],
   "source": [
    "def fibonacci(n):\n",
    "    if n <= 1:\n",
    "        return n\n",
    "    else:\n",
    "        return fibonacci(n-1) + fibonacci(n-2)\n",
    "    \n",
    "fibo= int(input('masukkan banyak deret bilangan fibonacci'))\n",
    "list=[]\n",
    "if fibo <= 0:\n",
    "    print('harus bilangan positif')\n",
    "else:\n",
    "    for i in range(1,fibo+1):\n",
    "        list.append(fibonacci(i)) \n",
    "    print(list)"
   ]
  },
  {
   "cell_type": "code",
   "execution_count": 78,
   "metadata": {},
   "outputs": [
    {
     "name": "stdout",
     "output_type": "stream",
     "text": [
      "[1, 1, 2, 3, 5]\n"
     ]
    }
   ],
   "source": [
    "angka=int(input('masukkan banyak deret'))\n",
    "list=[]\n",
    "\n",
    "if angka <= 0:\n",
    "    print(\"Masukkan bilangan positif\")\n",
    "else:\n",
    "    n1, n2 = 1, 1\n",
    "    count = 0\n",
    "    while count < angka:\n",
    "        list.append(n1)\n",
    "        nth = n1 + n2\n",
    "        n1 = n2\n",
    "        n2 = nth\n",
    "        count += 1\n",
    "    print(list)\n"
   ]
  },
  {
   "cell_type": "code",
   "execution_count": 77,
   "metadata": {},
   "outputs": [
    {
     "name": "stdout",
     "output_type": "stream",
     "text": [
      "[1, 1, 2, 3, 5, 8]\n"
     ]
    }
   ],
   "source": [
    "n = int(input())\n",
    "fibonaci =[1,1]\n",
    "for i in range(3, n+1):\n",
    "    bil_fibonaci= fibonaci[-1] + fibonaci[-2]\n",
    "    fibonaci.append(bil_fibonaci)\n",
    "print(fibonaci)"
   ]
  },
  {
   "cell_type": "code",
   "execution_count": null,
   "metadata": {},
   "outputs": [],
   "source": [
    "a = int(input('Masukkan panjang list >=5 : '))\n",
    "listAngka = []\n",
    "fibo= []\n",
    "\n",
    "if a >= 5:\n",
    "    for i in range(a):\n",
    "        b = int(input(f'Masukkan angka ke {i+1}: '))\n",
    "        listAngka.append(b)\n",
    "else:\n",
    "    print('Panjang list minimal 5')\n",
    "\n",
    "print(listAngka)\n",
    "\n",
    "if a <=0:\n",
    "    print('harus bilanghan positif')\n",
    "else:\n",
    "    for i in range(len(listAngka)):\n",
    "        if i == 0:\n",
    "            fibo.append((listAngka[i]+ listAngka[i+1]))\n",
    "        elif i == len(listAngka)-1:\n",
    "            fibo.append((listAngka[i-1]+listAngka[i]))\n",
    "        else:\n",
    "            fibo.append((listAngka[i-1]+ listAngka[i+1]))\n",
    "    print(fibo)\n"
   ]
  },
  {
   "cell_type": "code",
   "execution_count": 7,
   "metadata": {},
   "outputs": [
    {
     "name": "stdout",
     "output_type": "stream",
     "text": [
      "Masukkan NIM mahasiswa 164231042\n",
      "mahasiswa tsd\n"
     ]
    }
   ],
   "source": [
    "nim = str(input('Masukkan NIM mahasiswa '))\n",
    "tsd = 164\n",
    "te = 163\n",
    "ti = 161\n",
    "rn = 162\n",
    "\n",
    "if nim[0:3] == str(161):\n",
    "    print('mahasiswa ti')\n",
    "elif nim[0:3] == str(162):\n",
    "    print('mahasiswa rn')\n",
    "elif nim[0:3] == str(163):\n",
    "    print('mahasiswa te')\n",
    "elif nim[0:3] == str(164):\n",
    "    print('mahasiswa tsd')\n"
   ]
  },
  {
   "cell_type": "code",
   "execution_count": 26,
   "metadata": {},
   "outputs": [
    {
     "name": "stdout",
     "output_type": "stream",
     "text": [
      "1\n",
      "3\n",
      "6\n",
      "10\n",
      "15\n",
      "\n"
     ]
    }
   ],
   "source": [
    "i = 1\n",
    "y = 1\n",
    "n = 5\n",
    "while i <= n:\n",
    "    x = y\n",
    "    z = x\n",
    "    print(z)\n",
    "    i += 1\n",
    "    y = z + i\n",
    "print()"
   ]
  },
  {
   "cell_type": "markdown",
   "metadata": {},
   "source": [
    "### membuat segitiga dan bilangan pascal"
   ]
  },
  {
   "cell_type": "code",
   "execution_count": 40,
   "metadata": {},
   "outputs": [
    {
     "name": "stdout",
     "output_type": "stream",
     "text": [
      "Masukkan tinggi segitiga: 5\n",
      "    1\n",
      "   121\n",
      "  12321\n",
      " 1234321\n",
      "123454321\n"
     ]
    }
   ],
   "source": [
    "tinggi = int(input(\"Masukkan tinggi segitiga: \"))\n",
    "\n",
    "for i in range(1, tinggi + 1):\n",
    "    for z in range(tinggi-i):\n",
    "        print(' ', end='')\n",
    "    for j in range(1, i + 1):\n",
    "        print(j, end=\"\")\n",
    "    for x in range(i - 1, 0, -1):\n",
    "        print(x, end='')\n",
    "    print()\n"
   ]
  },
  {
   "cell_type": "code",
   "execution_count": 32,
   "metadata": {},
   "outputs": [
    {
     "name": "stdout",
     "output_type": "stream",
     "text": [
      "Masukkan tinggi segitiga: 5\n",
      "    1\n",
      "   121\n",
      "  12321\n",
      " 1234321\n",
      "123454321\n"
     ]
    }
   ],
   "source": [
    "def print_segitiga_sama_sisi(n):\n",
    "    for i in range(1, n + 1):\n",
    "        # Spasi sebelum angka\n",
    "        for j in range(n - i):\n",
    "            print(\" \", end=\"\")\n",
    "        # Menuliskan angka urut (segitiga kiri)\n",
    "        for k in range(1, i + 1):\n",
    "            print(k, end=\"\")\n",
    "        # Menuliskan angka urut (segitiga kanan)\n",
    "        for l in range(i - 1, 0, -1):\n",
    "            print(l, end=\"\")\n",
    "        # Menambah baris baru setelah setiap baris angka selesai\n",
    "        print()\n",
    "\n",
    "# Meminta input dari pengguna untuk tinggi segitiga\n",
    "tinggi = int(input(\"Masukkan tinggi segitiga: \"))\n",
    "\n",
    "# Memanggil fungsi untuk menampilkan segitiga sama sisi\n",
    "print_segitiga_sama_sisi(tinggi)\n"
   ]
  },
  {
   "cell_type": "markdown",
   "metadata": {},
   "source": [
    "### GATAU APA, FUNSGI"
   ]
  },
  {
   "cell_type": "code",
   "execution_count": 11,
   "metadata": {},
   "outputs": [
    {
     "name": "stdout",
     "output_type": "stream",
     "text": [
      "3.0\n"
     ]
    }
   ],
   "source": [
    "\n",
    "x = float(input())\n",
    "n = int(input())\n",
    "fx = 1\n",
    "\n",
    "for i in range(1,n+1):\n",
    "    fx += x**i\n",
    "print(fx)"
   ]
  },
  {
   "cell_type": "code",
   "execution_count": 48,
   "metadata": {},
   "outputs": [
    {
     "name": "stdout",
     "output_type": "stream",
     "text": [
      "2\n"
     ]
    }
   ],
   "source": [
    "T=[2, 4, 5, -2, -5]\n",
    "\n",
    "count = 0\n",
    "for i in range(n):\n",
    "    if T[i] > 0 and T[i] % 2 ==0:\n",
    "        count += 1\n",
    "print(count)"
   ]
  },
  {
   "cell_type": "markdown",
   "metadata": {},
   "source": [
    "## bmi"
   ]
  },
  {
   "cell_type": "code",
   "execution_count": 51,
   "metadata": {},
   "outputs": [
    {
     "name": "stdout",
     "output_type": "stream",
     "text": [
      "44\n",
      "55\n",
      "66\n",
      "56\n",
      "65\n",
      "berat badan terbesar adalah 66\n"
     ]
    }
   ],
   "source": [
    "n = 5\n",
    "berat_BB =[ 0 for i in range(n)]\n",
    "\n",
    "for i in range(n):\n",
    "    berat_BB[i]=int(input())\n",
    "\n",
    "max= berat_BB[0]\n",
    "for i in range(n):\n",
    "    if berat_BB[i]>max:\n",
    "        max = berat_BB[i]\n",
    "print('berat badan terbesar adalah', max)\n",
    "\n",
    "X = int(input('masukkan berat badan'))\n",
    "count=0\n",
    "for i in range(n):\n",
    "    if berat="
   ]
  },
  {
   "cell_type": "markdown",
   "metadata": {},
   "source": [
    "x = int(input('masukkan x: '))"
   ]
  },
  {
   "cell_type": "markdown",
   "metadata": {},
   "source": [
    "### BILANGAN TERKECIL YANG HABIS DIBAGI"
   ]
  },
  {
   "cell_type": "code",
   "execution_count": 9,
   "metadata": {},
   "outputs": [
    {
     "name": "stdout",
     "output_type": "stream",
     "text": [
      "bilangan terkecil yang habis dibagi 11 adalah 11\n"
     ]
    }
   ],
   "source": [
    "x = int(input('Masukkan angka= '))\n",
    "if x%2 == 0 and x%5 == 0:\n",
    "    print('bilangan yang dimasukkan salah')\n",
    "else:\n",
    "    a = True\n",
    "    b = 1\n",
    "    while a:\n",
    "        for element in range(1,10):\n",
    "            AC = int(str(element)*b)\n",
    "            if AC % x == 0:\n",
    "                print(f\"bilangan terkecil yang habis dibagi {x} adalah {AC}\")\n",
    "                a = False\n",
    "                break\n",
    "        b += 1\n"
   ]
  },
  {
   "cell_type": "markdown",
   "metadata": {},
   "source": [
    "### MEMBUAT SEGITIGA SAMA SISI"
   ]
  },
  {
   "cell_type": "code",
   "execution_count": 54,
   "metadata": {},
   "outputs": [
    {
     "name": "stdout",
     "output_type": "stream",
     "text": [
      "masukkan angka5\n",
      "    *\n",
      "   ***\n",
      "  *****\n",
      " *******\n",
      "*********\n"
     ]
    }
   ],
   "source": [
    "t = int(input('masukkan angka'))\n",
    "for i in range (1, t+1):\n",
    "    print((t-i)* \" \"+ (2*i-1)*'*')"
   ]
  },
  {
   "cell_type": "code",
   "execution_count": 6,
   "metadata": {},
   "outputs": [
    {
     "name": "stdout",
     "output_type": "stream",
     "text": [
      "            \n",
      "\n",
      "          * \n",
      "\n",
      "       *  *  * \n",
      "\n",
      "    *  *  *  *  * \n",
      "\n",
      " *  *  *  *  *  *  * \n",
      "\n",
      "    *  *  *  *  * \n",
      "\n",
      "       *  *  * \n",
      "\n",
      "          * \n",
      "\n",
      "            \n",
      "\n",
      "\n"
     ]
    }
   ],
   "source": [
    "# membuat segitiga belah ketupat\n",
    "\n",
    "string = \"\"\n",
    "\n",
    "x = int(input(\"Masukkan angka :\"))\n",
    "bar = x\n",
    "# Looping Baris\n",
    "while bar >= 0:\n",
    "\t# Looping Kolom Spasi Kosong\n",
    "\tkol = bar\n",
    "\twhile kol > 0:\n",
    "\t\tstring = string + \"   \"\n",
    "\t\tkol = kol - 1\n",
    "\t# Looping Kolom Bintang Sisi Kiri\t\t\n",
    "\tkiri = 1\n",
    "\twhile kiri < (x - (bar-1)):\n",
    "\t\tstring = string + \" * \"\n",
    "\t\tkiri = kiri + 1\t\t\n",
    "\t# Looping Kolom Bintang Sisi Kanan\n",
    "\tkanan = 1\n",
    "\twhile kanan < kiri -1:\n",
    "\t\tstring = string + \" * \"\n",
    "\t\tkanan = kanan + 1\t\n",
    "\n",
    "\tstring = string + \"\\n\\n\"\n",
    "\tbar = bar - 1\n",
    "\n",
    "bar = 1\t\n",
    "# Looping Baris\n",
    "while bar <= x:\n",
    "\tkol = bar+1\n",
    "\t# Looping Kolom Spasi Kosong\n",
    "\twhile kol > 1:\n",
    "\t\tstring = string + \"   \"\n",
    "\t\tkol = kol - 1\n",
    "\t# Looping Kolom Bintang Sisi Kiri\t\n",
    "\tkiri = 0\n",
    "\twhile kiri < (x - bar):\n",
    "\t\tstring = string + \" * \"\n",
    "\t\tkiri = kiri + 1\t\n",
    "\t# Looping Kolom Bintang Sisi Kanan\n",
    "\tkanan = kiri\t\n",
    "\twhile kanan > 1:\n",
    "\t\tstring = string + \" * \"\n",
    "\t\tkanan = kanan - 1\n",
    "\n",
    "\tstring = string + \"\\n\\n\"\n",
    "\tbar = bar + 1\n",
    "print (string)"
   ]
  },
  {
   "cell_type": "code",
   "execution_count": null,
   "metadata": {},
   "outputs": [],
   "source": [
    "# membuat segitiga jampasir\n",
    "string = \"\"\n",
    "bar = 1\n",
    "\n",
    "x = int(input(\"Masukkan angka :\"))\n",
    "print (\"\\n\")\n",
    "# Looping Baris\n",
    "while bar < x:\n",
    "\t# Looping Kolom Spasi Kosong\n",
    "\tkol = bar\n",
    "\twhile kol > 1:\n",
    "\t\tstring = string + \"   \"\n",
    "\t\tkol = kol - 1\n",
    "\t# Looping Kolom Bintang Sisi Kiri\n",
    "\tkiri = 0\n",
    "\twhile kiri <= (x - bar):\n",
    "\t\tstring = string + \" * \"\n",
    "\t\tkiri = kiri + 1\t\n",
    "\t# Looping Kolom Bintang Sisi Kanan\n",
    "\tkanan = kiri\t\n",
    "\twhile kanan > 1:\n",
    "\t\tstring = string + \" * \"\n",
    "\t\tkanan = kanan - 1\n",
    "\n",
    "\tif (bar+1) <= x:\n",
    "\t\tstring = string + \"\\n\\n\"\n",
    "\tbar = bar + 1\n",
    "\n",
    "bar = x-1\t\n",
    "# Looping Baris\n",
    "while bar >= 0:\n",
    "\t# Looping Kolom Spasi Kosong\n",
    "\tkol = bar\n",
    "\twhile kol > 0:\n",
    "\t\tstring = string + \"   \"\n",
    "\t\tkol = kol - 1\n",
    "\t# Looping Kolom Bintang Sisi Kiri\t\n",
    "\tkiri = 1\n",
    "\twhile kiri < (x - (bar-1)):\n",
    "\t\tstring = string + \" * \"\n",
    "\t\tkiri = kiri + 1\t\t\n",
    "\t# Looping Kolom Bintang Sisi Kanan\n",
    "\tkanan = 1\n",
    "\twhile kanan < kiri -1:\n",
    "\t\tstring = string + \" * \"\n",
    "\t\tkanan = kanan + 1\t\n",
    "\n",
    "\tstring = string + \"\\n\\n\"\n",
    "\tbar = bar - 1\n",
    "print (string)"
   ]
  },
  {
   "cell_type": "markdown",
   "metadata": {},
   "source": []
  },
  {
   "cell_type": "code",
   "execution_count": 59,
   "metadata": {},
   "outputs": [
    {
     "name": "stdout",
     "output_type": "stream",
     "text": [
      "Masukkan password= opoo\n",
      "salah, coba lagi\n",
      "Masukkan password= ijkk\n",
      "salah, coba lagi\n",
      "Masukkan password= jdjd\n",
      "salah, coba lagi\n",
      "Kesempatan anda habis, coba lagi besok\n"
     ]
    }
   ],
   "source": [
    "password = 'pengpromudah'\n",
    "\n",
    "attempt = 1\n",
    "\n",
    "while (attempt<=3):\n",
    "    a = input('Masukkan password= ')\n",
    "    if a == password:\n",
    "        print('Selamat datang kembali')\n",
    "        break\n",
    "    else:\n",
    "        print('salah, coba lagi')\n",
    "        attempt += 1\n",
    "else:\n",
    "    print('Kesempatan anda habis, coba lagi besok')\n",
    "    "
   ]
  },
  {
   "cell_type": "code",
   "execution_count": 1,
   "metadata": {},
   "outputs": [
    {
     "name": "stdout",
     "output_type": "stream",
     "text": [
      "Neko adalah kucing berjenis Persian yang sudah berumur 3 tahun\n",
      "meow!\n"
     ]
    }
   ],
   "source": [
    "# 1. Class Animal\n",
    "class Animal:\n",
    "    def __init__(self, name, age, species):\n",
    "        self.name = name\n",
    "        self.age = age\n",
    "        self.species = species\n",
    "\n",
    "# 2. Class Cat (turunan dari Animal)\n",
    "class Cat(Animal):\n",
    "    def deskripsi(self):\n",
    "        return f\"{self.name} adalah kucing berjenis {self.species} yang sudah berumur {self.age} tahun\"\n",
    "\n",
    "    def suara(self):\n",
    "        return \"meow!\"\n",
    "\n",
    "# 3. Membuat instance dari kelas Cat\n",
    "myCat = Cat(name=\"Neko\", age=3, species=\"Persian\")\n",
    "\n",
    "# Contoh penggunaan\n",
    "print(myCat.deskripsi())  # Output: Neko adalah kucing berjenis Persian yang sudah berumur 3 tahun\n",
    "print(myCat.suara())      # Output: meow!\n"
   ]
  },
  {
   "cell_type": "markdown",
   "metadata": {},
   "source": [
    "### bilangan armstrong"
   ]
  },
  {
   "cell_type": "code",
   "execution_count": 2,
   "metadata": {},
   "outputs": [
    {
     "name": "stdout",
     "output_type": "stream",
     "text": [
      "2345 bukan bilangan ARMSTRONG.\n"
     ]
    }
   ],
   "source": [
    "def cek_armstrong(n):\n",
    "    return n == sum(int(digit) ** len(str(n)) for digit in str(n))\n",
    "\n",
    "bilangan = int(input('Masukkan bilangan: '))\n",
    "if cek_armstrong(bilangan):\n",
    "    print(f'{bilangan} adalah bilangan ARMSTRONG.')\n",
    "else:\n",
    "    print(f'{bilangan} bukan bilangan ARMSTRONG.')\n"
   ]
  },
  {
   "cell_type": "markdown",
   "metadata": {},
   "source": [
    "#### membuat pola dari panjang lebar dan simbol"
   ]
  },
  {
   "cell_type": "code",
   "execution_count": 17,
   "metadata": {},
   "outputs": [
    {
     "name": "stdout",
     "output_type": "stream",
     "text": [
      "*****\n",
      "*****\n",
      "*****\n",
      "\n"
     ]
    }
   ],
   "source": [
    "def buat_pola(num1,num2,chara):\n",
    "    hasil = ''\n",
    "    for x in range(int(num1)):\n",
    "        hasil += chara*num2\n",
    "        hasil += \"\\n\"\n",
    "    return hasil\n",
    "\n",
    "print(buat_pola(3,5,'*'))\n",
    "    \n"
   ]
  },
  {
   "cell_type": "code",
   "execution_count": 1,
   "metadata": {},
   "outputs": [
    {
     "name": "stdout",
     "output_type": "stream",
     "text": [
      "$$$$$$\n",
      "$$$$$$\n",
      "$$$$$$\n",
      "$$$$$$\n"
     ]
    }
   ],
   "source": [
    "a = int(input())\n",
    "b = int(input())\n",
    "c = (input())\n",
    "for i in range(a):\n",
    "    print(c*b)"
   ]
  },
  {
   "cell_type": "markdown",
   "metadata": {},
   "source": [
    "### MENGHITUNG PERKALIAN DARI SELURUH ANGKA INPUT"
   ]
  },
  {
   "cell_type": "code",
   "execution_count": 23,
   "metadata": {},
   "outputs": [
    {
     "data": {
      "text/plain": [
       "9"
      ]
     },
     "execution_count": 23,
     "metadata": {},
     "output_type": "execute_result"
    }
   ],
   "source": [
    "def mistery(num):\n",
    "    a = [int(x) for x in str(num)]\n",
    "    b = a[0]*a[1]*a[2]\n",
    "    return b\n",
    "mistery(133)"
   ]
  },
  {
   "cell_type": "code",
   "execution_count": 5,
   "metadata": {},
   "outputs": [
    {
     "name": "stdout",
     "output_type": "stream",
     "text": [
      "9\n"
     ]
    }
   ],
   "source": [
    "a =input('masukkan angka: ')\n",
    "hasil = 1\n",
    "for digit in a:\n",
    "    hasil *= int(digit)\n",
    "print(hasil)"
   ]
  },
  {
   "cell_type": "markdown",
   "metadata": {},
   "source": [
    "### menghitung umur "
   ]
  },
  {
   "cell_type": "code",
   "execution_count": null,
   "metadata": {},
   "outputs": [],
   "source": [
    "# menghitung umur\n",
    "\n",
    "a = '04 - 07 - 2005'\n",
    "b = '14 - 02 - 2024'\n",
    "c = a.split()\n",
    "d=b.split()\n",
    "if int(c[2]) <= int(d[2]):\n",
    "    if int(c[0]) <= int(d[0]):\n",
    "        print('umur anda: ', int(d[4]) - int(d[4]), 'tahun')\n",
    "else:\n",
    "    print('umur anda: ', int(d[4])- int(c[4])-1, 'tahun')"
   ]
  },
  {
   "cell_type": "markdown",
   "metadata": {},
   "source": [
    "#### **EXCERCISE TM 5 PERCABANGAN**"
   ]
  },
  {
   "cell_type": "code",
   "execution_count": null,
   "metadata": {},
   "outputs": [],
   "source": [
    "# 1. Excercise 1\n",
    "\n",
    "a = float(input('Masukkan nilai: '))\n",
    "kehadiran= float(input('Masukkan persentase kehadiran: '))\n",
    "\n",
    "if a >= 75:\n",
    "    indeks = 'A'\n",
    "    if kehadiran == 100:\n",
    "        status = 'Lulus'\n",
    "    else:\n",
    "        status = 'Lulus Bersyarat'\n",
    "else:\n",
    "    indeks = 'C'\n",
    "    status = 'Gagal'\n",
    "\n",
    "print('Indeks:', indeks, 'Status:', status)"
   ]
  },
  {
   "cell_type": "code",
   "execution_count": null,
   "metadata": {},
   "outputs": [],
   "source": [
    "a = int(input('masukkan angka'))\n",
    "if a == 0:\n",
    "    print('0 bukan bilangan positif atau bilangan negatif')\n",
    "elif a < 0:\n",
    "    print(a, 'adalah bilangan negatif')\n",
    "elif a > 0:\n",
    "    print(a, 'adalah bilangan positif')\n"
   ]
  },
  {
   "cell_type": "code",
   "execution_count": null,
   "metadata": {},
   "outputs": [],
   "source": [
    "# Excercise 2 CEK PRIMA\n",
    "\n",
    "x = int(input('Masukkan angka: '))\n",
    "if x == 1:\n",
    "    print('1 Bukan bilangan prima')\n",
    "if x > 1:   \n",
    "    for i in range (2, x):\n",
    "        if x%i == 0:\n",
    "            print(f'{x} Bukan bilangan prima')\n",
    "            break\n",
    "    else:\n",
    "        print(f'{x} adalah Bilangan prima')\n",
    "\n"
   ]
  },
  {
   "cell_type": "code",
   "execution_count": null,
   "metadata": {},
   "outputs": [],
   "source": [
    "def angkaprima(num):\n",
    "    if num <= 1:\n",
    "        return False\n",
    "    if num > 1:\n",
    "        for i in range(2, num):\n",
    "            if num %i == 0:\n",
    "                return False\n",
    "        else:\n",
    "            return True\n",
    "angkaprima(8)"
   ]
  },
  {
   "cell_type": "code",
   "execution_count": null,
   "metadata": {},
   "outputs": [],
   "source": [
    "# Membandingkan 2 bilangan\n",
    "num1 = float(input('Masukkan bilangan 1: '))\n",
    "num2 = float(input('Masukkan bilangan 2: '))\n",
    "if num1 > num2:\n",
    "    print('Bilangan 1 lebih besar dari Bilangan 2')\n",
    "elif num1 < num2:\n",
    "    print('Bilangan 1 lebih kecil dari Bilangan 2')\n",
    "elif num1 == num2:\n",
    "    print('Bilangan sama besarnya')\n",
    "else:\n",
    "    print('Error')\n"
   ]
  },
  {
   "cell_type": "code",
   "execution_count": null,
   "metadata": {},
   "outputs": [],
   "source": [
    "# Excercise 5\n",
    "a = int(input('Masukkan sisi kanan: '))\n",
    "b = int(input('Masukkan sisi kiri: '))\n",
    "c= int(input('Masukkan sisi bawah: '))\n",
    "\n",
    "if a==0 or b==0 or c == 0:\n",
    "    print('Bilangan harus lebih besar dari 0')\n",
    "elif a == b == c:\n",
    "    print('Segitiga sama sisi')\n",
    "elif a==b or a==c or b==c:\n",
    "    print('Segitiga sama kaki')\n",
    "else:\n",
    "    print('Segitiga sembarang')\n",
    "\n"
   ]
  },
  {
   "cell_type": "code",
   "execution_count": null,
   "metadata": {},
   "outputs": [],
   "source": [
    "# membuat list dari inpuran langsung dengan koma\n",
    "import numpy as np\n",
    "kata = input('masukkan list angka')\n",
    "numbers = kata.split(',')\n",
    "numbers = [int(x) for x in  numbers]\n",
    "print(numbers)\n",
    "\n",
    "ganjil = 0\n",
    "genap = 0\n",
    "\n",
    "for num in numbers:\n",
    "     if num % 2 ==0:\n",
    "         genap +=num\n",
    "     else:\n",
    "         ganjil +=num\n",
    "        \n",
    "print(ganjil, genap)"
   ]
  },
  {
   "cell_type": "code",
   "execution_count": null,
   "metadata": {},
   "outputs": [],
   "source": [
    "# seleksi ganjil genap dri inputan list sekaligus koma\n",
    "import numpy as np\n",
    "kata = input('masukkan list angka')\n",
    "numbers = kata.split(',')\n",
    "numbers = [int(x) for x in  numbers]\n",
    "print(numbers)\n",
    "arr= np.array(numbers)\n",
    "print(arr)\n",
    "ganjil = 0\n",
    "genap = 0\n",
    "\n",
    "for num in numbers:\n",
    "     if num % 2 ==0:\n",
    "         genap +=num\n",
    "     else:\n",
    "         ganjil +=num\n",
    "\n",
    "dict = {\n",
    "    'ganjil': [num for num in numbers if num%2==1],\n",
    "    'genap': [num for num in numbers if num %2==0]\n",
    "}\n",
    "        \n",
    "print(ganjil, genap)\n",
    "print(dict)\n",
    "print(sum(dict['ganjil']))\n",
    "print(sum(dict['genap']))"
   ]
  },
  {
   "cell_type": "code",
   "execution_count": null,
   "metadata": {},
   "outputs": [],
   "source": [
    "# array kosong input\n",
    "y = np.array([])\n",
    "jumlah = int(input('masukkan jumlah: '))\n",
    "for i in range(jumlah):\n",
    "    x = int(input(f'masukkan angka ke {i+1}'))\n",
    "    y = np.append(y,x)\n",
    "print(y)\n",
    "total = np.sum(y)\n",
    "print(total)\n",
    "print(total/len(y))"
   ]
  },
  {
   "cell_type": "code",
   "execution_count": 7,
   "metadata": {},
   "outputs": [
    {
     "name": "stdout",
     "output_type": "stream",
     "text": [
      "[1, 2, 3, 4, 5, 6]\n"
     ]
    }
   ],
   "source": [
    "kata = input('masukkan list angka')\n",
    "numbers = kata.split(',')\n",
    "numbers = [int(x) for x in  numbers]\n",
    "print(numbers)"
   ]
  },
  {
   "cell_type": "code",
   "execution_count": null,
   "metadata": {},
   "outputs": [],
   "source": [
    "# mengembalikan indeks dari list bilangan prima\n",
    "data = [2, 4, 7, 9, 11, 13, 15, 17, 19, 23, 25, 27, 29]\n",
    "indeks = []\n",
    "prim =[]\n",
    "\n",
    "def prima(num):\n",
    "    if num <= 1:\n",
    "        return False\n",
    "    for i in range(2, num):\n",
    "        if num%i == 0:\n",
    "            return False\n",
    "    return True\n",
    "\n",
    "for i in range(len(data)):\n",
    "    if prima(data[i]):\n",
    "        indeks.append(i)\n",
    "print(indeks)\n",
    "\n",
    "for x in data:\n",
    "    if x > 1:\n",
    "        for z in range(2, x):\n",
    "            if x%z == 0:\n",
    "                break\n",
    "        else:\n",
    "            prim.append(x)\n",
    "print(prim)\n",
    "\n"
   ]
  },
  {
   "cell_type": "code",
   "execution_count": null,
   "metadata": {},
   "outputs": [],
   "source": [
    "# mengganti prima dengan 0\n",
    "ax = [5, 6, 7, 4, 10, 11, 13]\n",
    "\n",
    "for i in range(len(ax)):\n",
    "    if ax[i] > 1:\n",
    "        for j in range(2, ax[i]):\n",
    "            if ax[i] % j == 0:\n",
    "                ax[i] = 0\n",
    "                break\n",
    "\n",
    "print(ax)\n"
   ]
  },
  {
   "cell_type": "code",
   "execution_count": null,
   "metadata": {},
   "outputs": [],
   "source": [
    "#prima daei inputan awal dan akhir\n",
    "a = int(input('Masukkan bilangan awal: '))\n",
    "b = int(input('Masukkan bilangan akhir: '))\n",
    "list = []\n",
    "prima = []\n",
    "for i in range(a, b+1):    # untuk membuat list dari inputan bilangan awal-akhir, menggunakan perulangan for i in range(a, b+1)\n",
    "  list.append(i)           # untuk menambahkan angka kedalam list kosong tadi, jadi setiap angka perulangan dimasukkan ke list tersebut\n",
    "  if i > 1:                # mencari bilangan prima, karena bil. prima harus > 1\n",
    "    for x in range(2, i):  # loop untuk mengecek apakah sebuah bilangan habis dibagi bilangan dalam range 2 sampai i-1, jadi nanti angka 2 tergolong bilangan prima karena tidak bisa range(2,1) #harus dari kecil ke besar\n",
    "        if i % x == 0:     # jika bilangan bisa dibagi bilangan maka break\n",
    "          break\n",
    "    else:\n",
    "      prima.append(i)     # untuk bilangan yang tidak bisa dibagi bilangan lain, maka akan dimasukkan kedalam list prima\n",
    "\n",
    "print('List angka: ', list)         # print list angka\n",
    "print('Bilangan prima: ', prima)    # print list bilangan prima"
   ]
  },
  {
   "cell_type": "code",
   "execution_count": null,
   "metadata": {},
   "outputs": [],
   "source": [
    "#membuat dictionary\n",
    "kamus = {}\n",
    "\n",
    "for i in range(10):\n",
    "  kunci = input('Masukkan kunci: ').lower()\n",
    "  nilai = input('Masukkan nilai: ').lower()\n",
    "\n",
    "  kamus[kunci] = nilai\n",
    "\n",
    "print('Dictionary: ', kamus)\n",
    "\n",
    "cari_kata= input('Masukkan kata yang ingin dicari: ').lower()\n",
    "print('Value dari kata kunci adalah:', kamus.get(cari_kata, 'Kata tersebut belum ada pada dictionary'))"
   ]
  },
  {
   "cell_type": "code",
   "execution_count": null,
   "metadata": {},
   "outputs": [],
   "source": [
    "#membuat segitiga atau persegi\n",
    "# 2. \n",
    "a = int(input('Masukkan angka > 0 : '))\n",
    "if a > 0:\n",
    "    b = input('Pilih mau segitiga ketik 1, kalau mau persegi ketik 2 : ') # ini peritahnya, untuk memudahkan, jika mau segitiga ketik 11, jika mau persegi ketik 2\n",
    "    if b == '1':\n",
    "        c = int(input('angka : '))\n",
    "        for i in range(c,0,-1): # untuk iterasi dari inputan c sampai 1, jadi nanti diambil dari bilangan yang besar dulu(mulai dari c sampai 1) terus berkurang 1\n",
    "            print('*'*i)        # outpunya berupa print '*' sebanyak i\n",
    "    elif b == '2':\n",
    "        d = int(input('angka: '))\n",
    "        for i in range(d):      # untuk iterasi dari 1-banyak d, ini untuk menentukan banyak barisnya\n",
    "            print('*'*d)        # print '*' sebanyak d, suppaya nanti banyak '*' baris dan colomnya sama, alias membentuk persegi\n",
    "    else:\n",
    "        print('error')\n",
    "else:\n",
    "    print('error')"
   ]
  },
  {
   "cell_type": "code",
   "execution_count": null,
   "metadata": {},
   "outputs": [],
   "source": [
    "# bilangan spesial akar\n",
    "import math\n",
    "bawah = int(input('masukkan batas bawah'))\n",
    "atas = int(input('masukkan batas atas: '))\n",
    "\n",
    "list_angka=[]\n",
    "for i in range(bawah, atas + 1):\n",
    "    list_angka.append(i)\n",
    "print(list_angka)\n",
    "\n",
    "bill = []\n",
    "for i in list_angka:\n",
    "    if math.sqrt(i) % 1==0:\n",
    "        bill.append(i)\n",
    "print(bill)"
   ]
  },
  {
   "cell_type": "code",
   "execution_count": null,
   "metadata": {},
   "outputs": [],
   "source": [
    "#soal 1\n",
    "import math\n",
    "bawah = int(input('masukkan batas bawah'))\n",
    "atas = int(input('masukkan batas atas: '))\n",
    "\n",
    "list_angka=[]\n",
    "for i in range(bawah, atas + 1):\n",
    "    list_angka.append(i)\n",
    "print(list_angka)\n",
    "\n",
    "bill_spesial = []\n",
    "for i in list_angka:\n",
    "    a = math.sqrt(i)\n",
    "    b = round(a)\n",
    "    if a==b:\n",
    "        bill_spesial.append(i)\n",
    "print(bill_spesial)"
   ]
  },
  {
   "cell_type": "code",
   "execution_count": null,
   "metadata": {},
   "outputs": [],
   "source": [
    "# menampilan 2 angka terakhir dari list\n",
    "def terakhir(list):\n",
    "    return list[-2::]\n",
    "\n",
    "terakhir([1,2,34,5,6])\n"
   ]
  },
  {
   "cell_type": "code",
   "execution_count": 3,
   "metadata": {},
   "outputs": [
    {
     "data": {
      "text/plain": [
       "62.83185307179586"
      ]
     },
     "execution_count": 3,
     "metadata": {},
     "output_type": "execute_result"
    }
   ],
   "source": [
    "# fungsi keliling lingkaran\n",
    "def keliling(jari):\n",
    "    import math\n",
    "    return 2*math.pi*jari\n",
    "keliling(10)"
   ]
  },
  {
   "cell_type": "code",
   "execution_count": 4,
   "metadata": {},
   "outputs": [
    {
     "data": {
      "text/plain": [
       "5.0"
      ]
     },
     "execution_count": 4,
     "metadata": {},
     "output_type": "execute_result"
    }
   ],
   "source": [
    "# fungsi mencari sisi miring segitiga siku-siku\n",
    "def miring(alas,tinggi):\n",
    "    import math\n",
    "    return math.sqrt(alas**2 + tinggi**2)\n",
    "miring(3,4)"
   ]
  },
  {
   "cell_type": "code",
   "execution_count": 14,
   "metadata": {},
   "outputs": [
    {
     "data": {
      "text/plain": [
       "['aku', 'mau', 'makan', 'sate']"
      ]
     },
     "execution_count": 14,
     "metadata": {},
     "output_type": "execute_result"
    }
   ],
   "source": [
    "# fungsi mengubah kalimat menjadi list kata\n",
    "def ubahlist(kalimat):\n",
    "    lis=[]\n",
    "    kalimat= kalimat.split()\n",
    "    for kata in kalimat:\n",
    "        lis.append(kata)\n",
    "    return lis\n",
    "ubahlist('aku mau makan sate')"
   ]
  },
  {
   "cell_type": "code",
   "execution_count": 6,
   "metadata": {},
   "outputs": [
    {
     "data": {
      "text/plain": [
       "['aku', 'mau', 'makan', 'sate']"
      ]
     },
     "execution_count": 6,
     "metadata": {},
     "output_type": "execute_result"
    }
   ],
   "source": [
    "def ubah(kal):\n",
    "    return kal.split()\n",
    "ubah('aku mau makan sate')"
   ]
  },
  {
   "cell_type": "markdown",
   "metadata": {},
   "source": []
  },
  {
   "cell_type": "code",
   "execution_count": 16,
   "metadata": {},
   "outputs": [
    {
     "data": {
      "text/plain": [
       "12.0"
      ]
     },
     "execution_count": 16,
     "metadata": {},
     "output_type": "execute_result"
    }
   ],
   "source": [
    "# fungsi mencari keliling jika diket alas dan tinggi\n",
    "def kelsegitiga(alas,tinggi):\n",
    "    return alas+tinggi+ miring(alas,tinggi)\n",
    "kelsegitiga(3,4)"
   ]
  },
  {
   "cell_type": "markdown",
   "metadata": {},
   "source": []
  },
  {
   "cell_type": "code",
   "execution_count": 1,
   "metadata": {},
   "outputs": [
    {
     "ename": "UnboundLocalError",
     "evalue": "cannot access local variable 'luas' where it is not associated with a value",
     "output_type": "error",
     "traceback": [
      "\u001b[1;31m---------------------------------------------------------------------------\u001b[0m",
      "\u001b[1;31mUnboundLocalError\u001b[0m                         Traceback (most recent call last)",
      "Cell \u001b[1;32mIn[1], line 5\u001b[0m\n\u001b[0;32m      3\u001b[0m     luas \u001b[38;5;241m+\u001b[39m\u001b[38;5;241m=\u001b[39m \u001b[38;5;241m3.14\u001b[39m \u001b[38;5;241m*\u001b[39mr\u001b[38;5;241m*\u001b[39mr\n\u001b[0;32m      4\u001b[0m     \u001b[38;5;28;01mreturn\u001b[39;00m luas\n\u001b[1;32m----> 5\u001b[0m luas_ling(\u001b[38;5;241m10\u001b[39m)\n",
      "Cell \u001b[1;32mIn[1], line 3\u001b[0m, in \u001b[0;36mluas_ling\u001b[1;34m(r)\u001b[0m\n\u001b[0;32m      2\u001b[0m \u001b[38;5;28;01mdef\u001b[39;00m \u001b[38;5;21mluas_ling\u001b[39m(r):\n\u001b[1;32m----> 3\u001b[0m     luas \u001b[38;5;241m+\u001b[39m\u001b[38;5;241m=\u001b[39m \u001b[38;5;241m3.14\u001b[39m \u001b[38;5;241m*\u001b[39mr\u001b[38;5;241m*\u001b[39mr\n\u001b[0;32m      4\u001b[0m     \u001b[38;5;28;01mreturn\u001b[39;00m luas\n",
      "\u001b[1;31mUnboundLocalError\u001b[0m: cannot access local variable 'luas' where it is not associated with a value"
     ]
    }
   ],
   "source": [
    "luas = 0\n",
    "def luas_ling(r):\n",
    "    luas += 3.14 *r*r\n",
    "    return luas\n",
    "luas_ling(10)"
   ]
  },
  {
   "cell_type": "code",
   "execution_count": null,
   "metadata": {},
   "outputs": [],
   "source": [
    "def sortingdes(list):\n",
    "    "
   ]
  },
  {
   "cell_type": "code",
   "execution_count": 7,
   "metadata": {},
   "outputs": [
    {
     "name": "stdout",
     "output_type": "stream",
     "text": [
      "[11, 12, 22, 25, 34, 64, 90]\n"
     ]
    }
   ],
   "source": [
    "def sortingdesbuble(list):\n",
    "    n = len(list)\n",
    "    for i in range(n - 1):\n",
    "        for j in range(0, n - i - 1):\n",
    "            if list[j] > list[j + 1]:  # Mengurutkan secara descending\n",
    "                list[j], list[j + 1] = list[j + 1], list[j]\n",
    "    return list\n",
    "\n",
    "# Contoh penggunaan:\n",
    "lis = [64, 34, 25, 12, 22, 11, 90]\n",
    "print(sortingdesbuble(lis))\n"
   ]
  },
  {
   "cell_type": "code",
   "execution_count": 11,
   "metadata": {},
   "outputs": [
    {
     "name": "stdout",
     "output_type": "stream",
     "text": [
      "[11, 12, 22, 25, 34, 64, 90]\n"
     ]
    }
   ],
   "source": [
    "def selection_sort_desc(arr):\n",
    "    n = len(arr)\n",
    "    for i in range(n):\n",
    "        max_idx = i\n",
    "        for j in range(i + 1, n):\n",
    "            if arr[j] < arr[max_idx]:\n",
    "                max_idx = j\n",
    "        arr[i], arr[max_idx] = arr[max_idx], arr[i]\n",
    "    return arr\n",
    "\n",
    "# Contoh penggunaan:\n",
    "ar = [64, 34, 25, 12, 22, 11, 90]\n",
    "print(selection_sort_desc(ar))\n",
    "\n"
   ]
  },
  {
   "cell_type": "code",
   "execution_count": null,
   "metadata": {},
   "outputs": [],
   "source": []
  }
 ],
 "metadata": {
  "kernelspec": {
   "display_name": "Python 3 (ipykernel)",
   "language": "python",
   "name": "python3"
  },
  "language_info": {
   "codemirror_mode": {
    "name": "ipython",
    "version": 3
   },
   "file_extension": ".py",
   "mimetype": "text/x-python",
   "name": "python",
   "nbconvert_exporter": "python",
   "pygments_lexer": "ipython3",
   "version": "3.11.5"
  }
 },
 "nbformat": 4,
 "nbformat_minor": 2
}
