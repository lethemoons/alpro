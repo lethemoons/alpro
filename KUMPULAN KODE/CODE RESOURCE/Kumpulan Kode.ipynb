{
 "cells": [
  {
   "cell_type": "markdown",
   "metadata": {},
   "source": [
    "### MENENTUKAN HARGA SETELAH DISKON"
   ]
  },
  {
   "cell_type": "code",
   "execution_count": 9,
   "metadata": {},
   "outputs": [
    {
     "name": "stdout",
     "output_type": "stream",
     "text": [
      "Harga akhir adalah =  80 RIBU RUPIAH\n"
     ]
    }
   ],
   "source": [
    "def diskon(price, diskon):\n",
    "    return int(price - (price * (diskon/100)))\n",
    "\n",
    "print (f'Harga akhir adalah =  {diskon(100, 20)} RIBU RUPIAH')"
   ]
  },
  {
   "cell_type": "code",
   "execution_count": 11,
   "metadata": {},
   "outputs": [
    {
     "name": "stdout",
     "output_type": "stream",
     "text": [
      "Jumlah kaki keseluruhan adalah 14\n"
     ]
    }
   ],
   "source": [
    "def jumlah_kaki(babi, ayam, sapi, domba):\n",
    "    return (babi*4 + ayam*2 + sapi*4 + domba*4)\n",
    "\n",
    "print(f'Jumlah kaki keseluruhan adalah', jumlah_kaki(1, 1, 1, 1))"
   ]
  },
  {
   "cell_type": "markdown",
   "metadata": {},
   "source": [
    "### KONVERSI RADIAN KE DERAJAT \n"
   ]
  },
  {
   "cell_type": "code",
   "execution_count": null,
   "metadata": {},
   "outputs": [
    {
     "name": "stdout",
     "output_type": "stream",
     "text": [
      "1130.9733552923256\n",
      "Nilai pi adalah = 3.141592653589793\n"
     ]
    }
   ],
   "source": [
    "import math\n",
    "pi = math.pi\n",
    "def radians_to_degrees(num):\n",
    "    return float(num * pi)\n",
    "\n",
    "print (radians_to_degrees(360))\n",
    "print('Nilai pi adalah =', pi)"
   ]
  },
  {
   "cell_type": "markdown",
   "metadata": {},
   "source": [
    "### Keliling Lingkaran > Keliling Persegi"
   ]
  },
  {
   "cell_type": "code",
   "execution_count": null,
   "metadata": {},
   "outputs": [
    {
     "name": "stdout",
     "output_type": "stream",
     "text": [
      "True\n",
      "False\n"
     ]
    }
   ],
   "source": [
    "import math \n",
    "pi = math.pi\n",
    "def circle_or_square(rad, area):\n",
    "    circumference = 2 * pi * rad\n",
    "    square = math.sqrt(area) * 4 \n",
    "    if circumference > square:\n",
    "        return(True)\n",
    "    else:\n",
    "        return(False)\n",
    "\n",
    "print(circle_or_square(16, 625))\n",
    "print(circle_or_square(5, 100))\n",
    "\n",
    "\n"
   ]
  },
  {
   "cell_type": "markdown",
   "metadata": {},
   "source": [
    "### MENCARI EKSPONEN JIKA DIKETAHUI HASIL DAN BASISNYA"
   ]
  },
  {
   "cell_type": "code",
   "execution_count": null,
   "metadata": {},
   "outputs": [
    {
     "name": "stdout",
     "output_type": "stream",
     "text": [
      "Pangkat nya adalah = 5\n"
     ]
    }
   ],
   "source": [
    "import math \n",
    "math.log\n",
    "def solve_for_exp(a, b):\n",
    "    return int(math.log(b, a))\n",
    "\n",
    "print('Pangkat nya adalah =', solve_for_exp(4, 1024))    "
   ]
  },
  {
   "cell_type": "markdown",
   "metadata": {},
   "source": [
    "### JUMLAHKAN ANGKA GANJIL DAN GENAP SENDIRI2"
   ]
  },
  {
   "cell_type": "code",
   "execution_count": null,
   "metadata": {},
   "outputs": [
    {
     "name": "stdout",
     "output_type": "stream",
     "text": [
      "[12, 9]\n"
     ]
    }
   ],
   "source": [
    "import math\n",
    "def sum_odd_and_even(list):\n",
    "    total = 0\n",
    "    sum = 0\n",
    "    for i in list: \n",
    "        if i % 2 == 0:\n",
    "            total += i \n",
    "        else:\n",
    "            sum += i\n",
    "    return [total, sum] \n",
    "\n",
    "print(sum_odd_and_even([1, 2, 3, 4, 5, 6, 0]))"
   ]
  },
  {
   "cell_type": "markdown",
   "metadata": {},
   "source": [
    "### Relation Name"
   ]
  },
  {
   "cell_type": "code",
   "execution_count": 24,
   "metadata": {},
   "outputs": [
    {
     "data": {
      "text/plain": [
       "'Luke, I am your brother in law.'"
      ]
     },
     "execution_count": 24,
     "metadata": {},
     "output_type": "execute_result"
    }
   ],
   "source": [
    "def relation_to_luke(name):\n",
    "    relation = {'Darth Vader':'father', 'Leia':'sister', 'Han': 'brother in law', 'R2D2':'droid'}\n",
    "    return (f'Luke, I am your {relation[name]}.')\n",
    "        \n",
    "relation_to_luke('Leia')\n",
    "relation_to_luke('Darth Vader')\n",
    "relation_to_luke('Han')"
   ]
  },
  {
   "cell_type": "markdown",
   "metadata": {},
   "source": [
    "### Count Damage"
   ]
  },
  {
   "cell_type": "code",
   "execution_count": 45,
   "metadata": {},
   "outputs": [
    {
     "name": "stdout",
     "output_type": "stream",
     "text": [
      "DAMAGE ANDA = 360000 WOWW ANDA SANGAT BERDAMAGE SEKALII\n"
     ]
    }
   ],
   "source": [
    "def damage(damage, speed, time):\n",
    "    if damage < 0 or speed < 0:\n",
    "        return 'invalid'\n",
    "    if time == 'second':\n",
    "        return damage * speed \n",
    "    elif time == 'minute':\n",
    "        return damage * speed * 60\n",
    "    elif time == 'hour':\n",
    "        return damage * speed * 3600\n",
    "    \n",
    "print('DAMAGE ANDA =', damage(20, 5,'hour'), 'WOWW ANDA SANGAT BERDAMAGE SEKALII')\n",
    "    \n",
    "    \n",
    "    "
   ]
  },
  {
   "cell_type": "markdown",
   "metadata": {},
   "source": [
    "### Mengecek Triple PYTHAGORAS"
   ]
  },
  {
   "cell_type": "code",
   "execution_count": 3,
   "metadata": {},
   "outputs": [
    {
     "data": {
      "text/plain": [
       "False"
      ]
     },
     "execution_count": 3,
     "metadata": {},
     "output_type": "execute_result"
    }
   ],
   "source": [
    "def is_triplet(n1, n2, n3):\n",
    "    a, b, c = sorted([n1, n2, n3])\n",
    "    if a**2 + b**2 == c**2:\n",
    "        return(True)\n",
    "    else:\n",
    "        return(False)\n",
    "\n",
    "\n",
    "is_triplet(12, 11, 5)"
   ]
  },
  {
   "cell_type": "markdown",
   "metadata": {},
   "source": [
    "### Time For Milk and Cookies DATE TRUE OR FALSE"
   ]
  },
  {
   "cell_type": "code",
   "execution_count": 1,
   "metadata": {},
   "outputs": [
    {
     "data": {
      "text/plain": [
       "True"
      ]
     },
     "execution_count": 1,
     "metadata": {},
     "output_type": "execute_result"
    }
   ],
   "source": [
    "def time_for_milk_and_cookies(tanggal, bulan, tahun):\n",
    "    if tanggal == 24 and bulan ==12 and tahun > 0:\n",
    "        return(True)\n",
    "    else:\n",
    "        return(False)\n",
    "\n",
    "time_for_milk_and_cookies(24, 12, 2000)"
   ]
  },
  {
   "cell_type": "markdown",
   "metadata": {},
   "source": [
    "### Find Perimeter Rectangel (keliling persegi)"
   ]
  },
  {
   "cell_type": "code",
   "execution_count": 11,
   "metadata": {},
   "outputs": [
    {
     "name": "stdout",
     "output_type": "stream",
     "text": [
      "Kelilingnya adalah = 12 cm\n"
     ]
    }
   ],
   "source": [
    "def find_perimeter(width,length):\n",
    "    return 2*(width+length)\n",
    "    \n",
    "print('Kelilingnya adalah =',find_perimeter(2,4), 'cm')"
   ]
  },
  {
   "cell_type": "markdown",
   "metadata": {},
   "source": [
    "### default mood"
   ]
  },
  {
   "cell_type": "code",
   "execution_count": 36,
   "metadata": {},
   "outputs": [
    {
     "data": {
      "text/plain": [
       "('Today, Im feeling', 'sad')"
      ]
     },
     "execution_count": 36,
     "metadata": {},
     "output_type": "execute_result"
    }
   ],
   "source": [
    "def mood_today(mood):\n",
    "    return (\"Today, Im feeling\", (mood))\n",
    "\n",
    "mood_today('sad')"
   ]
  },
  {
   "cell_type": "markdown",
   "metadata": {},
   "source": [
    "### Kalkulator Sederhana"
   ]
  },
  {
   "cell_type": "code",
   "execution_count": 45,
   "metadata": {},
   "outputs": [
    {
     "data": {
      "text/plain": [
       "'tidak bisa dikali dengan 0!'"
      ]
     },
     "execution_count": 45,
     "metadata": {},
     "output_type": "execute_result"
    }
   ],
   "source": [
    "def calculator(num1, operator, num2):\n",
    "    if operator =='+':\n",
    "        return num1 + num2\n",
    "    elif operator =='*' and num2 == 0:\n",
    "        return 'tidak bisa dikali dengan 0!'\n",
    "    elif oprator =='*':\n",
    "        return num1 * num2\n",
    "    elif operator == '/' and num2 == 0:\n",
    "        return 'tidak bisa dibagi dengan 0!'\n",
    "    elif operator == '/':\n",
    "        return num1 / num2\n",
    "\n",
    "calculator(2, '+', 6)\n",
    "calculator(3, '*', 0)"
   ]
  },
  {
   "cell_type": "code",
   "execution_count": 4,
   "metadata": {},
   "outputs": [
    {
     "data": {
      "text/plain": [
       "'babi'"
      ]
     },
     "execution_count": 4,
     "metadata": {},
     "output_type": "execute_result"
    }
   ],
   "source": [
    "def bool_to_string(flag):\n",
    "    return str(flag)\n",
    "\n",
    "bool_to_string('True')\n",
    "bool_to_string('babi')"
   ]
  },
  {
   "cell_type": "markdown",
   "metadata": {},
   "source": [
    "### menyebutkan angka pertama"
   ]
  },
  {
   "cell_type": "code",
   "execution_count": 10,
   "metadata": {},
   "outputs": [
    {
     "data": {
      "text/plain": [
       "4"
      ]
     },
     "execution_count": 10,
     "metadata": {},
     "output_type": "execute_result"
    }
   ],
   "source": [
    "def get_first_value(number_list):\n",
    "    return number_list[0]\n",
    "\n",
    "get_first_value([2, 4, 5])"
   ]
  },
  {
   "cell_type": "markdown",
   "metadata": {},
   "source": [
    "### hitung kaki hewan"
   ]
  },
  {
   "cell_type": "code",
   "execution_count": 13,
   "metadata": {},
   "outputs": [
    {
     "name": "stdout",
     "output_type": "stream",
     "text": [
      "Jumlah kaki keseluruhan adalah =  10\n"
     ]
    }
   ],
   "source": [
    "def animals_leg(chicken, cow, pig):\n",
    "    return chicken*2 + cow*4 + pig*4\n",
    "\n",
    "print('Jumlah kaki keseluruhan adalah = ', animals_leg(1, 1, 1))"
   ]
  },
  {
   "cell_type": "markdown",
   "metadata": {},
   "source": [
    "### menambahkan variabel"
   ]
  },
  {
   "cell_type": "code",
   "execution_count": 27,
   "metadata": {},
   "outputs": [
    {
     "data": {
      "text/plain": [
       "'AdindaPintar'"
      ]
     },
     "execution_count": 27,
     "metadata": {},
     "output_type": "execute_result"
    }
   ],
   "source": [
    "def assignment(name):\n",
    "    return (name +'Pintar')\n",
    "\n",
    "assignment('Adinda')"
   ]
  },
  {
   "cell_type": "code",
   "execution_count": 26,
   "metadata": {},
   "outputs": [
    {
     "name": "stdout",
     "output_type": "stream",
     "text": [
      "AdindaPintar sekali\n"
     ]
    }
   ],
   "source": [
    "nama = str(input('Masukkan Nama anda = '))\n",
    "x = nama + 'Pintar sekali'\n",
    "print(x)"
   ]
  },
  {
   "cell_type": "code",
   "execution_count": 29,
   "metadata": {},
   "outputs": [
    {
     "data": {
      "text/plain": [
       "7260"
      ]
     },
     "execution_count": 29,
     "metadata": {},
     "output_type": "execute_result"
    }
   ],
   "source": [
    "def convert_hour_to_second(hour, minute):\n",
    "    return hour*3600 + minute*60\n",
    "\n",
    "convert_hour_to_second(2, 1)\n"
   ]
  },
  {
   "cell_type": "code",
   "execution_count": 2,
   "metadata": {},
   "outputs": [
    {
     "data": {
      "text/plain": [
       "5"
      ]
     },
     "execution_count": 2,
     "metadata": {},
     "output_type": "execute_result"
    }
   ],
   "source": [
    "def func(n):\n",
    "    if n < 0:\n",
    "        print('Incorrect input')\n",
    "    elif n == 0:\n",
    "        return 0\n",
    "    elif n == 1 or n == 2:\n",
    "        return 1\n",
    "    else:\n",
    "        return func(n - 1) + func(n - 2)\n",
    "\n",
    "func(5)"
   ]
  },
  {
   "cell_type": "markdown",
   "metadata": {},
   "source": [
    "### Mnghitung faktorial \n",
    "#### rumus N!"
   ]
  },
  {
   "cell_type": "code",
   "execution_count": 1,
   "metadata": {},
   "outputs": [
    {
     "name": "stdout",
     "output_type": "stream",
     "text": [
      "Factorial of 5 is :  120\n"
     ]
    }
   ],
   "source": [
    "n = input('Input a Number')\n",
    "factorial = 1\n",
    "if int(n) >= 1:\n",
    "    for i in range (1, int(n)+1):\n",
    "        factorial = factorial * i\n",
    "    print('Factorial of', n, 'is : ', factorial)"
   ]
  },
  {
   "cell_type": "markdown",
   "metadata": {},
   "source": [
    "### Menghitung banyak huruf vokal"
   ]
  },
  {
   "cell_type": "code",
   "execution_count": 18,
   "metadata": {},
   "outputs": [
    {
     "data": {
      "text/plain": [
       "4"
      ]
     },
     "execution_count": 18,
     "metadata": {},
     "output_type": "execute_result"
    }
   ],
   "source": [
    "def vowel(ch):\n",
    "    return ch.upper() in ['A', 'I', 'U', 'E', 'O']\n",
    "    \n",
    "def count_vowels(str):\n",
    "    count = 0\n",
    "    for i in range(len(str)):\n",
    "        if vowel(str[i]):\n",
    "            count += 1\n",
    "    return count\n",
    "\n",
    "count_vowels('AKUBISA')"
   ]
  },
  {
   "cell_type": "code",
   "execution_count": 19,
   "metadata": {},
   "outputs": [
    {
     "data": {
      "text/plain": [
       "0"
      ]
     },
     "execution_count": 19,
     "metadata": {},
     "output_type": "execute_result"
    }
   ],
   "source": [
    "def hitung_vokal(str):\n",
    "    vokal = 0\n",
    "    for i in str:\n",
    "        if i in 'aiueoAIUEO':\n",
    "            vokal += 1\n",
    "    return vokal\n",
    "\n",
    "hitung_vokal('wkwkwkw')"
   ]
  },
  {
   "cell_type": "code",
   "execution_count": 23,
   "metadata": {},
   "outputs": [
    {
     "name": "stdout",
     "output_type": "stream",
     "text": [
      "Kalimat = aku mau makan ayam\n",
      "Jumlah Huruf Vokal adalah =  8\n"
     ]
    }
   ],
   "source": [
    "kata = input('Masukkan Kata = ')\n",
    "print('Kalimat =', kata)\n",
    "vokal = 0\n",
    "for i in kata:\n",
    "    if i in 'aiueoAIUEO':\n",
    "        vokal += 1\n",
    "print('Jumlah Huruf Vokal adalah = ', vokal)     "
   ]
  },
  {
   "cell_type": "markdown",
   "metadata": {},
   "source": [
    "### Menghitung banyak angka/huruf"
   ]
  },
  {
   "cell_type": "code",
   "execution_count": 17,
   "metadata": {},
   "outputs": [
    {
     "data": {
      "text/plain": [
       "7"
      ]
     },
     "execution_count": 17,
     "metadata": {},
     "output_type": "execute_result"
    }
   ],
   "source": [
    "def number_length(num):\n",
    "    return len(str(num))\n",
    "\n",
    "def number_length1(num):\n",
    "    a = 0\n",
    "    for i in str(num):\n",
    "        a += 1\n",
    "    return a\n",
    "\n",
    "number_length1('akubisa')"
   ]
  },
  {
   "cell_type": "markdown",
   "metadata": {},
   "source": [
    "### 1. deteksi huruf"
   ]
  },
  {
   "cell_type": "code",
   "execution_count": 6,
   "metadata": {},
   "outputs": [
    {
     "name": "stdout",
     "output_type": "stream",
     "text": [
      "vokal\n"
     ]
    }
   ],
   "source": [
    "def huruf_apa(str):\n",
    "    if str in 'aiueoAIUEO':\n",
    "        return ('vokal')\n",
    "    else:\n",
    "        return ('konsonan')\n",
    "    \n",
    "huruf = str(input('Masukkan Huruf= '))\n",
    "if huruf == 'a' or 'A':\n",
    "    print('vokal')\n",
    "elif huruf == 'i' or 'I':\n",
    "    print('vokal')\n",
    "elif huruf == 'u' or 'U':\n",
    "    print('vokal')\n",
    "elif huruf == 'e' or 'E':\n",
    "    print('vokal')\n",
    "elif huruf == 'o' or 'O':\n",
    "    print('vokal')\n",
    "else:\n",
    "    print('konsonan')\n",
    "\n",
    "\n",
    "\n",
    "\n"
   ]
  },
  {
   "cell_type": "markdown",
   "metadata": {},
   "source": [
    "### 2. konversi nilai"
   ]
  },
  {
   "cell_type": "code",
   "execution_count": 58,
   "metadata": {},
   "outputs": [
    {
     "name": "stdout",
     "output_type": "stream",
     "text": [
      "Masukkan nilai anda = 12\n",
      "Nilai = E\n"
     ]
    }
   ],
   "source": [
    "def nilai(num:int):\n",
    "    if num > 100:\n",
    "        return ('Nilai yang dimasukkan salah')\n",
    "    elif num >= 86:\n",
    "        return ('A')\n",
    "    elif num >= 78:\n",
    "        return ('B')\n",
    "    elif num >= 68:\n",
    "        return ('C')\n",
    "    elif num >= 55:\n",
    "        return ('D')\n",
    "    else:\n",
    "        return ('E')\n",
    "\n",
    "a = int(input('Masukkan nilai anda = ')) \n",
    "print('Nilai =', nilai(a))"
   ]
  },
  {
   "cell_type": "markdown",
   "metadata": {},
   "source": [
    "### 3. membandingkan 2 bilangan"
   ]
  },
  {
   "cell_type": "code",
   "execution_count": 8,
   "metadata": {},
   "outputs": [
    {
     "data": {
      "text/plain": [
       "'Bilangan 1 lebih besar dari Bilangan 2'"
      ]
     },
     "execution_count": 8,
     "metadata": {},
     "output_type": "execute_result"
    }
   ],
   "source": [
    "def besar_mana (num1,num2):\n",
    "    if num1 > num2:\n",
    "        return ('Bilangan 1 lebih besar dari Bilangan 2')\n",
    "    elif num1 < num2:\n",
    "        return ('Bilangan 1 lebih kecil dari Bilangan 2')\n",
    "    elif num1 == num2:\n",
    "        return ('Bilangan sama besarnya')\n",
    "    else:\n",
    "        return ('Error')\n",
    "besar_mana(9,2)\n",
    "\n",
    "\n",
    "\n"
   ]
  },
  {
   "cell_type": "markdown",
   "metadata": {},
   "source": [
    "### 4. perulangan bilangan +2"
   ]
  },
  {
   "cell_type": "code",
   "execution_count": 44,
   "metadata": {},
   "outputs": [
    {
     "name": "stdout",
     "output_type": "stream",
     "text": [
      "Masukkan bilangan awal =1\n",
      "Masukkan banyak bilangan =6\n",
      "[1, 3, 5, 7, 9, 11]\n"
     ]
    }
   ],
   "source": [
    "def ulang():\n",
    "    a = int(input('Masukkan bilangan awal ='))\n",
    "    b = int(input('Masukkan banyak bilangan ='))\n",
    "    list=[]\n",
    "    for i in range (b):\n",
    "        list.append(a)\n",
    "        a = a+2\n",
    "    print(list)\n",
    "\n",
    "ulang()\n",
    "    "
   ]
  },
  {
   "cell_type": "code",
   "execution_count": null,
   "metadata": {},
   "outputs": [],
   "source": []
  },
  {
   "cell_type": "code",
   "execution_count": 42,
   "metadata": {},
   "outputs": [
    {
     "name": "stdout",
     "output_type": "stream",
     "text": [
      "Masukkan bilangan awal =1\n",
      "Masukkan banyak bilangan =6\n",
      "1, 3, 5, 7, 9, 11, "
     ]
    }
   ],
   "source": [
    "def perulangan_angka():\n",
    "    a = int(input('Masukkan bilangan awal ='))\n",
    "    b = int(input('Masukkan banyak bilangan ='))\n",
    "\n",
    "    i = 0\n",
    "    while i < b:\n",
    "        print(a, end=', ')\n",
    "        a += 2\n",
    "        i += 1\n",
    "    \n",
    "perulangan_angka()\n",
    "    "
   ]
  },
  {
   "cell_type": "markdown",
   "metadata": {},
   "source": [
    "### 5. menampilkan bilangan prima"
   ]
  },
  {
   "cell_type": "code",
   "execution_count": 7,
   "metadata": {},
   "outputs": [
    {
     "name": "stdout",
     "output_type": "stream",
     "text": [
      "Hasil: [2, 3, 5, 7, 11] "
     ]
    }
   ],
   "source": [
    "def is_prima(x):\n",
    "    for i in range(2, x):\n",
    "        if x % i == 0:\n",
    "            return False\n",
    "    return True\n",
    "\n",
    "def cari_bilangan_prima(n):\n",
    "    list_bilangan_prima = []\n",
    "    i = 2\n",
    "    while len(list_bilangan_prima) < n:\n",
    "        if is_prima(i):\n",
    "            list_bilangan_prima.append(i)\n",
    "        i += 1\n",
    "    return list_bilangan_prima\n",
    "\n",
    "n = int(input(\"Total bilangan prima: \"))\n",
    "hasil = cari_bilangan_prima(n)\n",
    "print(\"Hasil:\",hasil, end=\" \")\n",
    "\n",
    "\n",
    "    "
   ]
  },
  {
   "cell_type": "code",
   "execution_count": 3,
   "metadata": {},
   "outputs": [
    {
     "data": {
      "text/plain": [
       "False"
      ]
     },
     "execution_count": 3,
     "metadata": {},
     "output_type": "execute_result"
    }
   ],
   "source": [
    "def is_prima(x):\n",
    "    for i in range(2, x):\n",
    "        if x % i == 0:\n",
    "            return False\n",
    "    return True\n",
    "is_prima(4)"
   ]
  },
  {
   "cell_type": "code",
   "execution_count": 19,
   "metadata": {},
   "outputs": [
    {
     "name": "stdout",
     "output_type": "stream",
     "text": [
      "2\n",
      "3\n"
     ]
    }
   ],
   "source": [
    "#menampilkan bilangan prima dibawah angka yang di input\n",
    "\n",
    "def cek_bilangan_prima(jumlah: int): \n",
    "    count = 0\n",
    "    for i in range(2, jumlah):\n",
    "        if i > 1:\n",
    "            for j in range(2, i):\n",
    "                if i % j == 0:\n",
    "                    break\n",
    "            else:\n",
    "                print(i)\n",
    "                count += 1\n",
    "        if count == jumlah:\n",
    "            break\n",
    "\n",
    "cek_bilangan_prima(5)"
   ]
  },
  {
   "cell_type": "code",
   "execution_count": 37,
   "metadata": {},
   "outputs": [
    {
     "name": "stdout",
     "output_type": "stream",
     "text": [
      "2, 3, 5, "
     ]
    }
   ],
   "source": [
    "def cek_bilangan_prima1(jumlah: int) -> None:\n",
    "    bilangan = 2\n",
    "    count = 0\n",
    "    while count < jumlah:\n",
    "        is_prime = True\n",
    "        for i in range(2, bilangan):\n",
    "            if bilangan % i == 0:\n",
    "                is_prime = False\n",
    "        if is_prime:\n",
    "            print(bilangan, end=', ')\n",
    "            count += 1\n",
    "        bilangan += 1\n",
    "\n",
    "cek_bilangan_prima1(3)"
   ]
  },
  {
   "cell_type": "code",
   "execution_count": 46,
   "metadata": {},
   "outputs": [
    {
     "data": {
      "text/plain": [
       "False"
      ]
     },
     "execution_count": 46,
     "metadata": {},
     "output_type": "execute_result"
    }
   ],
   "source": [
    "def apakahprima(x):\n",
    "    if x == 1:\n",
    "        return False\n",
    "    for i in range (2, x):\n",
    "        if x%i == 0:\n",
    "            return False\n",
    "    return True\n",
    "\n",
    "x= int(input('Masukkan bilangan'))\n",
    "apakahprima(x)\n"
   ]
  },
  {
   "cell_type": "code",
   "execution_count": 58,
   "metadata": {},
   "outputs": [
    {
     "name": "stdout",
     "output_type": "stream",
     "text": [
      "7\n",
      "8\n",
      "10\n",
      "13\n",
      "17\n",
      "22\n"
     ]
    }
   ],
   "source": [
    "n= int(input('masukkan angka'))\n",
    "fibo = 1\n",
    "for i in range(fibo,n):\n",
    "    print (n)\n",
    "    n = n+i"
   ]
  },
  {
   "cell_type": "code",
   "execution_count": 69,
   "metadata": {},
   "outputs": [
    {
     "name": "stdout",
     "output_type": "stream",
     "text": [
      "[1, 1, 2, 3, 5, 8]\n"
     ]
    }
   ],
   "source": [
    "def fibonacci(n):\n",
    "    if n <= 1:\n",
    "        return n\n",
    "    else:\n",
    "        return fibonacci(n-1) + fibonacci(n-2)\n",
    "    \n",
    "fibo= int(input('masukkan banyak deret bilangan fibonacci'))\n",
    "list=[]\n",
    "if fibo <= 0:\n",
    "    print('harus bilangan positif')\n",
    "else:\n",
    "    for i in range(1,fibo+1):\n",
    "        list.append(fibonacci(i)) \n",
    "    print(list)"
   ]
  },
  {
   "cell_type": "code",
   "execution_count": 78,
   "metadata": {},
   "outputs": [
    {
     "name": "stdout",
     "output_type": "stream",
     "text": [
      "[1, 1, 2, 3, 5]\n"
     ]
    }
   ],
   "source": [
    "angka=int(input('masukkan banyak deret'))\n",
    "list=[]\n",
    "\n",
    "if angka <= 0:\n",
    "    print(\"Masukkan bilangan positif\")\n",
    "else:\n",
    "    n1, n2 = 1, 1\n",
    "    count = 0\n",
    "    while count < angka:\n",
    "        list.append(n1)\n",
    "        nth = n1 + n2\n",
    "        n1 = n2\n",
    "        n2 = nth\n",
    "        count += 1\n",
    "    print(list)\n"
   ]
  },
  {
   "cell_type": "code",
   "execution_count": 77,
   "metadata": {},
   "outputs": [
    {
     "name": "stdout",
     "output_type": "stream",
     "text": [
      "[1, 1, 2, 3, 5, 8]\n"
     ]
    }
   ],
   "source": [
    "n = int(input())\n",
    "fibonaci =[1,1]\n",
    "for i in range(3, n+1):\n",
    "    bil_fibonaci= fibonaci[-1] + fibonaci[-2]\n",
    "    fibonaci.append(bil_fibonaci)\n",
    "print(fibonaci)"
   ]
  },
  {
   "cell_type": "code",
   "execution_count": 7,
   "metadata": {},
   "outputs": [
    {
     "name": "stdout",
     "output_type": "stream",
     "text": [
      "Masukkan NIM mahasiswa 164231042\n",
      "mahasiswa tsd\n"
     ]
    }
   ],
   "source": [
    "nim = str(input('Masukkan NIM mahasiswa '))\n",
    "tsd = 164\n",
    "te = 163\n",
    "ti = 161\n",
    "rn = 162\n",
    "\n",
    "if nim[0:3] == str(161):\n",
    "    print('mahasiswa ti')\n",
    "elif nim[0:3] == str(162):\n",
    "    print('mahasiswa rn')\n",
    "elif nim[0:3] == str(163):\n",
    "    print('mahasiswa te')\n",
    "elif nim[0:3] == str(164):\n",
    "    print('mahasiswa tsd')\n"
   ]
  },
  {
   "cell_type": "code",
   "execution_count": 26,
   "metadata": {},
   "outputs": [
    {
     "name": "stdout",
     "output_type": "stream",
     "text": [
      "1\n",
      "3\n",
      "6\n",
      "10\n",
      "15\n",
      "\n"
     ]
    }
   ],
   "source": [
    "i = 1\n",
    "y = 1\n",
    "n = 5\n",
    "while i <= n:\n",
    "    x = y\n",
    "    z = x\n",
    "    print(z)\n",
    "    i += 1\n",
    "    y = z + i\n",
    "print()"
   ]
  },
  {
   "cell_type": "code",
   "execution_count": 40,
   "metadata": {},
   "outputs": [
    {
     "name": "stdout",
     "output_type": "stream",
     "text": [
      "Masukkan tinggi segitiga: 5\n",
      "    1\n",
      "   121\n",
      "  12321\n",
      " 1234321\n",
      "123454321\n"
     ]
    }
   ],
   "source": [
    "tinggi = int(input(\"Masukkan tinggi segitiga: \"))\n",
    "\n",
    "for i in range(1, tinggi + 1):\n",
    "    for z in range(tinggi-i):\n",
    "        print(' ', end='')\n",
    "    for j in range(1, i + 1):\n",
    "        print(j, end=\"\")\n",
    "    for x in range(i - 1, 0, -1):\n",
    "        print(x, end='')\n",
    "    print()\n"
   ]
  },
  {
   "cell_type": "code",
   "execution_count": 32,
   "metadata": {},
   "outputs": [
    {
     "name": "stdout",
     "output_type": "stream",
     "text": [
      "Masukkan tinggi segitiga: 5\n",
      "    1\n",
      "   121\n",
      "  12321\n",
      " 1234321\n",
      "123454321\n"
     ]
    }
   ],
   "source": [
    "def print_segitiga_sama_sisi(n):\n",
    "    for i in range(1, n + 1):\n",
    "        # Spasi sebelum angka\n",
    "        for j in range(n - i):\n",
    "            print(\" \", end=\"\")\n",
    "        # Menuliskan angka urut (segitiga kiri)\n",
    "        for k in range(1, i + 1):\n",
    "            print(k, end=\"\")\n",
    "        # Menuliskan angka urut (segitiga kanan)\n",
    "        for l in range(i - 1, 0, -1):\n",
    "            print(l, end=\"\")\n",
    "        # Menambah baris baru setelah setiap baris angka selesai\n",
    "        print()\n",
    "\n",
    "# Meminta input dari pengguna untuk tinggi segitiga\n",
    "tinggi = int(input(\"Masukkan tinggi segitiga: \"))\n",
    "\n",
    "# Memanggil fungsi untuk menampilkan segitiga sama sisi\n",
    "print_segitiga_sama_sisi(tinggi)\n"
   ]
  },
  {
   "cell_type": "code",
   "execution_count": 47,
   "metadata": {},
   "outputs": [
    {
     "name": "stdout",
     "output_type": "stream",
     "text": [
      "0\n",
      "4\n",
      "1.0\n"
     ]
    }
   ],
   "source": [
    "fx= 1 + x +\n",
    "x = float(input())\n",
    "n = int(input())\n",
    "fx = 1\n",
    "\n",
    "for i in range(1,n+1):\n",
    "    fx += x**i\n",
    "print(fx)"
   ]
  },
  {
   "cell_type": "code",
   "execution_count": 48,
   "metadata": {},
   "outputs": [
    {
     "name": "stdout",
     "output_type": "stream",
     "text": [
      "2\n"
     ]
    }
   ],
   "source": [
    "T=[2, 4, 5, -2, -5]\n",
    "\n",
    "count = 0\n",
    "for i in range(n):\n",
    "    if T[i] > 0 and T[i] % 2 ==0:\n",
    "        count += 1\n",
    "print(count)"
   ]
  },
  {
   "cell_type": "code",
   "execution_count": 51,
   "metadata": {},
   "outputs": [
    {
     "name": "stdout",
     "output_type": "stream",
     "text": [
      "44\n",
      "55\n",
      "66\n",
      "56\n",
      "65\n",
      "berat badan terbesar adalah 66\n"
     ]
    }
   ],
   "source": [
    "n = 5\n",
    "berat_BB =[ 0 for i in range(n)]\n",
    "\n",
    "for i in range(n):\n",
    "    berat_BB[i]=int(input())\n",
    "\n",
    "max= berat_BB[0]\n",
    "for i in range(n):\n",
    "    if berat_BB[i]>max:\n",
    "        max = berat_BB[i]\n",
    "print('berat badan terbesar adalah', max)\n",
    "\n",
    "X = int(input('masukkan berat badan'))\n",
    "count=0\n",
    "for i in range(n):\n",
    "    if berat="
   ]
  },
  {
   "cell_type": "markdown",
   "metadata": {},
   "source": [
    "x = int(input('masukkan x: '))"
   ]
  },
  {
   "cell_type": "code",
   "execution_count": null,
   "metadata": {},
   "outputs": [],
   "source": [
    "x = int(input('Masukkan angka= '))\n",
    "if x%2 == 0 and x%5 == 0:\n",
    "    print('bilangan yang dimasukkan salah')\n",
    "else:\n",
    "    a = True\n",
    "    b = 1\n",
    "    while a:\n",
    "        for element in range(1,10):\n",
    "            AC = int(str(element)*b)\n",
    "            if AC % x == 0:\n",
    "                print(f\"bilangan terkecil yang habis dibagi{x}adalah {AC}\")\n",
    "                a = False\n",
    "                break\n",
    "        b += 1\n"
   ]
  },
  {
   "cell_type": "code",
   "execution_count": 54,
   "metadata": {},
   "outputs": [
    {
     "name": "stdout",
     "output_type": "stream",
     "text": [
      "masukkan angka5\n",
      "    *\n",
      "   ***\n",
      "  *****\n",
      " *******\n",
      "*********\n"
     ]
    }
   ],
   "source": [
    "t = int(input('masukkan angka'))\n",
    "for i in range (1, t+1):\n",
    "    print((t-i)* \" \"+ (2*i-1)*'*')"
   ]
  },
  {
   "cell_type": "code",
   "execution_count": 59,
   "metadata": {},
   "outputs": [
    {
     "name": "stdout",
     "output_type": "stream",
     "text": [
      "Masukkan password= opoo\n",
      "salah, coba lagi\n",
      "Masukkan password= ijkk\n",
      "salah, coba lagi\n",
      "Masukkan password= jdjd\n",
      "salah, coba lagi\n",
      "Kesempatan anda habis, coba lagi besok\n"
     ]
    }
   ],
   "source": [
    "password = 'pengpromudah'\n",
    "\n",
    "attempt = 1\n",
    "\n",
    "while (attempt<=3):\n",
    "    a = input('Masukkan password= ')\n",
    "    if a == password:\n",
    "        print('Selamat datang kembali')\n",
    "        break\n",
    "    else:\n",
    "        print('salah, coba lagi')\n",
    "        attempt += 1\n",
    "else:\n",
    "    print('Kesempatan anda habis, coba lagi besok')\n",
    "    "
   ]
  },
  {
   "cell_type": "code",
   "execution_count": 3,
   "metadata": {},
   "outputs": [
    {
     "ename": "NameError",
     "evalue": "name 'i' is not defined",
     "output_type": "error",
     "traceback": [
      "\u001b[1;31m---------------------------------------------------------------------------\u001b[0m",
      "\u001b[1;31mNameError\u001b[0m                                 Traceback (most recent call last)",
      "Cell \u001b[1;32mIn[3], line 2\u001b[0m\n\u001b[0;32m      1\u001b[0m var\u001b[38;5;241m=\u001b[39m [\u001b[38;5;241m1\u001b[39m,\u001b[38;5;241m2\u001b[39m,\u001b[38;5;241m3\u001b[39m,\u001b[38;5;241m4\u001b[39m]\n\u001b[1;32m----> 2\u001b[0m \u001b[38;5;28mprint\u001b[39m(var[\u001b[43mi\u001b[49m])\n",
      "\u001b[1;31mNameError\u001b[0m: name 'i' is not defined"
     ]
    }
   ],
   "source": [
    "# 1. Class Animal\n",
    "class Animal:\n",
    "    def __init__(self, name, age, species):\n",
    "        self.name = name\n",
    "        self.age = age\n",
    "        self.species = species\n",
    "\n",
    "# 2. Class Cat (turunan dari Animal)\n",
    "class Cat(Animal):\n",
    "    def deskripsi(self):\n",
    "        return f\"{self.name} adalah kucing berjenis {self.species} yang sudah berumur {self.age} tahun\"\n",
    "\n",
    "    def suara(self):\n",
    "        return \"meow!\"\n",
    "\n",
    "# 3. Membuat instance dari kelas Cat\n",
    "myCat = Cat(name=\"Neko\", age=3, species=\"Persian\")\n",
    "\n",
    "# Contoh penggunaan\n",
    "print(myCat.deskripsi())  # Output: Neko adalah kucing berjenis Persian yang sudah berumur 3 tahun\n",
    "print(myCat.suara())      # Output: meow!\n"
   ]
  }
 ],
 "metadata": {
  "kernelspec": {
   "display_name": "Python 3 (ipykernel)",
   "language": "python",
   "name": "python3"
  },
  "language_info": {
   "codemirror_mode": {
    "name": "ipython",
    "version": 3
   },
   "file_extension": ".py",
   "mimetype": "text/x-python",
   "name": "python",
   "nbconvert_exporter": "python",
   "pygments_lexer": "ipython3",
   "version": "3.8.18"
  }
 },
 "nbformat": 4,
 "nbformat_minor": 2
}
