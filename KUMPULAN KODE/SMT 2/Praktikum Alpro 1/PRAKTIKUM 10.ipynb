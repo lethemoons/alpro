{
 "cells": [
  {
   "cell_type": "code",
   "execution_count": 9,
   "metadata": {},
   "outputs": [],
   "source": [
    "#stack\n",
    "prakStack = []\n",
    "stackMAX = 5 \n",
    "\n",
    "def pushStack(elemen):\n",
    "    if len(prakStack) < stackMAX:\n",
    "        prakStack.append(elemen)\n",
    "    else:\n",
    "        print('stack penuh, keluarkan isisnya atau pilih stack lain')\n",
    "\n",
    "\n",
    "def intipStack():\n",
    "    return(prakStack[-1])\n",
    "\n",
    "def popStack():\n",
    "    if len(prakStack)>0:\n",
    "        print(prakStack[-1])\n",
    "        return prakStack.pop()\n",
    "    else:\n",
    "        print('Stack kosong!')\n",
    "\n",
    "pushStack('barang jadi')\n",
    "pushStack('bahan mentah')\n",
    "pushStack('dress')\n",
    "pushStack('kemeja')\n",
    "pushStack('satu box sepatu')\n"
   ]
  },
  {
   "cell_type": "code",
   "execution_count": 3,
   "metadata": {},
   "outputs": [
    {
     "name": "stdout",
     "output_type": "stream",
     "text": [
      "['barang jadi', 'bahan mentah', 'dress', 'kemeja', 'satu box sepatu']\n"
     ]
    }
   ],
   "source": [
    "print(prakStack)"
   ]
  },
  {
   "cell_type": "code",
   "execution_count": 10,
   "metadata": {},
   "outputs": [
    {
     "name": "stdout",
     "output_type": "stream",
     "text": [
      "satu box sepatu\n",
      "kemeja\n",
      "dress\n",
      "bahan mentah\n",
      "barang jadi\n"
     ]
    },
    {
     "data": {
      "text/plain": [
       "'barang jadi'"
      ]
     },
     "execution_count": 10,
     "metadata": {},
     "output_type": "execute_result"
    }
   ],
   "source": [
    "popStack()\n",
    "popStack()\n",
    "popStack()\n",
    "popStack()\n",
    "popStack()"
   ]
  },
  {
   "cell_type": "code",
   "execution_count": 11,
   "metadata": {},
   "outputs": [
    {
     "name": "stdout",
     "output_type": "stream",
     "text": [
      "[]\n"
     ]
    }
   ],
   "source": [
    "print(prakStack)"
   ]
  },
  {
   "cell_type": "code",
   "execution_count": 1,
   "metadata": {},
   "outputs": [],
   "source": [
    "#queue\n",
    "queue=[]\n",
    "maxQueue=3\n",
    "\n",
    "def enqueue(elemen):\n",
    "    if len(queue)<maxQueue:\n",
    "        queue.insert(0,elemen)\n",
    "    else:\n",
    "        print('antrian penuh')\n",
    "\n",
    "def dequeue():\n",
    "    if len(queue)>0:\n",
    "        print(queue[-1])\n",
    "        return queue.pop()\n",
    "    else:\n",
    "        print('ANTRIAN KOSONH!')\n",
    "\n",
    "\n"
   ]
  },
  {
   "cell_type": "code",
   "execution_count": 2,
   "metadata": {},
   "outputs": [],
   "source": [
    "enqueue(1)"
   ]
  },
  {
   "cell_type": "code",
   "execution_count": 3,
   "metadata": {},
   "outputs": [],
   "source": [
    "enqueue(2)"
   ]
  },
  {
   "cell_type": "code",
   "execution_count": 4,
   "metadata": {},
   "outputs": [],
   "source": [
    "enqueue(3)"
   ]
  },
  {
   "cell_type": "code",
   "execution_count": 23,
   "metadata": {},
   "outputs": [
    {
     "name": "stdout",
     "output_type": "stream",
     "text": [
      "2\n"
     ]
    },
    {
     "data": {
      "text/plain": [
       "2"
      ]
     },
     "execution_count": 23,
     "metadata": {},
     "output_type": "execute_result"
    }
   ],
   "source": [
    "dequeue()"
   ]
  },
  {
   "cell_type": "code",
   "execution_count": 21,
   "metadata": {},
   "outputs": [],
   "source": [
    "enqueue(9)"
   ]
  },
  {
   "cell_type": "code",
   "execution_count": 5,
   "metadata": {},
   "outputs": [
    {
     "name": "stdout",
     "output_type": "stream",
     "text": [
      "[3, 2, 1]\n"
     ]
    }
   ],
   "source": [
    "print(queue)"
   ]
  },
  {
   "cell_type": "code",
   "execution_count": 15,
   "metadata": {},
   "outputs": [],
   "source": [
    "#tree\n",
    "#membuat tree\n",
    "class Node:\n",
    "    def __init__ (self, isi):\n",
    "        self.isi= isi\n",
    "        self.anak = []\n",
    "    def preorder(self, root, result=None):\n",
    "        if result is None:\n",
    "            result= []\n",
    "            print(f'{root.isi} adalah root')\n",
    "        if root:\n",
    "            result.append(root.isi)\n",
    "            if len(root.anak)== 0:\n",
    "                print(f'{root.isi} adalah leaf')\n",
    "            for i in root.anak:\n",
    "                self.preorder(i,result)\n",
    "        \n",
    "        return result\n",
    "\n",
    "utama = Node('A')\n",
    "utama.anak.append(Node('B'))\n",
    "utama.anak.append(Node('C'))\n",
    "utama.anak.append(Node('D'))\n",
    "utama.anak.append(Node('E'))\n",
    "utama.anak[1].anak.append(Node('F'))\n",
    "utama.anak[1].anak.append(Node('G'))\n",
    "utama.anak[3].anak.append(Node('H'))"
   ]
  },
  {
   "cell_type": "code",
   "execution_count": 16,
   "metadata": {},
   "outputs": [
    {
     "name": "stdout",
     "output_type": "stream",
     "text": [
      "A adalah root\n",
      "B adalah leaf\n",
      "F adalah leaf\n",
      "G adalah leaf\n",
      "D adalah leaf\n",
      "H adalah leaf\n"
     ]
    },
    {
     "data": {
      "text/plain": [
       "['A', 'B', 'C', 'F', 'G', 'D', 'E', 'H']"
      ]
     },
     "execution_count": 16,
     "metadata": {},
     "output_type": "execute_result"
    }
   ],
   "source": [
    "utama.preorder(utama) #jika ada fungsi ada self dalam class, manggil harus nama class->fungsi\n"
   ]
  },
  {
   "cell_type": "code",
   "execution_count": null,
   "metadata": {},
   "outputs": [],
   "source": [
    "class Stack:\n",
    "    def __init__(self):\n",
    "        self.stack = []\n",
    "\n",
    "    def push(self, char):\n",
    "        self.stack.append(char)\n",
    "\n",
    "    def pop(self):\n",
    "        if self.is_empty():\n",
    "            return None\n",
    "        else:\n",
    "            return self.stack.pop()\n",
    "\n",
    "    def is_empty(self):\n",
    "        return len(self.stack) == 0\n"
   ]
  },
  {
   "cell_type": "code",
   "execution_count": null,
   "metadata": {},
   "outputs": [],
   "source": [
    "class Pembalik:\n",
    "    def __init__(self, input_str):\n",
    "        self.input_str = input_str\n",
    "        self.output_str = \"\"\n",
    "\n",
    "    def balik_kata(self):\n",
    "        stack = Stack()\n",
    "        for char in self.input_str:\n",
    "            stack.push(char)\n",
    "\n",
    "        while not stack.is_empty():\n",
    "            self.output_str += stack.pop()\n",
    "\n",
    "    def get_output(self):\n",
    "        return self.output_str\n"
   ]
  },
  {
   "cell_type": "code",
   "execution_count": null,
   "metadata": {},
   "outputs": [],
   "source": [
    "class PembalikKata:\n",
    "    def __init__(self):\n",
    "        self.input_str = input(\"Masukkan kata yang ingin dibalik: \")\n",
    "\n",
    "    def balik_kata(self):\n",
    "        pembalik = Pembalik(self.input_str)\n",
    "        pembalik.balik_kata()\n",
    "        output_str = pembalik.get_output()\n",
    "        print(\"Kata yang dibalik:\", output_str)\n",
    "\n",
    "if __name__ == \"__main__\":\n",
    "    pembalik_kata = PembalikKata()\n",
    "    pembalik_kata.balik_kata()\n"
   ]
  },
  {
   "cell_type": "code",
   "execution_count": null,
   "metadata": {},
   "outputs": [],
   "source": [
    "def keluar(antri):\n",
    "    if antri:\n",
    "        out = antri.pop(0)\n",
    "        if antri:\n",
    "            print(f\"{out}, keluar antrian\")\n",
    "            print((', '.join(antri + ['Kosong'] * (5 - len(antri)))))\n",
    "    else:\n",
    "        print(\"Antrian kosong\")\n",
    "        print('Jumlah antrian: 0 orang')"
   ]
  },
  {
   "cell_type": "code",
   "execution_count": null,
   "metadata": {},
   "outputs": [],
   "source": [
    "pohon = Node('Z')\n",
    "pohon.anak.append(Node('A'))\n",
    "pohon.anak.append(Node('G'))\n",
    "pohon.anak.append(Node('R'))\n",
    "pohon.anak[2].anak.append(Node('F'))\n",
    "pohon.anak[2].anak[0].anak.append(Node('S'))\n",
    "pohon.anak[2].anak[0].anak[0].anak.append(Node('D'))\n",
    "pohon.anak[2].anak[0].anak[0].anak.append(Node('K'))\n",
    "pohon.anak[2].anak[0].anak.append(Node('J'))\n",
    "pohon.anak[2].anak[0].anak[1].anak.append(Node('P'))\n",
    "pohon.anak[0].anak.append(Node('X'))\n",
    "pohon.anak[0].anak[0].anak.append(Node('B'))\n",
    "pohon.anak[0].anak[0].anak.append(Node('N'))\n",
    "pohon.anak[0].anak[0].anak.append(Node('W'))\n",
    "pohon.anak[0].anak[0].anak[2].anak.append(Node('Q'))\n"
   ]
  },
  {
   "cell_type": "code",
   "execution_count": 1,
   "metadata": {},
   "outputs": [
    {
     "name": "stdout",
     "output_type": "stream",
     "text": [
      "Z adalah root\n",
      "B adalah leaf\n",
      "N adalah leaf\n",
      "Q adalah leaf\n",
      "G adalah leaf\n",
      "D adalah leaf\n",
      "K adalah leaf\n",
      "P adalah leaf\n"
     ]
    },
    {
     "data": {
      "text/plain": [
       "['Z', 'A', 'X', 'B', 'N', 'W', 'Q', 'G', 'R', 'F', 'S', 'D', 'K', 'J', 'P']"
      ]
     },
     "execution_count": 1,
     "metadata": {},
     "output_type": "execute_result"
    }
   ],
   "source": [
    "#tree\n",
    "#membuat tree preorder\n",
    "class Node:\n",
    "    def __init__ (self, isi):\n",
    "        self.isi= isi\n",
    "        self.anak = []\n",
    "    def preorder(self, root, result=None):\n",
    "        if result is None:\n",
    "            result= []\n",
    "            print(f'{root.isi} adalah root')\n",
    "        if root:\n",
    "            result.append(root.isi)\n",
    "            if len(root.anak)== 0:\n",
    "                print(f'{root.isi} adalah leaf')\n",
    "            for i in root.anak:\n",
    "                self.preorder(i,result)\n",
    "        \n",
    "        return result\n",
    "\n",
    "pohon = Node('Z')\n",
    "pohon.anak.append(Node('A'))\n",
    "pohon.anak.append(Node('G'))\n",
    "pohon.anak.append(Node('R'))\n",
    "pohon.anak[2].anak.append(Node('F'))\n",
    "pohon.anak[2].anak[0].anak.append(Node('S'))\n",
    "pohon.anak[2].anak[0].anak[0].anak.append(Node('D'))\n",
    "pohon.anak[2].anak[0].anak[0].anak.append(Node('K'))\n",
    "pohon.anak[2].anak[0].anak.append(Node('J'))\n",
    "pohon.anak[2].anak[0].anak[1].anak.append(Node('P'))\n",
    "pohon.anak[0].anak.append(Node('X'))\n",
    "pohon.anak[0].anak[0].anak.append(Node('B'))\n",
    "pohon.anak[0].anak[0].anak.append(Node('N'))\n",
    "pohon.anak[0].anak[0].anak.append(Node('W'))\n",
    "pohon.anak[0].anak[0].anak[2].anak.append(Node('Q'))\n",
    "\n",
    "pohon.preorder(pohon)\n"
   ]
  },
  {
   "cell_type": "code",
   "execution_count": null,
   "metadata": {},
   "outputs": [],
   "source": [
    "# INORDER\n",
    "class Node:\n",
    "    def __init__(self, isi):\n",
    "        self.isi = isi\n",
    "        self.anak = []\n",
    "    \n",
    "    def inorder(self, root, result=None):\n",
    "        if result is None:\n",
    "            result = []\n",
    "            print(f'{root.isi} adalah root')\n",
    "        if root:\n",
    "            if len(root.anak) > 0:\n",
    "                self.inorder(root.anak[0], result)\n",
    "            result.append(root.isi)\n",
    "            if len(root.anak) > 1:\n",
    "                print(f'{root.isi} adalah leaf')\n",
    "                self.inorder(root.anak[1], result)\n",
    "        return result\n",
    "\n",
    "pohon = Node('Z')\n",
    "pohon.anak.append(Node('A'))\n",
    "pohon.anak.append(Node('G'))\n",
    "pohon.anak.append(Node('R'))\n",
    "pohon.anak[2].anak.append(Node('F'))\n",
    "pohon.anak[2].anak[0].anak.append(Node('S'))\n",
    "pohon.anak[2].anak[0].anak[0].anak.append(Node('D'))\n",
    "pohon.anak[2].anak[0].anak[0].anak.append(Node('K'))\n",
    "pohon.anak[2].anak[0].anak.append(Node('J'))\n",
    "pohon.anak[2].anak[0].anak[1].anak.append(Node('P'))\n",
    "pohon.anak[0].anak.append(Node('X'))\n",
    "pohon.anak[0].anak[0].anak.append(Node('B'))\n",
    "pohon.anak[0].anak[0].anak.append(Node('N'))\n",
    "pohon.anak[0].anak[0].anak.append(Node('W'))\n",
    "pohon.anak[0].anak[0].anak[2].anak.append(Node('Q'))\n",
    "\n",
    "pohon.inorder(pohon)"
   ]
  },
  {
   "cell_type": "code",
   "execution_count": null,
   "metadata": {},
   "outputs": [],
   "source": [
    "class Node:\n",
    "    def __init__(self,value):\n",
    "        self.value = value\n",
    "        self.left = None\n",
    "        self.mid = None\n",
    "        self.right = None\n",
    "\n",
    "class Tree:\n",
    "    def __init__(self,root):\n",
    "        self.root = Node(root)\n",
    "\n",
    "    #Metode Pre-Order\n",
    "    def preorder(self,start,traversal):\n",
    "        if start:\n",
    "            traversal += (str(start.value))\n",
    "            traversal = self.preorder(start.left,traversal)\n",
    "            traversal = self.preorder(start.mid,traversal)\n",
    "            traversal = self.preorder(start.right,traversal)\n",
    "        return list(traversal)\n",
    "\n",
    "    #Metode In-Order\n",
    "    def inorder(self,start,traversal):\n",
    "        if start:\n",
    "            traversal = self.inorder(start.left,traversal)\n",
    "            traversal += str(start.value)\n",
    "            traversal = self.inorder(start.mid,traversal)\n",
    "            traversal = self.inorder(start.right,traversal)\n",
    "        return list(traversal)\n",
    "\n",
    "    #Metode Post-Order\n",
    "    def postorder(self,start,traversal):\n",
    "        if start:\n",
    "            traversal = self.postorder(start.left,traversal)\n",
    "            traversal = self.postorder(start.mid,traversal)\n",
    "            traversal = self.postorder(start.right,traversal)\n",
    "            traversal += (str(start.value))\n",
    "        return list(traversal)\n",
    "\n",
    "    #Memilih metode\n",
    "    def methods(self,metode):\n",
    "        if metode == \"preorder\":\n",
    "            return self.preorder(tree.root,\"\")\n",
    "        elif metode == \"inorder\":\n",
    "            return self.inorder(tree.root,\"\")\n",
    "        elif metode == \"postorder\":\n",
    "            return self.postorder(tree.root,\"\")\n",
    "        else:\n",
    "            print(f\"Metode traversal yang anda {metode} tidak tersedia pada program ini\")\n",
    "            return False"
   ]
  },
  {
   "cell_type": "code",
   "execution_count": null,
   "metadata": {},
   "outputs": [],
   "source": [
    "class Node:\n",
    "    def __init__(self, value):\n",
    "        self.value = value\n",
    "        self.left = None\n",
    "        self.mid = None\n",
    "        self.right = None\n",
    "\n",
    "class Tree:\n",
    "    def __init__(self, root):\n",
    "        self.root = Node(root)\n",
    "\n",
    "    # Metode Pre-Order\n",
    "    def preorder(self, start, result):\n",
    "        if start:\n",
    "            result += (str(start.value))\n",
    "            result = self.preorder(start.left, result)\n",
    "            result = self.preorder(start.mid, result)\n",
    "            result = self.preorder(start.right, result)\n",
    "            print(start.value, 'adalah leaf')\n",
    "        return list(result)\n",
    "\n",
    "    # Metode In-Order\n",
    "    def inorder(self, start, result):\n",
    "        if start:\n",
    "            result = self.inorder(start.left, result)\n",
    "            result += str(start.value)\n",
    "            result = self.inorder(start.mid, result)\n",
    "            result = self.inorder(start.right, result)\n",
    "        return list(result)\n",
    "\n",
    "    # Metode Post-Order\n",
    "    def postorder(self, start, result):\n",
    "        if start:\n",
    "            result = self.postorder(start.left, result)\n",
    "            result = self.postorder(start.mid, result)\n",
    "            result = self.postorder(start.right, result)\n",
    "            result += (str(start.value))\n",
    "        return list(result)\n"
   ]
  },
  {
   "cell_type": "code",
   "execution_count": 2,
   "metadata": {},
   "outputs": [
    {
     "name": "stdout",
     "output_type": "stream",
     "text": [
      "Z adalah root\n",
      "Z adalah root\n",
      "B adalah leaf\n",
      "N adalah leaf\n",
      "Q adalah leaf\n",
      "G adalah leaf\n",
      "D adalah leaf\n",
      "K adalah leaf\n",
      "P adalah leaf\n",
      "Preorder traversal: ['Z', 'A', 'X', 'B', 'N', 'W', 'Q', 'G', 'R', 'F', 'S', 'D', 'K', 'J', 'P']\n"
     ]
    }
   ],
   "source": [
    "class Node:\n",
    "    def __init__(self,value):\n",
    "        self.value = value\n",
    "        self.left = None\n",
    "        self.mid = None\n",
    "        self.right = None\n",
    "\n",
    "class Tree:\n",
    "    def __init__(self, root):\n",
    "        self.root = Node(root)\n",
    "        print(f\"{root} adalah root\")\n",
    "\n",
    "    # Metode Pre-Order\n",
    "    def preorder(self, start, result):\n",
    "        if start:\n",
    "            if start == self.root:\n",
    "                print(f\"{start.value} adalah root\")\n",
    "            elif not start.left and not start.mid and not start.right:\n",
    "                print(f\"{start.value} adalah leaf\")\n",
    "            result += (str(start.value))\n",
    "            result = self.preorder(start.left, result)\n",
    "            result = self.preorder(start.mid, result)\n",
    "            result = self.preorder(start.right, result)\n",
    "        return list(result)\n",
    "\n",
    "tree = Tree(\"Z\")\n",
    "tree.root.left = Node(\"A\")\n",
    "tree.root.mid = Node(\"G\")\n",
    "tree.root.right = Node(\"R\")\n",
    "tree.root.right.left = Node(\"F\")\n",
    "tree.root.right.left.left = Node(\"S\")\n",
    "tree.root.right.left.left.left = Node(\"D\")\n",
    "tree.root.right.left.left.mid = Node(\"K\")\n",
    "tree.root.right.left.mid = Node(\"J\")\n",
    "tree.root.right.left.mid.left = Node(\"P\")\n",
    "tree.root.left.left = Node(\"X\")\n",
    "tree.root.left.left.left = Node(\"B\")\n",
    "tree.root.left.left.mid = Node(\"N\")\n",
    "tree.root.left.left.right = Node(\"W\")\n",
    "tree.root.left.left.right.left = Node(\"Q\")\n",
    "\n",
    "print(\"Preorder traversal:\", tree.preorder(tree.root, \"\"))\n"
   ]
  },
  {
   "attachments": {
    "image.png": {
     "image/png": "[encoded data removed]"
    }
   },
   "cell_type": "markdown",
   "metadata": {},
   "source": [
    "![image.png](attachment:image.png)\n",
    "\n",
    "init -> konstraktor -> menjalankan objek awal yang pasti ada\n"
   ]
  },
  {
   "cell_type": "code",
   "execution_count": null,
   "metadata": {},
   "outputs": [],
   "source": []
  }
 ],
 "metadata": {
  "kernelspec": {
   "display_name": "bintang",
   "language": "python",
   "name": "python3"
  },
  "language_info": {
   "codemirror_mode": {
    "name": "ipython",
    "version": 3
   },
   "file_extension": ".py",
   "mimetype": "text/x-python",
   "name": "python",
   "nbconvert_exporter": "python",
   "pygments_lexer": "ipython3",
   "version": "3.8.18"
  }
 },
 "nbformat": 4,
 "nbformat_minor": 2
}
