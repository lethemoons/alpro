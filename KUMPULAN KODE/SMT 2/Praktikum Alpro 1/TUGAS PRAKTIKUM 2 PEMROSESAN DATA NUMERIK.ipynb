{
 "cells": [
  {
   "cell_type": "markdown",
   "metadata": {},
   "source": [
    "## Adinda Syarifatul Muna\n",
    "### 164231042 \n",
    "#### SD-A2"
   ]
  },
  {
   "cell_type": "markdown",
   "metadata": {},
   "source": [
    "#### 1. program untuk menghitung faktor dari suatu bilangan"
   ]
  },
  {
   "cell_type": "code",
   "execution_count": 1,
   "metadata": {},
   "outputs": [
    {
     "name": "stdout",
     "output_type": "stream",
     "text": [
      "[1, 2, 4]\n"
     ]
    }
   ],
   "source": [
    "import math\n",
    "\n",
    "angka = int(input('Masukkan bilangan yang akan di faktorkan'))\n",
    "faktor = []\n",
    "\n",
    "for i in range(1, angka+1):\n",
    "    if angka % i == 0:\n",
    "        faktor.append(i)\n",
    "print(faktor)"
   ]
  },
  {
   "cell_type": "markdown",
   "metadata": {},
   "source": [
    "#### 2. program menghitung luas dan keliling lingkaran"
   ]
  },
  {
   "cell_type": "code",
   "execution_count": 25,
   "metadata": {},
   "outputs": [
    {
     "name": "stdout",
     "output_type": "stream",
     "text": [
      "jari-jari = 4.0\n",
      "Keliling lingkaran tersebut adalah = 25.132741228718345\n",
      "Luas lingkaran tersebut adalah = 50.26548245743669\n"
     ]
    }
   ],
   "source": [
    "import math \n",
    "jari_jari = float(input('Masukkan jari-jari lingkaran'))\n",
    "keliling = 2 * math.pi * jari_jari\n",
    "luas = math.pi * jari_jari ** 2\n",
    "\n",
    "print('jari-jari =', jari_jari)\n",
    "print(\"Keliling lingkaran tersebut adalah =\", keliling)\n",
    "print(\"Luas lingkaran tersebut adalah =\", luas)"
   ]
  },
  {
   "cell_type": "markdown",
   "metadata": {},
   "source": [
    "#### 3. buat program trigonometri"
   ]
  },
  {
   "cell_type": "code",
   "execution_count": 23,
   "metadata": {},
   "outputs": [
    {
     "name": "stdout",
     "output_type": "stream",
     "text": [
      " sin dari 90.0 derajat adalah =  1.0\n",
      " cos dari 90.0 derajat adalah =  6.123233995736766e-17\n",
      " tan dari 90.0 derajat adalah =  1.633123935319537e+16\n"
     ]
    }
   ],
   "source": [
    "import math\n",
    "besar_sudut = float(input('Masukkan besar sudut'))\n",
    "radian = math.radians(besar_sudut)\n",
    "\n",
    "sin = math.sin(radian)\n",
    "cos = math.cos(radian)\n",
    "tan = math.tan(radian)\n",
    "\n",
    "print(f\" sin dari {besar_sudut} derajat adalah = \", (sin))\n",
    "print(f\" cos dari {besar_sudut} derajat adalah = \", (cos))\n",
    "print(f\" tan dari {besar_sudut} derajat adalah = \", (tan))\n"
   ]
  },
  {
   "cell_type": "markdown",
   "metadata": {},
   "source": [
    "#### 4. menghitung logaritma"
   ]
  },
  {
   "cell_type": "code",
   "execution_count": 21,
   "metadata": {},
   "outputs": [
    {
     "name": "stdout",
     "output_type": "stream",
     "text": [
      " Logaritma dari basis 2.0 dan numerus 1.0 adalah = 0.0\n"
     ]
    }
   ],
   "source": [
    "# dalam logaritma basis harus > 0 dan != 1, numerus harus > 0\n",
    "\n",
    "import math\n",
    "basis = float(input('Masukkan angka basis = '))\n",
    "numerus = float(input('Masukkan angka numerus = '))\n",
    "\n",
    "if basis > 1 and numerus > 0:\n",
    "    print(\" Logaritma dari basis\", basis, 'dan numerus', numerus, 'adalah =', math.log(numerus,basis))\n",
    "else:\n",
    "    print('TypeError')"
   ]
  },
  {
   "cell_type": "markdown",
   "metadata": {},
   "source": [
    "#### 5. menghitung nilai faktorial"
   ]
  },
  {
   "cell_type": "code",
   "execution_count": 22,
   "metadata": {},
   "outputs": [
    {
     "name": "stdout",
     "output_type": "stream",
     "text": [
      "Faktorial dari 0 adalah 1\n"
     ]
    }
   ],
   "source": [
    "angka = int(input('Masukkan angka'))\n",
    "faktorial = 1\n",
    "if angka >= 0:\n",
    "    for i in range(1, angka+1):\n",
    "        faktorial = faktorial * i\n",
    "    print(f\"Faktorial dari {angka} adalah {faktorial}\")\n",
    "else:\n",
    "    print('input salah')"
   ]
  },
  {
   "cell_type": "markdown",
   "metadata": {},
   "source": [
    "#### 6. "
   ]
  },
  {
   "cell_type": "code",
   "execution_count": null,
   "metadata": {},
   "outputs": [],
   "source": []
  },
  {
   "cell_type": "markdown",
   "metadata": {},
   "source": [
    "#### 7. "
   ]
  },
  {
   "cell_type": "code",
   "execution_count": null,
   "metadata": {},
   "outputs": [],
   "source": []
  }
 ],
 "metadata": {
  "kernelspec": {
   "display_name": "Python 3 (ipykernel)",
   "language": "python",
   "name": "python3"
  },
  "language_info": {
   "codemirror_mode": {
    "name": "ipython",
    "version": 3
   },
   "file_extension": ".py",
   "mimetype": "text/x-python",
   "name": "python",
   "nbconvert_exporter": "python",
   "pygments_lexer": "ipython3",
   "version": "3.11.5"
  }
 },
 "nbformat": 4,
 "nbformat_minor": 2
}
