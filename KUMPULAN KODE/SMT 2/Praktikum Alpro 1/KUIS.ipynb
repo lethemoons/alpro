{
 "cells": [
  {
   "cell_type": "code",
   "execution_count": 2,
   "metadata": {},
   "outputs": [
    {
     "name": "stdout",
     "output_type": "stream",
     "text": [
      "2\n"
     ]
    }
   ],
   "source": [
    "dict = {1:'1',2:'2', 3:'3'}\n",
    "del dict[1]\n",
    "dict[1]='10'\n",
    "del dict[2]\n",
    "print(len(dict))"
   ]
  },
  {
   "cell_type": "code",
   "execution_count": 6,
   "metadata": {},
   "outputs": [
    {
     "name": "stdout",
     "output_type": "stream",
     "text": [
      "[0, 1]\n",
      "[3, 2, 1, 0, 1, 4]\n",
      "[0, 1, 0, 1, 4]\n"
     ]
    }
   ],
   "source": [
    "def gfg(x,l=[]):\n",
    "  for i in range(x):\n",
    "    l.append(i*i)\n",
    "  print(l)\n",
    "gfg(2)\n",
    "gfg(3,[3,2,1])\n",
    "gfg(3)"
   ]
  },
  {
   "cell_type": "code",
   "execution_count": 23,
   "metadata": {},
   "outputs": [
    {
     "name": "stdout",
     "output_type": "stream",
     "text": [
      "['Code', 'Quiz', 'Practice', 'Contribute']\n",
      "['Code', 'Quiz', 'Practice', 'Contribute']\n",
      "['Learn', 'Mcq', 'Practice', 'Contribute']\n",
      "12\n",
      "['Code', 'Quiz', 'Practice', 'Contribute']\n",
      "['Learn', 'Mcq', 'Practice', 'Contribute']\n"
     ]
    }
   ],
   "source": [
    "cek1= ['Learn', 'Quiz', 'Practice', 'Contribute']\n",
    "cek2= cek1\n",
    "cek3=cek1[:]\n",
    "\n",
    "cek2[0]='Code'\n",
    "cek3[1]='Mcq'\n",
    "\n",
    "count=0\n",
    "for c in (cek1,cek2,cek3):\n",
    "  print(c)\n",
    "  if c[0]=='Code':\n",
    "    count+=1\n",
    "  if c[1]=='Mcq':\n",
    "    count +=10\n",
    "print(count)\n",
    "print(cek2)\n",
    "print(cek3)"
   ]
  },
  {
   "cell_type": "code",
   "execution_count": 20,
   "metadata": {},
   "outputs": [
    {
     "name": "stdout",
     "output_type": "stream",
     "text": [
      "4\n",
      "3\n",
      "2\n",
      "1\n"
     ]
    }
   ],
   "source": [
    "for i in [1,2,3,4][::-1]:\n",
    "  print(i)"
   ]
  },
  {
   "cell_type": "code",
   "execution_count": 19,
   "metadata": {},
   "outputs": [
    {
     "name": "stdout",
     "output_type": "stream",
     "text": [
      "['ab', 'cd']\n"
     ]
    }
   ],
   "source": [
    "x = ['ab','cd']\n",
    "for i in x:\n",
    "  i.upper()\n",
    "print(x)"
   ]
  },
  {
   "cell_type": "code",
   "execution_count": 18,
   "metadata": {},
   "outputs": [
    {
     "name": "stdout",
     "output_type": "stream",
     "text": [
      "3\n"
     ]
    }
   ],
   "source": [
    "a = True\n",
    "b = False\n",
    "c= False\n",
    "if not a or b:\n",
    "  print(1)\n",
    "elif not a or not b and c:\n",
    "  print(2)\n",
    "elif not a or b or not b and a:\n",
    "  print(3)\n",
    "else:\n",
    "  print(4)"
   ]
  },
  {
   "cell_type": "code",
   "execution_count": 17,
   "metadata": {},
   "outputs": [
    {
     "name": "stdout",
     "output_type": "stream",
     "text": [
      "0\n",
      "1\n",
      "4\n",
      "5\n"
     ]
    }
   ],
   "source": [
    "for i in range(2):\n",
    "  print(i)\n",
    "for i in range(4,6):\n",
    "  print(i)"
   ]
  },
  {
   "cell_type": "code",
   "execution_count": 16,
   "metadata": {},
   "outputs": [
    {
     "name": "stdout",
     "output_type": "stream",
     "text": [
      "GEEKSFORGEEKS\n"
     ]
    }
   ],
   "source": [
    "a = True\n",
    "b = False\n",
    "c = False\n",
    "\n",
    "if a or b and c:\n",
    "  print('GEEKSFORGEEKS')\n",
    "else:\n",
    "  print('geelsforgeeks')"
   ]
  },
  {
   "cell_type": "code",
   "execution_count": 8,
   "metadata": {},
   "outputs": [
    {
     "name": "stdout",
     "output_type": "stream",
     "text": [
      "geeksforgeeks\n"
     ]
    }
   ],
   "source": [
    "my_string='geeksforgeeks'\n",
    "for i in range(len(my_string)):\n",
    "    my_string[i].upper()\n",
    "print(my_string)"
   ]
  },
  {
   "cell_type": "code",
   "execution_count": 9,
   "metadata": {},
   "outputs": [
    {
     "name": "stdout",
     "output_type": "stream",
     "text": [
      "3\n"
     ]
    }
   ],
   "source": [
    "counter={}\n",
    "def addto(country):\n",
    "    if country in counter:\n",
    "        counter[country]+=1\n",
    "    else:\n",
    "        counter[country]=1\n",
    "addto('China')\n",
    "addto('Japan')\n",
    "addto('china')\n",
    "\n",
    "print(len(counter))"
   ]
  },
  {
   "cell_type": "code",
   "execution_count": 10,
   "metadata": {},
   "outputs": [
    {
     "name": "stdout",
     "output_type": "stream",
     "text": [
      "4\n"
     ]
    }
   ],
   "source": [
    "count=1\n",
    "def dothis():\n",
    "    global count\n",
    "    for i in (1,2,3):\n",
    "        count +=1\n",
    "dothis()\n",
    "print(count)"
   ]
  },
  {
   "cell_type": "code",
   "execution_count": 11,
   "metadata": {},
   "outputs": [
    {
     "name": "stdout",
     "output_type": "stream",
     "text": [
      "4\n"
     ]
    }
   ],
   "source": [
    "dict={}\n",
    "dict[1]=1\n",
    "dict['1']=2\n",
    "dict[1]+=1\n",
    "\n",
    "sum=0\n",
    "for k in dict:\n",
    "    sum += dict[k]\n",
    "print(sum)"
   ]
  },
  {
   "cell_type": "code",
   "execution_count": 15,
   "metadata": {},
   "outputs": [],
   "source": [
    "my_str= 'geeksforgeeks'\n",
    "i = 'i'\n",
    "while i in my_str:\n",
    "    print(i, end=' ')"
   ]
  },
  {
   "cell_type": "code",
   "execution_count": null,
   "metadata": {},
   "outputs": [],
   "source": []
  }
 ],
 "metadata": {
  "kernelspec": {
   "display_name": "base",
   "language": "python",
   "name": "python3"
  },
  "language_info": {
   "codemirror_mode": {
    "name": "ipython",
    "version": 3
   },
   "file_extension": ".py",
   "mimetype": "text/x-python",
   "name": "python",
   "nbconvert_exporter": "python",
   "pygments_lexer": "ipython3",
   "version": "3.11.5"
  }
 },
 "nbformat": 4,
 "nbformat_minor": 2
}
