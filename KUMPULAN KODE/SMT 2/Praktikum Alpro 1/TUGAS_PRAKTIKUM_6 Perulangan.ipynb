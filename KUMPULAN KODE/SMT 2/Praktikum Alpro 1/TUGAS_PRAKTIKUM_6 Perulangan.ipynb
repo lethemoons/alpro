{
 "cells": [
  {
   "cell_type": "markdown",
   "metadata": {},
   "source": [
    "### ***Adinda Syarifatul Muna***\n",
    "#### **164231042**\n",
    "#### SD-A2"
   ]
  },
  {
   "cell_type": "markdown",
   "metadata": {},
   "source": [
    "#### 1. Melakukan percobaan 1-5\n",
    "##### Percobaan 1\n",
    "##### - inisiasi i = 1 berarti i mulai dari 1 2 3 dan seterusnya\n",
    "##### - while i < 6 berarti akan terjadi perulangan selama i < 6, print (i) untuk print setiap nilai i\n",
    "##### - jika i == 3 break, berarti jika i sama dengan 3, maka break atau berhenti dan perulangan hanya sampai 3"
   ]
  },
  {
   "cell_type": "code",
   "execution_count": 6,
   "metadata": {},
   "outputs": [
    {
     "name": "stdout",
     "output_type": "stream",
     "text": [
      "1\n",
      "2\n",
      "3\n"
     ]
    }
   ],
   "source": [
    "i = 1\n",
    "while i < 6:\n",
    " print(i)\n",
    " if i == 3:\n",
    "    break\n",
    " i += 1"
   ]
  },
  {
   "cell_type": "markdown",
   "metadata": {},
   "source": [
    "#### Percobaan 2\n",
    "##### penjelasan di comment"
   ]
  },
  {
   "cell_type": "code",
   "execution_count": 2,
   "metadata": {},
   "outputs": [
    {
     "name": "stdout",
     "output_type": "stream",
     "text": [
      "1\n",
      "2\n",
      "4\n",
      "5\n",
      "6\n"
     ]
    }
   ],
   "source": [
    "i = 0 # inisiasi i mulai dari 0\n",
    "while i < 6: # akan terjadi perulangan selama i < 6\n",
    " i += 1     # nilai i ditambah 1\n",
    " if i == 3: # jika i == 3 (i yang sudah ditambah 1), maka ini akan dilewati dan lanjut looping angka selanjutnya\n",
    "    continue # lanjut looping angka selanjutnya, 3 nya diskip tidak di print\n",
    " print(i) # print i kecuali angka 3 (akan muncul 1 bukan 0 karena yang di print adalah i yang ditambah 1)"
   ]
  },
  {
   "cell_type": "markdown",
   "metadata": {},
   "source": [
    "### Percobaan 3\n",
    "#### - terdapat list \n",
    "#### - x untuk setiap string yang ada di list, jadi untuk setiap x di list, print(x) -> akan i print 1 per 1\n",
    "#### - if x == 'kamu' -> jika nilai x == 'kamu' maka print 'kamu' dan stop, karena ada break, jdi loopingnya dihentika"
   ]
  },
  {
   "cell_type": "code",
   "execution_count": 1,
   "metadata": {},
   "outputs": [
    {
     "name": "stdout",
     "output_type": "stream",
     "text": [
      "aku\n",
      "kamu\n"
     ]
    }
   ],
   "source": [
    "orang = [\"aku\", \"kamu\", \"dia\"]\n",
    "for x in orang:\n",
    " print(x)\n",
    " if x == \"kamu\":\n",
    "    break"
   ]
  },
  {
   "cell_type": "markdown",
   "metadata": {},
   "source": [
    "### Percobaan 4\n",
    "#### ada list berisi string\n",
    "#### untuk setiap string di list, jika string sama dengan 'viki' maka tidak di print karena ada continue, dan laanjut ke stirng berikutnya"
   ]
  },
  {
   "cell_type": "code",
   "execution_count": 9,
   "metadata": {},
   "outputs": [
    {
     "name": "stdout",
     "output_type": "stream",
     "text": [
      "ani\n",
      "angel\n",
      "lelga\n",
      "prasetyo\n"
     ]
    }
   ],
   "source": [
    "nama = [\"ani\", \"angel\", \"lelga\", \"viki\", \"prasetyo\"]\n",
    "for x in nama:\n",
    " if x == \"viki\":\n",
    "    continue\n",
    " print(x)"
   ]
  },
  {
   "cell_type": "markdown",
   "metadata": {},
   "source": [
    "### Percobaan 5\n",
    "#### Penjelasan ada dicomment"
   ]
  },
  {
   "cell_type": "code",
   "execution_count": 11,
   "metadata": {},
   "outputs": [
    {
     "name": "stdout",
     "output_type": "stream",
     "text": [
      "0\n",
      "1\n",
      "2\n",
      "3\n",
      "4\n",
      "5\n",
      "2\n",
      "3\n",
      "4\n",
      "5\n"
     ]
    }
   ],
   "source": [
    "# range contoh 1\n",
    "for x in range (6):       # ini untuk mengakses angka 0-5, 6 nya tidak ikut tapi jumlah angkanya tetap ada 6 karena print nya dimuali dari 0\n",
    " print(x)\n",
    "\n",
    "# range contoh 2\n",
    "for x in range (2, 6):   # range(2,6) berarti ini mengakses angka 2 sampai 5 angka enamnya tidak ikut, jdi hanya sampai 6-1\n",
    " print(x)"
   ]
  },
  {
   "cell_type": "markdown",
   "metadata": {},
   "source": [
    "#### 2. membuat inputan angka dan pilih segitiga atau persegi\n",
    "##### - membuat input\n",
    "##### - jika input > 0 -> lanjut ke perintah selanjutnya\n",
    "##### - jika a < 0 -> print error\n",
    "##### penjelasan selanjutnya ada di comment"
   ]
  },
  {
   "cell_type": "code",
   "execution_count": 3,
   "metadata": {},
   "outputs": [
    {
     "name": "stdout",
     "output_type": "stream",
     "text": [
      "*****\n",
      "****\n",
      "***\n",
      "**\n",
      "*\n"
     ]
    }
   ],
   "source": [
    "# 2. \n",
    "a = int(input('Masukkan angka > 0 : '))\n",
    "if a > 0:\n",
    "    b = input('Pilih mau segitiga ketik 1, kalau mau persegi ketik 2 : ') # ini peritahnya, untuk memudahkan, jika mau segitiga ketik 11, jika mau persegi ketik 2\n",
    "    if b == '1':\n",
    "        c = int(input('angka : '))\n",
    "        for i in range(c,0,-1): # untuk iterasi dari inputan c sampai 1, jadi nanti diambil dari bilangan yang besar dulu(mulai dari c sampai 1) terus berkurang 1\n",
    "            print('*'*i)        # outpunya berupa print '*' sebanyak i\n",
    "    elif b == '2':\n",
    "        d = int(input('angka: '))\n",
    "        for i in range(d):      # untuk iterasi dari 1-banyak d, ini untuk menentukan banyak barisnya\n",
    "            print('*'*d)        # print '*' sebanyak d, suppaya nanti banyak '*' baris dan colomnya sama, alias membentuk persegi\n",
    "    else:\n",
    "        print('error')\n",
    "else:\n",
    "    print('error')"
   ]
  },
  {
   "cell_type": "code",
   "execution_count": null,
   "metadata": {},
   "outputs": [],
   "source": []
  }
 ],
 "metadata": {
  "kernelspec": {
   "display_name": "bintang",
   "language": "python",
   "name": "python3"
  },
  "language_info": {
   "codemirror_mode": {
    "name": "ipython",
    "version": 3
   },
   "file_extension": ".py",
   "mimetype": "text/x-python",
   "name": "python",
   "nbconvert_exporter": "python",
   "pygments_lexer": "ipython3",
   "version": "3.11.5"
  }
 },
 "nbformat": 4,
 "nbformat_minor": 2
}
