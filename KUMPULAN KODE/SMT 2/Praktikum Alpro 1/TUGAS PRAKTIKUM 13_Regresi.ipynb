{
 "cells": [
  {
   "cell_type": "markdown",
   "metadata": {},
   "source": [
    "## __*Adinda Syarifatul Muna*__\n",
    "### __164231043__\n",
    "### __SD-A2__"
   ]
  },
  {
   "cell_type": "markdown",
   "metadata": {},
   "source": [
    "## 1. Dengan data SeoulBikeData.csv, aplikasikan regresi linier untuk memprediksi berapa\n",
    "jumlah penyewa sepeda di kota Seoul jika temperature kota berada pada suhu berikut ini:\n",
    "\n",
    "a. 20 celcius\n",
    "\n",
    "b. 25 celcius\n",
    "\n",
    "c. 30 celcius\n",
    "\n",
    "d. 15 celcius\n",
    "\n",
    "e. 17 celcius"
   ]
  },
  {
   "cell_type": "code",
   "execution_count": 126,
   "metadata": {},
   "outputs": [],
   "source": [
    "# ANALISIS REGRESI LINEAR ->MENGHASILKAN jumlah perental sepeda dari suhu yang dicari(perharinya)\n",
    "\n",
    "import pandas as pd\n",
    "from sklearn.linear_model import LinearRegression\n",
    "import matplotlib.pyplot as plt\n",
    "import numpy as np\n",
    "from sklearn.model_selection import train_test_split"
   ]
  },
  {
   "cell_type": "markdown",
   "metadata": {},
   "source": [
    "#### __Subset data___"
   ]
  },
  {
   "cell_type": "markdown",
   "metadata": {},
   "source": [
    "- membuat variabel df untuk membaca file SeoulBikeData menggunakan library pandas\n",
    "- panggil df untuk menampilkan beberapa filenya "
   ]
  },
  {
   "cell_type": "code",
   "execution_count": 127,
   "metadata": {},
   "outputs": [
    {
     "data": {
      "text/html": [
       "<div>\n",
       "<style scoped>\n",
       "    .dataframe tbody tr th:only-of-type {\n",
       "        vertical-align: middle;\n",
       "    }\n",
       "\n",
       "    .dataframe tbody tr th {\n",
       "        vertical-align: top;\n",
       "    }\n",
       "\n",
       "    .dataframe thead th {\n",
       "        text-align: right;\n",
       "    }\n",
       "</style>\n",
       "<table border=\"1\" class=\"dataframe\">\n",
       "  <thead>\n",
       "    <tr style=\"text-align: right;\">\n",
       "      <th></th>\n",
       "      <th>Date</th>\n",
       "      <th>Rented Bike Count</th>\n",
       "      <th>Temperature</th>\n",
       "      <th>Humidity</th>\n",
       "      <th>Wind speed</th>\n",
       "      <th>Rainfall</th>\n",
       "    </tr>\n",
       "  </thead>\n",
       "  <tbody>\n",
       "    <tr>\n",
       "      <th>0</th>\n",
       "      <td>01-12-17</td>\n",
       "      <td>254</td>\n",
       "      <td>-5.2</td>\n",
       "      <td>37</td>\n",
       "      <td>2.2</td>\n",
       "      <td>0.0</td>\n",
       "    </tr>\n",
       "    <tr>\n",
       "      <th>1</th>\n",
       "      <td>01-12-17</td>\n",
       "      <td>204</td>\n",
       "      <td>-5.5</td>\n",
       "      <td>38</td>\n",
       "      <td>0.8</td>\n",
       "      <td>0.0</td>\n",
       "    </tr>\n",
       "    <tr>\n",
       "      <th>2</th>\n",
       "      <td>01-12-17</td>\n",
       "      <td>173</td>\n",
       "      <td>-6.0</td>\n",
       "      <td>39</td>\n",
       "      <td>1.0</td>\n",
       "      <td>0.0</td>\n",
       "    </tr>\n",
       "    <tr>\n",
       "      <th>3</th>\n",
       "      <td>01-12-17</td>\n",
       "      <td>107</td>\n",
       "      <td>-6.2</td>\n",
       "      <td>40</td>\n",
       "      <td>0.9</td>\n",
       "      <td>0.0</td>\n",
       "    </tr>\n",
       "    <tr>\n",
       "      <th>4</th>\n",
       "      <td>01-12-17</td>\n",
       "      <td>78</td>\n",
       "      <td>-6.0</td>\n",
       "      <td>36</td>\n",
       "      <td>2.3</td>\n",
       "      <td>0.0</td>\n",
       "    </tr>\n",
       "    <tr>\n",
       "      <th>...</th>\n",
       "      <td>...</td>\n",
       "      <td>...</td>\n",
       "      <td>...</td>\n",
       "      <td>...</td>\n",
       "      <td>...</td>\n",
       "      <td>...</td>\n",
       "    </tr>\n",
       "    <tr>\n",
       "      <th>8755</th>\n",
       "      <td>30-11-18</td>\n",
       "      <td>1003</td>\n",
       "      <td>4.2</td>\n",
       "      <td>34</td>\n",
       "      <td>2.6</td>\n",
       "      <td>0.0</td>\n",
       "    </tr>\n",
       "    <tr>\n",
       "      <th>8756</th>\n",
       "      <td>30-11-18</td>\n",
       "      <td>764</td>\n",
       "      <td>3.4</td>\n",
       "      <td>37</td>\n",
       "      <td>2.3</td>\n",
       "      <td>0.0</td>\n",
       "    </tr>\n",
       "    <tr>\n",
       "      <th>8757</th>\n",
       "      <td>30-11-18</td>\n",
       "      <td>694</td>\n",
       "      <td>2.6</td>\n",
       "      <td>39</td>\n",
       "      <td>0.3</td>\n",
       "      <td>0.0</td>\n",
       "    </tr>\n",
       "    <tr>\n",
       "      <th>8758</th>\n",
       "      <td>30-11-18</td>\n",
       "      <td>712</td>\n",
       "      <td>2.1</td>\n",
       "      <td>41</td>\n",
       "      <td>1.0</td>\n",
       "      <td>0.0</td>\n",
       "    </tr>\n",
       "    <tr>\n",
       "      <th>8759</th>\n",
       "      <td>30-11-18</td>\n",
       "      <td>584</td>\n",
       "      <td>1.9</td>\n",
       "      <td>43</td>\n",
       "      <td>1.3</td>\n",
       "      <td>0.0</td>\n",
       "    </tr>\n",
       "  </tbody>\n",
       "</table>\n",
       "<p>8760 rows × 6 columns</p>\n",
       "</div>"
      ],
      "text/plain": [
       "          Date  Rented Bike Count  Temperature  Humidity  Wind speed  Rainfall\n",
       "0     01-12-17                254         -5.2        37         2.2       0.0\n",
       "1     01-12-17                204         -5.5        38         0.8       0.0\n",
       "2     01-12-17                173         -6.0        39         1.0       0.0\n",
       "3     01-12-17                107         -6.2        40         0.9       0.0\n",
       "4     01-12-17                 78         -6.0        36         2.3       0.0\n",
       "...        ...                ...          ...       ...         ...       ...\n",
       "8755  30-11-18               1003          4.2        34         2.6       0.0\n",
       "8756  30-11-18                764          3.4        37         2.3       0.0\n",
       "8757  30-11-18                694          2.6        39         0.3       0.0\n",
       "8758  30-11-18                712          2.1        41         1.0       0.0\n",
       "8759  30-11-18                584          1.9        43         1.3       0.0\n",
       "\n",
       "[8760 rows x 6 columns]"
      ]
     },
     "execution_count": 127,
     "metadata": {},
     "output_type": "execute_result"
    }
   ],
   "source": [
    "df= pd.read_csv('SeoulBikeData.csv')\n",
    "df"
   ]
  },
  {
   "cell_type": "markdown",
   "metadata": {},
   "source": [
    "subset data dengan soal yang diberikan, yaitu temperature sebagai X dan Rental Bike Count sebagai y\n",
    "\n",
    "X di reshape agar menjadi bentuk 2D karena model hanya bisa memprediksi dalam bentuk 2D"
   ]
  },
  {
   "cell_type": "code",
   "execution_count": 128,
   "metadata": {},
   "outputs": [],
   "source": [
    "X= df['Temperature'].values\n",
    "y= df['Rented Bike Count'].values\n",
    "\n",
    "#reshape data menjadi array 2D\n",
    "X = X.reshape(-1,1)"
   ]
  },
  {
   "cell_type": "markdown",
   "metadata": {},
   "source": [
    "### __Membagi data train dan data test (70% dan 30%)__"
   ]
  },
  {
   "cell_type": "markdown",
   "metadata": {},
   "source": [
    "- membagi data set menajdi data test dan data training diperlukan untuk data berukuran besar agar mendapatkan evaluasi yang lebih akurat dan adil terhadap kinerja model pada data yang tidak pernah dilihat sebelumnya. karena tidak semua data digunakan untuk training masih disisakan data untuk testing\n",
    "\n",
    "- dibagi 30% data untuk data testing dan 70% data untuk data training"
   ]
  },
  {
   "cell_type": "code",
   "execution_count": 129,
   "metadata": {},
   "outputs": [],
   "source": [
    "X_train, X_test, y_train, y_test = train_test_split(X, y, test_size=0.3, random_state=42)\n"
   ]
  },
  {
   "cell_type": "markdown",
   "metadata": {},
   "source": [
    "### __Model regresi__"
   ]
  },
  {
   "cell_type": "markdown",
   "metadata": {},
   "source": [
    "- membuat model regresi dengan library dari sklearn yaitu linearRegression menggunakan data X_train dan y_train\n",
    "- menampilkan koefisien regresi(B0) dan intercept(B1) dengan\n",
    "\n",
    "print(f'Koefisien: {modelreg.coef_[0]}')\n",
    "print(f'Intercept: {modelreg.intercept_}')"
   ]
  },
  {
   "cell_type": "code",
   "execution_count": 130,
   "metadata": {},
   "outputs": [
    {
     "name": "stdout",
     "output_type": "stream",
     "text": [
      "Koefisien: 29.076458809766127\n",
      "Intercept: 328.4087186952063\n"
     ]
    }
   ],
   "source": [
    "# Train the linear regression model\n",
    "modelreg = LinearRegression()\n",
    "modelreg.fit(X_train, y_train)\n",
    "\n",
    "# Menampilkan koefisien regresi dan intercept\n",
    "print(f'Koefisien: {modelreg.coef_[0]}')\n",
    "print(f'Intercept: {modelreg.intercept_}')"
   ]
  },
  {
   "cell_type": "markdown",
   "metadata": {},
   "source": [
    "### __Membuat persamaan regresi__"
   ]
  },
  {
   "cell_type": "code",
   "execution_count": 131,
   "metadata": {},
   "outputs": [
    {
     "name": "stdout",
     "output_type": "stream",
     "text": [
      "persamaan regresi: y =328.4087186952063 + 29.076458809766127x\n"
     ]
    }
   ],
   "source": [
    "print(f'persamaan regresi: y ={modelreg.intercept_} + {modelreg.coef_[0]}x')"
   ]
  },
  {
   "cell_type": "markdown",
   "metadata": {},
   "source": [
    "### __Memprediksi jumlah perental sepeda__"
   ]
  },
  {
   "cell_type": "markdown",
   "metadata": {},
   "source": [
    "menampilkan prediksi jumlah perental sesuai dengan temperatur yang diberikan.\n",
    "- menggunakan fungsi dengan parameter suhu dan model regresi\n",
    "- suhu di resshape menjadi 2D agar bisa dibaca oleh model\n",
    "- for i in suhu, i nya di reshape lagi menjadi 2D\n",
    "- a = model.predict(i) -> membuat prediksi model dari i \n",
    "- lalu terakhir print (f'Jumlah perental sepeda pada Temperature {int(i)}°C ada {int(a.round())} orang') "
   ]
  },
  {
   "cell_type": "code",
   "execution_count": 136,
   "metadata": {},
   "outputs": [
    {
     "name": "stdout",
     "output_type": "stream",
     "text": [
      "Jumlah perental sepeda pada Temperature 20°C ada 910 orang\n",
      "Jumlah perental sepeda pada Temperature 25°C ada 1055 orang\n",
      "Jumlah perental sepeda pada Temperature 30°C ada 1201 orang\n",
      "Jumlah perental sepeda pada Temperature 15°C ada 765 orang\n",
      "Jumlah perental sepeda pada Temperature 17°C ada 823 orang\n"
     ]
    }
   ],
   "source": [
    "def prediksi(suhu, model):\n",
    "    suhu = np.array(suhu).reshape(-1,1)         # di reshape karena model membutuhkan 2D bukan 1D\n",
    "    for i in (suhu):\n",
    "        i=i.reshape(-1,1)\n",
    "        a = model.predict(i)\n",
    "        print(f'Jumlah perental sepeda pada Temperature {int(i)}°C ada {int(a.round())} orang')\n",
    "\n",
    "suhu = [20, 25, 30, 15, 17]\n",
    "prediksi(suhu,modelreg) \n",
    "\n"
   ]
  },
  {
   "cell_type": "markdown",
   "metadata": {},
   "source": [
    "### __Menampilkan R Square__\n",
    "\n",
    "R square yang didapatkan hanya sekitar 30% sehingga variabel x hanya berpengaruh sebesar 30% pada variabel y dan 70% dipengaruhi oleh faktor lain. \n",
    "oleh karena itu data prediksi jumlah perental sepeda mungkin masih berbeda jauh dari data aslinya"
   ]
  },
  {
   "cell_type": "code",
   "execution_count": 89,
   "metadata": {},
   "outputs": [
    {
     "name": "stdout",
     "output_type": "stream",
     "text": [
      "R-squared: 30.0%\n"
     ]
    }
   ],
   "source": [
    "\n",
    "from sklearn.metrics import r2_score\n",
    "\n",
    "y_pred = modelreg.predict(X_test)\n",
    "# Hitung R-squared\n",
    "r_squared = r2_score(y_test, y_pred)\n",
    "\n",
    "# Tampilkan nilai R-squared\n",
    "print(f\"R-squared: {(r_squared*100).round()}%\")\n"
   ]
  },
  {
   "attachments": {
    "image.png": {
     "image/png": "[encoded data removed]"
    }
   },
   "cell_type": "markdown",
   "metadata": {},
   "source": [
    "### 2. Menggunakan library sklearn, kita dapat mengaplikasikan multiple regression dengan mudah. Beberapa variabel independen dapat menentukan nilai prediksi variabel dependen\n",
    "jika kita memiliki data yang cukup. Dengan data SeoulBikeData-complete.csv, \n",
    "### aplikasikan regresi linier untuk memprediksi berapa jumlah penyewa sepeda di kota Seoul dengan\n",
    "ketentuan variabel independen sebagai berikut:\n",
    "\n",
    "![image.png](attachment:image.png)"
   ]
  },
  {
   "cell_type": "markdown",
   "metadata": {},
   "source": [
    "menentukan prediksi perental sepeda dengan beberapa variabel independen yang ada di dalam tabel"
   ]
  },
  {
   "cell_type": "markdown",
   "metadata": {},
   "source": [
    "### __Membuat model regresi__"
   ]
  },
  {
   "cell_type": "markdown",
   "metadata": {},
   "source": [
    "menggunakan regresi linear berganda karena x nya lebih  dari 1\n",
    "- menggunakan library statmodels untuk menampilkan OLS Regresi\n",
    "- penjelasan ada di comment code"
   ]
  },
  {
   "cell_type": "code",
   "execution_count": 92,
   "metadata": {},
   "outputs": [
    {
     "name": "stdout",
     "output_type": "stream",
     "text": [
      "                            OLS Regression Results                            \n",
      "==============================================================================\n",
      "Dep. Variable:      Rented Bike Count   R-squared:                       0.381\n",
      "Model:                            OLS   Adj. R-squared:                  0.380\n",
      "Method:                 Least Squares   F-statistic:                     941.0\n",
      "Date:                Fri, 24 May 2024   Prob (F-statistic):               0.00\n",
      "Time:                        21:50:03   Log-Likelihood:                -46921.\n",
      "No. Observations:                6132   AIC:                         9.385e+04\n",
      "Df Residuals:                    6127   BIC:                         9.389e+04\n",
      "Df Model:                           4                                         \n",
      "Covariance Type:            nonrobust                                         \n",
      "===============================================================================\n",
      "                  coef    std err          t      P>|t|      [0.025      0.975]\n",
      "-------------------------------------------------------------------------------\n",
      "const         705.1325     27.377     25.756      0.000     651.464     758.801\n",
      "Temperature    31.4271      0.553     56.859      0.000      30.344      32.511\n",
      "Humidity       -7.9197      0.351    -22.544      0.000      -8.608      -7.231\n",
      "Wind speed     35.9270      6.681      5.377      0.000      22.829      49.025\n",
      "Rainfall      -59.3809      6.586     -9.016      0.000     -72.292     -46.470\n",
      "==============================================================================\n",
      "Omnibus:                      811.397   Durbin-Watson:                   2.012\n",
      "Prob(Omnibus):                  0.000   Jarque-Bera (JB):             1387.277\n",
      "Skew:                           0.887   Prob(JB):                    5.71e-302\n",
      "Kurtosis:                       4.512   Cond. No.                         269.\n",
      "==============================================================================\n",
      "\n",
      "Notes:\n",
      "[1] Standard Errors assume that the covariance matrix of the errors is correctly specified.\n"
     ]
    }
   ],
   "source": [
    "import pandas as pd\n",
    "import statsmodels.api as sm\n",
    "from sklearn.model_selection import train_test_split\n",
    "\n",
    "# import data\n",
    "df = pd.read_csv('SeoulBikeData.csv')\n",
    "\n",
    "# Subset data sesuai dengan x dan y pada soal\n",
    "x = df[['Temperature', 'Humidity', 'Wind speed', 'Rainfall']]\n",
    "y = df['Rented Bike Count']\n",
    "\n",
    "# Membagi x test dan x train dengan rasio 3:7\n",
    "x_train, x_test, y_train, y_test = train_test_split(x, y, test_size=0.3, random_state=42)\n",
    "\n",
    "# membuat konstanta untuk model\n",
    "x_train = sm.add_constant(x_train)\n",
    "x_test= sm.add_constant(x_test)\n",
    "\n",
    "# membuat model regresi\n",
    "result = sm.OLS(y_train, x_train).fit()\n",
    "print(result.summary())\n"
   ]
  },
  {
   "cell_type": "markdown",
   "metadata": {},
   "source": [
    "### __R square__"
   ]
  },
  {
   "cell_type": "markdown",
   "metadata": {},
   "source": [
    "hasilnya didapatkan R square sebesar 38% sehingga variabel x hanya berpengaruh sebesar 30% pada variabel y dan 70% dipengaruhi oleh faktor lain. \n",
    "oleh karena itu data prediksi jumlah perental sepeda mungkin masih berbeda jauh dari data aslinya"
   ]
  },
  {
   "cell_type": "markdown",
   "metadata": {},
   "source": [
    "### __Persamaan regresi__"
   ]
  },
  {
   "cell_type": "markdown",
   "metadata": {},
   "source": [
    "membuat persamaan regresi sesuai dengan b0, b1, b2, b3, b4 yang telah didapatkan dari persamaan regresi diatas. menggunakan result.params untuk memanggilnya\n"
   ]
  },
  {
   "cell_type": "code",
   "execution_count": 113,
   "metadata": {},
   "outputs": [
    {
     "name": "stdout",
     "output_type": "stream",
     "text": [
      "Persamaan regresi: Y = 705.1325034396627 + 31.427064042495367X1 + -7.9197015767581815X2 + 35.92702692563522X3 + -59.38091393161231X4\n"
     ]
    }
   ],
   "source": [
    "print(f\"Persamaan regresi: Y = {result.params[0]} + {result.params[1]}X1 + {result.params[2]}X2 + {result.params[3]}X3 + {result.params[4]}X4\")"
   ]
  },
  {
   "attachments": {
    "image.png": {
     "image/png": "[encoded data removed]"
    }
   },
   "cell_type": "markdown",
   "metadata": {},
   "source": [
    "### __Prediksi perental sepeda berdasarkan ini__\n",
    "![image.png](attachment:image.png)"
   ]
  },
  {
   "cell_type": "markdown",
   "metadata": {},
   "source": [
    "menggunakan fungsi untuk menampilkan jumlah perental sepeda dengan X yang telah ditentukan.\n",
    "    - menggunakan zip untuk menggabungkan nilai dari setiap kunci dalam dictionary data (yaitu 'Temperature', 'Humidity', 'Wind speed', dan 'Rainfall') ke empat tuple yang berisi nilai-nilai yang sesuai. lalu, dikali dengan rumus regresi yang telah dihitung sebelumnya.\n",
    "    - print hasilnya"
   ]
  },
  {
   "cell_type": "code",
   "execution_count": 124,
   "metadata": {},
   "outputs": [
    {
     "name": "stdout",
     "output_type": "stream",
     "text": [
      "Jumlah penyewa sepeda ketika temperature 25°C, humidity 45, wind speed 0.8, serta rainfall 0 adalah sebanyak 1163\n",
      "Jumlah penyewa sepeda ketika temperature 30°C, humidity 90, wind speed 0.1, serta rainfall 0.2 adalah sebanyak 927\n",
      "Jumlah penyewa sepeda ketika temperature 26°C, humidity 50, wind speed 1, serta rainfall 0.4 adalah sebanyak 1138\n",
      "Jumlah penyewa sepeda ketika temperature 28°C, humidity 55, wind speed 0.5, serta rainfall 0 adalah sebanyak 1167\n",
      "Jumlah penyewa sepeda ketika temperature 20°C, humidity 40, wind speed 0.7, serta rainfall 0 adalah sebanyak 1042\n"
     ]
    }
   ],
   "source": [
    "def prediksi2(data):\n",
    "    for temp, hum, wind, rainfall in zip(data['Temperature'], data['Humidity'], data['Wind speed'], data['Rainfall']):\n",
    "        hasil = result.params[0] + result.params[1]*temp + result.params[2]*hum + result.params[3]*wind + result.params[4]*rainfall\n",
    "        print(f\"Jumlah penyewa sepeda ketika temperature {temp}°C, humidity {hum}, wind speed {wind}, serta rainfall {rainfall} adalah sebanyak {hasil:.0f}\")\n",
    "\n",
    "# Memanggil fungsi dengan data prediksi\n",
    "prediksi2({\n",
    "    'Temperature': [25, 30, 26, 28, 20],\n",
    "    'Humidity': [45, 90, 50, 55, 40],\n",
    "    'Wind speed': [0.8, 0.1, 1, 0.5, 0.7],\n",
    "    'Rainfall': [0, 0.2, 0.4, 0, 0]\n",
    "})\n"
   ]
  },
  {
   "cell_type": "code",
   "execution_count": null,
   "metadata": {},
   "outputs": [],
   "source": []
  }
 ],
 "metadata": {
  "kernelspec": {
   "display_name": "base",
   "language": "python",
   "name": "python3"
  },
  "language_info": {
   "codemirror_mode": {
    "name": "ipython",
    "version": 3
   },
   "file_extension": ".py",
   "mimetype": "text/x-python",
   "name": "python",
   "nbconvert_exporter": "python",
   "pygments_lexer": "ipython3",
   "version": "3.11.5"
  }
 },
 "nbformat": 4,
 "nbformat_minor": 2
}
