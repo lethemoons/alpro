{
  "cells": [
    {
      "cell_type": "markdown",
      "metadata": {
        "id": "Dph8kRrn-txS"
      },
      "source": [
        "## ***Adinda Syarifatul Muna***\n",
        "### **164231042**\n",
        "### **SD-A2**"
      ]
    },
    {
      "cell_type": "markdown",
      "metadata": {
        "id": "ePjO2totv7mg"
      },
      "source": [
        "### **1. Menjalankan kode contoh praktikum**\n"
      ]
    },
    {
      "cell_type": "markdown",
      "metadata": {},
      "source": [
        "### ***DICTIONARY*** adalah obyek yang berisi daftar pasangan kunci dan nilai\n",
        "#### penejelasannya ada dicomment"
      ]
    },
    {
      "cell_type": "code",
      "execution_count": 3,
      "metadata": {},
      "outputs": [
        {
          "name": "stdout",
          "output_type": "stream",
          "text": [
            "dict_keys(['Andrian', 'Vancy', 'Dewi'])\n",
            "['Andrian', 'Vancy', 'Dewi']\n",
            "dict_values(['A1', 'A2', 'A3'])\n",
            "dict_items([('Andrian', 'A1'), ('Vancy', 'A2'), ('Dewi', 'A3')])\n",
            "None\n",
            "NO ENTRY\n"
          ]
        }
      ],
      "source": [
        "kelas={'Andrian':'A1', 'Vancy':'A2', 'Dewi':'A3'}\n",
        "p= kelas.keys() # untuk mengambil semua kunci dictionary -> [Andrian, Vancy, Dewi]\n",
        "print(p)\n",
        "l = list(kelas.keys()) # untuk membuat list dari semua kunci-kunci dictionary -> [Andrian, Vancy, Dewi]\n",
        "print(l)\n",
        "v= kelas.values() # untuk mengakses semua nilai dari dictionary\n",
        "print(v)\n",
        "i= kelas.items() # print tuple pasangan-pasangan yang ada di dictionary\n",
        "print(i)\n",
        "g= kelas.get('Cahyo') # fungsi get untuk mengambil nilai dengan kunci 'Cahyo' apakah ada di dictionary, jika tidak ada outputnya 'None'\n",
        "print(g)\n",
        "g1= kelas.get('Fitri','NO ENTRY') # fungsi get untuk mengambil nilai dengan kunci 'Cahyo' apakah ada di dictionary, jika tidak ada outputnya 'NO, ENTRY'\n",
        "print(g1)"
      ]
    },
    {
      "cell_type": "markdown",
      "metadata": {},
      "source": [
        "#### ***List*** dapat diubah dan bisa berisi campuran type, seperti integer dan string\n",
        "#### - cara mengakses salah satu list di indeks tertentu adalah dengan memanggil list tersebut, contoh list[2] itu berarti akan memanggil list di indeks ke-2\n",
        "#### - cara menambahkan nilai baru kedalam list di indeks tertentu adalah dengan menggunakan insert, contoh list.insert(4, 17) artinya menambahkan angka 17 di indeks ke-4\n",
        "#### - cara menghapus list adalah dengan mengggunakan del, contoh del list[1] berarti menghapus variabel list di indeks ke-1, bisa juga dengan menggunakan remove(nilai list yg akan dihapus), contoh list.remove(10) berarti menghapus angka 10 yang ada didalam list\n",
        "#### - cara menghapus semua isi list dengan menggunakan list.clear()"
      ]
    },
    {
      "cell_type": "code",
      "execution_count": 4,
      "metadata": {
        "colab": {
          "base_uri": "https://localhost:8080/"
        },
        "id": "5ql6mA-t-kFh",
        "outputId": "95cef627-6118-4fc9-cb6b-107b4010b202"
      },
      "outputs": [
        {
          "name": "stdout",
          "output_type": "stream",
          "text": [
            "list[2] : 13\n",
            "Data List Setelah di Update:  [3, 6, 13, 10, 17, 19, 45, 100, 120, 150, 23]\n",
            "Data List:  [3, 13, 10, 17, 19, 45, 100, 120, 150, 23]\n",
            "Data List Baru:  [3, 13, 17, 19, 45, 100, 120, 150, 23]\n",
            "Data list baru:  []\n"
          ]
        }
      ],
      "source": [
        "list= [3, 6, 13, 10, 19, 45, 100, 120, 150]\n",
        "print('list[2] :', list[2]) #Contoh akses nilai list dalam Python\n",
        "list.append(23) #Contoh update nilai list dalam Python\n",
        "list.insert(4, 17)\n",
        "print('Data List Setelah di Update: ', list)\n",
        "del list[1] #Contoh menghapus nilai list dalam Python\n",
        "print('Data List: ', list )\n",
        "list.remove(10)\n",
        "print('Data List Baru: ', list)\n",
        "list.clear() #Menghapus semua nilai list\n",
        "print('Data list baru: ', list)"
      ]
    },
    {
      "cell_type": "markdown",
      "metadata": {
        "id": "OUv9FeRN1KKF"
      },
      "source": [
        "#### ***TUPLE*** adalah list yang isinya tidak dapat dirubah, tuple dibuat dengan tanda kurung ()\n",
        "#### - len(list) untuk menhitung ada berapa banyak nilai/variabel yang ada di sebuah tuple"
      ]
    },
    {
      "cell_type": "code",
      "execution_count": 5,
      "metadata": {
        "colab": {
          "base_uri": "https://localhost:8080/"
        },
        "id": "3lRVrxjmwhcg",
        "outputId": "49128698-ce90-4f8a-9285-b211258fd9da"
      },
      "outputs": [
        {
          "name": "stdout",
          "output_type": "stream",
          "text": [
            "List:  (3, 6, 13, 10, 19, 45, 100, 120, 150)\n",
            "Panjang List:  9\n"
          ]
        }
      ],
      "source": [
        "# TUPLE\n",
        "list = (3, 6, 13, 10, 19, 45, 100, 120, 150)\n",
        "list1=len(list)\n",
        "print('List: ', list)\n",
        "print('Panjang List: ', list1)"
      ]
    },
    {
      "cell_type": "markdown",
      "metadata": {
        "id": "_ixArpfKNToZ"
      },
      "source": [
        "### 2. **Buatlah program list untuk input sejumlah angka secara acak (tidak urut) minimal 5 kemudian lakukan panjang list, urutkan data tersebut (dari kecil ke besar dan besar ke kecil), mencari nilai maksimum dan minimum dengan menggunakan method pada Python**\n",
        "##### - pertama inisiasi inputan untuk panjang listnya, lalul buat list kosong\n",
        "##### - jika nanti panjang listnya kurang dari 5, outputnya akan mengeluuarkan 'Panjang list minimal 5'\n",
        "##### - lalu dibuat perulangan sepanjang panjang list untuk memasukkan angka ke dalam - list satu per satu menggunakan fungsi append\n",
        "##### - lalu print list\n",
        "##### - sorted(list) untuk print list urut dari yang kecil ke besar\n",
        "##### - sorted(list, reverse = True) untuk mengurutkan list dari besar ke kecil\n",
        "##### - fungsi max untuk mengeluarkan nilai terbesar\n",
        "##### - fungsi min untuk mengeluarkan nilai terkecil"
      ]
    },
    {
      "cell_type": "code",
      "execution_count": 2,
      "metadata": {
        "colab": {
          "base_uri": "https://localhost:8080/"
        },
        "id": "wbUgFsFZxMHd",
        "outputId": "b63a9b4a-1ef1-428f-a1cc-819268ab6a24"
      },
      "outputs": [
        {
          "name": "stdout",
          "output_type": "stream",
          "text": [
            "list asli: [1, 2, 3, 4, 4, 2, 3]\n",
            "list urut dari kecil: [1, 2, 2, 3, 3, 4, 4]\n",
            "list urut dari besar: [4, 4, 3, 3, 2, 2, 1]\n",
            "nilai terbesar: 4\n",
            "nilai terkecil: 1\n"
          ]
        }
      ],
      "source": [
        "a = int(input('Masukkan panjang list: '))\n",
        "list = []\n",
        "if a >= 5:\n",
        "  for i in range(a):\n",
        "    b = int(input(f'Masukkan angka ke {i+1}: '))\n",
        "    list.append(b)\n",
        "  print('list asli:',list)\n",
        "  print('list urut dari kecil:',sorted(list))\n",
        "  print('list urut dari besar:',sorted(list, reverse = True))\n",
        "  print('nilai terbesar:',max(list))\n",
        "  print('nilai terkecil:',min(list))\n",
        "else:\n",
        "  print('Panjang list minimal 5')\n"
      ]
    },
    {
      "cell_type": "markdown",
      "metadata": {
        "id": "Bu_sl6Qh48DP"
      },
      "source": [
        "### **3. Buatlah program untuk menentukan bilangan prima dari 2 input bilangan**\n",
        "#### jadi dengan input bilangan awal dan bilangan akhir, kita membuat list dari bilangan awal - bilangan akhir tersebut. Lalu kita juga membuat output berupa list bilangan prima dari list tersebut.\n",
        "##### - inisiasi input untuk bilangan awal dan akhir list\n",
        "##### - membuat list kosong, untuk list bilangan dan list bilangan prima\n",
        "##### - penjelasan lanjuatn ada dicomment kode"
      ]
    },
    {
      "cell_type": "code",
      "execution_count": 22,
      "metadata": {
        "colab": {
          "base_uri": "https://localhost:8080/"
        },
        "id": "IkmTD4rHqRi-",
        "outputId": "75d935c7-869d-4169-a3fa-26248779e26f"
      },
      "outputs": [
        {
          "name": "stdout",
          "output_type": "stream",
          "text": [
            "Masukkan bilangan awal: 1\n",
            "Masukkan bilangan akhir: 14\n",
            "List angka:  [1, 2, 3, 4, 5, 6, 7, 8, 9, 10, 11, 12, 13, 14]\n",
            "Bilangan prima:  [2, 3, 5, 7, 11, 13]\n"
          ]
        }
      ],
      "source": [
        "a = int(input('Masukkan bilangan awal: '))\n",
        "b = int(input('Masukkan bilangan akhir: '))\n",
        "list = []\n",
        "prima = []\n",
        "for i in range(a, b+1):    # untuk membuat list dari inputan bilangan awal-akhir, menggunakan perulangan for i in range(a, b+1)\n",
        "  list.append(i)           # untuk menambahkan angka kedalam list kosong tadi, jadi setiap angka perulangan dimasukkan ke list tersebut\n",
        "  if i > 1:                # mencari bilangan prima, karena bil. prima harus > 1\n",
        "    for x in range(2, i):  # loop untuk mengecek apakah sebuah bilangan habis dibagi bilangan dalam range 2 sampai i-1, jadi nanti angka 2 tergolong bilangan prima karena tidak bisa range(2,1) #harus dari kecil ke besar\n",
        "        if i % x == 0:     # jika bilangan bisa dibagi bilangan maka break\n",
        "          break\n",
        "    else:\n",
        "      prima.append(i)     # untuk bilangan yang tidak bisa dibagi bilangan lain, maka akan dimasukkan kedalam list prima\n",
        "\n",
        "print('List angka: ', list)         # print list angka\n",
        "print('Bilangan prima: ', prima)    # print list bilangan prima"
      ]
    },
    {
      "cell_type": "markdown",
      "metadata": {
        "id": "KZw7LIQLIc9L"
      },
      "source": [
        "### **4. Mencari kata dari dictionary**\n",
        "#### - membuat dictionary kosong dulu\n",
        "#### - membuat perulangan sebanyak sepuluh kali untuk memasukkan kata kunci dan nilai untuk dimasukkan ke dictionary/kamus. inputan kunci dan nilai dibuat lower agar semua hurufnya jadi kecil\n",
        "#### - kamus[kunci] = nilai -> untuk membuat inputan kata dari kunci dimasukkan sebagai key dan inputan kata dari nilai sebagai value\n",
        "#### print(kamus) untuk menampilkan dictionary\n",
        "#### - cari_kata -> untuk inputan kata yang akan dicari di dictionary\n",
        "#### - menggunakan method get untuk mengembalikan value dari kata kunci, dan print 'kata tersebut belum ada pada dictionary' jika kata tersebut tidak ada di kamus"
      ]
    },
    {
      "cell_type": "code",
      "execution_count": 1,
      "metadata": {
        "colab": {
          "base_uri": "https://localhost:8080/"
        },
        "id": "qzt7UMg2CAq4",
        "outputId": "34e10e81-670b-46ad-ca4f-07aea8614082"
      },
      "outputs": [
        {
          "name": "stdout",
          "output_type": "stream",
          "text": [
            "Dictionary:  {'sapi': 'sapii', 'aya,': 'babi', 'kuda': 'rumah', 'kok': 'akeh', 'he': 'pegel', 'akyu': 'pengen', 'muleh': 'aku', 'lesu': 'selat', 'bernbuka': 'puasa', 'heh': 'j'}\n",
            "Value dari kata kunci adalah: Kata tersebut belum ada pada dictionary\n"
          ]
        }
      ],
      "source": [
        "kamus = {}\n",
        "\n",
        "for i in range(10):\n",
        "  kunci = input('Masukkan kunci: ').lower()\n",
        "  nilai = input('Masukkan nilai: ').lower()s\n",
        "\n",
        "  kamus[kunci] = nilai\n",
        "\n",
        "print('Dictionary: ', kamus)\n",
        "\n",
        "cari_kata= input('Masukkan kata yang ingin dicari: ').lower()\n",
        "print('Value dari kata kunci adalah:', kamus.get(cari_kata, 'Kata tersebut belum ada pada dictionary'))"
      ]
    },
    {
      "cell_type": "code",
      "execution_count": null,
      "metadata": {
        "id": "Xz5b3S5-6wbw"
      },
      "outputs": [],
      "source": []
    }
  ],
  "metadata": {
    "colab": {
      "provenance": []
    },
    "kernelspec": {
      "display_name": "Python 3",
      "name": "python3"
    },
    "language_info": {
      "codemirror_mode": {
        "name": "ipython",
        "version": 3
      },
      "file_extension": ".py",
      "mimetype": "text/x-python",
      "name": "python",
      "nbconvert_exporter": "python",
      "pygments_lexer": "ipython3",
      "version": "3.11.5"
    }
  },
  "nbformat": 4,
  "nbformat_minor": 0
}
