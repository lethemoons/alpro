{
 "cells": [
  {
   "cell_type": "markdown",
   "metadata": {},
   "source": [
    "## __*Adinda Syarifatul Muna*__\n",
    "### __164231043__\n",
    "### __SD-A2__"
   ]
  },
  {
   "attachments": {
    "image.png": {
     "image/png": "[encoded data removed]"
    }
   },
   "cell_type": "markdown",
   "metadata": {},
   "source": [
    "1. Membuat graf\n",
    "Dengan mengacu teori diatas, buatlah sebuah representasi graf pada file ‘praktikum12.py’\n",
    "di PyCharm dari bentuk graf berikut ini:\n",
    "\n",
    "![image.png](attachment:image.png)"
   ]
  },
  {
   "cell_type": "markdown",
   "metadata": {},
   "source": [
    "### __Penjelasan__\n",
    "\n",
    "membuat graf sesuai dengan gambar, menyesuaikan edge dan node sesuai dengan arah anak panah \n",
    "dengan hasil sebagai berikut"
   ]
  },
  {
   "cell_type": "code",
   "execution_count": 1,
   "metadata": {},
   "outputs": [],
   "source": [
    "graf= {\n",
    "    '1': ['2', '3', '4'],       # node 1 memiliki hubungan dengan node 2, 3, dan 4\n",
    "    '3' : ['4'],                # node 3 memiliki hubungan dengan node 4\n",
    "    '4' : ['5'],                # node 4 memuliki hubungan dengan node 5\n",
    "    '5' : ['3', '2']            # node 5 memiliki hubungan dengan node 3 dan 2\n",
    "}"
   ]
  },
  {
   "cell_type": "markdown",
   "metadata": {},
   "source": [
    "2. Cobalah kode berikut untuk menemukan jalur dari node 1 ke node 5. Jelaskan hasil\n",
    "keluarannya."
   ]
  },
  {
   "cell_type": "markdown",
   "metadata": {},
   "source": [
    "### __Penjelasan__\n",
    "\n",
    "fungsi untuk menemukan semua jalur dari node 1 ke node 5\n",
    "\n",
    "- insiasi fungsi dengan parameter berupa graf, node awal jalur, node akhir/ node tujuan, path=[] sebagai inisiasi awal\n",
    "- menambahkan node awal kedalam path\n",
    "- jika node awal sudah sama dengan node akhir -> print jalur ditemukan + pathnya\n",
    "- return path\n",
    "- jika node awal tidak ada dalam graf, return list kosong karena tidak ada jalur\n",
    "- inisiasi list kosong 'paths' untuk menyimpan rute yang ditemukan\n",
    "- looping untuk setiap node yang terhubung dengan node awal\n",
    "- print jalur saat ini dan node yang akan dieksekusi selanjutnya\n",
    "-  if node not in path: -> untuk memerikasa jika node berikutnya tidak ada dijalur maka lanjutkan pencarian\n",
    "- Mencari semua jalur yang mungkin dari node saat ini menggunakan fungsi rekursi. Setiap jalur baru ditambahkan ke paths\n",
    "- return paths yang telah ditemukan"
   ]
  },
  {
   "cell_type": "code",
   "execution_count": 2,
   "metadata": {},
   "outputs": [],
   "source": [
    "def find_all_paths(graph, node_awal, node_akhir, path=[]):\n",
    "    path= path +[node_awal]\n",
    "    if node_awal == node_akhir:\n",
    "        print(\"===== Jalur yang ditemukan:\", path)\n",
    "        return [path]\n",
    "\n",
    "    if node_awal not in graph:\n",
    "        return []\n",
    "    paths = []\n",
    "\n",
    "    for node in graph[node_awal]: \n",
    "        print('Path saat ini', path) \n",
    "        print(f'Node tujuan berikutnya adalah {node} dari node sebelumnya yaitu {node_awal}')\n",
    "        \n",
    "        \n",
    "        if node not in path:\n",
    "            newpaths =find_all_paths(graph, node, node_akhir, path) #fungsi rekursi\n",
    "            for newpath in newpaths:\n",
    "                paths.append(newpath)\n",
    "    return paths"
   ]
  },
  {
   "cell_type": "code",
   "execution_count": 3,
   "metadata": {},
   "outputs": [
    {
     "name": "stdout",
     "output_type": "stream",
     "text": [
      "Path saat ini ['1']\n",
      "Node tujuan berikutnya adalah 2 dari node sebelumnya yaitu 1\n",
      "Path saat ini ['1']\n",
      "Node tujuan berikutnya adalah 3 dari node sebelumnya yaitu 1\n",
      "Path saat ini ['1', '3']\n",
      "Node tujuan berikutnya adalah 4 dari node sebelumnya yaitu 3\n",
      "Path saat ini ['1', '3', '4']\n",
      "Node tujuan berikutnya adalah 5 dari node sebelumnya yaitu 4\n",
      "===== Jalur yang ditemukan: ['1', '3', '4', '5']\n",
      "Path saat ini ['1']\n",
      "Node tujuan berikutnya adalah 4 dari node sebelumnya yaitu 1\n",
      "Path saat ini ['1', '4']\n",
      "Node tujuan berikutnya adalah 5 dari node sebelumnya yaitu 4\n",
      "===== Jalur yang ditemukan: ['1', '4', '5']\n"
     ]
    }
   ],
   "source": [
    "hasil = find_all_paths(graf, '1', '5', path=[])"
   ]
  },
  {
   "cell_type": "markdown",
   "metadata": {},
   "source": [
    "3. Cobalah kode berikut untuk menemukan jalur terpendek"
   ]
  },
  {
   "cell_type": "markdown",
   "metadata": {},
   "source": [
    "### __Penjelasan__\n",
    "fungsi untuk menentukan jalur terpendek:\n",
    "- inisiasi fungsi dengan parameter graph, node awal, node akhir, dan path\n",
    "- path digunakan untuk menyimpan jalur yang telah ditempuh. Pada setiap iterasi, node_awal akan ditambahkan ke path.\n",
    "- jika node awal sudah sama dengan node akhir -> print jalur ditemukan + pathnya\n",
    "- return path\n",
    "- jika node awal tidak ada didalam graf maka return none\n",
    "- inisiasi shortest sbg list kosong yang nntinya akan diisi rute terpendek\n",
    "- iterasi untuk setiap node yang terhubung dengan node awal\n",
    "- jika node belum ada di path, maka dicari jalur baru menggunakan fungsi rekursi\n",
    "- Jika jalur baru ditemukan (newpaths), dan jalur tersebut lebih pendek dari jalur terpendek sebelumnya, shortest akan diupdate.\n",
    "- return jalur terpendek"
   ]
  },
  {
   "cell_type": "code",
   "execution_count": 4,
   "metadata": {},
   "outputs": [],
   "source": [
    "\n",
    "def find_shortest_path(graph, node_awal, node_akhir, path=[]):\n",
    "    path = path + [node_awal]\n",
    "    if node_awal == node_akhir:                             # untuk menecek apakah tujuan awal==tujuan akhir, apakah udah sampai atau belo \n",
    "        print(\"===== Jalur yang ditemukan:\", path)\n",
    "        return path\n",
    "    if node_awal not in graph:\n",
    "        return None\n",
    "    shortest = []\n",
    "\n",
    "    for node in graph [node_awal]:\n",
    "        print('Path saat ini', path)\n",
    "        print('Node tujuan berikutnya adalah', node, 'dari node sebelumnya yaitu', node_awal)\n",
    "\n",
    "        if node not in path:\n",
    "            newpaths = find_shortest_path(graph, node, node_akhir, path) \n",
    "            if newpaths:\n",
    "                if not shortest or len (newpaths) < len(shortest): \n",
    "                    shortest = newpaths\n",
    "    return shortest"
   ]
  },
  {
   "cell_type": "code",
   "execution_count": 6,
   "metadata": {},
   "outputs": [
    {
     "name": "stdout",
     "output_type": "stream",
     "text": [
      "Path saat ini ['1']\n",
      "Node tujuan berikutnya adalah 2 dari node sebelumnya yaitu 1\n",
      "Path saat ini ['1']\n",
      "Node tujuan berikutnya adalah 3 dari node sebelumnya yaitu 1\n",
      "Path saat ini ['1', '3']\n",
      "Node tujuan berikutnya adalah 4 dari node sebelumnya yaitu 3\n",
      "Path saat ini ['1', '3', '4']\n",
      "Node tujuan berikutnya adalah 5 dari node sebelumnya yaitu 4\n",
      "===== Jalur yang ditemukan: ['1', '3', '4', '5']\n",
      "Path saat ini ['1']\n",
      "Node tujuan berikutnya adalah 4 dari node sebelumnya yaitu 1\n",
      "Path saat ini ['1', '4']\n",
      "Node tujuan berikutnya adalah 5 dari node sebelumnya yaitu 4\n",
      "===== Jalur yang ditemukan: ['1', '4', '5']\n"
     ]
    },
    {
     "data": {
      "text/plain": [
       "['1', '4', '5']"
      ]
     },
     "execution_count": 6,
     "metadata": {},
     "output_type": "execute_result"
    }
   ],
   "source": [
    "find_shortest_path(graf,'1','5',path=[])"
   ]
  },
  {
   "cell_type": "markdown",
   "metadata": {},
   "source": [
    "ini menggunakan cara lain, dengan hasil jalur yang didapatkan dengan menggunakan fungsi find_all_path \n",
    "- inisiasi list kosong untuk menyimpan rute terpendek\n",
    "- untuk setiap rute di hasil\n",
    "- jika jumlah rute < len(pendek), maka pendek = i\n",
    "- jadi ini mencari list rute mana yang isinya paling sedikit\n",
    "- yang paling sedikit itu adalah rute terpendek\n"
   ]
  },
  {
   "cell_type": "code",
   "execution_count": 7,
   "metadata": {},
   "outputs": [
    {
     "name": "stdout",
     "output_type": "stream",
     "text": [
      "jumlah rute yang ditemukan [['1', '3', '4', '5'], ['1', '4', '5']]\n",
      "rute terpendek adalah: ['1', '4', '5']\n"
     ]
    }
   ],
   "source": [
    "print('jumlah rute yang ditemukan', hasil)\n",
    "pendek = []\n",
    "for i in hasil:\n",
    "    if pendek != []:\n",
    "        if len(i) < len(pendek):\n",
    "            pendek = i\n",
    "    else:\n",
    "        pendek=i\n",
    "print('rute terpendek adalah:', pendek)\n"
   ]
  },
  {
   "cell_type": "markdown",
   "metadata": {},
   "source": [
    "4. Modifikasilah graf tadi dengan memberi weight/jarak pada setiap edge-nya dengan\n",
    "ketentuan sebagai berikut:\n",
    "\n",
    "a. 1 -> 2 = 2\n",
    "\n",
    "b. 1 -> 3 = 3\n",
    "\n",
    "c. 1 -> 4 = 4\n",
    "\n",
    "d. 3 -> 4 = 2\n",
    "\n",
    "e. 4 -> 5 = 3\n",
    "\n",
    "f. 5 -> 3 = 1"
   ]
  },
  {
   "cell_type": "markdown",
   "metadata": {},
   "source": [
    "### __Penjelasan__\n",
    "\n",
    "memodifikasi graf dengan menambahkan jarak pada setiap edge nya, jdi setiap nodenya memiliki nilai. seperti graf dibawah"
   ]
  },
  {
   "cell_type": "code",
   "execution_count": 2,
   "metadata": {},
   "outputs": [],
   "source": [
    "graf2= {\n",
    "    '1': {'2':2, '3':3, '4':4},\n",
    "    '3' : {'4':2},\n",
    "    '4' : {'5':3},\n",
    "    '5' : {'3':1, '2':1}\n",
    "}"
   ]
  },
  {
   "cell_type": "markdown",
   "metadata": {},
   "source": [
    "5. Hitung total jarak yang harus dilalui dari node 1 ke node 5. Tentukan jalur terpendeknya!"
   ]
  },
  {
   "cell_type": "markdown",
   "metadata": {},
   "source": [
    "### __Penjelasan__\n",
    "\n",
    "ini fungsi untuk menentukan rute terpendek yang dihitung dar weight/jarak dari graf nya\n",
    "\n",
    "1. inisiasi fungsi dengan parameter graf, node awal, node akhir, path=[], dan distance= 0 -> untuk jaraknya\n",
    "2. path untuk menambahkan node awal ke jalur\n",
    "3. jika node awal sama dengan node akhir, maka jalur ditemukan dan return path dan jarak\n",
    "4. jika node awal tidak ada di graf, return none untuk jalur dan jarak\n",
    "5. inisiasi jalur terpendek dan jarak terpendek dengan None\n",
    "6. untuk node, panjang di graf[node_awal].items()\n",
    "7. jika nde tidak ada di jalur, cari jalur terpendek dari node ke node akhir\n",
    "8. menggunakan fungsi rekursi untuk mencari jalur tenpendek\n",
    "9. Jika jalur ditemukan dan jarak baru lebih pendek daripada jarak terpendek sebelumnya, simpan jalur dan jarak baru\n",
    "10. return  shortest_path untuk jalur, shortest_distance untuk jarak\n"
   ]
  },
  {
   "cell_type": "code",
   "execution_count": 3,
   "metadata": {},
   "outputs": [],
   "source": [
    "def find_shortest_path_dis(graph, node_awal, node_akhir, path=[], jarak=0):\n",
    "    path = path + [node_awal]\n",
    "    if node_awal == node_akhir:\n",
    "        return path, jarak\n",
    "    if node_awal not in graph:\n",
    "        return None, None\n",
    "    \n",
    "    shortest_path = None\n",
    "    shortest_distance = None\n",
    "\n",
    "    for node, panjang in graph[node_awal].items():\n",
    "        if node not in path:\n",
    "            new_path, new_distance = find_shortest_path_dis(graph, node, node_akhir, path, jarak + panjang)\n",
    "\n",
    "            if new_path and (new_distance is not None) and (shortest_distance is None or new_distance < shortest_distance):\n",
    "                shortest_path = new_path\n",
    "                shortest_distance = new_distance\n",
    "\n",
    "    return shortest_path, shortest_distance\n",
    "\n"
   ]
  },
  {
   "cell_type": "code",
   "execution_count": 5,
   "metadata": {},
   "outputs": [
    {
     "name": "stdout",
     "output_type": "stream",
     "text": [
      "Rute Terpendek=  ['1', '4', '5']\n",
      "Jaraak Terdekat=  7\n"
     ]
    }
   ],
   "source": [
    "rute, jarak = find_shortest_path_dis(graf2, '1', '5', path=[], jarak=0)\n",
    "print('Rute Terpendek= ', rute)\n",
    "print('Jaraak Terdekat= ', jarak)"
   ]
  },
  {
   "cell_type": "code",
   "execution_count": null,
   "metadata": {},
   "outputs": [],
   "source": []
  }
 ],
 "metadata": {
  "kernelspec": {
   "display_name": "base",
   "language": "python",
   "name": "python3"
  },
  "language_info": {
   "codemirror_mode": {
    "name": "ipython",
    "version": 3
   },
   "file_extension": ".py",
   "mimetype": "text/x-python",
   "name": "python",
   "nbconvert_exporter": "python",
   "pygments_lexer": "ipython3",
   "version": "3.11.5"
  }
 },
 "nbformat": 4,
 "nbformat_minor": 2
}
