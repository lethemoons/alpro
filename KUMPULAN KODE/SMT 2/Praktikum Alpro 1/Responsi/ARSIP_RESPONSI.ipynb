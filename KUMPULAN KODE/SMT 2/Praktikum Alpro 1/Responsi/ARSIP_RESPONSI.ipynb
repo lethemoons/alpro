{
  "cells": [
    {
      "cell_type": "markdown",
      "id": "4c574c48",
      "metadata": {
        "id": "4c574c48"
      },
      "source": [
        " # RESPONSI 2"
      ]
    },
    {
      "cell_type": "markdown",
      "id": "8f7b7faf",
      "metadata": {
        "id": "8f7b7faf"
      },
      "source": [
        "#### Membuat program lagu 'balonku ada lima' dengan mengganti jumlah balon dan warna balon meletus sesuai inputan"
      ]
    },
    {
      "cell_type": "code",
      "execution_count": null,
      "id": "0076309c",
      "metadata": {
        "id": "0076309c",
        "outputId": "375ae322-3490-48d5-d4d7-3c0f8519a321"
      },
      "outputs": [
        {
          "name": "stdout",
          "output_type": "stream",
          "text": [
            "masukkan jumlah balon = 5\n",
            "masukkan warna balon meletus = kuning\n",
            "balonku ada 5, rupa-rupa warnanya ['merah', 'kuning', 'hijau', 'biru', 'ungu'], meletus balon kuning dorrr, hatiku sangat kacau balonku tinggal 4 kupegang erat-erat\n"
          ]
        }
      ],
      "source": [
        "#RESPONSI\n",
        "warna = [\"merah\", \"kuning\", \"hijau\", \"biru\", \"ungu\", \"kelabu\"]\n",
        "balon = int(input(\"masukkan jumlah balon = \"))\n",
        "meletus = input(\"masukkan warna balon meletus = \")\n",
        "jumlah = len(warna)\n",
        "wbalon = warna[0:balon]\n",
        "if balon > jumlah :\n",
        "    print(\"maaf jumlah balon terlalu banyak\")\n",
        "else :\n",
        "    if meletus in warna :\n",
        "        print(f\"balonku ada {balon}, rupa-rupa warnanya {wbalon}, meletus balon {meletus} dorrr, hatiku sangat kacau balonku tinggal {balon-1} kupegang erat-erat\")\n",
        "    else :\n",
        "        print(\"maaf warna balon tidak tersedia\")"
      ]
    },
    {
      "cell_type": "markdown",
      "id": "eadc1110",
      "metadata": {
        "id": "eadc1110"
      },
      "source": [
        "#### Membuat program lagu 'anak ayam' dengan jumlah anak ayam sesuai inputan"
      ]
    },
    {
      "cell_type": "code",
      "execution_count": null,
      "id": "63e2eb98",
      "metadata": {
        "id": "63e2eb98",
        "outputId": "62da4364-4a66-44e4-9437-dfd280a98f9d"
      },
      "outputs": [
        {
          "name": "stdout",
          "output_type": "stream",
          "text": [
            "masukkan total ayam anda: 7\n",
            "anak ayam turunlah 7 mati satu tinggallah 6\n",
            "anak ayam turunlah 6 mati satu tinggallah 5\n",
            "anak ayam turunlah 5 mati satu tinggallah 4\n",
            "anak ayam turunlah 4 mati satu tinggallah 3\n",
            "anak ayam turunlah 3 mati satu tinggallah 2\n",
            "anak ayam turunlah 2 mati satu tinggallah 1\n",
            "anak ayam turunlah 1 mati satu tinggal induknya\n"
          ]
        }
      ],
      "source": [
        "x = int(input(\"masukkan total ayam anda: \"))\n",
        "\n",
        "for i in range (x,0,-1) :\n",
        "    if i > 1 :\n",
        "        print (f\"anak ayam turunlah {i} mati satu tinggallah {i-1}\")\n",
        "    else :\n",
        "        print ('anak ayam turunlah 1 mati satu tinggal induknya')"
      ]
    },
    {
      "cell_type": "markdown",
      "id": "38a9cd1f",
      "metadata": {
        "id": "38a9cd1f"
      },
      "source": [
        "# RESPONSI 3"
      ]
    },
    {
      "cell_type": "markdown",
      "id": "7e856f01",
      "metadata": {
        "id": "7e856f01"
      },
      "source": [
        "#### Membuat sistem antrian toko roti dengan waktu tunggu 10 menit tiap antrian dan antrian maksimal berjumlah 5"
      ]
    },
    {
      "cell_type": "code",
      "execution_count": 2,
      "id": "41a55c6d",
      "metadata": {
        "id": "41a55c6d"
      },
      "outputs": [],
      "source": [
        "daftar = []\n",
        "\n",
        "def masuk():\n",
        "    while True :\n",
        "        subjek = input(\"masukkan nama anda : \")\n",
        "        waktu = 0\n",
        "        if len(daftar) < 6:\n",
        "            daftar.append(subjek)\n",
        "            print(f\"antrian {daftar[-1]} masuk\")\n",
        "            for i in range(len(daftar)):\n",
        "                waktu += 10\n",
        "            print(f'waktu tunggu sekarang {waktu} menit')\n",
        "\n",
        "        else:\n",
        "            print(f\"maaf {subjek} antrian sudah penuh\")\n",
        "            break\n",
        "\n",
        "def antrian():\n",
        "    print(f\"antrian saat ini berjumlah {len(daftar)}\")\n",
        "    print(f'jumlah waktu tunggu sekarang {len(daftar*10)}')\n",
        "\n",
        "def keluar():\n",
        "    if len(daftar) > 1:\n",
        "        print(f'{daftar[0]} keluar antrian')\n",
        "        daftar.pop(0)\n",
        "        print(f'antrian sekarang : {daftar} dengan jumlah {len(daftar)}')\n",
        "        print(f'waktu tunggu : {len(daftar)*10}')\n",
        "    else:\n",
        "        print('antrian kosong')\n"
      ]
    },
    {
      "cell_type": "code",
      "execution_count": 3,
      "id": "680221e2",
      "metadata": {
        "id": "680221e2",
        "outputId": "49857ede-18bf-49a8-e87f-ce65249c7cd7"
      },
      "outputs": [
        {
          "name": "stdout",
          "output_type": "stream",
          "text": [
            "antrian aku masuk\n",
            "waktu tunggu sekarang 10 menit\n",
            "antrian dia masuk\n",
            "waktu tunggu sekarang 20 menit\n",
            "antrian siapa masuk\n",
            "waktu tunggu sekarang 30 menit\n",
            "antrian lagi masuk\n",
            "waktu tunggu sekarang 40 menit\n",
            "antrian yang masuk\n",
            "waktu tunggu sekarang 50 menit\n",
            "antrian mau masuk\n",
            "waktu tunggu sekarang 60 menit\n",
            "maaf di antrian sudah penuh\n"
          ]
        }
      ],
      "source": [
        "masuk()\n"
      ]
    },
    {
      "cell_type": "code",
      "execution_count": null,
      "id": "3840927b",
      "metadata": {
        "id": "3840927b",
        "outputId": "ec018d5f-089a-43ce-f939-e0a21593ae31"
      },
      "outputs": [
        {
          "name": "stdout",
          "output_type": "stream",
          "text": [
            "antrian saat ini berjumlah 6\n",
            "jumlah waktu tunggu sekarang 60\n"
          ]
        }
      ],
      "source": [
        "antrian()"
      ]
    },
    {
      "cell_type": "code",
      "execution_count": 4,
      "id": "48c46453",
      "metadata": {
        "id": "48c46453",
        "outputId": "88117fa3-a131-4868-d828-20de8f832c31"
      },
      "outputs": [
        {
          "name": "stdout",
          "output_type": "stream",
          "text": [
            "aku keluar antrian\n",
            "antrian sekarang : ['dia', 'siapa', 'lagi', 'yang', 'mau'] dengan jumlah 5\n",
            "waktu tunggu : 50\n"
          ]
        }
      ],
      "source": [
        "keluar()"
      ]
    },
    {
      "cell_type": "markdown",
      "id": "d06f2155",
      "metadata": {
        "id": "d06f2155"
      },
      "source": [
        "#### Membuat program antrian toko roti dimana oven bisa memproses 2 pesanan sekaligus"
      ]
    },
    {
      "cell_type": "code",
      "execution_count": 37,
      "id": "c58dedb2",
      "metadata": {
        "id": "c58dedb2",
        "outputId": "93cf7d70-9732-4191-bb21-ab0cb007cf81"
      },
      "outputs": [
        {
          "name": "stdout",
          "output_type": "stream",
          "text": [
            "a masuk antrian\n",
            "b masuk antrian\n",
            "s masuk antrian\n",
            "f masuk antrian\n",
            "e masuk antrian\n",
            "Pelanggan b, anda harus menunggu selama 10 menit\n",
            "Pelanggan s, anda harus menunggu selama 20 menit\n",
            "Pelanggan e, anda harus menunggu selama 30 menit\n"
          ]
        }
      ],
      "source": [
        "antrian = []\n",
        "\n",
        "while True :\n",
        "    menit = 10\n",
        "    pilihan = input(\"Masukkan pilhan anda : 1. Memasukkan data antrian  2. Menampilkan waktu tunggu  3. Selesai\")\n",
        "    if pilihan == '1' :\n",
        "        x = input(\"masukkan data antrian anda : \")\n",
        "        antrian.append(x)\n",
        "        print (f'{x} masuk antrian')\n",
        "    elif pilihan == '2' :\n",
        "        a = input(\"masukkan data yang ingin anda cari :  \")\n",
        "        if a in antrian :\n",
        "            b = antrian.index(a)\n",
        "            menit += 10*(b // 2)\n",
        "            print(f'Pelanggan {a}, anda harus menunggu selama {menit} menit')\n",
        "        else :\n",
        "            print('data yang anda cari tidak ada di antrian')\n",
        "    elif pilihan == '3' :\n",
        "        break\n",
        "    else :\n",
        "        print('masukkan angka dengan benar')"
      ]
    },
    {
      "cell_type": "code",
      "execution_count": 7,
      "id": "7da7b11d",
      "metadata": {},
      "outputs": [
        {
          "name": "stdout",
          "output_type": "stream",
          "text": [
            "0.5\n"
          ]
        }
      ],
      "source": [
        "print(1/2)"
      ]
    },
    {
      "cell_type": "code",
      "execution_count": 33,
      "id": "f78cf370",
      "metadata": {},
      "outputs": [
        {
          "name": "stdout",
          "output_type": "stream",
          "text": [
            "New content of plate A: c\n",
            "New content of plate B: d\n",
            "New content of plate C: a\n"
          ]
        }
      ],
      "source": [
        "def swap_plate_contents():\n",
        "    # Declare variables\n",
        "    A = input(\"Enter the content of plate A: \")\n",
        "    B = input(\"Enter the content of plate B: \")\n",
        "    C = input(\"Enter the content of plate C: \")\n",
        "    \n",
        "    # Use a temporary variable to perform the swap\n",
        "    D = A\n",
        "    A = B\n",
        "    B = C\n",
        "    C = D\n",
        "    \n",
        "    # Print the new contents of the plates\n",
        "    print(\"New content of plate A:\", A)\n",
        "    print(\"New content of plate B:\", B)\n",
        "    print(\"New content of plate C:\", C)\n",
        "\n",
        "# Call the function to execute the program\n",
        "swap_plate_contents()"
      ]
    },
    {
      "cell_type": "markdown",
      "id": "dedcfc3b",
      "metadata": {
        "id": "dedcfc3b"
      },
      "source": [
        "### SOAL BU MARYAMAH"
      ]
    },
    {
      "cell_type": "code",
      "execution_count": null,
      "id": "9fb2b1ab",
      "metadata": {},
      "outputs": [],
      "source": []
    },
    {
      "cell_type": "markdown",
      "id": "b9bdf36d",
      "metadata": {
        "id": "b9bdf36d"
      },
      "source": [
        "#### Buatlah program python kalkulator dengan kondisi operasi * dan / didahulukan perhitungannya dibandingkan + dan -\n",
        "##### contoh : angka = [5,6,7]\n",
        "##### masukkan operasi : 1 = + dan 2 = *\n",
        "#### maka hasil adalah = 5+ (6*7)"
      ]
    },
    {
      "cell_type": "code",
      "execution_count": 10,
      "id": "7e60c85e",
      "metadata": {
        "id": "7e60c85e",
        "outputId": "4c349d9d-7ec6-4bd2-ddff-acde5bb81ea3"
      },
      "outputs": [
        {
          "name": "stdout",
          "output_type": "stream",
          "text": [
            "Maka hasilnya adalah: 9\n"
          ]
        }
      ],
      "source": [
        "def kalkulator(angka, operasi):\n",
        "    result = angka[0]\n",
        "\n",
        "    for i in range(1, len(angka)):\n",
        "        if operasi[i-1] == 1:  # Operasi +\n",
        "            result += angka[i]\n",
        "        elif operasi[i-1] == 2:  # Operasi *\n",
        "            result *= angka[i]\n",
        "        elif operasi[i-1] == 3:  # Operasi -\n",
        "            result -= angka[i]\n",
        "        elif operasi[i-1] == 4:  # Operasi /\n",
        "            result /= angka[i]\n",
        "\n",
        "    return result\n",
        "\n",
        "# Contoh penggunaan\n",
        "angka = [1, 2, 3]\n",
        "operasi = [1, 2]  # 1 = +, 2 = *\n",
        "\n",
        "hasil = kalkulator(angka, operasi)\n",
        "print(\"Maka hasilnya adalah:\", hasil)\n"
      ]
    },
    {
      "cell_type": "code",
      "execution_count": 35,
      "id": "97f14f7f",
      "metadata": {},
      "outputs": [
        {
          "name": "stdout",
          "output_type": "stream",
          "text": [
            "Hasil dari 2.0 * 4.0 / 5.0 adalah: 1.6\n"
          ]
        }
      ],
      "source": [
        "def kalkulator(a, b, c, operator1, operator2):\n",
        "    # Fungsi untuk melakukan operasi aritmatika dasar\n",
        "    def operasi(x, op, y):\n",
        "        if op == '+':\n",
        "            return x + y\n",
        "        elif op == '-':\n",
        "            return x - y\n",
        "        elif op == '*':\n",
        "            return x * y\n",
        "        elif op == '/':\n",
        "            return x / y\n",
        "        else:\n",
        "            raise ValueError(\"Operator tidak valid\")\n",
        "\n",
        "    # Prioritas perkalian dan pembagian\n",
        "    if operator1 in '*/':\n",
        "        hasil1 = operasi(a, operator1, b)\n",
        "        hasil_akhir = operasi(hasil1, operator2, c)\n",
        "    elif operator2 in '*/':\n",
        "        hasil2 = operasi(b, operator2, c)\n",
        "        hasil_akhir = operasi(a, operator1, hasil2)\n",
        "    else:\n",
        "        hasil1 = operasi(a, operator1, b)\n",
        "        hasil_akhir = operasi(hasil1, operator2, c)\n",
        "\n",
        "    return hasil_akhir\n",
        "\n",
        "# Contoh penggunaan\n",
        "a = float(input(\"Masukkan angka pertama: \"))\n",
        "b = float(input(\"Masukkan angka kedua: \"))\n",
        "c = float(input(\"Masukkan angka ketiga: \"))\n",
        "operator1 = input(\"Masukkan operator pertama (+, -, *, /): \")\n",
        "operator2 = input(\"Masukkan operator kedua (+, -, *, /): \")\n",
        "\n",
        "hasil = kalkulator(a, b, c, operator1, operator2)\n",
        "print(f\"Hasil dari {a} {operator1} {b} {operator2} {c} adalah: {hasil}\")"
      ]
    },
    {
      "cell_type": "markdown",
      "id": "c573480a",
      "metadata": {
        "id": "c573480a"
      },
      "source": [
        "#### Buatlah program python melakukan searching data number bilangan prima dan menyimpan index jika ditemukan. bilangan prima harus menggunakan hitungan bukan list bilangan prima"
      ]
    },
    {
      "cell_type": "code",
      "execution_count": null,
      "id": "2aa5f90c",
      "metadata": {
        "id": "2aa5f90c",
        "outputId": "edf4e666-6675-4c9d-d08f-87db6f742f8e"
      },
      "outputs": [
        {
          "name": "stdout",
          "output_type": "stream",
          "text": [
            "Bilangan prima ditemukan pada indeks: [0, 2, 4, 5, 7, 8, 9, 12]\n"
          ]
        }
      ],
      "source": [
        "import math\n",
        "\n",
        "def is_prime(num):\n",
        "    if num < 2:\n",
        "        return False\n",
        "    for i in range(2, int(math.sqrt(num)) + 1):\n",
        "        if num % i == 0:\n",
        "            return False\n",
        "    return True\n",
        "\n",
        "def search_prime_numbers(numbers):\n",
        "    prime_indices = []\n",
        "    for i in range(len(numbers)):\n",
        "        if is_prime(numbers[i]):\n",
        "            prime_indices.append(i)\n",
        "    return prime_indices\n",
        "\n",
        "# Contoh penggunaan program\n",
        "data = [2, 4, 7, 9, 11, 13, 15, 17, 19, 23, 25, 27, 29]\n",
        "prime_indices = search_prime_numbers(data)\n",
        "print(\"Bilangan prima ditemukan pada indeks:\", prime_indices)\n"
      ]
    },
    {
      "cell_type": "code",
      "execution_count": 13,
      "id": "93f9900e",
      "metadata": {
        "id": "93f9900e"
      },
      "outputs": [
        {
          "data": {
            "text/plain": [
              "[1, 2, 4, 6]"
            ]
          },
          "execution_count": 13,
          "metadata": {},
          "output_type": "execute_result"
        }
      ],
      "source": [
        "import math\n",
        "def is_prima(x):\n",
        "    if x < 2:\n",
        "        return False\n",
        "    for i in range(2, x):\n",
        "        if x % i == 0:\n",
        "            return False\n",
        "    return True\n",
        "\n",
        "def indeksprima(list):\n",
        "    indek = []\n",
        "    for i in range(len(list)):\n",
        "        if is_prima(list[i]):\n",
        "            indek.append(i)\n",
        "    return indek\n",
        "indeksprima([1,2,3,4,5,6,7,8])"
      ]
    },
    {
      "cell_type": "markdown",
      "id": "ddd5d8c6",
      "metadata": {
        "id": "ddd5d8c6"
      },
      "source": [
        "#### buatlah program python sorting angka terkecil namun angka ganjil didahulukan lalu lanjut ke angka genap\n",
        "#### contoh : a = [1,2,3,4,5,6,7,8]\n",
        "#### hasil sorting = [1,3,5,7,2,4,6,8]"
      ]
    },
    {
      "cell_type": "code",
      "execution_count": null,
      "id": "60c4e1e4",
      "metadata": {
        "id": "60c4e1e4",
        "outputId": "e9d8a7ec-9ccc-4cf8-930b-cc017b755a20"
      },
      "outputs": [
        {
          "name": "stdout",
          "output_type": "stream",
          "text": [
            "[3, 7, 9, 11, 17, 21, 4, 6, 8]\n"
          ]
        }
      ],
      "source": [
        "def sort_odd_even(numbers):\n",
        "    odds = sorted([num for num in numbers if num % 2 != 0])\n",
        "    evens = sorted([num for num in numbers if num % 2 == 0])\n",
        "    return odds + evens\n",
        "\n",
        "# Contoh penggunaan\n",
        "a = [11, 3, 7, 6, 4, 8, 9, 17, 21]\n",
        "sorted_list = sort_odd_even(a)\n",
        "print(sorted_list)\n"
      ]
    },
    {
      "cell_type": "code",
      "execution_count": null,
      "id": "fc94216e",
      "metadata": {
        "id": "fc94216e",
        "outputId": "8b22b8a5-0d71-4794-c228-b1dc397c7aa5"
      },
      "outputs": [
        {
          "data": {
            "text/plain": [
              "[1, 3, 7, 9, 11, 2, 4, 8]"
            ]
          },
          "execution_count": 122,
          "metadata": {},
          "output_type": "execute_result"
        }
      ],
      "source": [
        "def urut(angka):\n",
        "    ganjil = []\n",
        "    genap = []\n",
        "    for i in angka:\n",
        "        if i % 2 != 0:\n",
        "            ganjil.append(i)\n",
        "        elif i % 2 == 0:\n",
        "            genap.append(i)\n",
        "    return sorted(ganjil) + sorted(genap)\n",
        "\n",
        "angka = [1, 4, 7, 8, 2, 3, 9, 11]\n",
        "urut(angka)"
      ]
    },
    {
      "cell_type": "markdown",
      "id": "4dee1cf1",
      "metadata": {
        "id": "4dee1cf1"
      },
      "source": [
        "#### buatlah program sistem antrian namun terdapat angka prioritas di dalam antrian. jika angka prioritas ada di dalam antrian maka antrian di pindah ke posisi paling depan. angka prioritas ini adalah bilangan prima.\n",
        "#### bil_prima = [2,3,4,7,11]\n",
        "#### contoh :\n",
        "#### nomor = [1,2,3,4,5,6,7]\n",
        "#### hasil urutan antrian = [2,3,5,7,1,4,6]"
      ]
    },
    {
      "cell_type": "code",
      "execution_count": null,
      "id": "a102e060",
      "metadata": {
        "id": "a102e060",
        "outputId": "e7672576-04c3-43df-e4d5-ea2852d6db99"
      },
      "outputs": [
        {
          "name": "stdout",
          "output_type": "stream",
          "text": [
            "[2, 3, 1, 12, 17, 19, 20, 21]\n"
          ]
        }
      ],
      "source": [
        "bil_prima = [2, 3, 5, 7, 11]\n",
        "\n",
        "def is_bil_prima(n):\n",
        "    if n < 2:\n",
        "        return False\n",
        "    for i in range(2, int(n**0.5) + 1):\n",
        "        if n % i == 0:\n",
        "            return False\n",
        "    return True\n",
        "\n",
        "def rearrange_queue(queue):\n",
        "    prior_queue = [x for x in queue if x in bil_prima]\n",
        "    other_queue = [x for x in queue if x not in bil_prima]\n",
        "    return prior_queue + other_queue\n",
        "\n",
        "# Contoh penggunaan program\n",
        "nomor = [1, 2, 3, 12, 17, 19, 20, 21]\n",
        "hasil_antrian = rearrange_queue(nomor)\n",
        "print(hasil_antrian)\n"
      ]
    },
    {
      "cell_type": "code",
      "execution_count": null,
      "id": "daa92b31",
      "metadata": {
        "id": "daa92b31",
        "outputId": "d64b47bf-26d9-4221-f2b5-92826a76bc5a"
      },
      "outputs": [
        {
          "data": {
            "text/plain": [
              "[2, 3, 5, 7, 1, 4, 8, 12]"
            ]
          },
          "execution_count": 123,
          "metadata": {},
          "output_type": "execute_result"
        }
      ],
      "source": [
        "# bilangan prima sudah ada\n",
        "bil_prima = [2, 3, 5, 7, 11]\n",
        "\n",
        "def antrian_khusus(nomor):\n",
        "    prima = []\n",
        "    biasa = []\n",
        "    for i in nomor:\n",
        "        if i in bil_prima:\n",
        "            prima.append(i)\n",
        "        elif i not in bil_prima:\n",
        "            biasa.append(i)\n",
        "    return prima + biasa\n",
        "\n",
        "nomor = [2, 1, 3, 5, 4, 7, 8, 12]\n",
        "antrian_khusus(nomor)\n"
      ]
    },
    {
      "cell_type": "code",
      "execution_count": null,
      "id": "33750f32",
      "metadata": {
        "id": "33750f32",
        "outputId": "a5fa2e4b-a5f1-446a-f6eb-eadb5d07200e"
      },
      "outputs": [
        {
          "name": "stdout",
          "output_type": "stream",
          "text": [
            "urutan : [2, 3, 5, 7, 1, 4, 8, 12]\n"
          ]
        }
      ],
      "source": [
        "# mencari bilangan prima dulu\n",
        "\n",
        "bil_prima = []\n",
        "\n",
        "def is_prime(num):\n",
        "    if num <= 1:\n",
        "        return False\n",
        "    for i in range(2, int(num**0.5) + 1):\n",
        "        if num % i == 0:\n",
        "            return False\n",
        "    return True\n",
        "\n",
        "for num in nomor:\n",
        "    if is_prime(num):\n",
        "        bil_prima.append(num)\n",
        "\n",
        "def antrian_khusus(nomor):\n",
        "    prima = []\n",
        "    biasa = []\n",
        "    for i in nomor:\n",
        "        if i in bil_prima:\n",
        "            prima.append(i)\n",
        "        elif i not in bil_prima:\n",
        "            biasa.append(i)\n",
        "    return prima + biasa\n",
        "\n",
        "nomor = [2, 1, 3, 5, 4, 7, 8, 12]\n",
        "antri = antrian_khusus(nomor)\n",
        "print('urutan :', antri)"
      ]
    },
    {
      "cell_type": "markdown",
      "id": "f9fdcc49",
      "metadata": {
        "id": "f9fdcc49"
      },
      "source": [
        "# Responsi 4"
      ]
    },
    {
      "cell_type": "markdown",
      "id": "9a370524",
      "metadata": {
        "id": "9a370524"
      },
      "source": [
        "kelipatan 3 = 6 dianggap 3"
      ]
    },
    {
      "cell_type": "code",
      "execution_count": 14,
      "id": "b789e756",
      "metadata": {
        "id": "b789e756"
      },
      "outputs": [],
      "source": [
        "graph = {\"A\" : {\"B\":7, \"C\":5, \"G\":8}, \"B\" : {\"D\":20}, \"C\" : {\"D\":8, \"F\":6}, \"G\" : {\"F\":10}, \"D\" : {\"E\":3}, \"F\" : {\"E\":4}}"
      ]
    },
    {
      "cell_type": "code",
      "execution_count": 15,
      "id": "3b11652c",
      "metadata": {
        "id": "3b11652c"
      },
      "outputs": [],
      "source": [
        "def find_least_weight(graph, node_awal, node_akhir, path=[], weight=0):\n",
        "\n",
        "    path = path + [node_awal]\n",
        "\n",
        "    if node_awal not in graph :\n",
        "        return []\n",
        "\n",
        "    if node_awal == node_akhir:\n",
        "        print (\" ==== Jalur yang ditemukan : \", path, \"dengan jarak \", weight)\n",
        "        return [path, weight]\n",
        "    shortest = [[],0]\n",
        "\n",
        "    for node, edge_weight in graph[node_awal].items():\n",
        "\n",
        "        print (\"Path saat ini :  \", path, 'node_awal = ', node_awal)\n",
        "        print('Node tujuan berikutnya adalah ', node , 'dari node sebelumnya yaitu ', node_awal, 'dengan jarak ', edge_weight)\n",
        "\n",
        "        if node not in path :\n",
        "            if edge_weight % 5 ==0 :\n",
        "                edge_weight = 5\n",
        "            new_weight = weight + edge_weight\n",
        "            newpaths = find_least_weight(graph, node, node_akhir, path, new_weight)\n",
        "            if newpaths:\n",
        "                if not shortest[0] or newpaths[1] < shortest[1]:\n",
        "                    shortest = newpaths\n",
        "\n",
        "    return shortest"
      ]
    },
    {
      "cell_type": "code",
      "execution_count": null,
      "id": "d34eb524",
      "metadata": {
        "id": "d34eb524",
        "outputId": "40e58f6f-ba99-459e-9604-eaea3765ee40"
      },
      "outputs": [
        {
          "name": "stdout",
          "output_type": "stream",
          "text": [
            "Path saat ini :   ['A'] node_awal =  A\n",
            "Node tujuan berikutnya adalah  B dari node sebelumnya yaitu  A dengan jarak  7\n",
            "Path saat ini :   ['A', 'B'] node_awal =  B\n",
            "Node tujuan berikutnya adalah  D dari node sebelumnya yaitu  B dengan jarak  20\n",
            "Path saat ini :   ['A', 'B', 'D'] node_awal =  D\n",
            "Node tujuan berikutnya adalah  E dari node sebelumnya yaitu  D dengan jarak  3\n",
            "Path saat ini :   ['A'] node_awal =  A\n",
            "Node tujuan berikutnya adalah  C dari node sebelumnya yaitu  A dengan jarak  5\n",
            "Path saat ini :   ['A', 'C'] node_awal =  C\n",
            "Node tujuan berikutnya adalah  D dari node sebelumnya yaitu  C dengan jarak  8\n",
            "Path saat ini :   ['A', 'C', 'D'] node_awal =  D\n",
            "Node tujuan berikutnya adalah  E dari node sebelumnya yaitu  D dengan jarak  3\n",
            "Path saat ini :   ['A', 'C'] node_awal =  C\n",
            "Node tujuan berikutnya adalah  F dari node sebelumnya yaitu  C dengan jarak  6\n",
            "Path saat ini :   ['A', 'C', 'F'] node_awal =  F\n",
            "Node tujuan berikutnya adalah  E dari node sebelumnya yaitu  F dengan jarak  4\n",
            "Path saat ini :   ['A'] node_awal =  A\n",
            "Node tujuan berikutnya adalah  G dari node sebelumnya yaitu  A dengan jarak  8\n",
            "Path saat ini :   ['A', 'G'] node_awal =  G\n",
            "Node tujuan berikutnya adalah  F dari node sebelumnya yaitu  G dengan jarak  10\n",
            "Path saat ini :   ['A', 'G', 'F'] node_awal =  F\n",
            "Node tujuan berikutnya adalah  E dari node sebelumnya yaitu  F dengan jarak  4\n"
          ]
        },
        {
          "data": {
            "text/plain": [
              "[[], 0]"
            ]
          },
          "execution_count": 104,
          "metadata": {},
          "output_type": "execute_result"
        }
      ],
      "source": [
        "find_least_weight(graph, 'A', 'E', path=[], weight=0)"
      ]
    },
    {
      "cell_type": "code",
      "execution_count": null,
      "id": "53994935",
      "metadata": {
        "id": "53994935",
        "outputId": "65987772-5864-4560-ab93-12cc6e349726"
      },
      "outputs": [
        {
          "name": "stdout",
          "output_type": "stream",
          "text": [
            "{'A': {'B': 7, 'C': 5, 'G': 8}, 'B': {'D': 20}, 'C': {'D': 8, 'F': 3}, 'G': {'F': 10}, 'D': {'E': 3}, 'F': {'E': 4}}\n"
          ]
        }
      ],
      "source": [
        "# Mengakses graph\n",
        "\n",
        "for i in graph:\n",
        "    for j in graph[i]:\n",
        "        if (graph[i][j]) == 6:\n",
        "            graph [i][j] = 3\n",
        "\n",
        "print(graph)\n"
      ]
    },
    {
      "cell_type": "code",
      "execution_count": 16,
      "id": "d7bd788b",
      "metadata": {},
      "outputs": [],
      "source": [
        "def find_shortest_path_dis(graph, node_awal, node_akhir, path=[], jarak=0):\n",
        "    path = path + [node_awal]\n",
        "    if node_awal == node_akhir:\n",
        "        return path, jarak\n",
        "    if node_awal not in graph:\n",
        "        return None, None\n",
        "    \n",
        "    shortest_path = None\n",
        "    shortest_distance = None\n",
        "\n",
        "    for node, panjang in graph[node_awal].items():\n",
        "        if node not in path:\n",
        "            new_path, new_distance = find_shortest_path_dis(graph, node, node_akhir, path, jarak + panjang)\n",
        "\n",
        "            if new_path and (new_distance is not None) and (shortest_distance is None or new_distance < shortest_distance):\n",
        "                shortest_path = new_path\n",
        "                shortest_distance = new_distance\n",
        "\n",
        "    return shortest_path, shortest_distance\n",
        "\n"
      ]
    },
    {
      "cell_type": "code",
      "execution_count": 18,
      "id": "ff3b3ef0",
      "metadata": {},
      "outputs": [
        {
          "data": {
            "text/plain": [
              "(['A', 'C', 'F', 'E'], 15)"
            ]
          },
          "execution_count": 18,
          "metadata": {},
          "output_type": "execute_result"
        }
      ],
      "source": [
        "find_shortest_path_dis(graph, 'A', 'E', path=[], jarak=0)"
      ]
    },
    {
      "cell_type": "markdown",
      "id": "6aedffdc",
      "metadata": {
        "id": "6aedffdc"
      },
      "source": [
        "#### Program mencari rute terpanjang pada graf"
      ]
    },
    {
      "cell_type": "code",
      "execution_count": null,
      "id": "f9249d63",
      "metadata": {
        "id": "f9249d63"
      },
      "outputs": [],
      "source": [
        "def find_longest_path(graph, node_awal, node_akhir, path=[]):\n",
        "    path = path + [node_awal]\n",
        "    if node_awal == node_akhir:\n",
        "        return path\n",
        "    if node_awal not in graph:\n",
        "        return None\n",
        "    longest = []\n",
        "\n",
        "    for node in graph[node_awal]:\n",
        "        if node not in path:\n",
        "            newpaths = find_longest_path(graph, node, node_akhir, path)\n",
        "            if newpaths:\n",
        "                if len(newpaths) > len(longest):\n",
        "                    longest = newpaths\n",
        "    return longest"
      ]
    },
    {
      "cell_type": "code",
      "execution_count": null,
      "id": "1cf26678",
      "metadata": {
        "id": "1cf26678"
      },
      "outputs": [],
      "source": [
        "def find_distance(graph, node_awal, node_akhir, path=[], distance=0):\n",
        "    path = path + [node_awal]\n",
        "    if node_awal == node_akhir:\n",
        "        return distance\n",
        "    if node_awal not in graph:\n",
        "        return None\n",
        "    longest = None\n",
        "\n",
        "    for node in graph[node_awal]:\n",
        "        if node not in path:\n",
        "            new_distance = distance + graph[node_awal][node]\n",
        "            new_path = find_distance(graph, node, node_akhir, path, new_distance)\n",
        "            if new_path is not None:\n",
        "                if longest is None or new_path > longest:\n",
        "                    longest = new_path\n",
        "    return longest"
      ]
    },
    {
      "cell_type": "code",
      "execution_count": null,
      "id": "faea78c0",
      "metadata": {
        "id": "faea78c0",
        "outputId": "4fef051b-b836-49cb-9b6f-557d1dd0b7d7"
      },
      "outputs": [
        {
          "name": "stdout",
          "output_type": "stream",
          "text": [
            "Total jarak yang dilalui dari node awal ke node akhir: 30\n",
            "Rute terpanjang : ['A', 'B', 'D', 'E']\n"
          ]
        }
      ],
      "source": [
        "jarak = find_distance(graph, \"A\", \"E\")\n",
        "print(\"Total jarak yang dilalui dari node awal ke node akhir:\", jarak)\n",
        "print(\"Rute terpanjang :\", find_longest_path(graph, \"A\", \"E\"))\n"
      ]
    },
    {
      "cell_type": "markdown",
      "id": "3afe2670",
      "metadata": {
        "id": "3afe2670"
      },
      "source": [
        "# RESPONSI PAK RUZZA"
      ]
    },
    {
      "cell_type": "markdown",
      "id": "953a6b10",
      "metadata": {
        "id": "953a6b10"
      },
      "source": [
        "#### Mengurutkan kata mobydick, tidak boleh ada kata yang double"
      ]
    },
    {
      "cell_type": "code",
      "execution_count": null,
      "id": "89c28946",
      "metadata": {
        "id": "89c28946",
        "outputId": "7c113cc2-2b16-481a-fc77-bcadd165bc94"
      },
      "outputs": [
        {
          "name": "stderr",
          "output_type": "stream",
          "text": [
            "[nltk_data] Downloading package punkt to\n",
            "[nltk_data]     C:\\Users\\HP\\AppData\\Roaming\\nltk_data...\n",
            "[nltk_data]   Package punkt is already up-to-date!\n"
          ]
        },
        {
          "data": {
            "text/plain": [
              "True"
            ]
          },
          "execution_count": 189,
          "metadata": {},
          "output_type": "execute_result"
        }
      ],
      "source": [
        "import nltk\n",
        "nltk.download('punkt')"
      ]
    },
    {
      "cell_type": "code",
      "execution_count": null,
      "id": "74943781",
      "metadata": {
        "id": "74943781",
        "outputId": "384417bd-e527-4ec1-a7cb-51453806e063"
      },
      "outputs": [
        {
          "name": "stdout",
          "output_type": "stream",
          "text": [
            "{0: '24,', 1: '89,', 2: '90,', 3: 'a', 4: 'adelaide', 5: 'and', 6: 'archives.the', 7: 'are', 8: 'at', 9: 'british', 10: 'by', 11: 'capital', 12: 'chapters', 13: 'combination', 14: 'compared', 15: 'copy', 16: 'currency.etymology.', 17: 'dick;', 18: 'domain', 19: 'eris', 20: 'etext', 21: 'etexts,', 22: 'for', 23: 'from', 24: \"gutenberg's\", 25: 'hard', 26: 'herman', 27: 'indebted', 28: 'is', 29: 'l', 30: 'library', 31: 'melville', 32: 'moby', 33: 'notes:', 34: 'now-defunct', 35: 'of', 36: 'one', 37: 'or', 38: 'original', 39: 'pound,', 40: 'preserving', 41: 'project', 42: 'proofreaders', 43: 'public', 44: 'resulting', 45: 'substituted', 46: 'symbol', 47: 'tech', 48: 'text', 49: 'text.in', 50: 'the', 51: 'this', 52: 'to', 53: \"transcriber's\", 54: 'unit', 55: 'university', 56: 'version', 57: 'version.the', 58: 'virginia', 59: 'was', 60: 'we', 61: 'whale', 62: 'with'}\n"
          ]
        }
      ],
      "source": [
        "with open(\"C:/Users/HP/Documents/MobyDick.txt\", \"r\") as f:\n",
        "    teks = f.read()\n",
        "\n",
        "kalimat = nltk.sent_tokenize(teks)\n",
        "kalimat2 = kalimat[:5]\n",
        "ks = ''.join(kalimat2)\n",
        "kss = ks.lower()\n",
        "word = kss.split()\n",
        "#print(word)\n",
        "\n",
        "kal = []\n",
        "if len(kal) < 1:\n",
        "    for i in word:\n",
        "        if i not in kal:\n",
        "            kal.append(i)\n",
        "\n",
        "word = sorted(kal)\n",
        "kamus = {}\n",
        "for i in range(len(kal)):\n",
        "    kamus[i] = word[i]\n",
        "\n",
        "print(kamus)\n",
        "#print(kal)"
      ]
    },
    {
      "cell_type": "code",
      "execution_count": null,
      "id": "c0e2b4a0",
      "metadata": {
        "id": "c0e2b4a0",
        "outputId": "dbef3a2e-36c3-4fe1-9c3d-1405c2673f67"
      },
      "outputs": [
        {
          "name": "stdout",
          "output_type": "stream",
          "text": [
            "masukkan kalimat :aku kamu kita kamu mereka iya kita ke sana bersama mereka \n",
            "{0: 'aku', 1: 'bersama', 2: 'iya', 3: 'kamu', 4: 'ke', 5: 'kita', 6: 'mereka', 7: 'sana'}\n"
          ]
        }
      ],
      "source": [
        "x = input('masukkan kalimat :')\n",
        "w = x.split()\n",
        "#print(w)\n",
        "k = []\n",
        "if len(k) < 1:\n",
        "    for i in w:\n",
        "        if i not in k:\n",
        "            k.append(i)\n",
        "\n",
        "k = sorted(k)\n",
        "dict = {}\n",
        "for i in range(len(k)):\n",
        "    dict[i] = k[i]\n",
        "print(dict)"
      ]
    },
    {
      "cell_type": "markdown",
      "id": "2bc3095c",
      "metadata": {
        "id": "2bc3095c"
      },
      "source": [
        "# BATAS"
      ]
    },
    {
      "cell_type": "markdown",
      "id": "6a96112d",
      "metadata": {
        "id": "6a96112d"
      },
      "source": [
        "#### Program mencari huruf vokal dalam inputan kalimat"
      ]
    },
    {
      "cell_type": "code",
      "execution_count": null,
      "id": "96f7f1eb",
      "metadata": {
        "id": "96f7f1eb",
        "outputId": "731c90f5-95eb-45ad-94a8-a88ae6da6b56"
      },
      "outputs": [
        {
          "name": "stdout",
          "output_type": "stream",
          "text": [
            "kata :Meri Tidak SuKA KMAM\n",
            "7\n"
          ]
        }
      ],
      "source": [
        "vokal = ['a', 'i', 'u', 'e', 'o']\n",
        "x = input('kata :')\n",
        "r = x.lower()\n",
        "jumlah = []\n",
        "for i in r:\n",
        "    if i in vokal:\n",
        "        jumlah.append(i)\n",
        "print(len(jumlah))"
      ]
    },
    {
      "cell_type": "code",
      "execution_count": 20,
      "id": "88e9bdee",
      "metadata": {
        "id": "88e9bdee"
      },
      "outputs": [
        {
          "data": {
            "text/plain": [
              "8"
            ]
          },
          "execution_count": 20,
          "metadata": {},
          "output_type": "execute_result"
        }
      ],
      "source": [
        "def carivokal(kalimat):\n",
        "    jumlah=0\n",
        "    for kata in kalimat:\n",
        "        if kata in 'AIUEOaiueo':\n",
        "            jumlah+=1\n",
        "    return jumlah\n",
        "\n",
        "carivokal('AkusangatSUKAdia')\n"
      ]
    },
    {
      "cell_type": "code",
      "execution_count": null,
      "id": "abccf4f9",
      "metadata": {
        "id": "abccf4f9"
      },
      "outputs": [],
      "source": [
        "graf = {'A': ['B', 'C'],\n",
        "        'B': ['C', 'D'],\n",
        "        'C': ['D'],\n",
        "        'D': ['C'],\n",
        "        'E': ['F'],\n",
        "        'F': ['C']}"
      ]
    },
    {
      "cell_type": "code",
      "execution_count": null,
      "id": "37c0bade",
      "metadata": {
        "id": "37c0bade"
      },
      "outputs": [],
      "source": [
        "def temukan_jalur(graf, awal, akhir, jalur=[]):\n",
        "    jalur = jalur + [awal]\n",
        "    if awal == akhir:\n",
        "        return jalur\n",
        "    if not graf.has_key(awal):\n",
        "        return None\n",
        "    for titik in graf[awal]:\n",
        "        if titik not in jalur:\n",
        "            jalur_baru = temukan_jalur(graf, titik, akhir, jalur)\n",
        "            if jalur_baru: return jalur_baru\n",
        "    return None"
      ]
    },
    {
      "cell_type": "code",
      "execution_count": null,
      "id": "8721ce0c",
      "metadata": {
        "id": "8721ce0c",
        "outputId": "bdeb5f9e-7c7e-4468-bb89-66be368c3d06"
      },
      "outputs": [
        {
          "ename": "AttributeError",
          "evalue": "'dict' object has no attribute 'has_key'",
          "output_type": "error",
          "traceback": [
            "\u001b[1;31m---------------------------------------------------------------------------\u001b[0m",
            "\u001b[1;31mAttributeError\u001b[0m                            Traceback (most recent call last)",
            "\u001b[1;32m~\\AppData\\Local\\Temp\\ipykernel_16780\\3055510623.py\u001b[0m in \u001b[0;36m<module>\u001b[1;34m\u001b[0m\n\u001b[1;32m----> 1\u001b[1;33m \u001b[0mtemukan_jalur\u001b[0m\u001b[1;33m(\u001b[0m\u001b[0mgraf\u001b[0m\u001b[1;33m,\u001b[0m \u001b[1;34m'A'\u001b[0m\u001b[1;33m,\u001b[0m \u001b[1;34m'D'\u001b[0m\u001b[1;33m)\u001b[0m\u001b[1;33m\u001b[0m\u001b[1;33m\u001b[0m\u001b[0m\n\u001b[0m",
            "\u001b[1;32m~\\AppData\\Local\\Temp\\ipykernel_16780\\463531108.py\u001b[0m in \u001b[0;36mtemukan_jalur\u001b[1;34m(graf, awal, akhir, jalur)\u001b[0m\n\u001b[0;32m      3\u001b[0m     \u001b[1;32mif\u001b[0m \u001b[0mawal\u001b[0m \u001b[1;33m==\u001b[0m \u001b[0makhir\u001b[0m\u001b[1;33m:\u001b[0m\u001b[1;33m\u001b[0m\u001b[1;33m\u001b[0m\u001b[0m\n\u001b[0;32m      4\u001b[0m         \u001b[1;32mreturn\u001b[0m \u001b[0mjalur\u001b[0m\u001b[1;33m\u001b[0m\u001b[1;33m\u001b[0m\u001b[0m\n\u001b[1;32m----> 5\u001b[1;33m     \u001b[1;32mif\u001b[0m \u001b[1;32mnot\u001b[0m \u001b[0mgraf\u001b[0m\u001b[1;33m.\u001b[0m\u001b[0mhas_key\u001b[0m\u001b[1;33m(\u001b[0m\u001b[0mawal\u001b[0m\u001b[1;33m)\u001b[0m\u001b[1;33m:\u001b[0m\u001b[1;33m\u001b[0m\u001b[1;33m\u001b[0m\u001b[0m\n\u001b[0m\u001b[0;32m      6\u001b[0m         \u001b[1;32mreturn\u001b[0m \u001b[1;32mNone\u001b[0m\u001b[1;33m\u001b[0m\u001b[1;33m\u001b[0m\u001b[0m\n\u001b[0;32m      7\u001b[0m     \u001b[1;32mfor\u001b[0m \u001b[0mtitik\u001b[0m \u001b[1;32min\u001b[0m \u001b[0mgraf\u001b[0m\u001b[1;33m[\u001b[0m\u001b[0mawal\u001b[0m\u001b[1;33m]\u001b[0m\u001b[1;33m:\u001b[0m\u001b[1;33m\u001b[0m\u001b[1;33m\u001b[0m\u001b[0m\n",
            "\u001b[1;31mAttributeError\u001b[0m: 'dict' object has no attribute 'has_key'"
          ]
        }
      ],
      "source": [
        "temukan_jalur(graf, 'A', 'D')"
      ]
    },
    {
      "cell_type": "code",
      "execution_count": null,
      "id": "315c1ea6",
      "metadata": {
        "id": "315c1ea6",
        "outputId": "8ded8b7a-28cd-430f-b7d5-44906befa2c7"
      },
      "outputs": [
        {
          "ename": "SyntaxError",
          "evalue": "invalid syntax (903342467.py, line 5)",
          "output_type": "error",
          "traceback": [
            "\u001b[1;36m  File \u001b[1;32m\"C:\\Users\\HP\\AppData\\Local\\Temp\\ipykernel_16780\\903342467.py\"\u001b[1;36m, line \u001b[1;32m5\u001b[0m\n\u001b[1;33m    if not in graf(awal):\u001b[0m\n\u001b[1;37m           ^\u001b[0m\n\u001b[1;31mSyntaxError\u001b[0m\u001b[1;31m:\u001b[0m invalid syntax\n"
          ]
        }
      ],
      "source": [
        "def temukan_semua_jalur(graf, awal, akhir, jalur=[]):\n",
        "    jalur = jalur + [awal]\n",
        "    if awal == akhir:\n",
        "        return [jalur]\n",
        "    if not in graf(awal):\n",
        "        return []\n",
        "    semua_jalur = []\n",
        "    for titik in graf[awal]:\n",
        "        if titik not in jalur:\n",
        "            jalur_jalur = temukan_semua_jalur(graf, titik, akhir, jalur)\n",
        "            for jalur_baru in jalur_jalur:\n",
        "                semua_jalur.append(jalur_baru)\n",
        "    return semua_jalur\n"
      ]
    },
    {
      "cell_type": "code",
      "execution_count": null,
      "id": "aca2ece4",
      "metadata": {
        "id": "aca2ece4",
        "outputId": "87ee8d5b-a3ad-4ae0-bcf8-b025cc385d03"
      },
      "outputs": [
        {
          "ename": "AttributeError",
          "evalue": "'dict' object has no attribute 'has_key'",
          "output_type": "error",
          "traceback": [
            "\u001b[1;31m---------------------------------------------------------------------------\u001b[0m",
            "\u001b[1;31mAttributeError\u001b[0m                            Traceback (most recent call last)",
            "\u001b[1;32m~\\AppData\\Local\\Temp\\ipykernel_16780\\3047794090.py\u001b[0m in \u001b[0;36m<module>\u001b[1;34m\u001b[0m\n\u001b[1;32m----> 1\u001b[1;33m \u001b[0mtemukan_semua_jalur\u001b[0m\u001b[1;33m(\u001b[0m\u001b[0mgraf\u001b[0m\u001b[1;33m,\u001b[0m \u001b[1;34m'A'\u001b[0m\u001b[1;33m,\u001b[0m \u001b[1;34m'D'\u001b[0m\u001b[1;33m)\u001b[0m\u001b[1;33m\u001b[0m\u001b[1;33m\u001b[0m\u001b[0m\n\u001b[0m",
            "\u001b[1;32m~\\AppData\\Local\\Temp\\ipykernel_16780\\513278105.py\u001b[0m in \u001b[0;36mtemukan_semua_jalur\u001b[1;34m(graf, awal, akhir, jalur)\u001b[0m\n\u001b[0;32m      3\u001b[0m     \u001b[1;32mif\u001b[0m \u001b[0mawal\u001b[0m \u001b[1;33m==\u001b[0m \u001b[0makhir\u001b[0m\u001b[1;33m:\u001b[0m\u001b[1;33m\u001b[0m\u001b[1;33m\u001b[0m\u001b[0m\n\u001b[0;32m      4\u001b[0m         \u001b[1;32mreturn\u001b[0m \u001b[1;33m[\u001b[0m\u001b[0mjalur\u001b[0m\u001b[1;33m]\u001b[0m\u001b[1;33m\u001b[0m\u001b[1;33m\u001b[0m\u001b[0m\n\u001b[1;32m----> 5\u001b[1;33m     \u001b[1;32mif\u001b[0m \u001b[1;32mnot\u001b[0m \u001b[0mgraf\u001b[0m\u001b[1;33m.\u001b[0m\u001b[0mhas_key\u001b[0m\u001b[1;33m(\u001b[0m\u001b[0mawal\u001b[0m\u001b[1;33m)\u001b[0m\u001b[1;33m:\u001b[0m\u001b[1;33m\u001b[0m\u001b[1;33m\u001b[0m\u001b[0m\n\u001b[0m\u001b[0;32m      6\u001b[0m         \u001b[1;32mreturn\u001b[0m \u001b[1;33m[\u001b[0m\u001b[1;33m]\u001b[0m\u001b[1;33m\u001b[0m\u001b[1;33m\u001b[0m\u001b[0m\n\u001b[0;32m      7\u001b[0m     \u001b[0msemua_jalur\u001b[0m \u001b[1;33m=\u001b[0m \u001b[1;33m[\u001b[0m\u001b[1;33m]\u001b[0m\u001b[1;33m\u001b[0m\u001b[1;33m\u001b[0m\u001b[0m\n",
            "\u001b[1;31mAttributeError\u001b[0m: 'dict' object has no attribute 'has_key'"
          ]
        }
      ],
      "source": [
        "temukan_semua_jalur(graf, 'A', 'D')"
      ]
    },
    {
      "cell_type": "code",
      "execution_count": null,
      "id": "0270f388",
      "metadata": {
        "id": "0270f388",
        "outputId": "7fabd979-ddf8-422a-b953-48b8b5cea9ad"
      },
      "outputs": [
        {
          "name": "stdout",
          "output_type": "stream",
          "text": [
            "The given set of vertices is: {'E', 'F', 'A', 'D', 'C', 'B'}\n",
            "The given set of edges is: {('A', 'D'), ('B', 'F'), ('B', 'C'), ('A', 'F'), ('A', 'E'), ('A', 'B')}\n",
            "Graph representation in python is:\n",
            "{'E': ['A'], 'F': ['B', 'A'], 'A': ['D', 'F', 'E', 'B'], 'D': ['A'], 'C': ['B'], 'B': ['F', 'C', 'A']}\n"
          ]
        }
      ],
      "source": [
        "vertices = {\"A\", \"B\", \"C\", \"D\", \"E\", \"F\"}\n",
        "edges = {(\"A\", \"D\"), (\"A\", \"B\"), (\"A\", \"E\"), (\"A\", \"F\"), (\"B\", \"F\"), (\"B\", \"C\")}\n",
        "graph = dict()\n",
        "for vertex in vertices:\n",
        "    graph[vertex] = []\n",
        "for edge in edges:\n",
        "    v1 = edge[0]\n",
        "    v2 = edge[1]\n",
        "    graph[v1].append(v2)\n",
        "    graph[v2].append(v1)\n",
        "print(\"The given set of vertices is:\", vertices)\n",
        "print(\"The given set of edges is:\", edges)\n",
        "print(\"Graph representation in python is:\")\n",
        "print(graph)"
      ]
    },
    {
      "cell_type": "code",
      "execution_count": null,
      "id": "0af575ac",
      "metadata": {
        "id": "0af575ac"
      },
      "outputs": [],
      "source": []
    },
    {
      "cell_type": "markdown",
      "id": "6443abfb",
      "metadata": {},
      "source": [
        "### __LATIHAN EDABIT__"
      ]
    },
    {
      "cell_type": "code",
      "execution_count": 25,
      "id": "3787ad4c",
      "metadata": {},
      "outputs": [
        {
          "name": "stdout",
          "output_type": "stream",
          "text": [
            ":)\n"
          ]
        }
      ],
      "source": [
        "# buat sorting pengurangan dari angka terkecil dan terbesar\n",
        "\n",
        "def interval_list(list):\n",
        "    if (sorted(list, reverse=True)[0])- (sorted(list)[0]) in list:\n",
        "        print(':)')\n",
        "    else:\n",
        "        print(':(')\n",
        "\n",
        "interval_list([1,2,5,8,3,9])"
      ]
    },
    {
      "cell_type": "code",
      "execution_count": 32,
      "id": "88b646ce",
      "metadata": {},
      "outputs": [
        {
          "data": {
            "text/plain": [
              "'apargrapepesple'"
            ]
          },
          "execution_count": 32,
          "metadata": {},
          "output_type": "execute_result"
        }
      ],
      "source": [
        "def frutsalad(buah):\n",
        "    potong=[]\n",
        "    for i in buah:\n",
        "        mid = len(i)//2\n",
        "        potong.append(i[:mid])\n",
        "        potong.append(i[mid:])\n",
        "    a=sorted(potong)\n",
        "    return ''.join(a)\n",
        "\n",
        "frutsalad([\"apple\", \"pear\", \"grapes\"])"
      ]
    },
    {
      "cell_type": "markdown",
      "id": "f54f8e5e",
      "metadata": {},
      "source": []
    },
    {
      "cell_type": "code",
      "execution_count": 40,
      "id": "8f510997",
      "metadata": {},
      "outputs": [
        {
          "name": "stdout",
          "output_type": "stream",
          "text": [
            "hasilnya 3 (ganjil)\n"
          ]
        }
      ],
      "source": [
        "alfabet = [\"a\",\"b\",\"c\",\"d\",\"e\",\"f\",\"g\",\"h\",\"i\",\"j\",\"k\",\"l\",\"m\",\"n\",\"o\",\"p\",\"q\",\"r\",\"s\",\"t\",\"u\",\"v\",\"w\",\"x\",\"y\",\"z\"]\n",
        "\n",
        "hasil = 0\n",
        "a = input(\"Masukkan kata: \")\n",
        "for i in a:\n",
        "    if i in alfabet:\n",
        "        hasil += alfabet.index(i)+1\n",
        "if hasil % 2 == 0:\n",
        "    print(f\"hasilnya {hasil} (genap)\")\n",
        "else:\n",
        "    print(f\"hasilnya {hasil} (ganjil)\")"
      ]
    },
    {
      "cell_type": "code",
      "execution_count": 41,
      "id": "4001f665",
      "metadata": {},
      "outputs": [
        {
          "name": "stdout",
          "output_type": "stream",
          "text": [
            "1575\n"
          ]
        }
      ],
      "source": [
        "list = [10,20,30,40,50,60]\n",
        "hasil = 0\n",
        "for i in range(min(list),max(list)):\n",
        "    if i not in list:\n",
        "        hasil +=i\n",
        "print(hasil)"
      ]
    },
    {
      "cell_type": "code",
      "execution_count": null,
      "id": "af2d9b38",
      "metadata": {},
      "outputs": [],
      "source": []
    }
  ],
  "metadata": {
    "colab": {
      "provenance": []
    },
    "kernelspec": {
      "display_name": "Python 3 (ipykernel)",
      "language": "python",
      "name": "python3"
    },
    "language_info": {
      "codemirror_mode": {
        "name": "ipython",
        "version": 3
      },
      "file_extension": ".py",
      "mimetype": "text/x-python",
      "name": "python",
      "nbconvert_exporter": "python",
      "pygments_lexer": "ipython3",
      "version": "3.11.5"
    }
  },
  "nbformat": 4,
  "nbformat_minor": 5
}
