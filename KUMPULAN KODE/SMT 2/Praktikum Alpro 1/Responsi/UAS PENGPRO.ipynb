{
 "cells": [
  {
   "cell_type": "markdown",
   "id": "6500ac80",
   "metadata": {},
   "source": [
    "# UAS Pengantar Pemrograman 2023/2024\n",
    "## [Adinda Syarifatul Muna]\n",
    "## [164231042]\n",
    "\n",
    "# 78"
   ]
  },
  {
   "cell_type": "markdown",
   "id": "968092f5",
   "metadata": {},
   "source": [
    "### No. 1 RANDOM BATU KERTAS GUNTING"
   ]
  },
  {
   "cell_type": "code",
   "execution_count": 2,
   "id": "e81f225b",
   "metadata": {},
   "outputs": [
    {
     "name": "stdout",
     "output_type": "stream",
     "text": [
      "Anda Menang!\n"
     ]
    }
   ],
   "source": [
    "#kurang import \n",
    "\n",
    "import random\n",
    "\n",
    "g = 'gunting'\n",
    "b = 'batu'\n",
    "k = 'kertas'\n",
    "list =['g', 'b', 'k']\n",
    "\n",
    "kamu = str(input('Masukkan pilihan anda'))\n",
    "AI = random.choice(list)\n",
    "\n",
    "\n",
    "if kamu == 'g' and AI == 'g':\n",
    "    print('SERI')\n",
    "elif kamu == 'g' and AI == 'b':\n",
    "    print('Anda Kalah')\n",
    "elif kamu == 'g' and AI == 'k':\n",
    "    print('Anda Menang!')\n",
    "elif kamu == 'b' and AI == 'b':\n",
    "    print('SERI')\n",
    "elif kamu == 'b' and AI == 'g':\n",
    "    print('Anda Menang!')\n",
    "elif kamu == 'b' and AI == 'k':\n",
    "    print('Anda Kalah')\n",
    "elif kamu == 'k' and AI == 'k':\n",
    "    print('SERI')\n",
    "elif kamu == 'k' and AI == 'b':\n",
    "    print('Anda Menang!')\n",
    "elif kamu == 'k' and AI == 'g':\n",
    "    print('Anda KALAH')\n",
    "else:\n",
    "    print('salah')\n",
    "\n"
   ]
  },
  {
   "cell_type": "code",
   "execution_count": 2,
   "id": "ece04a5b",
   "metadata": {},
   "outputs": [
    {
     "name": "stdout",
     "output_type": "stream",
     "text": [
      "salah\n"
     ]
    }
   ],
   "source": [
    "# alternatif kalau tidak jalan, AI nya diinput manual (maaf pak saya tidak bisa pick random)\n",
    "\n",
    "g = 'gunting'\n",
    "b = 'batu'\n",
    "k = 'kertas'\n",
    "list =['g', 'b', 'k']\n",
    "\n",
    "kamu = str(input('Masukkan pilihan anda : '))\n",
    "AI = str(input('Pilihan AI : '))\n",
    "\n",
    "if kamu == 'g' and AI == 'g':\n",
    "    print('SERI')\n",
    "elif kamu == 'g' and AI == 'b':\n",
    "    print('Anda Kalah')\n",
    "elif kamu == 'g' and AI == 'k':\n",
    "    print('Anda Menang!')\n",
    "elif kamu == 'b' and AI == 'b':\n",
    "    print('SERI')\n",
    "elif kamu == 'b' and AI == 'g':\n",
    "    print('Anda Menang!')\n",
    "elif kamu == 'b' and AI == 'k':\n",
    "    print('Anda Kalah')\n",
    "elif kamu == 'k' and AI == 'k':\n",
    "    print('SERI')\n",
    "elif kamu == 'k' and AI == 'b':\n",
    "    print('Anda Menang!')\n",
    "elif kamu == 'k' and AI == 'g':\n",
    "    print('Anda KALAH')\n",
    "else:\n",
    "    print('salah')\n",
    "\n"
   ]
  },
  {
   "cell_type": "markdown",
   "id": "99261649",
   "metadata": {},
   "source": [
    "### No. 2 GAGAP / PATAH-PATAH"
   ]
  },
  {
   "cell_type": "code",
   "execution_count": 18,
   "id": "5835385a",
   "metadata": {},
   "outputs": [
    {
     "data": {
      "text/plain": [
       "'in...in...increadible?'"
      ]
     },
     "execution_count": 18,
     "metadata": {},
     "output_type": "execute_result"
    }
   ],
   "source": [
    "def gagap(word:str):\n",
    "    return word[0:2] + '...' + word[0:2] + '...' + word +'?'\n",
    "\n",
    "gagap('increadible')"
   ]
  },
  {
   "cell_type": "markdown",
   "id": "12364afc",
   "metadata": {},
   "source": [
    "### No. 3 CONVERT DOLAR RUPIAH"
   ]
  },
  {
   "cell_type": "code",
   "execution_count": 11,
   "id": "16e5c807",
   "metadata": {},
   "outputs": [
    {
     "name": "stdout",
     "output_type": "stream",
     "text": [
      "Nilai Dollar adalah = 10.0\n",
      "Nilai Euro adalah = 8.823529411764707\n"
     ]
    }
   ],
   "source": [
    "def euroconvert(rupiah:int):\n",
    "    return rupiah/17000\n",
    "euroconvert(15000)\n",
    "\n",
    "def dollarconvert(rupiah:int):\n",
    "    return rupiah/15000\n",
    "dollarconvert(15000)\n",
    "\n",
    "rupiah = int(input('Masukkan nilai rupiah'))\n",
    "NilaiDollar =print('Nilai Dollar adalah =', dollarconvert(rupiah))\n",
    "NilaiEuro = print('Nilai Euro adalah =', euroconvert(rupiah))\n"
   ]
  },
  {
   "cell_type": "markdown",
   "id": "b2c27662",
   "metadata": {},
   "source": [
    "### NO. 4 BILANGAN ROMAWI"
   ]
  },
  {
   "cell_type": "code",
   "execution_count": 4,
   "id": "02dc82fd",
   "metadata": {},
   "outputs": [
    {
     "name": "stdout",
     "output_type": "stream",
     "text": [
      "Bilangan bulat 789 dalam angka Romawi adalah DCCLXXXIX\n"
     ]
    }
   ],
   "source": [
    "def convert_to_roman(num):\n",
    "    bil = ''\n",
    "    roman = ['M', 'CM', 'D', 'CD', 'C', 'XC', 'L', 'XL', 'X', 'IX', 'V', 'IV', 'I']\n",
    "    values = [1000, 900, 500, 400, 100, 90, 50, 40, 10, 9, 5, 4, 1]\n",
    "    i = 0\n",
    "    \n",
    "    while num > 0:\n",
    "        for x in range(num // values[i]):\n",
    "            bil += roman[i]\n",
    "            num -= values[i]\n",
    "        i += 1\n",
    "    return bil\n",
    "\n",
    "\n",
    "\n",
    "bilangan_bulat = int(input('Masukkan Bilangan Bulat'))\n",
    "print(f\"Bilangan bulat {bilangan_bulat} dalam angka Romawi adalah {convert_to_roman(bilangan_bulat)}\")\n"
   ]
  },
  {
   "cell_type": "code",
   "execution_count": 52,
   "id": "a2c103a4",
   "metadata": {},
   "outputs": [
    {
     "name": "stdout",
     "output_type": "stream",
     "text": [
      "Bilangan Romawi = V\n"
     ]
    }
   ],
   "source": [
    "bil = int(input('Masukkan Bilangan Bulat'))\n",
    "\n",
    "if bil == 1:\n",
    "    print('Bilangan Romawi = I')\n",
    "elif bil == 2:\n",
    "    print('Bilangan Romawi = II')\n",
    "elif bil == 3:\n",
    "    print('Bilangan Romawi = III')\n",
    "elif bil == 4:\n",
    "    print('Bilangan Romawi = IV')\n",
    "elif bil == 5:\n",
    "    print('Bilangan Romawi = V')\n",
    "elif bil == 6:\n",
    "    print('Bilangan Romawi = VI')\n",
    "elif bil == 50:\n",
    "    print('Bilangan Romawi = L')\n",
    "elif bil == 500:\n",
    "    print('Bilangan Romawi = D')"
   ]
  },
  {
   "cell_type": "markdown",
   "id": "6193b960",
   "metadata": {},
   "source": [
    "### NO.5 KALKULATOR\n"
   ]
  },
  {
   "cell_type": "code",
   "execution_count": 12,
   "id": "b098c5e7",
   "metadata": {},
   "outputs": [
    {
     "name": "stdout",
     "output_type": "stream",
     "text": [
      "13\n"
     ]
    }
   ],
   "source": [
    "#dengan input\n",
    "\n",
    "def calc(num1:int,operasi:str,num2:int):\n",
    "    if operasi == '*':\n",
    "        return num1*num2\n",
    "    elif operasi == '/':\n",
    "        return num1/num2\n",
    "    elif operasi == '+':\n",
    "        return num1+num2\n",
    "    else:\n",
    "        return ('OPERASI YANG DIMASUKKAN SALAH')\n",
    "        \n",
    "num1 = int(input('Masukkan angka pertama'))\n",
    "num2 = int(input('Masukkan angka kedua'))\n",
    "operasi = str(input('Pilih operasi *, +, / ?'))\n",
    "print(calc(num1, operasi, num2))\n",
    "\n"
   ]
  },
  {
   "cell_type": "code",
   "execution_count": 1,
   "id": "a5f0afa8",
   "metadata": {},
   "outputs": [
    {
     "data": {
      "text/plain": [
       "28"
      ]
     },
     "execution_count": 1,
     "metadata": {},
     "output_type": "execute_result"
    }
   ],
   "source": [
    "#tanpa input\n",
    "\n",
    "def calc(num1:int,operasi:str,num2:int):\n",
    "    if operasi == '*':\n",
    "        return num1*num2\n",
    "    elif operasi == '/':\n",
    "        return num1/num2\n",
    "    elif operasi == '+':\n",
    "        return num1+num2\n",
    "    else:\n",
    "        return ('OPERASI YANG DIMASUKKAN SALAH')\n",
    "    \n",
    "calc(5, '+', 23)"
   ]
  },
  {
   "cell_type": "markdown",
   "id": "a99cee8b",
   "metadata": {},
   "source": [
    "### NO. 6 PERIKSA CEK HURUF VOKAL"
   ]
  },
  {
   "cell_type": "code",
   "execution_count": 3,
   "id": "125b76d6",
   "metadata": {},
   "outputs": [
    {
     "name": "stdout",
     "output_type": "stream",
     "text": [
      "Hasil : Huruf adalah konsonan\n"
     ]
    }
   ],
   "source": [
    "huruf = str(input('Masukkan huruf: '))\n",
    "\n",
    "if huruf in 'aiueoAIUEO':\n",
    "    print('Hasil : Huruf adalah vocal')\n",
    "else:\n",
    "    print('Hasil : Huruf adalah konsonan')"
   ]
  },
  {
   "cell_type": "markdown",
   "id": "7936653c",
   "metadata": {},
   "source": [
    "### NO. 7 KONVERSI NILAI KE HURUF"
   ]
  },
  {
   "cell_type": "code",
   "execution_count": 5,
   "id": "3299a4ce",
   "metadata": {},
   "outputs": [
    {
     "name": "stdout",
     "output_type": "stream",
     "text": [
      "Nilai = E\n"
     ]
    }
   ],
   "source": [
    "num = int(input('Masukkan Nilai = '))\n",
    "\n",
    "if num > 100:\n",
    "    print('Nilai yang dimasukkan salah')\n",
    "elif num >= 86:\n",
    "    print('Nilai = A')\n",
    "elif num >= 78:\n",
    "    print('Nilai = B')\n",
    "elif num >= 68:\n",
    "    print('Nilai = C')\n",
    "elif num >= 55:\n",
    "    print('Nilai = D')\n",
    "elif num < 55:\n",
    "    print('Nilai = E')\n",
    "else:\n",
    "    print('Masukkan kembali nilai yang benar')"
   ]
  },
  {
   "cell_type": "code",
   "execution_count": null,
   "id": "4de6b1ab",
   "metadata": {},
   "outputs": [],
   "source": []
  },
  {
   "cell_type": "code",
   "execution_count": 1,
   "id": "e61ec152",
   "metadata": {},
   "outputs": [
    {
     "name": "stdout",
     "output_type": "stream",
     "text": [
      "{'name': 'Dicoding', 'age': 17}\n"
     ]
    }
   ],
   "source": [
    "print(dict([['name','Dicoding'],['age',17]]))"
   ]
  }
 ],
 "metadata": {
  "kernelspec": {
   "display_name": "Python 3 (ipykernel)",
   "language": "python",
   "name": "python3"
  },
  "language_info": {
   "codemirror_mode": {
    "name": "ipython",
    "version": 3
   },
   "file_extension": ".py",
   "mimetype": "text/x-python",
   "name": "python",
   "nbconvert_exporter": "python",
   "pygments_lexer": "ipython3",
   "version": "3.8.18"
  }
 },
 "nbformat": 4,
 "nbformat_minor": 5
}
