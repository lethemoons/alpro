{
 "cells": [
  {
   "cell_type": "markdown",
   "metadata": {},
   "source": [
    "### praktikum 2"
   ]
  },
  {
   "cell_type": "code",
   "execution_count": 3,
   "metadata": {},
   "outputs": [
    {
     "name": "stdout",
     "output_type": "stream",
     "text": [
      "[1, 2, 4]\n"
     ]
    }
   ],
   "source": [
    "# program untuk menghitung faktor dari suatu bilangan\n",
    "# menggunkan import math\n",
    "import math\n",
    "\n",
    "angka = int(input('Masukkan bilangan yang akan di faktorkan'))\n",
    "faktor =[]\n",
    "\n",
    "for i in range(1, angka + 1):\n",
    "    if angka % i == 0:\n",
    "        faktor.append(i)\n",
    "print(faktor)"
   ]
  },
  {
   "cell_type": "code",
   "execution_count": 5,
   "metadata": {},
   "outputs": [
    {
     "name": "stdout",
     "output_type": "stream",
     "text": [
      "Keliling lingkaran tersebut adalah 25.132741228718345\n",
      "Luas lingkaran tersebut adalah  50.26548245743669\n"
     ]
    }
   ],
   "source": [
    "# mengitung luas dan keliling lingkaran\n",
    "\n",
    "import math\n",
    "jari_jari = float(input('Masukkan jari-jari lingkaran'))\n",
    "keliling = 2 * math.pi * jari_jari\n",
    "luas = math.pi * jari_jari ** 2\n",
    "\n",
    "print(f\"Keliling lingkaran tersebut adalah {keliling}\")\n",
    "print(\"Luas lingkaran tersebut adalah \", luas)"
   ]
  },
  {
   "cell_type": "code",
   "execution_count": 1,
   "metadata": {},
   "outputs": [
    {
     "name": "stdout",
     "output_type": "stream",
     "text": [
      "0.8660254037844386\n",
      "0.5\n",
      "1.732\n"
     ]
    }
   ],
   "source": [
    "# menghitung nilai sin, cos, tan\n",
    "\n",
    "import math\n",
    "besar_sudut = int(input('Masukkan besar sudut'))\n",
    "radian = math.radians(besar_sudut)\n",
    "print(math.sin(radian))\n",
    "print(round(math.cos(radian),2))\n",
    "print(round(math.tan(radian),3))\n"
   ]
  },
  {
   "cell_type": "code",
   "execution_count": 12,
   "metadata": {},
   "outputs": [
    {
     "name": "stdout",
     "output_type": "stream",
     "text": [
      "Bentuk akar dari 5 adalah: 5\n"
     ]
    }
   ],
   "source": [
    "import math\n",
    "\n",
    "def konversi_ke_akar(n):\n",
    "    akar = math.isqrt(n)  # Akar kuadrat dari n\n",
    "    faktor_prima = []\n",
    "\n",
    "    for i in range(2, akar + 1):\n",
    "        while n % i == 0:\n",
    "            faktor_prima.append(i)\n",
    "            n //= i\n",
    "\n",
    "    if n > 1:\n",
    "        faktor_prima.append(n)\n",
    "\n",
    "    bentuk_akar = ' * '.join([str(f) if faktor_prima.count(f) == 1 else f'{f}^{faktor_prima.count(f)}' for f in set(faktor_prima)])\n",
    "    return f'√({bentuk_akar})' if '^' in bentuk_akar else bentuk_akar\n",
    "\n",
    "# Input nilai desimal dari pengguna\n",
    "nilai_desimal = int(input(\"Masukkan nilai desimal: \"))\n",
    "\n",
    "# Memanggil fungsi konversi_ke_akar\n",
    "hasil_konversi = konversi_ke_akar(nilai_desimal)\n",
    "\n",
    "# Menampilkan hasil konversi\n",
    "print(f\"Bentuk akar dari {nilai_desimal} adalah: {hasil_konversi}\")\n"
   ]
  },
  {
   "cell_type": "code",
   "execution_count": 24,
   "metadata": {},
   "outputs": [
    {
     "name": "stdout",
     "output_type": "stream",
     "text": [
      "Logaritma dari 10.0 adalah 2.30\n"
     ]
    }
   ],
   "source": [
    "#mencari logaritma\n",
    "\n",
    "import math\n",
    "\n",
    "bilangan = input(\"Masukkan bilangan: \")\n",
    "try:\n",
    "    bilangan = float(bilangan)\n",
    "    if bilangan <= 0:\n",
    "        raise ValueError\n",
    "    else:\n",
    "        logaritma = math.log(bilangan)\n",
    "        print(f\"Logaritma dari {bilangan} adalah {logaritma:.2f}\")\n",
    "except ValueError:\n",
    "    print(\"TypeError\")\n"
   ]
  },
  {
   "cell_type": "code",
   "execution_count": null,
   "metadata": {},
   "outputs": [],
   "source": [
    "def likes(names):\n",
    "    if len(names) == 0:\n",
    "        return \"no one like this\"\n",
    "    if len(names) == 1:\n",
    "        return f\"{names} like this\"\n",
    "    if len(names) == 2:\n",
    "        return f\"{names[0]} and {names[1]} like this\"\n",
    "    if len(names) == 3:\n",
    "        return f\"{names[0]}, {names[1]}, and {names[2]} like this\"\n",
    "    if len(names) > 3:\n",
    "        return f\"{names[0]}, {names[1]} and {len(names)-2} others like this\""
   ]
  },
  {
   "cell_type": "code",
   "execution_count": 23,
   "metadata": {},
   "outputs": [
    {
     "data": {
      "text/plain": [
       "'Logaritma dari 10.0 adalah 2.302585092994046'"
      ]
     },
     "execution_count": 23,
     "metadata": {},
     "output_type": "execute_result"
    }
   ],
   "source": [
    "import math\n",
    "\n",
    "def hitung_logaritma(bilangan):\n",
    "    # Mengecek apakah input adalah numerik\n",
    "    if not isinstance(bilangan, (float)):\n",
    "        return \"TypeError: Input harus numerik\"\n",
    "    if bilangan <= 0:\n",
    "        return \"TypeError: Bilangan harus positif dan tidak boleh nol\"\n",
    "    hasil_logaritma = math.log(bilangan)\n",
    "    return (f\"Logaritma dari {bilangan} adalah {hasil_logaritma}\")\n",
    "\n",
    "bilangan = float(input('Masukkan Bilangan'))\n",
    "hitung_logaritma(bilangan)\n"
   ]
  },
  {
   "cell_type": "code",
   "execution_count": 20,
   "metadata": {},
   "outputs": [
    {
     "name": "stdout",
     "output_type": "stream",
     "text": [
      "Faktorial dari 5 adalah 120\n"
     ]
    }
   ],
   "source": [
    "angka = int(input('Masukkan angka'))\n",
    "faktorial = 1\n",
    "if angka >= 0:\n",
    "    for i in range(1, angka+1):\n",
    "        faktorial = faktorial * i\n",
    "    print(f\"Faktorial dari {angka} adalah {faktorial}\")"
   ]
  },
  {
   "cell_type": "markdown",
   "metadata": {},
   "source": [
    "### praktikum 3"
   ]
  },
  {
   "cell_type": "code",
   "execution_count": 33,
   "metadata": {},
   "outputs": [
    {
     "name": "stdout",
     "output_type": "stream",
     "text": [
      "maya\n"
     ]
    }
   ],
   "source": [
    "kata = str(input('Masukkan kata'))\n",
    "print(kata[::-1])"
   ]
  },
  {
   "cell_type": "code",
   "execution_count": 7,
   "metadata": {},
   "outputs": [
    {
     "name": "stdout",
     "output_type": "stream",
     "text": [
      "qw\n",
      "we\n",
      "er\n",
      "rt\n",
      "ty\n"
     ]
    }
   ],
   "source": [
    "# membuat perulangan kata ab bc cd de\n",
    "kata = str(input('Masukkan string'))\n",
    "for i, j in zip(kata, kata[1:]):\n",
    "    print(i+j)"
   ]
  },
  {
   "cell_type": "code",
   "execution_count": 10,
   "metadata": {},
   "outputs": [
    {
     "name": "stdout",
     "output_type": "stream",
     "text": [
      "qw\n",
      "we\n",
      "er\n",
      "rt\n",
      "ty\n"
     ]
    }
   ],
   "source": [
    "# kode lain \n",
    "kata = str(input('Masukkan kata'))\n",
    "for i in range(len(kata)-1):\n",
    "    print(kata[i] + kata[i +1])"
   ]
  },
  {
   "cell_type": "code",
   "execution_count": 24,
   "metadata": {},
   "outputs": [
    {
     "name": "stdout",
     "output_type": "stream",
     "text": [
      "Tidak ada\n",
      "Banyak kata saya dan Saya adalah 7\n"
     ]
    }
   ],
   "source": [
    "paragraf = \"Nama saya adalah Rita Sugiarto. Saya memiliki hobi menyanyi sejak kecil. Semua berawal dari mimpi ibu saya untuk memiliki putri seorang penyanyi. Saya berlatih vokal seminggu sekali dengan guru saya. Apabila saya menjadi juara satu dalam perlombaan menyanyi tingkat profinsi, ibu saya akan membelikan saya kado yang sangat istimewa.\"\n",
    "\n",
    "if paragraf in 'Mereka':\n",
    "    print('Ada')\n",
    "else:\n",
    "    print('Tidak ada')\n",
    "\n",
    "\n",
    "count = 0\n",
    "count_kecil = 0\n",
    "kata_kata = paragraf.split()\n",
    "for kata in kata_kata:\n",
    "    if kata == 'Saya':\n",
    "        count += 1\n",
    "    elif kata == 'saya':\n",
    "        count_kecil += 1\n",
    "print(f'Banyak kata saya dan Saya adalah {count_kecil + count}')\n"
   ]
  },
  {
   "cell_type": "code",
   "execution_count": null,
   "metadata": {},
   "outputs": [],
   "source": []
  },
  {
   "cell_type": "code",
   "execution_count": null,
   "metadata": {},
   "outputs": [],
   "source": []
  }
 ],
 "metadata": {
  "kernelspec": {
   "display_name": "bintang",
   "language": "python",
   "name": "python3"
  },
  "language_info": {
   "codemirror_mode": {
    "name": "ipython",
    "version": 3
   },
   "file_extension": ".py",
   "mimetype": "text/x-python",
   "name": "python",
   "nbconvert_exporter": "python",
   "pygments_lexer": "ipython3",
   "version": "3.8.18"
  }
 },
 "nbformat": 4,
 "nbformat_minor": 2
}
