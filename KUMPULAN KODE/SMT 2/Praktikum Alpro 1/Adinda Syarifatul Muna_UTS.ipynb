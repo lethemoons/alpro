{
 "cells": [
  {
   "cell_type": "markdown",
   "metadata": {},
   "source": [
    "## ADINDA SYARIFATUL MUNA\n",
    "### 164231042\n",
    "#### SD-A2\n",
    "#### UTS ALGORITMA PEMROGRAMAN I"
   ]
  },
  {
   "cell_type": "markdown",
   "metadata": {},
   "source": [
    "1. mengurutkan kata dari kalimat, diurutkan menurut abjad dan yang huruf besar terlebih dahulu"
   ]
  },
  {
   "cell_type": "code",
   "execution_count": 3,
   "metadata": {},
   "outputs": [
    {
     "name": "stdout",
     "output_type": "stream",
     "text": [
      "Saya Chika. Saya suka belajar pemrograman. Saya mahasiswa Prodi Teknologi Sains Data Universitas Airlangga\n",
      "Airlangga\n",
      "Chika.\n",
      "Data\n",
      "Prodi\n",
      "Sains\n",
      "Saya\n",
      "Saya\n",
      "Saya\n",
      "Teknologi\n",
      "Universitas\n",
      "belajar\n",
      "mahasiswa\n",
      "pemrograman.\n",
      "suka\n"
     ]
    }
   ],
   "source": [
    "a = input('masukkan kalimat: ')\n",
    "print(a)\n",
    "b = a.split(' ')\n",
    "c= sorted(b)\n",
    "\n",
    "for i in c:\n",
    "    print(i)"
   ]
  },
  {
   "cell_type": "markdown",
   "metadata": {},
   "source": [
    "2. mau segitiga atau kotak"
   ]
  },
  {
   "cell_type": "code",
   "execution_count": 3,
   "metadata": {},
   "outputs": [
    {
     "name": "stdout",
     "output_type": "stream",
     "text": [
      "selamat datang di program nggambar\n",
      "Pilih jenis gambar: 1. Segitiga siku siku. 2. Kotak, 3. Segitiga siku siku tapi kebalik\n",
      "*****\n",
      "****\n",
      "***\n",
      "**\n",
      "*\n"
     ]
    }
   ],
   "source": [
    "print('selamat datang di program nggambar')\n",
    "print('Pilih jenis gambar: 1. Segitiga siku siku. 2. Kotak, 3. Segitiga siku siku tapi kebalik')\n",
    "a = input('Masukkan nomor pilihan lalu tekan enter: ')\n",
    "b = int(input('masukkan tinggi: (dalam angka)'))\n",
    "\n",
    "if a == '3':\n",
    "    for i in range(b,0,-1): \n",
    "        print('*'*i)        \n",
    "elif a == '2':\n",
    "    for i in range(b):      \n",
    "        print('*'*b)       \n",
    "elif a == '1':\n",
    "    for i in range(b+1):\n",
    "        print('*' *i)\n",
    "else:\n",
    "    print('error')"
   ]
  },
  {
   "cell_type": "markdown",
   "metadata": {},
   "source": [
    "3. buat fungsi untuk menambahkan akhiran kata\n"
   ]
  },
  {
   "cell_type": "code",
   "execution_count": 4,
   "metadata": {},
   "outputs": [
    {
     "name": "stdout",
     "output_type": "stream",
     "text": [
      "['cleverly', 'meekly', 'hurriedly', 'nicely']\n"
     ]
    },
    {
     "data": {
      "text/plain": [
       "['newerer', 'pandererer', 'scooperer']"
      ]
     },
     "execution_count": 4,
     "metadata": {},
     "output_type": "execute_result"
    }
   ],
   "source": [
    "def add_ending(list, tambahan):\n",
    "    baru =[]\n",
    "    for kata in list:\n",
    "         baru.append(kata+tambahan)\n",
    "    return baru\n",
    "\n",
    "print(add_ending(['clever', 'meek', 'hurried', 'nice'], 'ly'))\n",
    "add_ending(['newer', 'panderer', 'scooper'], 'er')\n"
   ]
  },
  {
   "cell_type": "markdown",
   "metadata": {},
   "source": [
    "4. fungsi untuk mengecek apakah ada list spesial"
   ]
  },
  {
   "cell_type": "code",
   "execution_count": 6,
   "metadata": {},
   "outputs": [
    {
     "data": {
      "text/plain": [
       "True"
      ]
     },
     "execution_count": 6,
     "metadata": {},
     "output_type": "execute_result"
    }
   ],
   "source": [
    "def ganjil(num):\n",
    "    if num %2==1:\n",
    "        return True\n",
    "def genap(num):\n",
    "    if num %2 ==0:\n",
    "        return True\n",
    "def special(list):\n",
    "    for i in range (len(list)):\n",
    "        if ganjil(list[i]) == ganjil(i) and genap(list[i]) == genap(i):\n",
    "            return True\n",
    "        else:\n",
    "            return False\n",
    "special([2,7,9,1,6,1,6,3])"
   ]
  },
  {
   "cell_type": "code",
   "execution_count": 8,
   "metadata": {},
   "outputs": [
    {
     "name": "stdout",
     "output_type": "stream",
     "text": [
      "True\n",
      "False\n"
     ]
    }
   ],
   "source": [
    "def special_array(list):\n",
    "    for i in range(len(list)):\n",
    "        if i % 2 == 1 and list[i]%2==0:\n",
    "            return False\n",
    "        if i%2 == 0 and list[i]%2==1:\n",
    "            return False\n",
    "    return True\n",
    "print(special_array([2,7,4,9,6,1,6,3]))\n",
    "print(special_array([2,7,9,1,6,1,6,3]))"
   ]
  },
  {
   "cell_type": "markdown",
   "metadata": {},
   "source": [
    "5. buat fungsi untuk menjumlahkan angka 2 digit"
   ]
  },
  {
   "cell_type": "code",
   "execution_count": 32,
   "metadata": {},
   "outputs": [
    {
     "name": "stdout",
     "output_type": "stream",
     "text": [
      "9\n"
     ]
    }
   ],
   "source": [
    "def two_digit_sum(angka):\n",
    "  num_str = str(angka) # Ubah angka menjadi string\n",
    "  digit_sum = 0\n",
    "\n",
    "  for digit in num_str:\n",
    "    digit_sum += int(digit) # Ubah setiap digit kembali menjadi bilangan bulat dan tambahkan ke jumlahnya\n",
    "  return digit_sum\n",
    "\n",
    "angka= int(input('masukkan 2 digit angka: '))\n",
    "\n",
    "print(two_digit_sum(angka))\n",
    "#print(two_digit_sum(38))"
   ]
  },
  {
   "cell_type": "markdown",
   "metadata": {},
   "source": [
    "6. fungsi untuk konver vokal ke angka yang sudah ditetapkan"
   ]
  },
  {
   "cell_type": "code",
   "execution_count": 9,
   "metadata": {},
   "outputs": [
    {
     "data": {
      "text/plain": [
       "13"
      ]
     },
     "execution_count": 9,
     "metadata": {},
     "output_type": "execute_result"
    }
   ],
   "source": [
    "def vowelsum(string):\n",
    "    count = 0\n",
    "    for huruf in string:\n",
    "        if huruf == 'A' or huruf == 'a':\n",
    "            count+=4\n",
    "        elif huruf == 'E' or huruf =='e':\n",
    "            count += 3\n",
    "        elif huruf == 'I' or huruf =='i':\n",
    "            count += 1\n",
    "    return count\n",
    "vowelsum('Aku cinta alpro')"
   ]
  },
  {
   "cell_type": "code",
   "execution_count": null,
   "metadata": {},
   "outputs": [],
   "source": []
  }
 ],
 "metadata": {
  "kernelspec": {
   "display_name": "Python 3",
   "language": "python",
   "name": "python3"
  },
  "language_info": {
   "codemirror_mode": {
    "name": "ipython",
    "version": 3
   },
   "file_extension": ".py",
   "mimetype": "text/x-python",
   "name": "python",
   "nbconvert_exporter": "python",
   "pygments_lexer": "ipython3",
   "version": "3.11.5"
  }
 },
 "nbformat": 4,
 "nbformat_minor": 2
}
