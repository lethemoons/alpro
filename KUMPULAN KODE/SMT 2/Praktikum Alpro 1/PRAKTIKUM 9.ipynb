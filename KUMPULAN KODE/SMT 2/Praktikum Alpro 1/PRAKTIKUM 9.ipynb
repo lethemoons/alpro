{
 "cells": [
  {
   "cell_type": "code",
   "execution_count": null,
   "metadata": {},
   "outputs": [],
   "source": [
    "def selectwhile(var):\n",
    "  i = 0\n",
    "  while i < len(var):\n",
    "    min_idx = i\n",
    "    j = i + 1\n",
    "    while j < len(var):\n",
    "      if var[min_idx] > var[j]:\n",
    "        min_idx = j\n",
    "      j += 1\n",
    "\n",
    "    var[i], var[min_idx] = var[min_idx], var[i]\n",
    "    i += 1\n",
    "\n",
    "  return var\n",
    "\n",
    "selectwhile([2,3,57,8,5])\n"
   ]
  },
  {
   "cell_type": "code",
   "execution_count": null,
   "metadata": {},
   "outputs": [],
   "source": [
    "def sercing(a,cari):    \n",
    "    ketemu = False\n",
    "    i = 0\n",
    "    while i < len(a):\n",
    "        if cari == a[i]:\n",
    "            ketemu = True\n",
    "            idx = i\n",
    "        i +=1\n",
    "        \n",
    "    \n",
    "    if ketemu:\n",
    "        return(f'nilai: {cari}, ada di indeks ke {idx}')\n",
    "    else:\n",
    "        return('nilai tidak ditemukan')\n",
    "    \n",
    "    \n",
    "    \n",
    "sercing([2,7,9,76,9,0],2)\n"
   ]
  }
 ],
 "metadata": {
  "language_info": {
   "name": "python"
  }
 },
 "nbformat": 4,
 "nbformat_minor": 2
}
