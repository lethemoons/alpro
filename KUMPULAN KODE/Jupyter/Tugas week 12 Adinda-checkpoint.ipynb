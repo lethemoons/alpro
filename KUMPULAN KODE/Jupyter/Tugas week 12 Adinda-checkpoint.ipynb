{
 "cells": [
  {
   "cell_type": "markdown",
   "id": "5da6cbfc",
   "metadata": {},
   "source": [
    "## Adinda Syarifatul Muna 164231042"
   ]
  },
  {
   "cell_type": "markdown",
   "id": "44a6ef67",
   "metadata": {},
   "source": [
    "SOAL 1"
   ]
  },
  {
   "cell_type": "code",
   "execution_count": 17,
   "id": "dc1ca3fb",
   "metadata": {},
   "outputs": [
    {
     "name": "stdout",
     "output_type": "stream",
     "text": [
      "Masukkan harga belanjaan: 10000\n",
      "Masukkan diskon: 10\n",
      "Harga akhir 9000.0\n"
     ]
    }
   ],
   "source": [
    "#input\n",
    "harga = float(input(\"Masukkan harga belanjaan: \"))\n",
    "diskon = int(input(\"Masukkan diskon: \"))\n",
    "\n",
    "#proses\n",
    "c= harga-harga*(diskon/100)\n",
    "\n",
    "#hasil\n",
    "print(\"Harga akhir\",c)"
   ]
  },
  {
   "cell_type": "markdown",
   "id": "df3c28e3",
   "metadata": {},
   "source": [
    "SOAL 2\n"
   ]
  },
  {
   "cell_type": "code",
   "execution_count": 16,
   "id": "e88b943e",
   "metadata": {},
   "outputs": [
    {
     "name": "stdout",
     "output_type": "stream",
     "text": [
      "Masukkan jumlah babi 1\n",
      "Masukkan jumlah ayam 1\n",
      "Masukkan jumlah sapi 1\n",
      "Masukkan jumlah domba 1\n",
      "jumlah kaki 14\n"
     ]
    }
   ],
   "source": [
    "#input\n",
    "babi = int(input('Masukkan jumlah babi '))\n",
    "ayam = int(input('Masukkan jumlah ayam '))\n",
    "sapi = int(input('Masukkan jumlah sapi '))\n",
    "domba = int(input('Masukkan jumlah domba '))\n",
    "\n",
    "#proses\n",
    "a = babi*4\n",
    "b = ayam*2\n",
    "c = sapi*4\n",
    "d = domba*4\n",
    "\n",
    "#output\n",
    "print('jumlah kaki', a+b+c+d)\n"
   ]
  },
  {
   "cell_type": "markdown",
   "id": "d91b215b",
   "metadata": {},
   "source": [
    "SOAL 3 "
   ]
  },
  {
   "cell_type": "code",
   "execution_count": 12,
   "id": "853e50f5",
   "metadata": {},
   "outputs": [
    {
     "name": "stdout",
     "output_type": "stream",
     "text": [
      "Masukkan panjang alas 3\n",
      "Masukkan panjang tinggi 4\n",
      "Panjang sisi miring =  5.0\n"
     ]
    }
   ],
   "source": [
    "#input\n",
    "alas = float(input('Masukkan panjang alas '))\n",
    "tinggi = float(input('Masukkan panjang tinggi '))\n",
    "\n",
    "#proses\n",
    "miring = float((alas**2+tinggi**2)**0.5)\n",
    "\n",
    "#output\n",
    "print(\"Panjang sisi miring = \", miring)"
   ]
  },
  {
   "cell_type": "markdown",
   "id": "b4fc8b3f",
   "metadata": {},
   "source": [
    "SOAL 4 \n",
    "    "
   ]
  },
  {
   "cell_type": "code",
   "execution_count": 22,
   "id": "ebf5c741",
   "metadata": {},
   "outputs": [
    {
     "name": "stdout",
     "output_type": "stream",
     "text": [
      "Masukkan jumlah tahun 1\n",
      "Jumlah hari adalah 365 hari\n",
      "Jumlah minggu adalah 52 minggu\n"
     ]
    }
   ],
   "source": [
    "#input\n",
    "tahun = int(input('Masukkan jumlah tahun '))\n",
    "\n",
    "#proses\n",
    "hari = tahun*365\n",
    "minggu = tahun*52\n",
    "\n",
    "#output\n",
    "print(f\"Jumlah hari adalah {hari} hari\")\n",
    "print(f\"Jumlah minggu adalah {minggu} minggu\")\n"
   ]
  },
  {
   "cell_type": "code",
   "execution_count": null,
   "id": "0655b04b",
   "metadata": {},
   "outputs": [],
   "source": []
  }
 ],
 "metadata": {
  "kernelspec": {
   "display_name": "Python 3 (ipykernel)",
   "language": "python",
   "name": "python3"
  },
  "language_info": {
   "codemirror_mode": {
    "name": "ipython",
    "version": 3
   },
   "file_extension": ".py",
   "mimetype": "text/x-python",
   "name": "python",
   "nbconvert_exporter": "python",
   "pygments_lexer": "ipython3",
   "version": "3.11.5"
  }
 },
 "nbformat": 4,
 "nbformat_minor": 5
}
