{
 "cells": [
  {
   "cell_type": "code",
   "execution_count": null,
   "metadata": {},
   "outputs": [],
   "source": [
    "vokal = [\"a\",\"i\",\"e\",\"u\",\"o\"]\n",
    "huruf = input(\"Masukkan huruf: \").lower()\n",
    "\n",
    "if huruf in vokal:\n",
    "    print(\"Vokal\")\n",
    "else:\n",
    "    print(\"Konsonan\")"
   ]
  },
  {
   "cell_type": "code",
   "execution_count": null,
   "metadata": {},
   "outputs": [],
   "source": [
    "nilai = int(input(\"Masukkan nilai: \"))\n",
    "\n",
    "if nilai < 55:\n",
    "    print(\"E\")\n",
    "elif nilai >= 55 and nilai < 68:\n",
    "    print(\"D\")\n",
    "elif nilai >= 68 and nilai < 78:\n",
    "    print(\"C\")\n",
    "elif nilai >=78 and nilai < 86:\n",
    "    print(\"B\")\n",
    "elif nilai >= 86 and nilai <= 100:\n",
    "    print(\"A\")"
   ]
  },
  {
   "cell_type": "code",
   "execution_count": null,
   "metadata": {},
   "outputs": [],
   "source": [
    "bil1 = int(input(\"Masukkan bilangan1: \"))\n",
    "bil2 = int(input(\"Masukkan bilangan2: \"))\n",
    "\n",
    "if bil1 > bil2:\n",
    "    print(\"bil1 > bil2\") \n",
    "else:\n",
    "    print(\"bil2 > bil1\")"
   ]
  },
  {
   "cell_type": "code",
   "execution_count": 5,
   "metadata": {},
   "outputs": [
    {
     "name": "stdout",
     "output_type": "stream",
     "text": [
      "1, 3, 5, 7, 9, 10\n"
     ]
    }
   ],
   "source": [
    "bil_awal = int(input(\"Masukkan bilangan awal: \"))\n",
    "banyak_bilangan = int(input(\"Masukkan banyak bilangan: \"))\n",
    "\n",
    "jumlah = 0\n",
    "for i in range(banyak_bilangan):\n",
    "    print(bil_awal, end=\", \")\n",
    "    bil_awal += 2 \n",
    " "
   ]
  },
  {
   "cell_type": "code",
   "execution_count": 15,
   "metadata": {},
   "outputs": [
    {
     "name": "stdout",
     "output_type": "stream",
     "text": [
      "[5, 10, 15, 20, 25, 30, 35]\n",
      "140\n"
     ]
    }
   ],
   "source": [
    "nilaiAkhir= int(input('Masukkan bilangan'))\n",
    "lis=[]\n",
    "jumlah= 0\n",
    "for i in range(1, nilaiAkhir+1):\n",
    "    if i%5 == 0:\n",
    "        lis.append(i)\n",
    "        jumlah += i\n",
    "print(lis)\n",
    "print(jumlah)\n",
    "        "
   ]
  },
  {
   "cell_type": "code",
   "execution_count": 1,
   "metadata": {},
   "outputs": [
    {
     "name": "stdout",
     "output_type": "stream",
     "text": [
      "[2, 3, 5, 7, 11]\n"
     ]
    }
   ],
   "source": [
    "# menegluarkan / memunculkan bilangan prima sesuai input\n",
    "def is_prime(x):\n",
    "    if x == 2:\n",
    "        return True\n",
    "    for i in range (2,x):\n",
    "        if x % i == 0:\n",
    "            return False\n",
    "    return True\n",
    "\n",
    "n = int(input())\n",
    "prima = []\n",
    "\n",
    "i = 2\n",
    "while len(prima) < n:\n",
    "    if is_prime(i) == True:\n",
    "        prima.append(i)\n",
    "    i+=1\n",
    "\n",
    "print(prima) \n"
   ]
  },
  {
   "cell_type": "code",
   "execution_count": null,
   "metadata": {},
   "outputs": [],
   "source": []
  }
 ],
 "metadata": {
  "kernelspec": {
   "display_name": "base",
   "language": "python",
   "name": "python3"
  },
  "language_info": {
   "codemirror_mode": {
    "name": "ipython",
    "version": 3
   },
   "file_extension": ".py",
   "mimetype": "text/x-python",
   "name": "python",
   "nbconvert_exporter": "python",
   "pygments_lexer": "ipython3",
   "version": "3.11.5"
  }
 },
 "nbformat": 4,
 "nbformat_minor": 2
}
