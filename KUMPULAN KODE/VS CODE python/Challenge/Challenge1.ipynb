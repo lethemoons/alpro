{
 "cells": [
  {
   "cell_type": "markdown",
   "metadata": {},
   "source": [
    "### MENENTUKAN HARGA SETELAH DISKON"
   ]
  },
  {
   "cell_type": "code",
   "execution_count": 8,
   "metadata": {},
   "outputs": [
    {
     "name": "stdout",
     "output_type": "stream",
     "text": [
      "Harga akhir adalah =  50 RIBU RUPIAH\n"
     ]
    }
   ],
   "source": [
    "def diskon(price, diskon):\n",
    "    return int(price - (price * (diskon/100)))\n",
    "\n",
    "print (f'Harga akhir adalah =  {diskon(100, 50)} RIBU RUPIAH')"
   ]
  },
  {
   "cell_type": "markdown",
   "metadata": {},
   "source": [
    "### KONVERSI RADIAN KE DERAJAT \n"
   ]
  },
  {
   "cell_type": "code",
   "execution_count": 4,
   "metadata": {},
   "outputs": [
    {
     "name": "stdout",
     "output_type": "stream",
     "text": [
      "565\n",
      "Nilai pi adalah = 3.141592653589793\n"
     ]
    }
   ],
   "source": [
    "import math\n",
    "pi = math.pi\n",
    "def radians_to_degrees(num):\n",
    "    return int(num * pi)\n",
    "\n",
    "print (radians_to_degrees(180))\n",
    "print('Nilai pi adalah =', pi)"
   ]
  },
  {
   "cell_type": "markdown",
   "metadata": {},
   "source": [
    "### Keliling Lingkaran > Keliling Persegi"
   ]
  },
  {
   "cell_type": "code",
   "execution_count": 32,
   "metadata": {},
   "outputs": [
    {
     "name": "stdout",
     "output_type": "stream",
     "text": [
      "True\n",
      "False\n"
     ]
    }
   ],
   "source": [
    "import math \n",
    "pi = math.pi\n",
    "def circle_or_square(rad, area):\n",
    "    circumference = 2 * pi * rad\n",
    "    square = math.sqrt(area) * 4 \n",
    "    if circumference > square:\n",
    "        return(True)\n",
    "    else:\n",
    "        return(False)\n",
    "\n",
    "print(circle_or_square(16, 625))\n",
    "print(circle_or_square(5, 100))\n"
   ]
  },
  {
   "cell_type": "markdown",
   "metadata": {},
   "source": [
    "### MENCARI EKSPONEN JIKA DIKETAHUI HASIL DAN BASISNYA"
   ]
  },
  {
   "cell_type": "code",
   "execution_count": 47,
   "metadata": {},
   "outputs": [
    {
     "name": "stdout",
     "output_type": "stream",
     "text": [
      "Pangkat nya adalah = 5\n"
     ]
    }
   ],
   "source": [
    "import math \n",
    "math.log\n",
    "def solve_for_exp(a, b):\n",
    "    return int(math.log(b, a))\n",
    "\n",
    "print('Pangkat nya adalah =', solve_for_exp(4, 1024))    "
   ]
  },
  {
   "cell_type": "markdown",
   "metadata": {},
   "source": [
    "### JUMLAHKAN ANGKA GANJIL DAN GENAP SENDIRI2"
   ]
  },
  {
   "cell_type": "code",
   "execution_count": 58,
   "metadata": {},
   "outputs": [
    {
     "name": "stdout",
     "output_type": "stream",
     "text": [
      "[12, 9]\n"
     ]
    }
   ],
   "source": [
    "import math\n",
    "def sum_odd_and_even(list):\n",
    "    total = 0\n",
    "    sum = 0\n",
    "    for i in list: \n",
    "        if i % 2 == 0:\n",
    "            total += i \n",
    "        else:\n",
    "            sum += i\n",
    "    return [total, sum] \n",
    "\n",
    "print(sum_odd_and_even([1, 2, 3, 4, 5, 6, 0]))"
   ]
  },
  {
   "cell_type": "code",
   "execution_count": 5,
   "metadata": {},
   "outputs": [
    {
     "data": {
      "text/plain": [
       "False"
      ]
     },
     "execution_count": 5,
     "metadata": {},
     "output_type": "execute_result"
    }
   ],
   "source": [
    "def less_than_or_equal_to_zero(num):\n",
    "    if num <= 0:\n",
    "        return True\n",
    "    elif num > 0:\n",
    "        return False\n",
    "    else:\n",
    "        return ('Error')\n",
    "less_than_or_equal_to_zero(9)"
   ]
  },
  {
   "cell_type": "markdown",
   "metadata": {},
   "source": [
    "### menentukan poin"
   ]
  },
  {
   "cell_type": "code",
   "execution_count": 3,
   "metadata": {},
   "outputs": [
    {
     "data": {
      "text/plain": [
       "9"
      ]
     },
     "execution_count": 3,
     "metadata": {},
     "output_type": "execute_result"
    }
   ],
   "source": [
    "#aturan\n",
    "\n",
    "def football_point(wins, draws, losses):\n",
    "    return (wins*3 + draws + losses*0)\n",
    "football_point(3,0,4)"
   ]
  },
  {
   "cell_type": "code",
   "execution_count": null,
   "metadata": {},
   "outputs": [],
   "source": [
    "def is_same_num(num1, num2):\n",
    "    if num1 == num2:\n",
    "        print('True')\n",
    "    else:\n",
    "        print('False')"
   ]
  },
  {
   "cell_type": "code",
   "execution_count": 1,
   "metadata": {},
   "outputs": [
    {
     "data": {
      "text/plain": [
       "2"
      ]
     },
     "execution_count": 1,
     "metadata": {},
     "output_type": "execute_result"
    }
   ],
   "source": [
    "def total_amount_adjective(dict):\n",
    "    return len(dict)\n",
    "\n",
    "total_amount_adjective({'a': 'moron', 'b': 'idiot'})"
   ]
  },
  {
   "cell_type": "code",
   "execution_count": null,
   "metadata": {},
   "outputs": [],
   "source": [
    "def get_first_value(list):\n",
    "    return list[0]\n",
    "\n",
    "get_first_value([23, 2, 1])"
   ]
  },
  {
   "cell_type": "markdown",
   "metadata": {},
   "source": [
    "##### huruf latah"
   ]
  },
  {
   "cell_type": "code",
   "execution_count": 18,
   "metadata": {},
   "outputs": [
    {
     "data": {
      "text/plain": [
       "'ba.....ba.....bagus'"
      ]
     },
     "execution_count": 18,
     "metadata": {},
     "output_type": "execute_result"
    }
   ],
   "source": [
    "def latah(word:str):\n",
    "    return word[0:2]+ '.....' + word[0:2] + '.....' + word\n",
    "\n",
    "latah('bagus')"
   ]
  },
  {
   "cell_type": "code",
   "execution_count": 8,
   "metadata": {},
   "outputs": [
    {
     "data": {
      "text/plain": [
       "'Edaaaaaabit'"
      ]
     },
     "execution_count": 8,
     "metadata": {},
     "output_type": "execute_result"
    }
   ],
   "source": [
    "def how_many(num):\n",
    "    edabit = 'Ed{}bit'\n",
    "    return edabit.format('a' * num)\n",
    "how_many(6)"
   ]
  },
  {
   "cell_type": "markdown",
   "metadata": {},
   "source": [
    "#### menentukan nilai terkecil & terbesar"
   ]
  },
  {
   "cell_type": "code",
   "execution_count": 16,
   "metadata": {},
   "outputs": [
    {
     "data": {
      "text/plain": [
       "0.6"
      ]
     },
     "execution_count": 16,
     "metadata": {},
     "output_type": "execute_result"
    }
   ],
   "source": [
    "def find_minimum(lst):\n",
    "    return min(lst)\n",
    "\n",
    "find_minimum([3, 0.6, 8])"
   ]
  },
  {
   "cell_type": "code",
   "execution_count": 19,
   "metadata": {},
   "outputs": [
    {
     "data": {
      "text/plain": [
       "1.3"
      ]
     },
     "execution_count": 19,
     "metadata": {},
     "output_type": "execute_result"
    }
   ],
   "source": [
    "def find_min(list):\n",
    "    nilai_terkecil = list[0]\n",
    "    for i in range(len(list)):\n",
    "        if list[i] < nilai_terkecil:\n",
    "            nilai_terkecil = list[i]\n",
    "    return nilai_terkecil\n",
    "find_min([2, 3, 5, 1.3])"
   ]
  },
  {
   "cell_type": "code",
   "execution_count": 36,
   "metadata": {},
   "outputs": [
    {
     "data": {
      "text/plain": [
       "90"
      ]
     },
     "execution_count": 36,
     "metadata": {},
     "output_type": "execute_result"
    }
   ],
   "source": [
    "def find_max(list):\n",
    "    angka_besar = list[0]\n",
    "    for i in range(len(list)):\n",
    "        if list[i] > angka_besar:\n",
    "            angka_besar = list[i]\n",
    "    return angka_besar\n",
    "find_max([3,5,78,67,56,90])\n",
    "\n"
   ]
  },
  {
   "cell_type": "code",
   "execution_count": 10,
   "metadata": {},
   "outputs": [
    {
     "data": {
      "text/plain": [
       "(2, 7)"
      ]
     },
     "execution_count": 10,
     "metadata": {},
     "output_type": "execute_result"
    }
   ],
   "source": [
    "def find_min_max(list):\n",
    "    nilai_terkecil = list[0]\n",
    "    nilai_terbesar = list[0]\n",
    "    for i in range(1,len(list)):\n",
    "        if list[i] < nilai_terkecil:\n",
    "            nilai_terkecil = list[i]\n",
    "        elif list[i] > nilai_terbesar:\n",
    "            nilai_terbesar = list[i]\n",
    "    return  nilai_terkecil ,nilai_terbesar\n",
    "find_min_max([2,4,5,6,7])\n",
    "\n"
   ]
  },
  {
   "cell_type": "markdown",
   "metadata": {},
   "source": [
    "#### konversi voltase"
   ]
  },
  {
   "cell_type": "code",
   "execution_count": 7,
   "metadata": {},
   "outputs": [
    {
     "data": {
      "text/plain": [
       "1.1436950146627565"
      ]
     },
     "execution_count": 7,
     "metadata": {},
     "output_type": "execute_result"
    }
   ],
   "source": [
    "def dac_vol(sinyal:float):\n",
    "    analog_voltage = (sinyal/1023)*5\n",
    "    return analog_voltage\n",
    "dac_vol(234)"
   ]
  },
  {
   "cell_type": "code",
   "execution_count": null,
   "metadata": {},
   "outputs": [],
   "source": []
  },
  {
   "cell_type": "code",
   "execution_count": 17,
   "metadata": {},
   "outputs": [
    {
     "data": {
      "text/plain": [
       "-2"
      ]
     },
     "execution_count": 17,
     "metadata": {},
     "output_type": "execute_result"
    }
   ],
   "source": [
    "def shift_to_right(x:int, y:int):\n",
    "    return int(x/(2**y))\n",
    "shift_to_right(-5,1)"
   ]
  },
  {
   "cell_type": "markdown",
   "metadata": {},
   "source": [
    "### Menemukan nama didalam list/dictionary"
   ]
  },
  {
   "cell_type": "code",
   "execution_count": 11,
   "metadata": {},
   "outputs": [
    {
     "name": "stdout",
     "output_type": "stream",
     "text": [
      "Masukkan namaadi\n"
     ]
    },
    {
     "ename": "KeyboardInterrupt",
     "evalue": "Interrupted by user",
     "output_type": "error",
     "traceback": [
      "\u001b[1;31m---------------------------------------------------------------------------\u001b[0m",
      "\u001b[1;31mKeyboardInterrupt\u001b[0m                         Traceback (most recent call last)",
      "Cell \u001b[1;32mIn[11], line 10\u001b[0m\n\u001b[0;32m      8\u001b[0m     \u001b[38;5;28;01melse\u001b[39;00m:\n\u001b[0;32m      9\u001b[0m         \u001b[38;5;28;01mreturn\u001b[39;00m name\u001b[38;5;241m.\u001b[39mupper() \u001b[38;5;241m+\u001b[39m \u001b[38;5;124m'\u001b[39m\u001b[38;5;124m is gone\u001b[39m\u001b[38;5;124m'\u001b[39m\n\u001b[1;32m---> 10\u001b[0m find_it()\n",
      "Cell \u001b[1;32mIn[11], line 3\u001b[0m, in \u001b[0;36mfind_it\u001b[1;34m()\u001b[0m\n\u001b[0;32m      1\u001b[0m \u001b[38;5;28;01mdef\u001b[39;00m \u001b[38;5;21mfind_it\u001b[39m():\n\u001b[0;32m      2\u001b[0m     name \u001b[38;5;241m=\u001b[39m \u001b[38;5;28mstr\u001b[39m(\u001b[38;5;28minput\u001b[39m(\u001b[38;5;124m'\u001b[39m\u001b[38;5;124mMasukkan nama\u001b[39m\u001b[38;5;124m'\u001b[39m))    \n\u001b[1;32m----> 3\u001b[0m     items \u001b[38;5;241m=\u001b[39m \u001b[38;5;28mstr\u001b[39m(\u001b[38;5;28minput\u001b[39m(\u001b[38;5;124m'\u001b[39m\u001b[38;5;124mMasukkan item\u001b[39m\u001b[38;5;124m'\u001b[39m))\n\u001b[0;32m      4\u001b[0m     \u001b[38;5;28mprint\u001b[39m(name)\n\u001b[0;32m      5\u001b[0m     \u001b[38;5;28mprint\u001b[39m(items)\n",
      "File \u001b[1;32m~\\anaconda3\\Lib\\site-packages\\ipykernel\\kernelbase.py:1202\u001b[0m, in \u001b[0;36mKernel.raw_input\u001b[1;34m(self, prompt)\u001b[0m\n\u001b[0;32m   1200\u001b[0m     msg \u001b[38;5;241m=\u001b[39m \u001b[38;5;124m\"\u001b[39m\u001b[38;5;124mraw_input was called, but this frontend does not support input requests.\u001b[39m\u001b[38;5;124m\"\u001b[39m\n\u001b[0;32m   1201\u001b[0m     \u001b[38;5;28;01mraise\u001b[39;00m StdinNotImplementedError(msg)\n\u001b[1;32m-> 1202\u001b[0m \u001b[38;5;28;01mreturn\u001b[39;00m \u001b[38;5;28mself\u001b[39m\u001b[38;5;241m.\u001b[39m_input_request(\n\u001b[0;32m   1203\u001b[0m     \u001b[38;5;28mstr\u001b[39m(prompt),\n\u001b[0;32m   1204\u001b[0m     \u001b[38;5;28mself\u001b[39m\u001b[38;5;241m.\u001b[39m_parent_ident[\u001b[38;5;124m\"\u001b[39m\u001b[38;5;124mshell\u001b[39m\u001b[38;5;124m\"\u001b[39m],\n\u001b[0;32m   1205\u001b[0m     \u001b[38;5;28mself\u001b[39m\u001b[38;5;241m.\u001b[39mget_parent(\u001b[38;5;124m\"\u001b[39m\u001b[38;5;124mshell\u001b[39m\u001b[38;5;124m\"\u001b[39m),\n\u001b[0;32m   1206\u001b[0m     password\u001b[38;5;241m=\u001b[39m\u001b[38;5;28;01mFalse\u001b[39;00m,\n\u001b[0;32m   1207\u001b[0m )\n",
      "File \u001b[1;32m~\\anaconda3\\Lib\\site-packages\\ipykernel\\kernelbase.py:1245\u001b[0m, in \u001b[0;36mKernel._input_request\u001b[1;34m(self, prompt, ident, parent, password)\u001b[0m\n\u001b[0;32m   1242\u001b[0m \u001b[38;5;28;01mexcept\u001b[39;00m \u001b[38;5;167;01mKeyboardInterrupt\u001b[39;00m:\n\u001b[0;32m   1243\u001b[0m     \u001b[38;5;66;03m# re-raise KeyboardInterrupt, to truncate traceback\u001b[39;00m\n\u001b[0;32m   1244\u001b[0m     msg \u001b[38;5;241m=\u001b[39m \u001b[38;5;124m\"\u001b[39m\u001b[38;5;124mInterrupted by user\u001b[39m\u001b[38;5;124m\"\u001b[39m\n\u001b[1;32m-> 1245\u001b[0m     \u001b[38;5;28;01mraise\u001b[39;00m \u001b[38;5;167;01mKeyboardInterrupt\u001b[39;00m(msg) \u001b[38;5;28;01mfrom\u001b[39;00m \u001b[38;5;28;01mNone\u001b[39;00m\n\u001b[0;32m   1246\u001b[0m \u001b[38;5;28;01mexcept\u001b[39;00m \u001b[38;5;167;01mException\u001b[39;00m:\n\u001b[0;32m   1247\u001b[0m     \u001b[38;5;28mself\u001b[39m\u001b[38;5;241m.\u001b[39mlog\u001b[38;5;241m.\u001b[39mwarning(\u001b[38;5;124m\"\u001b[39m\u001b[38;5;124mInvalid Message:\u001b[39m\u001b[38;5;124m\"\u001b[39m, exc_info\u001b[38;5;241m=\u001b[39m\u001b[38;5;28;01mTrue\u001b[39;00m)\n",
      "\u001b[1;31mKeyboardInterrupt\u001b[0m: Interrupted by user"
     ]
    }
   ],
   "source": [
    "def find_it():\n",
    "    name = str(input('Masukkan nama'))    \n",
    "    items = str(input('Masukkan item'))\n",
    "    print(name)\n",
    "    print(items)\n",
    "    if name in items:\n",
    "        return name.capitalize() + ' its here'\n",
    "    else:\n",
    "        return name.upper() + ' is gone'\n",
    "find_it()\n",
    "\n"
   ]
  },
  {
   "cell_type": "markdown",
   "metadata": {},
   "source": [
    "### calculate profit"
   ]
  },
  {
   "cell_type": "code",
   "execution_count": 45,
   "metadata": {},
   "outputs": [
    {
     "data": {
      "text/plain": [
       "32411"
      ]
     },
     "execution_count": 45,
     "metadata": {},
     "output_type": "execute_result"
    }
   ],
   "source": [
    "def profit():\n",
    "    harga_jual = float(input('Masukkan harga jual'))\n",
    "    harga_beli = float(input('Masukkan harga beli'))\n",
    "    jumlah = int(input('Masukkan jumlah barang'))\n",
    "    profit = int((harga_jual - harga_beli)*jumlah)\n",
    "    return profit\n",
    "profit()"
   ]
  },
  {
   "cell_type": "markdown",
   "metadata": {},
   "source": [
    "### Mencari faktor dari bilangan"
   ]
  },
  {
   "cell_type": "code",
   "execution_count": 78,
   "metadata": {},
   "outputs": [
    {
     "name": "stdout",
     "output_type": "stream",
     "text": [
      "[1, 2, 3, 6]\n"
     ]
    }
   ],
   "source": [
    "a = int(input('Masukkan angka'))\n",
    "list =[]\n",
    "for i in range(1, a+1):\n",
    "    if a%i == 0:\n",
    "        list.append(i)\n",
    "print(list)\n",
    "    \n"
   ]
  },
  {
   "cell_type": "code",
   "execution_count": 3,
   "metadata": {},
   "outputs": [
    {
     "name": "stdout",
     "output_type": "stream",
     "text": [
      "Prima\n"
     ]
    }
   ],
   "source": [
    "a = int(input('Masukkan angka'))\n",
    "if a%a == 0:\n",
    "    print('Prima')\n",
    "else:\n",
    "    print('Bukan prima')\n"
   ]
  },
  {
   "cell_type": "markdown",
   "metadata": {},
   "source": [
    "#### Fullname and email"
   ]
  },
  {
   "cell_type": "code",
   "execution_count": 7,
   "metadata": {},
   "outputs": [
    {
     "name": "stdout",
     "output_type": "stream",
     "text": [
      "Masukkan Namapppp\n",
      "masukkan namannnn\n",
      "Pppp Nnnn\n",
      "pppp.nnnn@unair.ac.id\n"
     ]
    }
   ],
   "source": [
    "firstname = input('Masukkan Nama')\n",
    "lastname = input('masukkan nama')\n",
    "fullname = firstname.capitalize() + ' ' +lastname.capitalize()\n",
    "email = firstname.lower()+'.'+lastname.lower()+'@unair.ac.id'\n",
    "print(fullname)\n",
    "print(email)\n"
   ]
  },
  {
   "cell_type": "code",
   "execution_count": 12,
   "metadata": {},
   "outputs": [
    {
     "name": "stdout",
     "output_type": "stream",
     "text": [
      "5\n",
      "*****\n",
      "****\n",
      "***\n",
      "**\n",
      "*\n"
     ]
    }
   ],
   "source": [
    "a= int(input())\n",
    "for i in range(a, 0, -1):\n",
    "    print((i)*'*')"
   ]
  },
  {
   "cell_type": "code",
   "execution_count": 30,
   "metadata": {},
   "outputs": [
    {
     "name": "stdout",
     "output_type": "stream",
     "text": [
      "Aku Mau Kaya\n"
     ]
    }
   ],
   "source": [
    "def judul(nama):\n",
    "    return nama.title()\n",
    "\n",
    "def judul1():\n",
    "    kalimat = input('masukkan kata')\n",
    "    kalimat = ' '.join([i[0].upper() + i[1:] for i in kalimat.split()])\n",
    "    print(kalimat)\n",
    "\n",
    "judul1()"
   ]
  },
  {
   "cell_type": "code",
   "execution_count": 16,
   "metadata": {},
   "outputs": [
    {
     "name": "stdout",
     "output_type": "stream",
     "text": [
      "Masukkan angka1\n",
      "masukkan jumlah perkalian3\n",
      "[1, 2, 3]\n",
      "6\n"
     ]
    }
   ],
   "source": [
    "# perkalian 2z\n",
    "def list_multiples():\n",
    "    number=int(input('Masukkan angka'))\n",
    "    jumlah= int(input('masukkan jumlah perkalian'))\n",
    "    list =[]\n",
    "    count = 0\n",
    "    for i in range(1, jumlah+1):\n",
    "        list.append(number*i)\n",
    "        count+=(number*i)\n",
    "    print(list)\n",
    "    print(count)\n",
    "list_multiples()"
   ]
  },
  {
   "cell_type": "code",
   "execution_count": 45,
   "metadata": {},
   "outputs": [
    {
     "name": "stdout",
     "output_type": "stream",
     "text": [
      "3\n",
      "5\n",
      "7\n",
      "9\n"
     ]
    }
   ],
   "source": [
    "num= int(input('masukkan angka'))\n",
    "jml= int(input('masukkan banyak bilangan'))\n",
    "\n",
    "for i in range(jml):\n",
    "    print(num)\n",
    "    num = num+2\n",
    "    "
   ]
  }
 ],
 "metadata": {
  "kernelspec": {
   "display_name": "Python 3 (ipykernel)",
   "language": "python",
   "name": "python3"
  },
  "language_info": {
   "codemirror_mode": {
    "name": "ipython",
    "version": 3
   },
   "file_extension": ".py",
   "mimetype": "text/x-python",
   "name": "python",
   "nbconvert_exporter": "python",
   "pygments_lexer": "ipython3",
   "version": "3.8.18"
  }
 },
 "nbformat": 4,
 "nbformat_minor": 2
}
