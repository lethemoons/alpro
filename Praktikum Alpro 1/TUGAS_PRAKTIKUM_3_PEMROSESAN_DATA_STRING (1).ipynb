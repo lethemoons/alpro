{
  "cells": [
    {
      "cell_type": "markdown",
      "metadata": {
        "id": "TQhzQPXLvCas"
      },
      "source": [
        "#### Adinda Syarifatul Muna\n",
        "##### 164231042\n",
        "#### SD-A2"
      ]
    },
    {
      "cell_type": "markdown",
      "metadata": {
        "id": "9B36xZrBvPaU"
      },
      "source": [
        "#### 1. Menampilkan kebalikan dari sebuah string\n",
        "##### menggunakan kata[::-1] untuk mengeluarkan kata dengan urutan terbalik. misal print(kata[:]) outputnya akan dari awal sampai akhir string, jika kita menambahkan print(kata[::-1]) maka outputnya akan mengeluarkan string dari belakang. -1 itu sebagai persyaratannya jadi jika -1 maka stringnya diambil urut dari belakang. misal kalau -1 diganti 2 maka outputnya akan loncat tiap 2 string sampai selesai."
      ]
    },
    {
      "cell_type": "code",
      "execution_count": null,
      "metadata": {
        "colab": {
          "base_uri": "https://localhost:8080/"
        },
        "id": "uoueYDHZuu78",
        "outputId": "ad2264b3-ffc4-41cb-8eb8-3fcdd6a47f6c"
      },
      "outputs": [
        {
          "name": "stdout",
          "output_type": "stream",
          "text": [
            "Masukkan string : Surabaya\n",
            "Output :  ayabaruS\n"
          ]
        }
      ],
      "source": [
        "kata = str(input('Masukkan string : '))\n",
        "print('Output : ', kata[::-1])"
      ]
    },
    {
      "cell_type": "markdown",
      "metadata": {
        "id": "I3frZBnmvdF2"
      },
      "source": [
        "#### 2. Mengurutkan string\n",
        "##### menggunakan for i in range(len(kata)-1) untuk membuat rentang panjang kata dikurang 1 supaya nanti kita tidak mengakses kata yang tidak ada(string index out of range) jdi banyak perulangannya sebanyak panjang kata - 1. setelah itu diprint kata[i] + kata[i+1] yaitu memunculkan huruf ke-i dan huruf ke-i+1 (huruf setelahnya).\n",
        "##### contoh : kata = qwerty ada 6 huruf jdi panjang perulangannya 6-1 = 5, ada 5 perulangan. jdi diambil kata[i] + kata[i+1] jdi diambil q dan w , lalu w dan e dan seterusnya"
      ]
    },
    {
      "cell_type": "code",
      "execution_count": null,
      "metadata": {
        "colab": {
          "base_uri": "https://localhost:8080/"
        },
        "id": "cZGdHIXSuu79",
        "outputId": "0d01dc79-ea9e-4159-d835-0ba41922a7d3"
      },
      "outputs": [
        {
          "name": "stdout",
          "output_type": "stream",
          "text": [
            "Masukkan kata = abcdefghi\n",
            "ab\n",
            "bc\n",
            "cd\n",
            "de\n",
            "ef\n",
            "fg\n",
            "gh\n",
            "hi\n"
          ]
        }
      ],
      "source": [
        "# kode lain\n",
        "kata = str(input('Masukkan kata = '))\n",
        "for i in range(len(kata)-1):\n",
        "    print(kata[i] + kata[i +1])"
      ]
    },
    {
      "cell_type": "markdown",
      "metadata": {
        "id": "pWnQGOAqvonH"
      },
      "source": [
        "#### 3. Mengecek kata 'Mereka' dan menghitung banyak kata 'Saya'\n",
        "##### masukkan paragrafnya dan namai dengan variabel paragraf, menggunakan \"\"\" supaya paragrafnya bisa terdiri dari beberapa baris.\n",
        "##### if 'Mereka' in paragraf digunakan untuk mencari apakah ada kata 'Mereka' didalam paragraf tersebut jika ada print('ada') jika tidak ada maka print('Tidak ada').\n",
        "##### untuk menghitung jumlah kata saya menggunakan fungsi count, saya bagi menjadi 2 untuk menghitung kata 'saya' dan 'Saya' setelah itu dijumlah dan di print"
      ]
    },
    {
      "cell_type": "code",
      "execution_count": 3,
      "metadata": {
        "colab": {
          "base_uri": "https://localhost:8080/"
        },
        "id": "09aIooBLx94w",
        "outputId": "95f14a8d-4095-4783-e7a5-aab665de19a9"
      },
      "outputs": [
        {
          "name": "stdout",
          "output_type": "stream",
          "text": [
            "Tidak ada kata Mereka\n",
            "Jumlah kata Saya adalah 2\n",
            "Jumlah kata saya adalah 6\n",
            "Jumlah kata Saya dan saya adalah 8\n"
          ]
        }
      ],
      "source": [
        "paragraf =   \"\"\"\n",
        "Nama saya adalah Rita Sugiarto. Saya memiliki hobi menyanyi sejak kecil. Semua\n",
        "berawal dari mimpi ibu saya untuk memiliki putri seorang penyanyi. Saya berlatih\n",
        "vokal seminggu sekali dengan guru saya. Apabila saya menjadi juara satu dalam\n",
        "perlombaan menyanyi tingkat provinsi, ibu saya akan membelikan saya kado yang\n",
        "\"\"\"\n",
        "\n",
        "if 'Mereka' in paragraf:\n",
        "  print('Ada kata Mereka')\n",
        "else:\n",
        "  print('Tidak ada kata Mereka')\n",
        "\n",
        "saya = paragraf.count(\"Saya\")\n",
        "saya_kecil = paragraf.count(\"saya\")\n",
        "Jumlahsaya = saya + saya_kecil\n",
        "print('Jumlah kata Saya adalah', saya)\n",
        "print('Jumlah kata saya adalah', saya_kecil)\n",
        "print(f'Jumlah kata Saya dan saya adalah {Jumlahsaya}')\n",
        "\n",
        "\n",
        "\n"
      ]
    },
    {
      "cell_type": "code",
      "execution_count": null,
      "metadata": {
        "id": "2RL9HmnvFbsv"
      },
      "outputs": [],
      "source": []
    }
  ],
  "metadata": {
    "colab": {
      "provenance": []
    },
    "kernelspec": {
      "display_name": "Python 3",
      "name": "python3"
    },
    "language_info": {
      "name": "python"
    }
  },
  "nbformat": 4,
  "nbformat_minor": 0
}
