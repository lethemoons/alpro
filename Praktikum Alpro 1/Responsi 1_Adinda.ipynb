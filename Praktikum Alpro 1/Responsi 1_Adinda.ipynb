{
 "cells": [
  {
   "cell_type": "markdown",
   "metadata": {},
   "source": [
    "### **Adinda Syarifatul Muna**\n",
    "#### **164231042**\n",
    "#### SD-A2"
   ]
  },
  {
   "cell_type": "markdown",
   "metadata": {},
   "source": [
    "soal:\n",
    "input = bilangan min 5\n",
    "output = list bilangan dan fibonaci(pertambahan)\n",
    "1 2 3 4 5\n",
    "1 3 6 10 15"
   ]
  },
  {
   "cell_type": "code",
   "execution_count": 15,
   "metadata": {},
   "outputs": [
    {
     "name": "stdout",
     "output_type": "stream",
     "text": [
      "[1, 2, 3, 4, 5]\n",
      "[1, 3, 6, 10, 15]\n"
     ]
    }
   ],
   "source": [
    "a = int(input('Masukkan panjang list >=5 : '))\n",
    "listAngka = []\n",
    "fibo= []\n",
    "\n",
    "if a >= 5:\n",
    "    for i in range(a):\n",
    "        b = int(input(f'Masukkan angka ke {i+1}: '))\n",
    "        listAngka.append(b)\n",
    "else:\n",
    "    print('Panjang list minimal 5')\n",
    "print(listAngka)\n",
    "\n",
    "if a < 5:\n",
    "    print('harus minimal 5')\n",
    "else:\n",
    "    for x in range(len(listAngka)):\n",
    "        ab = sum(listAngka[0:x+1])\n",
    "        fibo.append(ab)\n",
    "    print(fibo)\n"
   ]
  },
  {
   "cell_type": "code",
   "execution_count": null,
   "metadata": {},
   "outputs": [],
   "source": [
    "1,3,6,10,15"
   ]
  },
  {
   "cell_type": "code",
   "execution_count": 19,
   "metadata": {},
   "outputs": [
    {
     "name": "stdout",
     "output_type": "stream",
     "text": [
      "[1, 2, 3, 4, 5]\n",
      "[1, 3, 6, 10, 15]\n"
     ]
    }
   ],
   "source": [
    "\n",
    "if a <= 0:\n",
    "    print('Panjang list harus bilangan positif')\n",
    "else:\n",
    "   sum_fibo = 0\n",
    "   for x in listAngka:\n",
    "       sum_fibo += x\n",
    "       fibo.append(sum_fibo)\n",
    "\n",
    "print(fibo)\n"
   ]
  },
  {
   "cell_type": "code",
   "execution_count": 25,
   "metadata": {},
   "outputs": [
    {
     "name": "stdout",
     "output_type": "stream",
     "text": [
      "[1, 2, 3, 4, 5]\n",
      "[1, 3, 6, 10, 15]\n"
     ]
    }
   ],
   "source": [
    "\n",
    "else:\n",
    "    fibo.append(listAngka[0])\n",
    "    fibo.append(listAngka[1]+listAngka[0])\n",
    "    for o in range(2, a):\n",
    "        fibo.append(fibo[-1] + listAngka[o])\n",
    "print(fibo)"
   ]
  },
  {
   "cell_type": "markdown",
   "metadata": {},
   "source": [
    "#### membuat pola segitiga dari alfabet\n",
    "#### tingginya sebanyak input"
   ]
  },
  {
   "cell_type": "code",
   "execution_count": 2,
   "metadata": {},
   "outputs": [
    {
     "name": "stdout",
     "output_type": "stream",
     "text": [
      "a\n",
      "ab\n",
      "abc\n",
      "abcd\n",
      "abcde\n"
     ]
    }
   ],
   "source": [
    "# membuat pola alfabet, segitiga\n",
    "n = int(input('masukkan banyak baris yang diinginkan : '))\n",
    "huruf = 'abcdefghijklmnopqrstuvwxyz'\n",
    "a =''\n",
    "\n",
    "for i in range(n):\n",
    "    a += huruf[i]\n",
    "    print(a)"
   ]
  },
  {
   "cell_type": "code",
   "execution_count": 8,
   "metadata": {},
   "outputs": [
    {
     "name": "stdout",
     "output_type": "stream",
     "text": [
      "\n",
      "a\n",
      "ab\n",
      "abc\n"
     ]
    }
   ],
   "source": [
    "n = int(input('masukkan: '))\n",
    "huruf = 'abcdefghijklmnopqrstuvwxyz'\n",
    "for i in range(n+1):\n",
    "    print(huruf[:i])\n"
   ]
  },
  {
   "cell_type": "markdown",
   "metadata": {},
   "source": [
    " #### menampilkan bilangan prima sebanyak inputan yang diinginkan"
   ]
  },
  {
   "cell_type": "code",
   "execution_count": 3,
   "metadata": {},
   "outputs": [
    {
     "name": "stdout",
     "output_type": "stream",
     "text": [
      "[2, 3, 5, 7, 11, 13, 17, 19, 23, 29, 31, 37, 41, 43, 47, 53, 59, 61, 67, 71, 73, 79, 83, 89, 97, 101, 103]\n",
      "[2, 3, 5, 7, 11, 13]\n"
     ]
    }
   ],
   "source": [
    "a = int(input('masukkan bilangan'))\n",
    "list_prima =[]\n",
    "for i in range(2, a+100):\n",
    "    for x in range(2, i+1):\n",
    "        if i%x == 0 and i != x:\n",
    "            break\n",
    "        elif i%x == 0 and i == x:\n",
    "            list_prima.append(i)\n",
    "print(list_prima)\n",
    "print(list_prima[:a])\n"
   ]
  },
  {
   "cell_type": "code",
   "execution_count": 4,
   "metadata": {},
   "outputs": [
    {
     "name": "stdout",
     "output_type": "stream",
     "text": [
      "2, 3, 5, 7, 11, 13, 17, 19, 23, "
     ]
    }
   ],
   "source": [
    "def cek_bilangan_prima1(jumlah: int) -> None:\n",
    "    bilangan = 2\n",
    "    count = 0\n",
    "    while count < jumlah:\n",
    "        is_prime = True\n",
    "        for i in range(2, bilangan):\n",
    "            if bilangan % i == 0:\n",
    "                is_prime = False\n",
    "        if is_prime:\n",
    "            print(bilangan, end=', ')\n",
    "            count += 1\n",
    "        bilangan += 1\n",
    "\n",
    "cek_bilangan_prima1(9)"
   ]
  },
  {
   "cell_type": "code",
   "execution_count": 7,
   "metadata": {},
   "outputs": [
    {
     "name": "stdout",
     "output_type": "stream",
     "text": [
      "[2, 3, 5, 7, 11]\n"
     ]
    }
   ],
   "source": [
    "jumlah= int(input('masukkan banyak bilangan prima yang diinginkan: '))\n",
    "bilangan = 2\n",
    "count = 0\n",
    "prima=[]\n",
    "while count < jumlah:\n",
    "    is_prime = True\n",
    "    for i in range(2, bilangan):\n",
    "        if bilangan % i == 0:\n",
    "                is_prime = False\n",
    "    if is_prime:\n",
    "        prima.append(bilangan)\n",
    "        count += 1\n",
    "    bilangan += 1\n",
    "print(prima)"
   ]
  },
  {
   "cell_type": "markdown",
   "metadata": {},
   "source": [
    "### soal kak lovi, angka spesial kuadrat akar"
   ]
  },
  {
   "cell_type": "code",
   "execution_count": 1,
   "metadata": {},
   "outputs": [
    {
     "name": "stdout",
     "output_type": "stream",
     "text": [
      "[2, 3, 4, 5, 6, 7, 8, 9, 10, 11, 12, 13, 14, 15, 16, 17, 18, 19, 20, 21, 22, 23, 24, 25, 26, 27, 28, 29, 30, 31, 32, 33, 34, 35, 36, 37, 38, 39, 40]\n",
      "[4, 9, 16, 25, 36]\n"
     ]
    }
   ],
   "source": [
    "#soal 1\n",
    "import math\n",
    "bawah = int(input('masukkan batas bawah'))\n",
    "atas = int(input('masukkan batas atas: '))\n",
    "\n",
    "list_angka=[]\n",
    "for i in range(bawah, atas + 1):\n",
    "    list_angka.append(i)\n",
    "print(list_angka)\n",
    "\n",
    "bill_spesial = []\n",
    "for i in list_angka:\n",
    "    a = math.sqrt(i)\n",
    "    b = round(a)\n",
    "    if a==b:\n",
    "        bill_spesial.append(i)\n",
    "print(bill_spesial)"
   ]
  },
  {
   "cell_type": "code",
   "execution_count": 11,
   "metadata": {},
   "outputs": [
    {
     "name": "stdout",
     "output_type": "stream",
     "text": [
      "[1, 2, 3, 4, 5, 6, 7, 8, 9, 10, 11, 12, 13, 14, 15, 16, 17, 18, 19, 20, 21, 22, 23, 24, 25, 26, 27, 28, 29, 30, 31, 32, 33, 34, 35, 36, 37, 38, 39, 40, 41]\n",
      "[1, 4, 9, 16, 25, 36]\n"
     ]
    }
   ],
   "source": [
    "import math\n",
    "bawah = int(input('masukkan batas bawah'))\n",
    "atas = int(input('masukkan batas atas: '))\n",
    "\n",
    "list_angka=[]\n",
    "for i in range(bawah, atas + 1):\n",
    "    list_angka.append(i)\n",
    "print(list_angka)\n",
    "\n",
    "bill = []\n",
    "for i in list_angka:\n",
    "    if math.sqrt(i) % 1==0:\n",
    "        bill.append(i)\n",
    "print(bill)"
   ]
  },
  {
   "cell_type": "code",
   "execution_count": 26,
   "metadata": {},
   "outputs": [
    {
     "ename": "TypeError",
     "evalue": "list indices must be integers or slices, not str",
     "output_type": "error",
     "traceback": [
      "\u001b[1;31m---------------------------------------------------------------------------\u001b[0m",
      "\u001b[1;31mTypeError\u001b[0m                                 Traceback (most recent call last)",
      "Cell \u001b[1;32mIn[26], line 7\u001b[0m\n\u001b[0;32m      5\u001b[0m \u001b[38;5;28;01mfor\u001b[39;00m i \u001b[38;5;129;01min\u001b[39;00m \u001b[38;5;28mrange\u001b[39m(\u001b[38;5;241m10\u001b[39m):\n\u001b[0;32m      6\u001b[0m     a \u001b[38;5;241m=\u001b[39m random\u001b[38;5;241m.\u001b[39mchoice(listbuah)\n\u001b[1;32m----> 7\u001b[0m keranjang\u001b[38;5;241m=\u001b[39m {listbuah[\u001b[38;5;241m0\u001b[39m]:\u001b[38;5;28mlen\u001b[39m(listx[listbuah[\u001b[38;5;241m0\u001b[39m]])}\n\u001b[0;32m      8\u001b[0m \u001b[38;5;28mprint\u001b[39m(keranjang)\n",
      "\u001b[1;31mTypeError\u001b[0m: list indices must be integers or slices, not str"
     ]
    }
   ],
   "source": [
    "# masukkan buah ke keranjang total keseluruhan 10\n",
    "import random\n",
    "listbuah= ['anggur', 'pisang', 'apel']\n",
    "listx= []\n",
    "for i in range(10):\n",
    "    a = random.choice(listbuah)\n",
    "keranjang= {listbuah[0]:len(listx[listbuah[0]])}\n",
    "print(keranjang)"
   ]
  },
  {
   "cell_type": "code",
   "execution_count": null,
   "metadata": {},
   "outputs": [],
   "source": [
    "# soal buah responsi lovi\n",
    "\n",
    "semua_buah = []\n",
    "while True:\n",
    "    buah = input(\"masukkan nama buah: \")\n",
    "    if buah == \"\":\n",
    "        break\n",
    "    else:\n",
    "        semua_buah.append(buah)\n",
    "print(semua_buah)\n",
    "list_len = []\n",
    "for i in semua_buah:\n",
    "    a = len(i)\n",
    "    list_len.append(a)\n",
    "semua_buah.sort(key=len)\n",
    "list_len.sort()\n",
    "print(f\"buah setelah diurutkan : {semua_buah}\")\n",
    "print(f\"jumlah huruf buah : {list_len}\")"
   ]
  },
  {
   "cell_type": "markdown",
   "metadata": {},
   "source": [
    "### soal buah\n"
   ]
  },
  {
   "cell_type": "code",
   "execution_count": null,
   "metadata": {},
   "outputs": [],
   "source": [
    "semua_buah = []\n",
    "while True:\n",
    "    buah = input(\"masukkan nama buah: \")\n",
    "    if buah == \"\":\n",
    "        break\n",
    "    else:\n",
    "        semua_buah.append(buah)\n",
    "print(semua_buah)\n",
    "list_len = []\n",
    "for i in semua_buah:\n",
    "    a = len(i)\n",
    "    list_len.append(a)\n",
    "semua_buah.sort(key=len)\n",
    "list_len.sort()\n",
    "print(f\"buah setelah diurutkan : {semua_buah}\")\n",
    "print(f\"jumlah huruf buah : {list_len}\")"
   ]
  },
  {
   "cell_type": "markdown",
   "metadata": {},
   "source": [
    "## soal bu mar\n",
    "1. Buat program tentang array kosong. input dari array berasal dari user. masukkan 5 input berupa integer pada array.\n",
    "2. sisipkan angka 7 di array pada index 3.\n",
    "3. reverse nilai array.\n",
    "4. Jadikan array yang kamu buat menjadi dictionary dengan ketentuan: ganjil dan genap\n"
   ]
  },
  {
   "cell_type": "code",
   "execution_count": 15,
   "metadata": {},
   "outputs": [
    {
     "name": "stdout",
     "output_type": "stream",
     "text": [
      "[1, 2, 3, 4, 5]\n",
      "[1, 2, 3, 7, 4, 5]\n",
      "[5, 4, 7, 3, 2, 1]\n",
      "{'ganjil': [1, 3, 7, 5], 'genap': [2, 4]}\n"
     ]
    }
   ],
   "source": [
    "arra= []\n",
    "for i in range(5):\n",
    "    a = int(input('masukkan kata ke'))\n",
    "    arra.append(a)\n",
    "print(arra)\n",
    "\n",
    "arra.insert(3,7)\n",
    "print(arra)\n",
    "print(arra[::-1])\n",
    "\n",
    "genap =[]\n",
    "ganjil=[]\n",
    "for angka in arra:\n",
    "    if angka%2==0:\n",
    "        genap.append(angka)\n",
    "    else:\n",
    "        ganjil.append(angka)\n",
    "\n",
    "dict= {\n",
    "    'ganjil' : ganjil,\n",
    "    'genap' : genap\n",
    "}\n",
    "print(dict)"
   ]
  },
  {
   "cell_type": "markdown",
   "metadata": {},
   "source": [
    "1. Buat program tentang array kosong. Input dari array berasal dari user. Masukkan 5 input angka berupa integer pada array.\n",
    "2. cari nilai pada array yang merupakan bilangan genap dan tampilkan.\n",
    "3. reverse nilai array.\n",
    "4. Jadikan array yang kamu buat menjadi dictionary dengan ketentuan: prima dan bukan prima.\n",
    "'''"
   ]
  },
  {
   "cell_type": "code",
   "execution_count": 24,
   "metadata": {},
   "outputs": [
    {
     "name": "stdout",
     "output_type": "stream",
     "text": [
      "[1, 2, 32, 5, 7]\n",
      "[1, 2, 32, 7, 5, 7]\n",
      "[7, 5, 7, 32, 2, 1]\n",
      "[2, 7, 5, 7] [32]\n",
      "{'prima': [2, 7, 5, 7], 'bukan prima': [32]}\n"
     ]
    }
   ],
   "source": [
    "ara= []\n",
    "for i in range(5):\n",
    "    a = int(input('masukkan kata ke'))\n",
    "    ara.append(a)\n",
    "print(ara)\n",
    "\n",
    "ara.insert(3,7)\n",
    "print(ara)\n",
    "\n",
    "print(ara[::-1])\n",
    "\n",
    "prima=[]\n",
    "bukan=[]\n",
    "for num in ara:\n",
    "    if num > 1:\n",
    "        for i in range(2, num):\n",
    "            if num%i == 0:\n",
    "                bukan.append(num)\n",
    "                break\n",
    "        else:\n",
    "            prima.append(num)\n",
    "print(prima, bukan)\n",
    "dict ={\n",
    "    'prima': prima,\n",
    "    'bukan prima': bukan\n",
    "}\n",
    "print(dict)"
   ]
  },
  {
   "cell_type": "code",
   "execution_count": null,
   "metadata": {},
   "outputs": [],
   "source": [
    "#Soal 1\n",
    "nomor = {\n",
    "    \"andi\": \"081111111111\", \n",
    "    \"budi\": \"082222222222\", \n",
    "    \"caca\": \"083333333333\", \n",
    "    \"doni\": \"084444444444\", \n",
    "    \"emil\": \"085555555555\",\n",
    "    }\n",
    "\n",
    "listKey = nomor.keys()\n",
    "\n",
    "for i in listKey:\n",
    "    nomor[i]= \"+62\" + nomor[i][1:]\n",
    "\n",
    "print(nomor)"
   ]
  },
  {
   "cell_type": "code",
   "execution_count": 25,
   "metadata": {},
   "outputs": [
    {
     "name": "stdout",
     "output_type": "stream",
     "text": [
      "['Pengemudi', 'xpander', 'tabrak', 'porsche', 'di', 'showroom', 'pik', 'dua,', 'tengah', 'menjadi', 'sorotan.', 'apalagi', 'kini', 'muncul', 'kabar', 'pengemudi', 'xpander', 'malah', 'galang', 'dana', 'untuk', 'ganti', 'rugi.']\n",
      "{'pendek': 2, 'sedang': 12, 'panjang': 4}\n"
     ]
    }
   ],
   "source": [
    "# SOAL 2 apakah soalnya panjang atau pendek\n",
    "paragraf = \"Pengemudi xpander tabrak porsche di showroom pik dua, tengah menjadi sorotan. apalagi kini muncul kabar pengemudi xpander malah galang dana untuk ganti rugi.\"\n",
    "listKata = paragraf.split()\n",
    "print(listKata)\n",
    "\n",
    "pendek = 0\n",
    "sedang = 0\n",
    "panjang = 0\n",
    "\n",
    "for kata in listKata:\n",
    "    if len(kata) in range(1, 4):\n",
    "        pendek += 1\n",
    "    elif len(kata) in range(4, 7):\n",
    "        sedang += 1\n",
    "    elif len(kata) > 7:\n",
    "        panjang += 1\n",
    "\n",
    "dict = {\n",
    "        \"pendek\": pendek, \n",
    "        \"sedang\":sedang, \n",
    "        \"panjang\":panjang,\n",
    "        }\n",
    "\n",
    "print(dict)"
   ]
  },
  {
   "cell_type": "markdown",
   "metadata": {},
   "source": [
    "a = int(in)"
   ]
  },
  {
   "cell_type": "code",
   "execution_count": null,
   "metadata": {},
   "outputs": [],
   "source": [
    "# MAS HANIF\n",
    "'''\n",
    "Menentukan Segitiga Siku-Siku atau Bukan\n",
    "\n",
    "Sebuah segitiga dapat ditentukan sebagai segitiga siku-siku apabila nilai kuadrat sisi miring sama dengan nilai jumlah kuadrat sisi lainnya.\n",
    "\n",
    "Diberikan input berupa list yang berisi angka berupa panjang ketiga sisi segitiga. Buat kode untuk menentukan apakah segitiga berjenis segitiga siku-siku atau tidak! Sesuaikan agar output seperti di bawah!\n",
    "\n",
    "Expected Input: [5, 4, 3]\n",
    "Expected Output: 3, 4, dan 5 merupakan segitiga siku-siku!\n",
    "\n",
    "Expected Input: [4, 2, 3]\n",
    "Expected Output: 2, 3, dan 4 bukan merupakan segitiga siku-siku!\n",
    "'''\n",
    "\n",
    "sisi1 = int(input(\"Sisi1: \"))\n",
    "sisi2 = int(input(\"Sisi2: \"))\n",
    "sisi3 = int(input(\"Sisi3: \"))\n",
    "\n",
    "listSisi = [sisi1, sisi2, sisi3]\n",
    "sorted(listSisi)\n",
    "\n",
    "if listSisi[0]**2 + listSisi[1]**2 == listSisi[2]**2:\n",
    "    print(f\"{sisi1}, {sisi2}, {sisi3} merupakan segitiga siku-siku\")\n",
    "else:\n",
    "    print(f\"{sisi1}, {sisi2}, {sisi3} bukan merupakan segitiga siku-siku\")"
   ]
  },
  {
   "cell_type": "code",
   "execution_count": null,
   "metadata": {},
   "outputs": [],
   "source": []
  }
 ],
 "metadata": {
  "kernelspec": {
   "display_name": "base",
   "language": "python",
   "name": "python3"
  },
  "language_info": {
   "codemirror_mode": {
    "name": "ipython",
    "version": 3
   },
   "file_extension": ".py",
   "mimetype": "text/x-python",
   "name": "python",
   "nbconvert_exporter": "python",
   "pygments_lexer": "ipython3",
   "version": "3.11.5"
  }
 },
 "nbformat": 4,
 "nbformat_minor": 2
}
