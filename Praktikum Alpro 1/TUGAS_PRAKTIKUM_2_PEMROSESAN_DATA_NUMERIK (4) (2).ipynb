{
  "cells": [
    {
      "cell_type": "markdown",
      "metadata": {
        "id": "ZsDRNmJB6puI"
      },
      "source": [
        "## Adinda Syarifatul Muna\n",
        "### 164231042\n",
        "#### SD-A2"
      ]
    },
    {
      "cell_type": "markdown",
      "metadata": {
        "id": "NNmiVWxo6puK"
      },
      "source": [
        "#### 1. program untuk menghitung faktor dari suatu bilangan\n",
        "##### Untuk membembuat list angka pemfaktoran, digunakan for i in range untuk mengecek 1 per 1 angka dari 1 sampai bilangan yang difaktorkan, apabila bilangan yg difaktorkan dibagi angka2 tersebut tidak bersisa, maka angka tersebut dimasukkan kedalam list faktor. dan print faktor"
      ]
    },
    {
      "cell_type": "code",
      "execution_count": 6,
      "metadata": {
        "colab": {
          "base_uri": "https://localhost:8080/"
        },
        "id": "AQSqVlfd6puL",
        "outputId": "786e8732-88a0-4dae-ceff-068f5d846b57"
      },
      "outputs": [
        {
          "name": "stdout",
          "output_type": "stream",
          "text": [
            "[1, 2, 3, 6]\n"
          ]
        }
      ],
      "source": [
        "import math\n",
        "\n",
        "angka = int(input('Masukkan bilangan yang akan di faktorkan : '))\n",
        "faktor = []\n",
        "\n",
        "for i in range(1, angka+1):\n",
        "    if angka % i == 0:\n",
        "        faktor.append(i)\n",
        "print(faktor)"
      ]
    },
    {
      "cell_type": "markdown",
      "metadata": {
        "id": "IXOelcwg6puO"
      },
      "source": [
        "#### 2. program menghitung luas dan keliling lingkaran\n",
        "##### untuk menghitung keliling = 2 x pi(menggunakan modul math.pi) x jari-jari dan untuk menghitung luas = pi (menggunakan modul math.pi) x jari-jari kuadrat dan di print"
      ]
    },
    {
      "cell_type": "code",
      "execution_count": null,
      "metadata": {
        "colab": {
          "base_uri": "https://localhost:8080/"
        },
        "id": "xA3DnHlT6puP",
        "outputId": "2e239451-7dfa-40f0-bfc0-3fd6c85d46b5"
      },
      "outputs": [
        {
          "name": "stdout",
          "output_type": "stream",
          "text": [
            "Masukkan jari-jari lingkaran4\n",
            "jari-jari = 4.0\n",
            "Keliling lingkaran tersebut adalah = 25.132741228718345\n",
            "Luas lingkaran tersebut adalah = 50.26548245743669\n"
          ]
        }
      ],
      "source": [
        "import math\n",
        "jari_jari = float(input('Masukkan jari-jari lingkaran : '))\n",
        "keliling = 2 * math.pi * jari_jari\n",
        "luas = math.pi * jari_jari ** 2\n",
        "\n",
        "print('jari-jari =', jari_jari)\n",
        "print(\"Keliling lingkaran tersebut adalah =\", keliling)\n",
        "print(\"Luas lingkaran tersebut adalah =\", luas)"
      ]
    },
    {
      "cell_type": "markdown",
      "metadata": {
        "id": "zpmJJReU6puQ"
      },
      "source": [
        "#### 3. buat program trigonometri\n",
        "##### pertama konversi besar sudut yang diinput dari derajat ke radian menggunakan modul math.radians karena modul math sin cos tan hanya berlaku jika variabelnya dalam bentuk radian, lalu konversi ke sin menggunakan math.sin, konversi ke cos menggunakan math.cos, dan konversi ke tan menggunkan math.tan. lalu di print"
      ]
    },
    {
      "cell_type": "code",
      "execution_count": 14,
      "metadata": {
        "colab": {
          "base_uri": "https://localhost:8080/"
        },
        "id": "C6J1W_w-6puQ",
        "outputId": "c2d4f95b-d12c-4b08-9930-4f982d95b27f"
      },
      "outputs": [
        {
          "name": "stdout",
          "output_type": "stream",
          "text": [
            "Masukkan besar sudut = 60\n",
            " sin dari 60.0 derajat adalah =  0.8660254037844386\n",
            " cos dari 60.0 derajat adalah =  0.5000000000000001\n",
            " tan dari 60.0 derajat adalah =  1.7320508075688767\n"
          ]
        }
      ],
      "source": [
        "import math\n",
        "besar_sudut = float(input('Masukkan besar sudut = '))\n",
        "radian = math.radians(besar_sudut)\n",
        "\n",
        "sin = math.sin(radian)\n",
        "cos = math.cos(radian)\n",
        "tan = math.tan(radian)\n",
        "\n",
        "print(f\" sin dari {besar_sudut} derajat adalah = \", (sin))\n",
        "print(f\" cos dari {besar_sudut} derajat adalah = \", (cos))\n",
        "print(f\" tan dari {besar_sudut} derajat adalah = \", (tan))\n"
      ]
    },
    {
      "cell_type": "markdown",
      "metadata": {
        "id": "HZYBpsL71bIZ"
      },
      "source": [
        "#### 4. Menghitung Logaritma\n",
        "##### pertama setelah input basis dan numerus,karena syaratnya adalah harus bilangan bulat, kita menggunakan try-except untuk mengetahui apabila yang dimasukkan bukan float maka akan print 'TypeError', kenapa float? karena logaritma bisa menggunakan desimal/float tidak harus integer/bil.bulat asalkan memenuhi syarat yaitu > 0 dan untuk basis != 1. Lalu dicek apakah basis & numerus telah memenuhi syarat logaritma yaitu basis harus > 0 dan != 1 dan numerus harus > 0. jika tidak memenuhi syarat maka print 'TypeError'. selanjutnya menggunakan modul math.log(numerus,basis) untuk mengetahui nilai logaritmanya lalu di print"
      ]
    },
    {
      "cell_type": "code",
      "execution_count": 5,
      "metadata": {
        "colab": {
          "base_uri": "https://localhost:8080/"
        },
        "id": "_4x5wZ0RvKVy",
        "outputId": "f3a29ac9-56e0-48dc-acb5-d3edf6d84c97"
      },
      "outputs": [
        {
          "name": "stdout",
          "output_type": "stream",
          "text": [
            "Logaritma dari basis 2.0 dan numerus 5.0 adalah = 2.321928094887362\n"
          ]
        }
      ],
      "source": [
        "# dalam logaritma basis harus > 0 dan != 1, numerus harus > 0\n",
        "\n",
        "import math\n",
        "basis = (input('Masukkan angka basis = '))\n",
        "numerus =(input('Masukkan angka numerus = '))\n",
        "\n",
        "try:\n",
        "  basis = float(basis)\n",
        "  numerus = float(numerus)\n",
        "  if basis > 0 and basis != 1 and numerus > 0:\n",
        "    print(\"Logaritma dari basis\", basis, 'dan numerus', numerus, 'adalah =', (math.log(numerus, basis)))\n",
        "  else:\n",
        "    print('TypeError')\n",
        "except ValueError:\n",
        "  print('TypeError')"
      ]
    },
    {
      "cell_type": "markdown",
      "metadata": {
        "id": "pSmeavzf6puT"
      },
      "source": [
        "#### 5. menghitung nilai faktorial\n",
        "##### input menggunakan integer, inisiasi faktorial = 1 karena 0! = 1 lalu dibuat if angka >= 0 karena jika angkanya negatif maka hasilnya tak terdefinisi. dibuat perulangan dari 1 - angka lalu di setiap iterasi nilai i dikalikan faktorial, contoh 1x1x2x3x4...dst. setelah perulangan selesai. print faktorial"
      ]
    },
    {
      "cell_type": "code",
      "execution_count": 12,
      "metadata": {
        "colab": {
          "base_uri": "https://localhost:8080/"
        },
        "id": "ZGeT5KWP6puT",
        "outputId": "e615cf90-c28a-4c62-8563-649da73f423f"
      },
      "outputs": [
        {
          "name": "stdout",
          "output_type": "stream",
          "text": [
            "Faktorial dari 6 adalah 720\n",
            "[1, 2, 3, 4, 5, 6]\n"
          ]
        }
      ],
      "source": [
        "angka = int(input('Masukkan angka : '))\n",
        "faktorial = 1\n",
        "list = []\n",
        "if angka >= 0:\n",
        "    for i in range(1, angka+1):\n",
        "        faktorial = faktorial * i\n",
        "        list.append(i)\n",
        "    print(f\"Faktorial dari {angka} adalah {faktorial}\")\n",
        "    print(list)\n",
        "else:\n",
        "    print('input salah')"
      ]
    },
    {
      "cell_type": "code",
      "execution_count": null,
      "metadata": {},
      "outputs": [],
      "source": []
    },
    {
      "cell_type": "markdown",
      "metadata": {
        "id": "Ior5XT046puU"
      },
      "source": [
        "#### 6. Mengitung banyak cara naik anak tangga\n",
        "##### menggunakan pola bilangan fibbonaci 1 1 2 3 5 8 13 pertama inisiasi list fibonaci = [1,1] karena 2 angka deret fibonaci adalah 1,1. lalu membuat perulangan dari 3 (karena sudah ada 2 angka fibonaci diawal) sampai n. untuk setiap perulangan list fibonaci selanjutnya ditambahkan dari penjumlahan 2 angka terakhir dan setelah perulangan selesai, dijumlahkan semua fibonaci yang ada di list dengan menggunakan sum dan di print"
      ]
    },
    {
      "cell_type": "code",
      "execution_count": null,
      "metadata": {
        "colab": {
          "base_uri": "https://localhost:8080/"
        },
        "id": "6Nhk3QiQ6puU",
        "outputId": "766f09b1-caa2-4023-f8f4-fcc867e6dc75"
      },
      "outputs": [
        {
          "name": "stdout",
          "output_type": "stream",
          "text": [
            "Masukkan banyak anak tangga :7\n",
            "Banyaknya cara ada 33 cara\n"
          ]
        }
      ],
      "source": [
        "n = int(input('Masukkan banyak anak tangga :'))\n",
        "fibonaci =[1,1]\n",
        "for i in range(3, n+1):\n",
        "    bil_fibonaci= fibonaci[-1] + fibonaci[-2]\n",
        "    fibonaci.append(bil_fibonaci)\n",
        "print(f'Banyaknya cara ada {sum(fibonaci)} cara')\n"
      ]
    },
    {
      "cell_type": "code",
      "execution_count": null,
      "metadata": {
        "id": "gf1bwhg96puV"
      },
      "outputs": [],
      "source": []
    }
  ],
  "metadata": {
    "colab": {
      "provenance": []
    },
    "kernelspec": {
      "display_name": "bintang",
      "language": "python",
      "name": "python3"
    },
    "language_info": {
      "codemirror_mode": {
        "name": "ipython",
        "version": 3
      },
      "file_extension": ".py",
      "mimetype": "text/x-python",
      "name": "python",
      "nbconvert_exporter": "python",
      "pygments_lexer": "ipython3",
      "version": "3.11.5"
    }
  },
  "nbformat": 4,
  "nbformat_minor": 0
}
