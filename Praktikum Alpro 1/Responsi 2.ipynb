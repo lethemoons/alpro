{
 "cells": [
  {
   "cell_type": "markdown",
   "metadata": {},
   "source": [
    "#### ***Adinda Syarifatul Muna***\n",
    "##### 164231042\n",
    "#### SD-A2"
   ]
  },
  {
   "cell_type": "markdown",
   "metadata": {},
   "source": [
    "buag 10 angka random"
   ]
  },
  {
   "cell_type": "code",
   "execution_count": 4,
   "metadata": {},
   "outputs": [
    {
     "name": "stdout",
     "output_type": "stream",
     "text": [
      "[53, 60, 67, 71, 90, 43, 77, 65, 47, 47]\n",
      "9\n",
      "Tidak ketemu\n"
     ]
    }
   ],
   "source": [
    "import random\n",
    "list_random =[]\n",
    "for i in range(10):\n",
    "    a = random.randrange(0,100)\n",
    "    list_random.append(a)\n",
    "print(list_random)\n",
    "\n",
    "b = int(input('masukkan angka yang dicari: '))\n",
    "print(b)\n",
    "if b in list_random:\n",
    "    print('ketemu')\n",
    "else:\n",
    "    print('Tidak ketemu')\n",
    "\n",
    "\n"
   ]
  },
  {
   "cell_type": "markdown",
   "metadata": {},
   "source": [
    "print 100 bilangan prima"
   ]
  },
  {
   "cell_type": "code",
   "execution_count": 2,
   "metadata": {},
   "outputs": [
    {
     "name": "stdout",
     "output_type": "stream",
     "text": [
      "[2, 3, 5, 7, 11, 13, 17, 19, 23, 29, 31, 37, 41, 43, 47, 53, 59, 61, 67, 71, 73, 79, 83, 89, 97, 101, 103, 107, 109, 113, 127, 131, 137, 139, 149, 151, 157, 163, 167, 173, 179, 181, 191, 193, 197, 199, 211, 223, 227, 229, 233, 239, 241, 251, 257, 263, 269, 271, 277, 281, 283, 293, 307, 311, 313, 317, 331, 337, 347, 349, 353, 359, 367, 373, 379, 383, 389, 397, 401, 409, 419, 421, 431, 433, 439, 443, 449, 457, 461, 463, 467, 479, 487, 491, 499, 503, 509, 521, 523, 541]\n"
     ]
    }
   ],
   "source": [
    "jumlah = 100\n",
    "count = 0\n",
    "bilangan = 2\n",
    "prim=[]\n",
    "\n",
    "while count < jumlah:\n",
    "    is_prime = True\n",
    "    for i in range(2, bilangan):\n",
    "        if bilangan % i == 0:\n",
    "            is_prime = False\n",
    "    if is_prime:\n",
    "        prim.append(bilangan)\n",
    "        count += 1\n",
    "    bilangan += 1\n",
    "print(prim)\n",
    "\n",
    "\n",
    "\n"
   ]
  },
  {
   "cell_type": "markdown",
   "metadata": {},
   "source": [
    "anak ayam"
   ]
  },
  {
   "cell_type": "code",
   "execution_count": 16,
   "metadata": {},
   "outputs": [
    {
     "name": "stdout",
     "output_type": "stream",
     "text": [
      "anak ayam turunlah 9 matilah satu tinggalah 8\n",
      "anak ayam turunlah 8 matilah satu tinggalah 7\n",
      "anak ayam turunlah 7 matilah satu tinggalah 6\n",
      "anak ayam turunlah 6 matilah satu tinggalah 5\n",
      "anak ayam turunlah 5 matilah satu tinggalah 4\n",
      "anak ayam turunlah 4 matilah satu tinggalah 3\n",
      "anak ayam turunlah 3 matilah satu tinggalah 2\n",
      "anak ayam turunlah 2 matilah satu tinggalah 1\n",
      "anak ayam turunlah 1 matilah 1 tinggal induknya\n"
     ]
    }
   ],
   "source": [
    "a = int(input('masukkan jumlah ayam'))\n",
    "for i in range(a,0,-1):\n",
    "    if i > 1:\n",
    "        print(f'anak ayam turunlah {i} matilah satu tinggalah {i-1}')\n",
    "    else:\n",
    "        print('anak ayam turunlah 1 matilah 1 tinggal induknya')\n",
    "\n"
   ]
  },
  {
   "cell_type": "code",
   "execution_count": 16,
   "metadata": {},
   "outputs": [
    {
     "name": "stdout",
     "output_type": "stream",
     "text": [
      "total belanjaan anda adalah 7246800.0 setelah mendapat diskon 10% \n"
     ]
    }
   ],
   "source": [
    "toko = {'Buku':30000, 'pulpen':10000, 'penghapus':5000, 'Ipad': 8000000, 'penggaris': 7000}\n",
    "\n",
    "total = sum(toko.values())\n",
    "if total >=100000:\n",
    "    diskon= total -(total*10/100)\n",
    "    print(f'total belanjaan anda adalah {diskon} setelah mendapat diskon 10% ')\n",
    "else:\n",
    "    print('total belanjaan anda adalah', total)\n",
    "\n"
   ]
  },
  {
   "cell_type": "code",
   "execution_count": 13,
   "metadata": {},
   "outputs": [
    {
     "name": "stdout",
     "output_type": "stream",
     "text": [
      "barang yang dibeli [('buku', 5), ('pensil', 10), ('pena', 1)]\n",
      "total harga 200000\n",
      "total belanjaan anda adalah 180000.0 setelah mendapat diskon 10% \n"
     ]
    }
   ],
   "source": [
    "toko = {\n",
    "    'buku':30000,\n",
    "    'pena':10000, \n",
    "    'tipx':5000,\n",
    "    'tas': 800000, \n",
    "    'pensil': 4000,\n",
    "    'penggaris': 7000\n",
    "    }\n",
    "\n",
    "beli =[]\n",
    "harga= 0\n",
    "\n",
    "while True:\n",
    "    n = input('masukkan barang, klik spasi jika barang telah selesai diinput: ')\n",
    "    if n == ' ':\n",
    "        break\n",
    "    elif n not in toko:\n",
    "        print('barang yang anda cari tidak ada, silahkan beli yang ada di elatase')\n",
    "        continue\n",
    "    \n",
    "    jumlah= int(input('banyak nya berapa? '))\n",
    "    beli.append((n,jumlah))\n",
    "print('barang yang dibeli', beli)\n",
    "\n",
    "for n, jumlah in beli:\n",
    "    if n in toko:\n",
    "        harga+= toko[n]*jumlah\n",
    "print('total harga', harga)\n",
    "\n",
    "if harga >=100000:\n",
    "    diskon= harga -(harga*10/100)\n",
    "    print(f'total belanjaan anda adalah {diskon} setelah mendapat diskon 10% ')\n",
    "else:\n",
    "    print('total belanjaan anda adalah', harga)"
   ]
  },
  {
   "cell_type": "code",
   "execution_count": 10,
   "metadata": {},
   "outputs": [
    {
     "name": "stdout",
     "output_type": "stream",
     "text": [
      "Barang tidak ditemukan dalam daftar.\n",
      "\n",
      "Total harga: Rp. 20000\n",
      "[('baju', 4, 5000)]\n"
     ]
    }
   ],
   "source": [
    "# Dictionary berisi nama dan harga barang\n",
    "daftar_barang = {\n",
    "    \"baju\": 5000,\n",
    "    \"celana\": 7500,\n",
    "    \"sepatu\": 15000,\n",
    "    \"topi\": 25000\n",
    "}\n",
    "\n",
    "# Inisialisasi list untuk menyimpan barang-barang yang dibeli\n",
    "daftar_pembelian = []\n",
    "\n",
    "# Masukkan data barang yang akan dibeli\n",
    "while True:\n",
    "    pilihan_barang = input(\"\\Masukkan nama barang (ketik spasi untuk selesai): \")\n",
    "    if pilihan_barang == ' ':\n",
    "        break\n",
    "    if pilihan_barang not in daftar_barang:\n",
    "        print(\"Barang tidak ditemukan dalam daftar.\")\n",
    "        continue \n",
    "     \n",
    "    \n",
    "    jumlah_barang = int(input(\"Masukkan jumlah barang: \"))\n",
    "    harga_barang = daftar_barang[pilihan_barang]\n",
    "    daftar_pembelian.append((pilihan_barang, jumlah_barang, harga_barang))\n",
    "\n",
    "# Hitung total harga\n",
    "total_harga = sum(jumlah * harga for barang, jumlah, harga in daftar_pembelian)\n",
    "if total_harga > 100000:\n",
    "    total_harga -= total_harga * 0.1  # Berikan diskon 10% jika total lebih dari Rp. 100.000\n",
    "\n",
    "# Cetak total harga\n",
    "print(\"\\nTotal harga: Rp.\", total_harga)\n",
    "print(daftar_pembelian)\n"
   ]
  },
  {
   "cell_type": "code",
   "execution_count": 21,
   "metadata": {},
   "outputs": [
    {
     "name": "stdout",
     "output_type": "stream",
     "text": [
      "    *          *     \n",
      "   * *        * *    \n",
      "  * * *      * * *   \n",
      " * * * *    * * * *  \n",
      "* * * * *  * * * * * \n"
     ]
    }
   ],
   "source": [
    "# membuat segitiga kembar\n",
    "tinggi = int(input('masukkan angka'))\n",
    "\n",
    "for i in range(1, tinggi+1):\n",
    "    bintang= '* '* i\n",
    "    tengah = bintang.center(tinggi*2)\n",
    "    print(tengah, tengah)"
   ]
  },
  {
   "cell_type": "markdown",
   "metadata": {},
   "source": [
    "Soal 1\n",
    "input pertama: 1\n",
    "input kedua: 3\n",
    "output: 0.33333333 (recurring decimal)"
   ]
  },
  {
   "cell_type": "code",
   "execution_count": 25,
   "metadata": {},
   "outputs": [
    {
     "name": "stdout",
     "output_type": "stream",
     "text": [
      "Output: Desimal berulang {1, 2, 4}\n"
     ]
    }
   ],
   "source": [
    "# Input dua angka dari pengguna\n",
    "angka_pertama = int(input(\"Input pertama: \"))\n",
    "angka_kedua = int(input(\"Input kedua: \"))\n",
    "\n",
    "# Melakukan pembagian panjang\n",
    "hasil_pembagian = angka_pertama / angka_kedua\n",
    "\n",
    "# Mengonversi hasil pembagian menjadi string untuk mempermudah pengolahan\n",
    "hasil_pembagian_str = str(hasil_pembagian)\n",
    "\n",
    "# Mendapatkan bagian desimal dari hasil pembagian\n",
    "bagian_desimal = hasil_pembagian_str.split('.')[1]\n",
    "\n",
    "# Inisialisasi set untuk menyimpan sisa pembagian\n",
    "sisa_set = set()\n",
    "\n",
    "# Inisialisasi flag untuk menunjukkan apakah desimal berulang atau tidak\n",
    "desimal_berulang = False\n",
    "\n",
    "# Melakukan pembagian panjang untuk mengecek apakah desimal berulang\n",
    "for digit in bagian_desimal:\n",
    "    sisa = int(digit) % angka_kedua\n",
    "    if sisa in sisa_set:\n",
    "        desimal_berulang = True\n",
    "        break\n",
    "    sisa_set.add(sisa)\n",
    "\n",
    "# Menampilkan output\n",
    "if desimal_berulang:\n",
    "    print(\"Output: Desimal berulang\", sisa_set)\n",
    "else:\n",
    "    print(\"Output:\", hasil_pembagian)\n"
   ]
  },
  {
   "cell_type": "code",
   "execution_count": null,
   "metadata": {},
   "outputs": [],
   "source": [
    "# Soal 3\n",
    "#input kata\n",
    "kata1 = input(\"Masukkan kata pertama: \")\n",
    "kata2 = input(\"Masukkan kata kedua: \")\n",
    "\n",
    "#cek kesamaan huruf\n",
    "hurufSama = []\n",
    "unikKata1 = []\n",
    "unikKata2 = []\n",
    "\n",
    "for i in kata1:\n",
    "    if i in kata2: #mencari kesamaan huruf\n",
    "        hurufSama.append(i)\n",
    "    else: #mencari huruf unik kata1\n",
    "        unikKata1.append(i)\n",
    "\n",
    "for i in kata2: #mencari huruf unik kata2\n",
    "    if i not in hurufSama:\n",
    "        unikKata2.append(i)\n",
    "\n",
    "#mengeluarkan hasil dari program\n",
    "hurufSama = \"\".join(hurufSama)\n",
    "unikKata1 = \"\".join(unikKata1)\n",
    "unikKata2 = \"\".join(unikKata2)\n",
    "\n",
    "print(f\"huruf yang sama: {hurufSama}\")\n",
    "print(f\"huruf unik di input pertama: {unikKata1}\")\n",
    "print(f\"huruf unik di input kedua: {unikKata2}\")"
   ]
  },
  {
   "cell_type": "markdown",
   "metadata": {},
   "source": [
    "Soal 2\n",
    "THR TIME!\n",
    "\n",
    "INDICATOR: LAMA BEKERJA DAN JUMLAH TANGGUNGAN\n",
    "A. BEKERJA < 3 TAHUN:\n",
    "    THR: 1.000.000 + (jumlah tangungan *100.000)\n",
    "B. bekerja 3-6 tahun:\n",
    "    THR: 1.500.000 + (jumlah tangungan *100.000)\n",
    "C. Bekerja >6 tahun:\n",
    "    THR: 2.000.000 + (jumlah tangungan *100.000)\n",
    "\n",
    "THEN THR dibagi 100.000 dan dicari faktornya"
   ]
  },
  {
   "cell_type": "code",
   "execution_count": null,
   "metadata": {},
   "outputs": [],
   "source": [
    "# Soal 2\n",
    "lama_kerja = int(input(\"lama kerja: \").split()[0])\n",
    "tanggungan = int(input(\"tanggungan: \").split()[0])\n",
    "\n",
    "\n",
    "if lama_kerja < 3:\n",
    "    thr = 1000000 + (tanggungan*100000)\n",
    "    print(f\"THR yang Anda terima: {thr}\")\n",
    "elif lama_kerja >= 3 and lama_kerja <= 6:\n",
    "    thr = 1500000 + (tanggungan*100000)\n",
    "    print(f\"THR yang Anda terima: {thr}\")\n",
    "else:\n",
    "    thr = 2000000 + (tanggungan*100000)\n",
    "    print(f\"THR yang Anda terima: {thr}\")\n",
    "\n",
    "factor_bagi = int(thr/100000)\n",
    "\n",
    "factor = [x for x in range(1,factor_bagi+1) if factor_bagi % x == 0]\n",
    "print(f'Faktor dari {factor_bagi} adalah {factor}')\n"
   ]
  },
  {
   "cell_type": "code",
   "execution_count": null,
   "metadata": {},
   "outputs": [],
   "source": [
    "# Soal 1\n",
    "\n",
    "tanggal = input(\"Masukkan tanggal lahir (DD-MM-YYYY): \").split(\"-\")\n",
    "\n",
    "if int(tanggal[1]) - 4 <= 0:\n",
    "  if int(tanggal[0]) - 3 <= 0:\n",
    "    umur = 2024 - int(tanggal[2])\n",
    "  else:\n",
    "    umur = 2024 - int(tanggal[2]) - 1\n",
    "else:\n",
    "  umur = 2024 - int(tanggal[2]) - 1\n",
    "\n",
    "print(umur)\n",
    "\n",
    "faktor = []\n",
    "for i in range(1, umur+1):\n",
    "  if umur % i == 0:\n",
    "    faktor.append(i)\n",
    "\n",
    "print(f\"Faktor: {faktor}\")"
   ]
  },
  {
   "cell_type": "markdown",
   "metadata": {},
   "source": [
    "Soal 3\n",
    "Main ular tangga. Diminta input bilangan acak dadu(1-6) minimal 5 kali. Hasilnya adalah penjumlahan seluruh angka sebagai langkah. Namun jika angka merupakan kelipatan 2 maka dia adalah ular. Sehingga langkah dikurangi. Kemudian cari faktor dari bilangan akhirnya(hasil akhir).\n",
    "\n",
    "Proses = 1 - 2 + 3 + 5  - 4 = 3\n",
    "\n",
    "Output : “Kamu harus maju 3 langkah”\n",
    "\n",
    "jika hasil negatif maka “mundur”, lalu dipositifkan dulu\n",
    "\n",
    "Faktor dari 4 : [1,2,4]"
   ]
  },
  {
   "cell_type": "code",
   "execution_count": null,
   "metadata": {},
   "outputs": [],
   "source": [
    "# Soal 3\n",
    "\n",
    "import random\n",
    "\n",
    "def cari_faktor(bilangan):\n",
    "    faktor = [i for i in range(1, bilangan + 1) if bilangan % i == 0]\n",
    "    return faktor\n",
    "\n",
    "# Minta input jumlah dadu\n",
    "jumlah_dadu = int(input(\"Masukkan jumlah dadu yang akan dilempar (minimal 5 kali): \"))\n",
    "\n",
    "# Lempar dadu dan hitung langkah\n",
    "langkah = 0\n",
    "for _ in range(jumlah_dadu):\n",
    "    dadu = random.randint(1, 6)\n",
    "    print(dadu)\n",
    "    if dadu % 2 == 0:\n",
    "        langkah -= dadu\n",
    "    else:\n",
    "        langkah += dadu\n",
    "\n",
    "# Jika hasil negatif, mundur\n",
    "if langkah < 0:\n",
    "    langkah *= -1 #buat output biar gk minus\n",
    "    arah = \"mundur\"\n",
    "else:\n",
    "    arah = \"maju\"\n",
    "\n",
    "print(f\"Kamu harus {arah} {langkah} langkah\")\n",
    "\n",
    "# Cari faktor dari bilangan akhirnya\n",
    "faktor = cari_faktor(langkah)\n",
    "print(f\"Faktor dari {langkah}: {faktor}\")\n"
   ]
  },
  {
   "cell_type": "markdown",
   "metadata": {},
   "source": []
  }
 ],
 "metadata": {
  "kernelspec": {
   "display_name": "base",
   "language": "python",
   "name": "python3"
  },
  "language_info": {
   "codemirror_mode": {
    "name": "ipython",
    "version": 3
   },
   "file_extension": ".py",
   "mimetype": "text/x-python",
   "name": "python",
   "nbconvert_exporter": "python",
   "pygments_lexer": "ipython3",
   "version": "3.11.5"
  }
 },
 "nbformat": 4,
 "nbformat_minor": 2
}
