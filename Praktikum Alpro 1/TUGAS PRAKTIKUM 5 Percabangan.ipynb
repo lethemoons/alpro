{
 "cells": [
  {
   "cell_type": "markdown",
   "metadata": {},
   "source": [
    "### ***Adinda Syarifatul Muna***\n",
    "#### **164231042**\n",
    "#### SD-A2"
   ]
  },
  {
   "cell_type": "markdown",
   "metadata": {},
   "source": [
    "### **1. Praktekkan percobaan 1-3**"
   ]
  },
  {
   "cell_type": "code",
   "execution_count": 2,
   "metadata": {},
   "outputs": [
    {
     "name": "stdout",
     "output_type": "stream",
     "text": [
      "b lebih besar dari a\n",
      "b lebih besar dari a\n"
     ]
    }
   ],
   "source": [
    "a = 75\n",
    "b = 200\n",
    "if b > a:\n",
    "    print('b lebih besar dari a')\n",
    "\n",
    "if b>a: print('b lebih besar dari a')"
   ]
  },
  {
   "cell_type": "code",
   "execution_count": 3,
   "metadata": {},
   "outputs": [
    {
     "name": "stdout",
     "output_type": "stream",
     "text": [
      "Pernyataan a > b and c > a benar\n"
     ]
    }
   ],
   "source": [
    "a = 200\n",
    "b = 100\n",
    "c = 300\n",
    "if a>b and c > a:\n",
    "    print('Pernyataan a > b and c > a benar')\n",
    "else:\n",
    "    print ('pernyataan a > b and c > a salah')"
   ]
  },
  {
   "cell_type": "code",
   "execution_count": 1,
   "metadata": {},
   "outputs": [
    {
     "name": "stdout",
     "output_type": "stream",
     "text": [
      "Bilangan positif\n"
     ]
    }
   ],
   "source": [
    "num = 3.5\n",
    "if num > 0:\n",
    "    print('Bilangan positif')\n",
    "elif num == 0:\n",
    "    print('Nol')\n",
    "else:\n",
    "    print('Bilangan negatif')"
   ]
  },
  {
   "cell_type": "code",
   "execution_count": 5,
   "metadata": {},
   "outputs": [
    {
     "name": "stdout",
     "output_type": "stream",
     "text": [
      "Bilangan negatif\n"
     ]
    }
   ],
   "source": [
    "num = -7.5\n",
    "if num > 0:\n",
    "    print('Bilangan positif')\n",
    "elif num == 0:\n",
    "    print('Nol')\n",
    "else:\n",
    "    print('Bilangan negatif')"
   ]
  },
  {
   "cell_type": "markdown",
   "metadata": {},
   "source": [
    "### **2. Menghitung ongkir barang**\n",
    "##### jadi nantinya kita akan menentukan ongkos kirim berdasarkan jarak alamat pelanggan\n",
    "##### - input jarak pelanggan\n",
    "##### - membuat percabangan:\n",
    "#####    1. jika jarak kurang dari 5 km (antara 0-5 km) maka dibuat print ongkir gratis\n",
    "#####    2. jika jarak antara 6-10 km, maka ongkirnya sebesar jarak x 5.000 \n",
    "#####    3. jika jarak <= 20 (11-20 km), maka ongkirnya sebesar jarak x 6.000\n",
    "#####    4. jika jarak > 20, maka ongkirnya sebesar panjang jarak x 7.000"
   ]
  },
  {
   "cell_type": "code",
   "execution_count": 10,
   "metadata": {},
   "outputs": [
    {
     "name": "stdout",
     "output_type": "stream",
     "text": [
      "Ongkir = 28000.0\n"
     ]
    }
   ],
   "source": [
    "jarak = float(input('Masukkan jarak dalam KM: '))\n",
    "\n",
    "if jarak < 0:\n",
    "    print('Masukkan angka yang benar')\n",
    "elif jarak < 5:\n",
    "    print('Ongkir gratis')\n",
    "elif jarak <=10:\n",
    "    print('Ongkir =', jarak*5000)\n",
    "elif jarak <= 20:\n",
    "    print('Ongkir =', jarak*6000)\n",
    "else:\n",
    "    print('Ongkir =', jarak*7000)"
   ]
  },
  {
   "cell_type": "code",
   "execution_count": null,
   "metadata": {},
   "outputs": [],
   "source": []
  }
 ],
 "metadata": {
  "kernelspec": {
   "display_name": "base",
   "language": "python",
   "name": "python3"
  },
  "language_info": {
   "codemirror_mode": {
    "name": "ipython",
    "version": 3
   },
   "file_extension": ".py",
   "mimetype": "text/x-python",
   "name": "python",
   "nbconvert_exporter": "python",
   "pygments_lexer": "ipython3",
   "version": "3.8.18"
  }
 },
 "nbformat": 4,
 "nbformat_minor": 2
}
